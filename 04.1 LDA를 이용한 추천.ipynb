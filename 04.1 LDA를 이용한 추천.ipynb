{
 "cells": [
  {
   "cell_type": "markdown",
   "metadata": {},
   "source": [
    "# LDA 모델 맛보기"
   ]
  },
  {
   "cell_type": "code",
   "execution_count": 1,
   "metadata": {},
   "outputs": [
    {
     "name": "stderr",
     "output_type": "stream",
     "text": [
      "/Users/1112922/miniconda3/lib/python3.7/site-packages/gensim/similarities/__init__.py:15: UserWarning: The gensim.similarities.levenshtein submodule is disabled, because the optional Levenshtein package <https://pypi.org/project/python-Levenshtein/> is unavailable. Install Levenhstein (e.g. `pip install python-Levenshtein`) to suppress this warning.\n",
      "  warnings.warn(msg)\n"
     ]
    }
   ],
   "source": [
    "import re\n",
    "import pandas as pd\n",
    "import numpy as np\n",
    "from matplotlib import pyplot as plt\n",
    "from datetime import datetime\n",
    "from tqdm import tqdm\n",
    "%matplotlib inline\n",
    "\n",
    "# Gensim\n",
    "import gensim\n",
    "import gensim.corpora as corpora\n",
    "from gensim.models import CoherenceModel\n",
    "\n",
    "# Plotting tools\n",
    "import pyLDAvis\n",
    "import pyLDAvis.gensim  # don't skip this\n",
    "import matplotlib.pyplot as plt\n",
    "%matplotlib inline\n",
    "\n",
    "# Enable logging for gensim - optional\n",
    "import logging\n",
    "logging.basicConfig(format='%(asctime)s : %(levelname)s : %(message)s', level=logging.ERROR)\n",
    "\n",
    "import warnings\n",
    "warnings.filterwarnings(\"ignore\")"
   ]
  },
  {
   "cell_type": "markdown",
   "metadata": {},
   "source": [
    "## scikit learn 텍스트 데이터\n",
    "- sklearn에서 제공하는 텍스트 데이터를 가지고 LDA 모델을 학습해봅니다\n",
    "- 추천 데이터는 아니지만 LDA를 파악하기 위해서 간단한 실습을 수행합니다"
   ]
  },
  {
   "cell_type": "code",
   "execution_count": 2,
   "metadata": {},
   "outputs": [
    {
     "data": {
      "text/plain": [
       "11314"
      ]
     },
     "execution_count": 2,
     "metadata": {},
     "output_type": "execute_result"
    }
   ],
   "source": [
    "# 학습 데이터 로드\n",
    "\n",
    "from sklearn.datasets import fetch_20newsgroups\n",
    "dataset = fetch_20newsgroups(shuffle=True, random_state=1, remove=('headers', 'footers', 'quotes'))\n",
    "documents = dataset.data\n",
    "len(documents)"
   ]
  },
  {
   "cell_type": "code",
   "execution_count": 3,
   "metadata": {},
   "outputs": [
    {
     "data": {
      "text/plain": [
       "\"\\n\\n\\n\\n\\n\\n\\nYeah, do you expect people to read the FAQ, etc. and actually accept hard\\natheism?  No, you need a little leap of faith, Jimmy.  Your logic runs out\\nof steam!\\n\\n\\n\\n\\n\\n\\n\\nJim,\\n\\nSorry I can't pity you, Jim.  And I'm sorry that you have these feelings of\\ndenial about the faith you need to get by.  Oh well, just pretend that it will\\nall end happily ever after anyway.  Maybe if you start a new newsgroup,\\nalt.atheist.hard, you won't be bummin' so much?\\n\\n\\n\\n\\n\\n\\nBye-Bye, Big Jim.  Don't forget your Flintstone's Chewables!  :) \\n--\\nBake Timmons, III\""
      ]
     },
     "execution_count": 3,
     "metadata": {},
     "output_type": "execute_result"
    }
   ],
   "source": [
    "# 문서(document) 예시\n",
    "documents[1]"
   ]
  },
  {
   "cell_type": "code",
   "execution_count": 4,
   "metadata": {},
   "outputs": [],
   "source": [
    "# 텍스트 데이터 프리프로세싱\n",
    "\n",
    "news_df = pd.DataFrame({'document':documents})\n",
    "\n",
    "# 문서 내 특수문자 제거\n",
    "news_df['clean_doc'] = news_df['document'].str.replace(\"[^a-zA-Z]\", \" \")\n",
    "\n",
    "# 문서 내 길이가 3 이하인 단어 제거\n",
    "news_df['clean_doc'] = news_df['clean_doc'].apply(lambda x: ' '.join([w for w in x.split() if len(w)>3]))\n",
    "\n",
    "# 전체 단어에 대한 소문자 변환\n",
    "news_df['clean_doc'] = news_df['clean_doc'].apply(lambda x: x.lower())"
   ]
  },
  {
   "cell_type": "code",
   "execution_count": 5,
   "metadata": {},
   "outputs": [
    {
     "data": {
      "text/html": [
       "<div>\n",
       "<style scoped>\n",
       "    .dataframe tbody tr th:only-of-type {\n",
       "        vertical-align: middle;\n",
       "    }\n",
       "\n",
       "    .dataframe tbody tr th {\n",
       "        vertical-align: top;\n",
       "    }\n",
       "\n",
       "    .dataframe thead th {\n",
       "        text-align: right;\n",
       "    }\n",
       "</style>\n",
       "<table border=\"1\" class=\"dataframe\">\n",
       "  <thead>\n",
       "    <tr style=\"text-align: right;\">\n",
       "      <th></th>\n",
       "      <th>document</th>\n",
       "      <th>clean_doc</th>\n",
       "    </tr>\n",
       "  </thead>\n",
       "  <tbody>\n",
       "    <tr>\n",
       "      <th>0</th>\n",
       "      <td>Well i'm not sure about the story nad it did s...</td>\n",
       "      <td>well sure about story seem biased what disagre...</td>\n",
       "    </tr>\n",
       "    <tr>\n",
       "      <th>1</th>\n",
       "      <td>\\n\\n\\n\\n\\n\\n\\nYeah, do you expect people to re...</td>\n",
       "      <td>yeah expect people read actually accept hard a...</td>\n",
       "    </tr>\n",
       "    <tr>\n",
       "      <th>2</th>\n",
       "      <td>Although I realize that principle is not one o...</td>\n",
       "      <td>although realize that principle your strongest...</td>\n",
       "    </tr>\n",
       "    <tr>\n",
       "      <th>3</th>\n",
       "      <td>Notwithstanding all the legitimate fuss about ...</td>\n",
       "      <td>notwithstanding legitimate fuss about this pro...</td>\n",
       "    </tr>\n",
       "    <tr>\n",
       "      <th>4</th>\n",
       "      <td>Well, I will have to change the scoring on my ...</td>\n",
       "      <td>well will have change scoring playoff pool unf...</td>\n",
       "    </tr>\n",
       "    <tr>\n",
       "      <th>...</th>\n",
       "      <td>...</td>\n",
       "      <td>...</td>\n",
       "    </tr>\n",
       "    <tr>\n",
       "      <th>11309</th>\n",
       "      <td>Danny Rubenstein, an Israeli journalist, will ...</td>\n",
       "      <td>danny rubenstein israeli journalist will speak...</td>\n",
       "    </tr>\n",
       "    <tr>\n",
       "      <th>11310</th>\n",
       "      <td>\\n</td>\n",
       "      <td></td>\n",
       "    </tr>\n",
       "    <tr>\n",
       "      <th>11311</th>\n",
       "      <td>\\nI agree.  Home runs off Clemens are always m...</td>\n",
       "      <td>agree home runs clemens always memorable kinda...</td>\n",
       "    </tr>\n",
       "    <tr>\n",
       "      <th>11312</th>\n",
       "      <td>I used HP DeskJet with Orange Micros Grappler ...</td>\n",
       "      <td>used deskjet with orange micros grappler syste...</td>\n",
       "    </tr>\n",
       "    <tr>\n",
       "      <th>11313</th>\n",
       "      <td>^^^^^^\\n...</td>\n",
       "      <td>argument with murphy scared hell when came las...</td>\n",
       "    </tr>\n",
       "  </tbody>\n",
       "</table>\n",
       "<p>11314 rows × 2 columns</p>\n",
       "</div>"
      ],
      "text/plain": [
       "                                                document  \\\n",
       "0      Well i'm not sure about the story nad it did s...   \n",
       "1      \\n\\n\\n\\n\\n\\n\\nYeah, do you expect people to re...   \n",
       "2      Although I realize that principle is not one o...   \n",
       "3      Notwithstanding all the legitimate fuss about ...   \n",
       "4      Well, I will have to change the scoring on my ...   \n",
       "...                                                  ...   \n",
       "11309  Danny Rubenstein, an Israeli journalist, will ...   \n",
       "11310                                                 \\n   \n",
       "11311  \\nI agree.  Home runs off Clemens are always m...   \n",
       "11312  I used HP DeskJet with Orange Micros Grappler ...   \n",
       "11313                                        ^^^^^^\\n...   \n",
       "\n",
       "                                               clean_doc  \n",
       "0      well sure about story seem biased what disagre...  \n",
       "1      yeah expect people read actually accept hard a...  \n",
       "2      although realize that principle your strongest...  \n",
       "3      notwithstanding legitimate fuss about this pro...  \n",
       "4      well will have change scoring playoff pool unf...  \n",
       "...                                                  ...  \n",
       "11309  danny rubenstein israeli journalist will speak...  \n",
       "11310                                                     \n",
       "11311  agree home runs clemens always memorable kinda...  \n",
       "11312  used deskjet with orange micros grappler syste...  \n",
       "11313  argument with murphy scared hell when came las...  \n",
       "\n",
       "[11314 rows x 2 columns]"
      ]
     },
     "execution_count": 5,
     "metadata": {},
     "output_type": "execute_result"
    }
   ],
   "source": [
    "news_df"
   ]
  },
  {
   "cell_type": "code",
   "execution_count": 6,
   "metadata": {},
   "outputs": [
    {
     "data": {
      "text/plain": [
       "'yeah expect people read actually accept hard atheism need little leap faith jimmy your logic runs steam sorry pity sorry that have these feelings denial about faith need well just pretend that will happily ever after anyway maybe start newsgroup atheist hard bummin much forget your flintstone chewables bake timmons'"
      ]
     },
     "execution_count": 6,
     "metadata": {},
     "output_type": "execute_result"
    }
   ],
   "source": [
    "# 1차 전처리 document 예시\n",
    "news_df['clean_doc'][1]"
   ]
  },
  {
   "cell_type": "code",
   "execution_count": 7,
   "metadata": {},
   "outputs": [
    {
     "name": "stderr",
     "output_type": "stream",
     "text": [
      "[nltk_data] Downloading package stopwords to\n",
      "[nltk_data]     /Users/1112922/nltk_data...\n",
      "[nltk_data]   Package stopwords is already up-to-date!\n"
     ]
    }
   ],
   "source": [
    "# stopwords 제거를 위한 nltk 라이브러리\n",
    "\n",
    "import nltk\n",
    "nltk.download('stopwords')\n",
    "from nltk.corpus import stopwords\n",
    "stop_words = stopwords.words('english')"
   ]
  },
  {
   "cell_type": "code",
   "execution_count": 8,
   "metadata": {},
   "outputs": [
    {
     "data": {
      "text/plain": [
       "['i', 'me', 'my', 'myself', 'we', 'our', 'ours', 'ourselves', 'you', \"you're\"]"
      ]
     },
     "execution_count": 8,
     "metadata": {},
     "output_type": "execute_result"
    }
   ],
   "source": [
    "# stopwords 예시\n",
    "stop_words[:10]"
   ]
  },
  {
   "cell_type": "code",
   "execution_count": 9,
   "metadata": {},
   "outputs": [],
   "source": [
    "# 문서 tokenize 이후 stopwords 제거\n",
    "\n",
    "tokenized_doc = news_df['clean_doc'].apply(lambda x: x.split())\n",
    "tokenized_doc = tokenized_doc.apply(lambda x: [item for item in x if item not in stop_words])"
   ]
  },
  {
   "cell_type": "code",
   "execution_count": 10,
   "metadata": {
    "scrolled": true
   },
   "outputs": [
    {
     "data": {
      "text/plain": [
       "['yeah',\n",
       " 'expect',\n",
       " 'people',\n",
       " 'read',\n",
       " 'actually',\n",
       " 'accept',\n",
       " 'hard',\n",
       " 'atheism',\n",
       " 'need',\n",
       " 'little',\n",
       " 'leap',\n",
       " 'faith',\n",
       " 'jimmy',\n",
       " 'logic',\n",
       " 'runs',\n",
       " 'steam',\n",
       " 'sorry',\n",
       " 'pity',\n",
       " 'sorry',\n",
       " 'feelings',\n",
       " 'denial',\n",
       " 'faith',\n",
       " 'need',\n",
       " 'well',\n",
       " 'pretend',\n",
       " 'happily',\n",
       " 'ever',\n",
       " 'anyway',\n",
       " 'maybe',\n",
       " 'start',\n",
       " 'newsgroup',\n",
       " 'atheist',\n",
       " 'hard',\n",
       " 'bummin',\n",
       " 'much',\n",
       " 'forget',\n",
       " 'flintstone',\n",
       " 'chewables',\n",
       " 'bake',\n",
       " 'timmons']"
      ]
     },
     "execution_count": 10,
     "metadata": {},
     "output_type": "execute_result"
    }
   ],
   "source": [
    "# 학습에 사용할 최종 데이터\n",
    "# document를 word로 이루어진 list 형태로 변환\n",
    "# 추천 데이터의 경우 document = user, word = item의 형태로 구성\n",
    "\n",
    "tokenized_doc[1]"
   ]
  },
  {
   "cell_type": "code",
   "execution_count": 11,
   "metadata": {},
   "outputs": [
    {
     "name": "stdout",
     "output_type": "stream",
     "text": [
      "[(52, 1), (55, 1), (56, 1), (57, 1), (58, 1), (59, 1), (60, 1), (61, 1), (62, 1), (63, 1), (64, 1), (65, 1), (66, 2), (67, 1), (68, 1), (69, 1), (70, 1), (71, 2), (72, 1), (73, 1), (74, 1), (75, 1), (76, 1), (77, 1), (78, 2), (79, 1), (80, 1), (81, 1), (82, 1), (83, 1), (84, 1), (85, 2), (86, 1), (87, 1), (88, 1), (89, 1)]\n"
     ]
    }
   ],
   "source": [
    "# gensim에서 지원하는 dictionary\n",
    "id2word = corpora.Dictionary(tokenized_doc)\n",
    "\n",
    "# document를 TF 형태로 변환\n",
    "corpus = [id2word.doc2bow(text) for text in tokenized_doc]\n",
    "\n",
    "print(corpus[1])"
   ]
  },
  {
   "cell_type": "code",
   "execution_count": 12,
   "metadata": {},
   "outputs": [
    {
     "data": {
      "text/plain": [
       "'well'"
      ]
     },
     "execution_count": 12,
     "metadata": {},
     "output_type": "execute_result"
    }
   ],
   "source": [
    "# 개별 단어는 id의 형태로 변환되어 모델에 사용됨\n",
    "id2word[52]"
   ]
  },
  {
   "cell_type": "code",
   "execution_count": 13,
   "metadata": {
    "scrolled": true
   },
   "outputs": [
    {
     "data": {
      "text/plain": [
       "[(52, 'well', 1),\n",
       " (55, 'accept', 1),\n",
       " (56, 'actually', 1),\n",
       " (57, 'anyway', 1),\n",
       " (58, 'atheism', 1),\n",
       " (59, 'atheist', 1),\n",
       " (60, 'bake', 1),\n",
       " (61, 'bummin', 1),\n",
       " (62, 'chewables', 1),\n",
       " (63, 'denial', 1),\n",
       " (64, 'ever', 1),\n",
       " (65, 'expect', 1),\n",
       " (66, 'faith', 2),\n",
       " (67, 'feelings', 1),\n",
       " (68, 'flintstone', 1),\n",
       " (69, 'forget', 1),\n",
       " (70, 'happily', 1),\n",
       " (71, 'hard', 2),\n",
       " (72, 'jimmy', 1),\n",
       " (73, 'leap', 1),\n",
       " (74, 'little', 1),\n",
       " (75, 'logic', 1),\n",
       " (76, 'maybe', 1),\n",
       " (77, 'much', 1),\n",
       " (78, 'need', 2),\n",
       " (79, 'newsgroup', 1),\n",
       " (80, 'people', 1),\n",
       " (81, 'pity', 1),\n",
       " (82, 'pretend', 1),\n",
       " (83, 'read', 1),\n",
       " (84, 'runs', 1),\n",
       " (85, 'sorry', 2),\n",
       " (86, 'start', 1),\n",
       " (87, 'steam', 1),\n",
       " (88, 'timmons', 1),\n",
       " (89, 'yeah', 1)]"
      ]
     },
     "execution_count": 13,
     "metadata": {},
     "output_type": "execute_result"
    }
   ],
   "source": [
    "# document 1의 예시\n",
    "[(id, id2word[id], freq) for id, freq in corpus[1]]"
   ]
  },
  {
   "cell_type": "markdown",
   "metadata": {},
   "source": [
    "## Gensim LDA 학습\n",
    "- gensim에서 제공하는 lda 라이브러리\n",
    "- 모델에 학습하기 위해 필요한 하이퍼 파라미터는 [API 문서](https://radimrehurek.com/gensim/models/ldamodel.html)에서 확인합니다\n",
    "- multicore를 지원하여 빠르게 학습하는 LdaMulticore 모델을 사용할 수도 있습니다"
   ]
  },
  {
   "cell_type": "code",
   "execution_count": 14,
   "metadata": {
    "scrolled": true
   },
   "outputs": [],
   "source": [
    "# lda 모델 학습\n",
    "\n",
    "topic_num = 20 # 20개의 토픽\n",
    "ldamodel = gensim.models.ldamodel.LdaModel(corpus,\n",
    "                                           num_topics = topic_num,\n",
    "                                           id2word=id2word,\n",
    "                                           passes=10,\n",
    "                                           per_word_topics=True)"
   ]
  },
  {
   "cell_type": "code",
   "execution_count": 15,
   "metadata": {
    "scrolled": true
   },
   "outputs": [
    {
     "name": "stdout",
     "output_type": "stream",
     "text": [
      "output 0.011324743\n",
      "entry 0.009872775\n",
      "number 0.008448817\n",
      "program 0.008088465\n",
      "line 0.007243634\n"
     ]
    }
   ],
   "source": [
    "# 특정 topic의 top 5 단어\n",
    "\n",
    "topic = 0\n",
    "topn = 5\n",
    "for id, prob in ldamodel.get_topic_terms(topic, topn=topn):\n",
    "    print(ldamodel.id2word[id], prob)"
   ]
  },
  {
   "cell_type": "code",
   "execution_count": 16,
   "metadata": {},
   "outputs": [
    {
     "name": "stdout",
     "output_type": "stream",
     "text": [
      "(0, '0.011*\"output\" + 0.010*\"entry\" + 0.008*\"number\" + 0.008*\"program\" + 0.007*\"line\"')\n",
      "(1, '0.014*\"myers\" + 0.010*\"stats\" + 0.010*\"division\" + 0.009*\"lost\" + 0.009*\"league\"')\n",
      "(2, '0.011*\"people\" + 0.009*\"would\" + 0.008*\"said\" + 0.007*\"time\" + 0.007*\"know\"')\n",
      "(3, '0.013*\"like\" + 0.010*\"good\" + 0.009*\"would\" + 0.007*\"price\" + 0.007*\"know\"')\n",
      "(4, '0.013*\"file\" + 0.012*\"windows\" + 0.009*\"available\" + 0.009*\"software\" + 0.009*\"files\"')\n",
      "(5, '0.016*\"space\" + 0.012*\"launch\" + 0.011*\"earth\" + 0.009*\"satellite\" + 0.008*\"orbit\"')\n",
      "(6, '0.049*\"space\" + 0.024*\"nasa\" + 0.018*\"data\" + 0.007*\"shuttle\" + 0.007*\"available\"')\n",
      "(7, '0.038*\"armenian\" + 0.034*\"armenians\" + 0.023*\"turkish\" + 0.017*\"turkey\" + 0.013*\"armenia\"')\n",
      "(8, '0.016*\"drive\" + 0.013*\"system\" + 0.012*\"chip\" + 0.011*\"scsi\" + 0.010*\"disk\"')\n",
      "(9, '0.019*\"jesus\" + 0.011*\"christian\" + 0.011*\"bible\" + 0.009*\"church\" + 0.008*\"christians\"')\n",
      "(10, '0.014*\"period\" + 0.013*\"play\" + 0.010*\"char\" + 0.009*\"game\" + 0.009*\"power\"')\n",
      "(11, '0.016*\"would\" + 0.014*\"people\" + 0.010*\"think\" + 0.006*\"like\" + 0.006*\"many\"')\n",
      "(12, '0.008*\"shaft\" + 0.008*\"slip\" + 0.007*\"filters\" + 0.007*\"pack\" + 0.007*\"premises\"')\n",
      "(13, '0.016*\"ground\" + 0.014*\"wire\" + 0.009*\"circuit\" + 0.008*\"electrical\" + 0.008*\"neutral\"')\n",
      "(14, '0.036*\"window\" + 0.028*\"widget\" + 0.016*\"ripem\" + 0.015*\"application\" + 0.013*\"anonymous\"')\n",
      "(15, '0.016*\"year\" + 0.015*\"game\" + 0.013*\"good\" + 0.013*\"team\" + 0.012*\"would\"')\n",
      "(16, '0.019*\"medical\" + 0.018*\"pain\" + 0.017*\"disease\" + 0.015*\"patients\" + 0.013*\"food\"')\n",
      "(17, '0.027*\"israel\" + 0.023*\"jews\" + 0.017*\"israeli\" + 0.013*\"greek\" + 0.012*\"jewish\"')\n",
      "(18, '0.009*\"phillies\" + 0.009*\"vice\" + 0.007*\"reds\" + 0.006*\"giants\" + 0.006*\"mets\"')\n",
      "(19, '0.012*\"president\" + 0.009*\"university\" + 0.009*\"national\" + 0.008*\"april\" + 0.007*\"health\"')\n"
     ]
    }
   ],
   "source": [
    "# topic별 top 10 단어 출력\n",
    "\n",
    "topics = ldamodel.print_topics(num_words=5)\n",
    "for topic in topics:\n",
    "    print(topic)"
   ]
  },
  {
   "cell_type": "code",
   "execution_count": 17,
   "metadata": {
    "scrolled": true
   },
   "outputs": [
    {
     "data": {
      "text/plain": [
       "[(2, 0.0791591),\n",
       " (7, 0.023212893),\n",
       " (9, 0.11625725),\n",
       " (11, 0.3372419),\n",
       " (15, 0.1756268),\n",
       " (17, 0.25700426)]"
      ]
     },
     "execution_count": 17,
     "metadata": {},
     "output_type": "execute_result"
    }
   ],
   "source": [
    "# 특정 문서의 토픽별 분포\n",
    "bow = corpus[0]\n",
    "ldamodel.get_document_topics(bow)"
   ]
  },
  {
   "cell_type": "code",
   "execution_count": 18,
   "metadata": {
    "scrolled": false
   },
   "outputs": [
    {
     "data": {
      "text/plain": [
       "[(0, 0.0008212695),\n",
       " (1, 0.0008212695),\n",
       " (2, 0.07912879),\n",
       " (3, 0.0008212695),\n",
       " (4, 0.0008212695),\n",
       " (5, 0.0008212695),\n",
       " (6, 0.0008212695),\n",
       " (7, 0.02321326),\n",
       " (8, 0.0008212695),\n",
       " (9, 0.1162655),\n",
       " (10, 0.0008212695),\n",
       " (11, 0.33725),\n",
       " (12, 0.0008212695),\n",
       " (13, 0.0008212695),\n",
       " (14, 0.0008212695),\n",
       " (15, 0.17563441),\n",
       " (16, 0.0008212695),\n",
       " (17, 0.2570103),\n",
       " (18, 0.0008212695),\n",
       " (19, 0.0008212695)]"
      ]
     },
     "execution_count": 18,
     "metadata": {},
     "output_type": "execute_result"
    }
   ],
   "source": [
    "# 특정 문서의 토픽별 분포\n",
    "ldamodel.get_document_topics(bow, minimum_probability=0)"
   ]
  },
  {
   "cell_type": "code",
   "execution_count": 19,
   "metadata": {},
   "outputs": [],
   "source": [
    "# 모든 문서에 대해서 토픽을 추출해봅시다\n",
    "\n",
    "result = []\n",
    "\n",
    "for i, topic_list in enumerate(ldamodel[corpus]):\n",
    "    topics = topic_list[0]\n",
    "    topics = sorted(topics, key=lambda x: (x[1]), reverse=True)\n",
    "    if len(topics) > 0:\n",
    "        topic_num, prop_topic = topics[0][0], topics[0][1]\n",
    "        result.append([i, int(topic_num), round(prop_topic,4)])\n",
    "\n",
    "topic_table = pd.DataFrame(result, columns = ['doc_id', 'top_topic', 'prop'])"
   ]
  },
  {
   "cell_type": "code",
   "execution_count": 20,
   "metadata": {},
   "outputs": [
    {
     "data": {
      "text/html": [
       "<div>\n",
       "<style scoped>\n",
       "    .dataframe tbody tr th:only-of-type {\n",
       "        vertical-align: middle;\n",
       "    }\n",
       "\n",
       "    .dataframe tbody tr th {\n",
       "        vertical-align: top;\n",
       "    }\n",
       "\n",
       "    .dataframe thead th {\n",
       "        text-align: right;\n",
       "    }\n",
       "</style>\n",
       "<table border=\"1\" class=\"dataframe\">\n",
       "  <thead>\n",
       "    <tr style=\"text-align: right;\">\n",
       "      <th></th>\n",
       "      <th>doc_id</th>\n",
       "      <th>top_topic</th>\n",
       "      <th>prop</th>\n",
       "    </tr>\n",
       "  </thead>\n",
       "  <tbody>\n",
       "    <tr>\n",
       "      <th>0</th>\n",
       "      <td>0</td>\n",
       "      <td>11</td>\n",
       "      <td>0.3373</td>\n",
       "    </tr>\n",
       "    <tr>\n",
       "      <th>1</th>\n",
       "      <td>1</td>\n",
       "      <td>11</td>\n",
       "      <td>0.4191</td>\n",
       "    </tr>\n",
       "    <tr>\n",
       "      <th>2</th>\n",
       "      <td>2</td>\n",
       "      <td>11</td>\n",
       "      <td>0.4788</td>\n",
       "    </tr>\n",
       "    <tr>\n",
       "      <th>3</th>\n",
       "      <td>3</td>\n",
       "      <td>8</td>\n",
       "      <td>0.4390</td>\n",
       "    </tr>\n",
       "    <tr>\n",
       "      <th>4</th>\n",
       "      <td>4</td>\n",
       "      <td>9</td>\n",
       "      <td>0.3707</td>\n",
       "    </tr>\n",
       "    <tr>\n",
       "      <th>...</th>\n",
       "      <td>...</td>\n",
       "      <td>...</td>\n",
       "      <td>...</td>\n",
       "    </tr>\n",
       "    <tr>\n",
       "      <th>11309</th>\n",
       "      <td>11309</td>\n",
       "      <td>19</td>\n",
       "      <td>0.2922</td>\n",
       "    </tr>\n",
       "    <tr>\n",
       "      <th>11310</th>\n",
       "      <td>11310</td>\n",
       "      <td>0</td>\n",
       "      <td>0.0500</td>\n",
       "    </tr>\n",
       "    <tr>\n",
       "      <th>11311</th>\n",
       "      <td>11311</td>\n",
       "      <td>15</td>\n",
       "      <td>0.6793</td>\n",
       "    </tr>\n",
       "    <tr>\n",
       "      <th>11312</th>\n",
       "      <td>11312</td>\n",
       "      <td>8</td>\n",
       "      <td>0.7065</td>\n",
       "    </tr>\n",
       "    <tr>\n",
       "      <th>11313</th>\n",
       "      <td>11313</td>\n",
       "      <td>15</td>\n",
       "      <td>0.4441</td>\n",
       "    </tr>\n",
       "  </tbody>\n",
       "</table>\n",
       "<p>11314 rows × 3 columns</p>\n",
       "</div>"
      ],
      "text/plain": [
       "       doc_id  top_topic    prop\n",
       "0           0         11  0.3373\n",
       "1           1         11  0.4191\n",
       "2           2         11  0.4788\n",
       "3           3          8  0.4390\n",
       "4           4          9  0.3707\n",
       "...       ...        ...     ...\n",
       "11309   11309         19  0.2922\n",
       "11310   11310          0  0.0500\n",
       "11311   11311         15  0.6793\n",
       "11312   11312          8  0.7065\n",
       "11313   11313         15  0.4441\n",
       "\n",
       "[11314 rows x 3 columns]"
      ]
     },
     "execution_count": 20,
     "metadata": {},
     "output_type": "execute_result"
    }
   ],
   "source": [
    "topic_table"
   ]
  },
  {
   "cell_type": "code",
   "execution_count": 21,
   "metadata": {
    "scrolled": true
   },
   "outputs": [
    {
     "name": "stdout",
     "output_type": "stream",
     "text": [
      "Perplexity:  -10.75247468183706\n"
     ]
    }
   ],
   "source": [
    "# Perplexity 계산, Perplexity가 낮을수록 좋은 모델을 의미함\n",
    "print('Perplexity: ', ldamodel.log_perplexity(corpus))"
   ]
  },
  {
   "cell_type": "code",
   "execution_count": 22,
   "metadata": {},
   "outputs": [
    {
     "data": {
      "text/html": [
       "\n",
       "<link rel=\"stylesheet\" type=\"text/css\" href=\"https://cdn.jsdelivr.net/gh/bmabey/pyLDAvis@3.2.2/pyLDAvis/js/ldavis.v1.0.0.css\">\n",
       "\n",
       "\n",
       "<div id=\"ldavis_el786771406905786462242397410593\"></div>\n",
       "<script type=\"text/javascript\">\n",
       "\n",
       "var ldavis_el786771406905786462242397410593_data = {\"mdsDat\": {\"x\": [-0.26970347258349703, -0.23115313690663147, -0.21668406634312767, -0.24101593779681477, -0.15826283313379477, -0.17622787619438277, -0.012564819678782663, -0.14621419383991577, -0.15997316423941557, 0.12070482051724861, 0.0676104628129495, 0.0951820097005803, 0.10987686517556232, 0.11392676469310047, 0.14158432125324244, 0.11777640732166447, 0.19315607988135078, 0.18083653316752657, 0.2297530054259974, 0.24139223076713995], \"y\": [0.04406692302736052, 0.10083340805977728, -0.13940642910007803, 0.046510343201107474, -0.10588057923170613, -0.09794794917977452, -0.11904859803659679, 0.0770712847956467, 0.20316186502978947, 0.21758989916815868, -0.07642257543356692, -0.04513493105596235, -0.12413964651200295, -0.18676008548781156, 0.005337372624441382, -0.014718733005549245, 0.13757193312562674, 0.021599710595836905, 0.03297317775731372, 0.02274360965798851], \"topics\": [1, 2, 3, 4, 5, 6, 7, 8, 9, 10, 11, 12, 13, 14, 15, 16, 17, 18, 19, 20], \"cluster\": [1, 1, 1, 1, 1, 1, 1, 1, 1, 1, 1, 1, 1, 1, 1, 1, 1, 1, 1, 1], \"Freq\": [17.495711232867603, 16.655941404616005, 11.12177858138405, 8.254035514254415, 7.6851384229697395, 5.993999968782164, 5.8406152234505715, 5.4329550616327165, 4.450919607398796, 2.503476090122689, 2.4064109534050906, 2.2377761794643702, 1.933405647169601, 1.90352528276425, 1.7718413330327631, 1.4532080578346238, 1.0844519879142616, 1.0168444101215808, 0.49409797030340724, 0.26386707051129604]}, \"tinfo\": {\"Term\": [\"space\", \"people\", \"window\", \"file\", \"would\", \"windows\", \"jesus\", \"good\", \"data\", \"system\", \"armenian\", \"like\", \"drive\", \"year\", \"think\", \"armenians\", \"israel\", \"game\", \"program\", \"available\", \"widget\", \"output\", \"jews\", \"chip\", \"team\", \"power\", \"president\", \"entry\", \"public\", \"government\", \"islam\", \"morality\", \"reasoning\", \"secular\", \"assumption\", \"moral\", \"imply\", \"easter\", \"infections\", \"liar\", \"beings\", \"evidence\", \"ignorant\", \"fallacy\", \"allah\", \"subjective\", \"serbs\", \"decenso\", \"obfuscate\", \"analogy\", \"grow\", \"immoral\", \"theories\", \"libertarians\", \"consequences\", \"explaining\", \"justification\", \"conscience\", \"oppose\", \"dispute\", \"humans\", \"merely\", \"arguing\", \"objective\", \"argument\", \"claim\", \"conclusion\", \"universe\", \"absolute\", \"statement\", \"agree\", \"definition\", \"existence\", \"principle\", \"question\", \"discussion\", \"sense\", \"freedom\", \"arguments\", \"statements\", \"people\", \"disagree\", \"society\", \"true\", \"human\", \"laws\", \"think\", \"whether\", \"reason\", \"would\", \"mean\", \"believe\", \"perhaps\", \"fact\", \"opinion\", \"wrong\", \"rather\", \"many\", \"certainly\", \"make\", \"seems\", \"person\", \"much\", \"even\", \"however\", \"point\", \"like\", \"something\", \"case\", \"know\", \"things\", \"well\", \"could\", \"must\", \"want\", \"right\", \"good\", \"might\", \"really\", \"also\", \"since\", \"guns\", \"apartment\", \"militia\", \"karina\", \"sumgait\", \"batf\", \"victims\", \"mamma\", \"stolen\", \"shooting\", \"neighbor\", \"azerbaijanis\", \"assault\", \"arrived\", \"weaver\", \"fighting\", \"homosexual\", \"knife\", \"walking\", \"lyuda\", \"rocks\", \"zionist\", \"liked\", \"rkba\", \"liberty\", \"faces\", \"sister\", \"tragedy\", \"marina\", \"deaf\", \"tanks\", \"weapons\", \"burning\", \"arms\", \"standing\", \"amendment\", \"wife\", \"police\", \"stopped\", \"violent\", \"happened\", \"fire\", \"went\", \"hands\", \"started\", \"said\", \"told\", \"crime\", \"took\", \"brought\", \"going\", \"koresh\", \"floor\", \"woman\", \"came\", \"left\", \"people\", \"home\", \"right\", \"back\", \"children\", \"time\", \"wanted\", \"years\", \"know\", \"could\", \"would\", \"well\", \"days\", \"says\", \"even\", \"first\", \"take\", \"like\", \"think\", \"something\", \"never\", \"come\", \"still\", \"last\", \"around\", \"also\", \"want\", \"many\", \"really\", \"server\", \"format\", \"unix\", \"mouse\", \"contrib\", \"xterm\", \"postscript\", \"font\", \"fonts\", \"jpeg\", \"microsoft\", \"libraries\", \"clients\", \"routines\", \"toolkit\", \"patch\", \"binaries\", \"compile\", \"shareware\", \"menu\", \"openwindows\", \"sunos\", \"programmer\", \"adaptec\", \"patches\", \"xview\", \"sparc\", \"vendor\", \"cursor\", \"tiff\", \"windows\", \"graphics\", \"entries\", \"directory\", \"comp\", \"formats\", \"files\", \"screen\", \"keyboard\", \"version\", \"image\", \"software\", \"export\", \"email\", \"file\", \"mail\", \"motif\", \"display\", \"thanks\", \"color\", \"available\", \"info\", \"send\", \"please\", \"user\", \"program\", \"help\", \"information\", \"using\", \"also\", \"list\", \"anyone\", \"system\", \"address\", \"know\", \"like\", \"problem\", \"would\", \"need\", \"based\", \"bike\", \"shipping\", \"simms\", \"plastic\", \"bikes\", \"honda\", \"stereo\", \"stealth\", \"tires\", \"wheel\", \"switches\", \"tire\", \"toyota\", \"buttons\", \"simm\", \"brake\", \"instruction\", \"forsale\", \"steering\", \"consumer\", \"repair\", \"mounted\", \"risc\", \"fuse\", \"disc\", \"lotus\", \"zoom\", \"lawyers\", \"reliability\", \"architecture\", \"sale\", \"buying\", \"engine\", \"gear\", \"price\", \"ford\", \"selling\", \"paint\", \"bought\", \"monitors\", \"offer\", \"cars\", \"sony\", \"sell\", \"rear\", \"condition\", \"monitor\", \"miles\", \"prices\", \"dealer\", \"speed\", \"cable\", \"sound\", \"asking\", \"lock\", \"audio\", \"good\", \"like\", \"excellent\", \"apple\", \"fast\", \"looking\", \"used\", \"problem\", \"stuff\", \"much\", \"best\", \"power\", \"anyone\", \"know\", \"would\", \"work\", \"also\", \"need\", \"thanks\", \"want\", \"make\", \"time\", \"around\", \"well\", \"think\", \"really\", \"back\", \"stream\", \"printf\", \"contest\", \"uuencode\", \"usage\", \"guidelines\", \"smokeless\", \"remarks\", \"cells\", \"chinese\", \"hash\", \"allocation\", \"cryptology\", \"obscure\", \"publish\", \"cure\", \"polygon\", \"sequences\", \"click\", \"pipe\", \"cryptanalysis\", \"entry\", \"stewart\", \"astros\", \"kidney\", \"interfaces\", \"digit\", \"producing\", \"mileage\", \"thumb\", \"output\", \"circuits\", \"byte\", \"selection\", \"offset\", \"remark\", \"winners\", \"sequence\", \"string\", \"visual\", \"define\", \"build\", \"section\", \"rules\", \"random\", \"null\", \"bytes\", \"size\", \"input\", \"title\", \"check\", \"line\", \"function\", \"return\", \"number\", \"value\", \"program\", \"bits\", \"open\", \"file\", \"lines\", \"author\", \"must\", \"current\", \"read\", \"source\", \"name\", \"time\", \"used\", \"using\", \"long\", \"first\", \"part\", \"given\", \"chip\", \"scsi\", \"controller\", \"encryption\", \"floppy\", \"escrow\", \"motherboard\", \"bios\", \"encrypted\", \"crypto\", \"ports\", \"wiretap\", \"phones\", \"candida\", \"sleeve\", \"nubus\", \"slots\", \"eisa\", \"clipper\", \"clone\", \"warranty\", \"jumper\", \"ethernet\", \"classified\", \"outlets\", \"accelerator\", \"decrypt\", \"jumpers\", \"chips\", \"ieee\", \"drives\", \"macs\", \"keys\", \"vesa\", \"boot\", \"secure\", \"drive\", \"upgrade\", \"disk\", \"serial\", \"devices\", \"card\", \"cache\", \"port\", \"modem\", \"device\", \"algorithm\", \"system\", \"hard\", \"cards\", \"data\", \"security\", \"board\", \"technology\", \"computer\", \"hardware\", \"used\", \"access\", \"government\", \"would\", \"need\", \"standard\", \"using\", \"could\", \"filename\", \"newsletter\", \"funds\", \"dept\", \"compass\", \"avenue\", \"hicnet\", \"investment\", \"prevention\", \"patent\", \"riders\", \"courses\", \"pseudo\", \"massachusetts\", \"contracts\", \"torque\", \"publisher\", \"sponsored\", \"president\", \"hong\", \"countersteering\", \"pennsylvania\", \"nationwide\", \"ontario\", \"legislative\", \"diarrhea\", \"editorial\", \"fees\", \"formation\", \"discharge\", \"centers\", \"jobs\", \"executive\", \"professor\", \"california\", \"june\", \"washington\", \"university\", \"health\", \"national\", \"united\", \"april\", \"congress\", \"meeting\", \"department\", \"conference\", \"motorcycle\", \"institute\", \"students\", \"seattle\", \"states\", \"research\", \"american\", \"administration\", \"secretary\", \"education\", \"service\", \"office\", \"report\", \"center\", \"york\", \"press\", \"school\", \"public\", \"among\", \"information\", \"state\", \"private\", \"general\", \"year\", \"program\", \"years\", \"jesus\", \"church\", \"christ\", \"spirit\", \"lord\", \"bible\", \"matthew\", \"holy\", \"heaven\", \"eternal\", \"catholic\", \"scripture\", \"biblical\", \"doctrine\", \"passages\", \"pope\", \"divine\", \"resurrection\", \"revelation\", \"testament\", \"rockefeller\", \"gospel\", \"orthodox\", \"luke\", \"prophecy\", \"mormon\", \"terminals\", \"sins\", \"salvation\", \"verses\", \"christians\", \"christian\", \"judas\", \"satan\", \"faith\", \"atheism\", \"christianity\", \"worship\", \"belief\", \"atheists\", \"hell\", \"father\", \"paul\", \"john\", \"believe\", \"love\", \"word\", \"life\", \"truth\", \"also\", \"come\", \"time\", \"would\", \"know\", \"even\", \"many\", \"baseball\", \"pitching\", \"maine\", \"defensive\", \"hitter\", \"packaging\", \"football\", \"prize\", \"lopez\", \"goaltender\", \"tigers\", \"fans\", \"lineup\", \"franchise\", \"prisoners\", \"sandberg\", \"boggs\", \"gainey\", \"winfield\", \"moore\", \"anyways\", \"players\", \"eddie\", \"ratings\", \"knee\", \"rode\", \"willie\", \"outlet\", \"forty\", \"mighty\", \"playing\", \"ball\", \"games\", \"morris\", \"braves\", \"sports\", \"wins\", \"talent\", \"game\", \"career\", \"roger\", \"team\", \"player\", \"teams\", \"scores\", \"winning\", \"ryan\", \"hockey\", \"year\", \"league\", \"kent\", \"season\", \"average\", \"play\", \"last\", \"good\", \"better\", \"best\", \"think\", \"would\", \"like\", \"great\", \"well\", \"runs\", \"back\", \"much\", \"years\", \"still\", \"time\", \"could\", \"first\", \"also\", \"even\", \"char\", \"puck\", \"calgary\", \"scorer\", \"cubs\", \"flyers\", \"hartford\", \"espn\", \"winnipeg\", \"sharks\", \"lemieux\", \"lindros\", \"tampa\", \"edmonton\", \"gilmour\", \"defenseman\", \"jagr\", \"blues\", \"goalie\", \"recchi\", \"sabres\", \"stevens\", \"sanderson\", \"unto\", \"soderstrom\", \"sockets\", \"otto\", \"tocchet\", \"potvin\", \"carson\", \"jets\", \"quebec\", \"jersey\", \"kings\", \"islanders\", \"detroit\", \"louis\", \"ottawa\", \"buffalo\", \"francis\", \"murphy\", \"period\", \"philadelphia\", \"leafs\", \"pittsburgh\", \"play\", \"chicago\", \"flames\", \"montreal\", \"goal\", \"wings\", \"goals\", \"season\", \"game\", \"power\", \"team\", \"hockey\", \"third\", \"second\", \"first\", \"toronto\", \"mark\", \"boston\", \"launch\", \"lunar\", \"radar\", \"satellites\", \"spacecraft\", \"detector\", \"payload\", \"atmosphere\", \"mercury\", \"temp\", \"cluster\", \"conductor\", \"viewing\", \"gravity\", \"exhaust\", \"ghost\", \"launches\", \"ctrl\", \"hulk\", \"jupiter\", \"comics\", \"meter\", \"wolverine\", \"atmospheric\", \"moon\", \"grayscale\", \"axis\", \"cobra\", \"measurements\", \"galaxy\", \"launched\", \"detectors\", \"orbit\", \"satellite\", \"mars\", \"rocket\", \"solar\", \"flight\", \"radius\", \"antenna\", \"earth\", \"mission\", \"rockets\", \"receiver\", \"water\", \"space\", \"degrees\", \"stage\", \"cover\", \"vehicle\", \"copies\", \"energy\", \"commercial\", \"system\", \"surface\", \"high\", \"first\", \"mass\", \"power\", \"israel\", \"israeli\", \"arab\", \"nazi\", \"palestinian\", \"arabs\", \"greece\", \"nazis\", \"occupied\", \"palestine\", \"palestinians\", \"israelis\", \"lebanese\", \"gaza\", \"syria\", \"lebanon\", \"rows\", \"tyre\", \"feedback\", \"promo\", \"austria\", \"capitol\", \"installations\", \"cleansing\", \"ported\", \"semitic\", \"semitism\", \"occupying\", \"nationality\", \"bullinger\", \"german\", \"borders\", \"jews\", \"holocaust\", \"greek\", \"germany\", \"italy\", \"jewish\", \"ethnic\", \"greeks\", \"peace\", \"countries\", \"british\", \"island\", \"south\", \"land\", \"europe\", \"anti\", \"state\", \"rights\", \"western\", \"country\", \"world\", \"military\", \"political\", \"government\", \"security\", \"widget\", \"xlib\", \"handler\", \"ripem\", \"reilly\", \"authentication\", \"vpic\", \"toplevel\", \"darkness\", \"bindings\", \"cpsr\", \"popup\", \"tvtwm\", \"xtpointer\", \"toolkits\", \"xtsetarg\", \"winmarks\", \"encrypting\", \"segments\", \"destination\", \"pixmap\", \"ether\", \"breakers\", \"duplicate\", \"nren\", \"drawings\", \"diagnostic\", \"lockheed\", \"ware\", \"rivest\", \"colormap\", \"dialog\", \"adobe\", \"width\", \"anon\", \"widgets\", \"window\", \"shell\", \"courtesy\", \"void\", \"application\", \"button\", \"anonymous\", \"privacy\", \"event\", \"firearm\", \"code\", \"public\", \"resource\", \"internet\", \"license\", \"manager\", \"events\", \"user\", \"part\", \"call\", \"section\", \"motif\", \"action\", \"display\", \"root\", \"prog\", \"column\", \"astronomy\", \"ames\", \"financial\", \"astro\", \"retail\", \"cdrom\", \"magellan\", \"infrared\", \"aviation\", \"gsfc\", \"ssto\", \"gifs\", \"hemisphere\", \"diff\", \"ariane\", \"xhost\", \"pole\", \"gangs\", \"inkjet\", \"pork\", \"invoked\", \"pasadena\", \"wiley\", \"nasa\", \"fujitsu\", \"aeronautics\", \"boulder\", \"bibliography\", \"plots\", \"astronomical\", \"space\", \"telescope\", \"shuttle\", \"propulsion\", \"siggraph\", \"planetary\", \"handguns\", \"ozone\", \"redesign\", \"listserv\", \"data\", \"mask\", \"station\", \"requests\", \"center\", \"request\", \"available\", \"research\", \"technical\", \"archive\", \"material\", \"surface\", \"images\", \"send\", \"information\", \"search\", \"main\", \"colorado\", \"also\", \"technology\", \"science\", \"armenian\", \"armenia\", \"turkey\", \"genocide\", \"henrik\", \"azerbaijan\", \"karabakh\", \"argic\", \"serdar\", \"azeri\", \"ottoman\", \"armenians\", \"borland\", \"azeris\", \"pitcher\", \"kurds\", \"homeland\", \"pointer\", \"istanbul\", \"sdpa\", \"ankara\", \"massacres\", \"nagorno\", \"asala\", \"init\", \"kurdish\", \"massacre\", \"agdam\", \"atrocities\", \"truetype\", \"turks\", \"turkish\", \"muslim\", \"cooper\", \"soviet\", \"region\", \"russian\", \"muslims\", \"villages\", \"army\", \"history\", \"population\", \"million\", \"people\", \"government\", \"wire\", \"circuit\", \"electrical\", \"voltage\", \"socket\", \"grounded\", \"aerospace\", \"vitamin\", \"harley\", \"exclusively\", \"eaten\", \"pipes\", \"amongst\", \"anecdotal\", \"nintendo\", \"uranium\", \"seizures\", \"stays\", \"firms\", \"smiley\", \"adjustable\", \"sega\", \"volt\", \"aluminum\", \"timer\", \"obfuscation\", \"transformer\", \"adjective\", \"seizure\", \"pavement\", \"intake\", \"neutral\", \"ncsl\", \"ground\", \"nist\", \"connected\", \"electric\", \"panel\", \"wires\", \"junk\", \"temperature\", \"pointers\", \"flow\", \"diagnosed\", \"supply\", \"metal\", \"hole\", \"procedure\", \"music\", \"current\", \"power\", \"connection\", \"heat\", \"subject\", \"usually\", \"myers\", \"stats\", \"baltimore\", \"bruins\", \"pitch\", \"hawks\", \"dodgers\", \"habs\", \"innings\", \"alomar\", \"inning\", \"pitched\", \"campbell\", \"indians\", \"corn\", \"pitchers\", \"icons\", \"ghetto\", \"documentary\", \"outline\", \"losses\", \"wales\", \"leagues\", \"canadiens\", \"fielding\", \"catcher\", \"moncton\", \"homers\", \"imprisonment\", \"providence\", \"stanley\", \"finals\", \"pirates\", \"pens\", \"cleveland\", \"caps\", \"olson\", \"offense\", \"winner\", \"division\", \"senators\", \"lost\", \"league\", \"boston\", \"pick\", \"york\", \"sport\", \"john\", \"runs\", \"home\", \"series\", \"team\", \"games\", \"patients\", \"gordon\", \"cancer\", \"skepticism\", \"diet\", \"intellect\", \"shameful\", \"cadre\", \"symptoms\", \"chastity\", \"syndrome\", \"ciphertext\", \"foods\", \"pitt\", \"erzurum\", \"protein\", \"immune\", \"treatments\", \"toshiba\", \"lyme\", \"physician\", \"headache\", \"inflammation\", \"volvo\", \"wagon\", \"yogurt\", \"syrian\", \"tract\", \"dortmund\", \"dose\", \"diseases\", \"infection\", \"disease\", \"acid\", \"aged\", \"clinical\", \"pain\", \"surrender\", \"medical\", \"treatment\", \"banks\", \"doctor\", \"food\", \"medicine\", \"aids\", \"doctors\", \"blood\", \"soon\", \"brain\", \"health\", \"body\", \"cause\", \"phillies\", \"reds\", \"giants\", \"ingr\", \"cincinnati\", \"catbyte\", \"dtmedin\", \"twins\", \"riley\", \"streak\", \"bronx\", \"cardinals\", \"crowley\", \"intergraph\", \"manhattan\", \"lens\", \"promotion\", \"waving\", \"jeep\", \"sedan\", \"sank\", \"envelope\", \"klein\", \"chop\", \"kawasaki\", \"bobbe\", \"queens\", \"ripken\", \"beauchaine\", \"misconduct\", \"dragon\", \"swing\", \"gibson\", \"partition\", \"sweep\", \"plugs\", \"mets\", \"thompson\", \"vice\", \"houston\", \"mint\", \"norway\", \"scope\", \"corp\", \"blew\", \"uunet\", \"black\", \"phil\", \"shaft\", \"slip\", \"filters\", \"premises\", \"seal\", \"mounting\", \"hussein\", \"immaculate\", \"erase\", \"lamps\", \"prep\", \"beth\", \"saddam\", \"dealy\", \"occurrence\", \"relying\", \"throat\", \"dylan\", \"modifiers\", \"faceplate\", \"ifas\", \"shadows\", \"marker\", \"faulty\", \"mazda\", \"smile\", \"howell\", \"madonna\", \"eagle\", \"ranking\", \"tuning\", \"keycode\", \"pack\", \"leaning\", \"xmodmap\", \"backing\", \"bands\", \"shift\", \"battery\", \"lights\", \"kitchen\", \"prof\"], \"Freq\": [1288.0, 4411.0, 1017.0, 1942.0, 6492.0, 1316.0, 962.0, 2599.0, 1313.0, 2087.0, 649.0, 4215.0, 1117.0, 1571.0, 3230.0, 576.0, 587.0, 856.0, 1665.0, 1497.0, 523.0, 889.0, 589.0, 690.0, 779.0, 1140.0, 666.0, 738.0, 950.0, 1250.0, 212.37735196257523, 174.28886003968498, 108.17333298585534, 106.07066540576794, 96.52238052887363, 280.3364076658246, 85.79154876818056, 81.19941143194829, 73.53699565614048, 71.50868037948541, 71.42265247889537, 562.4607718343308, 68.33979396024989, 66.25064011798057, 65.51729007376709, 65.20624555207014, 60.57275977659097, 58.581664416905895, 56.08389871375935, 60.09994915116741, 51.908542752450494, 49.84718957196813, 48.59490518761194, 48.46401790185754, 54.7919727350552, 47.80896875953205, 46.34044025605665, 43.963627126047626, 43.68774555439119, 44.349724195238004, 152.04322466383485, 142.0922313725229, 72.3242215703708, 237.88273042458894, 389.55028387525425, 391.94574100339014, 180.65853288538403, 158.9014441751083, 140.56205221483458, 303.84346463846714, 416.8599967704899, 160.17089912737947, 217.59378119331026, 90.79985962858875, 816.9212941249228, 306.32051965094536, 303.81142847267165, 201.53909109217471, 158.63115969313472, 136.9065350755807, 2361.820671246133, 130.59613010916442, 271.3541242281522, 677.8573362739213, 427.04279029725063, 263.2371284865394, 1647.279026904071, 442.89919462175067, 494.52577729506993, 2626.1996838328673, 522.5941268256144, 779.9720603869985, 387.84289434204726, 608.9240660206631, 253.4192399205087, 431.6113770641224, 501.13569220739885, 960.8609735684852, 327.82676537755503, 855.299570381766, 497.1921899724046, 428.04371137770096, 797.5241446079059, 839.5682763295163, 550.3346843306672, 590.1443761557473, 1045.9319906490152, 642.7657722252061, 539.5087555362315, 916.5759830464513, 543.9554220315758, 732.460656450987, 713.8298073515034, 558.7841014890645, 586.8901085891171, 573.6863843778646, 611.5764738167758, 515.5685392581254, 510.868890144484, 529.9671521547536, 501.14187769660526, 378.3822570947974, 188.17597562542673, 155.30249045001526, 138.57147554587024, 131.42654592483555, 105.17711827827351, 100.53299874258526, 94.95975901828417, 92.21259088631479, 90.86063073862113, 87.67192913824546, 87.10761477476002, 83.26700134099892, 81.02741892881161, 77.27910643336921, 138.2883230435468, 74.08791884624075, 66.74506857037912, 63.90739107713633, 61.79702905271561, 57.928954029722554, 57.59323008314456, 57.56949978874083, 56.813171882340114, 55.87853808064985, 55.73665628921683, 54.599662239969796, 54.17027631204644, 53.396185405328296, 53.22178209259481, 104.12323581221615, 285.0263900660819, 92.26670854951799, 225.45431452771592, 105.76942198236858, 185.23425241101268, 184.07325493287695, 367.05856428884545, 135.84286204128483, 89.0966356468951, 317.27479539920506, 286.31306644247604, 543.1361266034673, 182.62306821736075, 415.3546668563577, 1338.9996849131885, 502.8833624189396, 264.90469292464456, 393.97962500448546, 200.10484186205244, 888.2157903588129, 172.86472303281406, 129.32095680980424, 180.77436440011783, 393.0386720744571, 453.879591547929, 1672.304196964757, 387.0735260288446, 893.5756703857907, 742.8428402332293, 382.87625451052384, 1143.5050198403226, 286.4356714204293, 636.8429575571411, 1103.7720444688364, 885.1795718714045, 1483.7804424402302, 860.190970042526, 343.485150926226, 385.53663994665, 726.2339673672325, 699.878619093289, 539.6057846858059, 923.6195008147798, 665.9900921014588, 522.1815452000782, 456.8572944439868, 435.1883413687232, 480.38378422797257, 453.0207826568979, 429.34115238542176, 519.9074737724193, 461.24122329167903, 452.8706420193439, 399.7212266770649, 660.3271696165896, 410.56709565969845, 371.1973971068748, 335.8183368937156, 270.0937574535283, 212.52432950314395, 194.2226022879471, 188.6556160540939, 180.8095492348512, 278.6413699363936, 160.60563505523317, 127.29014809765616, 126.38824207071973, 121.33125728991791, 115.83943710448396, 115.77286464113652, 113.10743130876442, 109.51243173390829, 106.68689805691831, 102.71762003122721, 98.9042815711948, 93.2946736283597, 92.4927623100211, 91.85183542454878, 91.30162341228383, 87.82188916122504, 86.75169724532897, 81.63663466728664, 80.9167828127306, 80.68934338278765, 1300.675280225547, 628.9679288377271, 262.6383834508512, 368.9698162075629, 365.87090760632543, 137.16428862896873, 909.5413839956692, 427.69904429113143, 347.659753068324, 867.9681171222522, 629.2780397925476, 932.6706163580748, 295.536209809069, 631.2424715156038, 1375.5160830883276, 900.7463999114427, 411.5008164987064, 497.0013743116782, 876.1108295522246, 435.1471477498917, 968.3761091552557, 596.711344669182, 570.2112507414113, 846.1822043025782, 385.0856445022637, 773.4860635168197, 590.4075357958649, 655.7073572009646, 653.375688820884, 852.3227968838845, 494.3121633331291, 591.9514135398399, 628.1239522295838, 413.32953140198157, 593.3368231021171, 593.1179648923754, 486.11850763625637, 575.580473234778, 461.5850711082511, 435.62453067428214, 358.3541923064355, 317.2357327103929, 149.77611410317638, 114.38922858576935, 110.12220269850204, 100.01403416318054, 95.48962308034757, 81.30136511735901, 76.93861355740405, 80.7701410876207, 62.59133434320481, 62.53662805957087, 61.5027742766695, 59.28438239812481, 56.35812617219195, 56.34304443485196, 55.381869301012195, 54.158546317709934, 55.678140326804936, 52.99815643734511, 51.23196891087844, 48.0084735281584, 45.2587429124116, 41.294888851959044, 40.57681554029296, 38.338164029492496, 37.82818382204934, 37.7865381302433, 36.21229748539553, 36.198085230631115, 359.7336183830694, 169.98928524781857, 253.66760925337633, 70.15545651026271, 581.3735823144158, 86.22293014624468, 150.19700790593643, 96.76007706637463, 234.4730862702346, 101.660297330397, 323.3213949648733, 241.68315696783606, 101.752118361017, 300.2944497332973, 92.54697286368888, 277.30929472493176, 281.4836553346455, 175.06783432335789, 122.77491313833073, 115.74389620341742, 344.46838580738904, 200.0758049844947, 275.2619408515051, 223.0131499219498, 128.26118759978624, 119.88662508291459, 760.4343559227466, 1005.3162544026153, 180.34973679071604, 238.53428108446505, 225.04248095866473, 293.8711254117878, 517.1811198968493, 442.2289505495958, 251.14303562416686, 492.7665630640228, 333.7928466263376, 344.67027094367126, 403.5177326121943, 567.4629990031893, 709.1608170269882, 390.36186935316766, 487.34231322239145, 363.0935376466322, 321.90074761404935, 353.78406341683166, 364.2822740354505, 384.2504025076316, 305.0194979352064, 342.8299227477107, 345.8476283520809, 316.7663681217309, 300.85398356510063, 265.6847732306501, 256.7551489842099, 196.5169591866649, 154.97317083246767, 117.98070375402347, 104.84787960573661, 98.93246492461684, 103.81096595127781, 64.20853696517148, 63.331321342316905, 62.869311203108126, 62.69942858781804, 55.207035361132974, 54.65787098879707, 53.87757124912087, 52.87653005657906, 52.42795126431168, 51.7177816109555, 49.82733661718004, 49.59896527066387, 49.53127025678552, 724.5962186765563, 47.789779071472545, 44.875433108602, 44.57844825597071, 44.12165429825539, 43.79678145808164, 42.82384612798497, 44.74292244720614, 41.16268242884861, 831.1610721329696, 70.40451044008356, 125.10969018715961, 80.81239026883553, 51.666294781013434, 157.8957362328431, 95.52957507703718, 85.58701195954634, 161.76601473928778, 129.43293488832362, 215.9421386859278, 376.3637712904556, 361.17336219364273, 301.950247295606, 139.3902109698304, 186.6640238232551, 134.29099839470223, 338.9855631049098, 262.12358658613437, 221.45905589799716, 369.63562341355936, 531.6347215781408, 212.4440759543912, 263.3185663464558, 620.0871473606509, 246.67697369200278, 593.6396974099937, 189.21338233151812, 307.57206913728515, 505.8982444275398, 220.50187591380376, 186.8040447607079, 350.03269217016856, 256.6248341600685, 314.5296435587556, 260.6971638703747, 291.42516358538535, 336.59662887792655, 294.79950754865763, 272.0532651799689, 243.5226577480913, 260.82242057912856, 235.80082943271816, 220.5883936104505, 689.262640701467, 627.708273095812, 312.5428567584591, 535.1585704504294, 252.0958252578029, 195.96471765991177, 175.2979400550877, 169.95999200158818, 150.3281932763761, 150.61165127407858, 113.49215474825445, 104.01350482959538, 100.2065671598216, 91.7044798896324, 89.64438478408064, 89.55418815066652, 81.97435229419837, 79.61539879051412, 398.47685125547036, 77.72492800021344, 75.01859584070272, 72.79208844629855, 71.86311310179693, 70.21041889641309, 66.96847800295134, 63.553487521274015, 58.66854847722101, 58.03052141604859, 264.569549850136, 53.32440960935562, 322.186266305085, 86.67172765564523, 428.24143374019343, 96.23488985394657, 113.99419047598896, 216.36492372946933, 894.8785514076595, 135.55457781515364, 592.7532691974507, 296.36138746926457, 186.13864910169508, 555.523990673927, 112.51528555784613, 224.35671196749598, 223.95610163766048, 208.04029758582743, 200.19242412395235, 772.2371993571278, 400.9053831152297, 190.01320592471993, 478.02539058362436, 270.9266698815513, 224.02004895160522, 255.9117659310301, 283.71994445286293, 239.44635883935985, 323.01499577175514, 226.83751589171789, 267.1965876069135, 344.36444227352854, 266.58462327446534, 226.412648765013, 238.7064998790222, 234.33691780911633, 171.38351144836582, 124.61982796858607, 130.85001093541908, 106.46227899353106, 94.78399433150877, 73.68035828393272, 71.98069741036684, 80.87319821928548, 66.68254841279193, 52.20503850486029, 49.82627885684961, 48.5244345096335, 47.394474407955045, 46.396720469331555, 45.048292280575346, 42.24637875610487, 40.36865514170926, 43.46983121218732, 650.6578002425035, 38.15961093479319, 36.87194173757458, 36.329614004997495, 35.44652099109034, 34.0243047505721, 33.51613244125971, 32.66517864169639, 32.27210881010072, 31.654285254598356, 31.411784996132276, 30.149300553501515, 83.56173651748192, 252.685275815079, 66.74126197498953, 111.55837853287325, 221.11587263137724, 131.91607572057197, 352.36885262705493, 507.0422193421851, 373.84588667071705, 495.960537717941, 303.4247544576926, 433.3969190677972, 224.7307371769592, 132.06604789846574, 217.35376314702148, 195.813041576481, 98.37683317448354, 142.07005449101754, 82.70031206772576, 100.50478097813863, 355.0593389531942, 324.0234356887752, 345.29618653549676, 226.94730726516116, 125.50253137690464, 165.13774425798997, 244.36223552126816, 219.15620846827875, 191.4928740339096, 251.43664185112192, 183.2265733006476, 209.73940243196765, 201.31081798421303, 309.00850383196916, 224.2701194764451, 320.338312268721, 244.48620801955133, 180.04328785237826, 217.42594407573065, 257.8866662647324, 254.980883890349, 205.6077390599997, 961.0650036115595, 478.85279418403377, 394.34283365593495, 210.39324931332644, 205.18471086965752, 547.0792406074981, 197.24579587220592, 196.93549862836824, 161.47044202579403, 144.6269649785602, 138.1427238467926, 132.97736076516819, 114.80112528419036, 107.82126143876827, 98.00020145822174, 97.07006475192631, 91.56447522683767, 89.67535985093365, 84.69288199762268, 83.24925566092297, 78.67319882195565, 78.59576343563627, 78.14187851601199, 71.5992165530056, 70.09340029918074, 66.727334793572, 66.19665474901288, 65.460873614137, 65.26911532946608, 65.37024642721532, 434.5318233164992, 595.1162885509261, 152.28015427285644, 93.34799579590589, 366.86839617771517, 167.9733353005378, 231.60525394811094, 95.22629317049181, 169.06025752342387, 133.21602121635783, 231.6620076836692, 197.89589070518426, 184.45199624301986, 240.36071965811882, 361.89163235525115, 193.52768928852757, 212.33978888718198, 223.63989494743734, 176.24593520296816, 289.1856756774473, 169.91004142595904, 181.77199497175698, 184.9829299760521, 176.7940110285413, 167.87477128852848, 164.27264865868045, 200.53566386869315, 108.88267535872501, 60.30018771982526, 80.2246463077678, 61.67539846076605, 44.74480299988274, 43.96676061202746, 37.963256374218254, 37.87890341860152, 36.200380301834144, 35.030557985251924, 134.8303303551204, 34.92249970397408, 34.152985889081314, 31.856342879963407, 31.847032459290958, 31.764681132779724, 31.22211593510752, 31.030998705656927, 31.01260549086049, 30.2613488096754, 370.91813370285166, 30.150991995098412, 28.882008626241305, 27.14612114505971, 27.053373223367604, 26.970299429985165, 58.042760806284896, 25.655362714556336, 25.20492193976958, 161.8536890387119, 144.17417254296686, 488.8695398235898, 88.58466181114223, 86.00358458451046, 93.41327409326267, 73.27044741929596, 43.27354870070036, 626.8102385113565, 101.92228106941239, 87.1770885130939, 540.5235458813971, 215.70778486186316, 205.63141075064428, 66.89357873537077, 99.5829333404416, 59.19758946108795, 224.4354023957952, 692.6871430616314, 216.4583982506287, 76.42669239826398, 236.38292611621642, 155.99276066889362, 249.24153004526292, 413.6634304622152, 554.5671934153536, 314.700571633399, 228.96269650858974, 382.07424939830025, 513.9655845213474, 400.4142589632325, 204.35630620699482, 305.8874456916966, 140.99954424600884, 215.1287227161869, 234.89185346210812, 206.65531455285546, 199.70969619558, 242.50018177321664, 231.44483536109186, 190.19472832732185, 188.25333118590262, 181.64060181054424, 249.60538623007903, 137.35809015890874, 127.54887831670273, 124.7535067779091, 99.95985211966297, 89.4513437161542, 89.22521793673911, 85.47840584313215, 80.85880902808135, 77.00991134861714, 75.20288681723694, 60.475369690451494, 60.219768848213235, 57.24118989343542, 56.58384867651381, 55.679540389297046, 55.468856314182524, 52.46791082448053, 49.553781780442414, 48.105351030366464, 46.27358024935825, 46.2426634412525, 45.53761938186382, 43.28187250597449, 40.51339313498043, 40.38148179150154, 38.387041506555626, 38.36206702697939, 36.47087017738406, 36.147318043005576, 73.81171951782426, 93.4685915986328, 85.51691547195381, 154.35889446809077, 85.40925216882577, 155.10902507541832, 118.30618887178471, 73.81585548981248, 80.06434057837673, 63.35397836133104, 70.22533637805371, 325.3194802983766, 124.21770079169916, 78.29619307036899, 152.54056977098233, 314.8150243680945, 154.12434088034436, 130.20294768463643, 109.55989399763034, 162.40780768587365, 90.73459164957013, 113.92081164943416, 188.576542215476, 214.79969567126523, 204.2317806822137, 164.72300567997854, 121.28691652802613, 129.2484566417349, 152.10342592140657, 175.55300658174784, 100.63188355203128, 100.35555831717912, 93.30114874882713, 266.2366524074624, 172.57448838718346, 150.51522750763812, 118.81710460970486, 112.02288624680509, 86.31356991163271, 66.20782178113241, 67.85327012154093, 61.67276738509381, 60.379291754590994, 57.739967296799755, 54.66024889117043, 54.476097283020316, 53.757747628866156, 66.15483859819707, 49.989600994953655, 48.76065012742975, 47.81343795050139, 44.65562794081736, 40.51699498227927, 40.38325284357308, 39.35866873923158, 38.65964601466361, 38.25193180725954, 163.62493212101344, 37.25793262249574, 35.81670925024358, 35.34742122162881, 33.30392748936501, 33.14337271384919, 94.66530229577727, 48.73582262098459, 177.22515121086303, 207.19048538310665, 83.29211588481402, 116.30174645995703, 115.73276850190696, 141.96513725896156, 63.71041541675603, 52.878848549951876, 242.03625453027294, 133.26199399425974, 61.611132030192564, 64.86236890976575, 149.65102695463005, 358.50936429225857, 68.17702294588807, 78.75489978347287, 117.58102653558937, 86.87126847666846, 91.13156691829923, 79.23715269314725, 93.77542881692355, 149.76439876638867, 75.99714704978709, 101.66811451886196, 118.34322028194431, 74.23182572944519, 75.05940035969094, 586.4932881921029, 358.36330469314953, 241.56990859382373, 165.17533316642945, 125.9957002688141, 110.70674205040264, 106.43059856499072, 97.0769706941813, 80.47406577182197, 79.22687425585661, 74.94821302110665, 73.01488505263328, 67.23990448797132, 61.7730845003914, 60.53739203328021, 79.91393620515689, 44.576035516357415, 43.600168809984936, 38.16824651999859, 37.349027609397226, 32.32346060857108, 32.165417103927794, 30.341178337998272, 26.507387488754574, 25.333623694096453, 24.91636396289214, 23.31466736918367, 22.804258376155676, 22.620248715542896, 21.329723051385855, 174.31214599839348, 45.8041100501948, 493.29114368074397, 59.377520642084164, 271.29907481111, 159.50392862987152, 46.865615064585086, 257.26740896075125, 71.6800947677031, 57.931496589462505, 170.85793322869998, 141.57336372851367, 104.39552068305176, 100.8842654659051, 136.4214514881786, 142.05239290691645, 109.17189020888237, 155.69051363742483, 176.3861942613908, 127.71256647947571, 91.15227858390085, 99.79326397310395, 121.17875815780091, 96.38893846598593, 89.03071153398992, 99.69942058868608, 91.30683654820561, 522.9396896386612, 184.8225632755107, 66.13784353865465, 298.22700425439496, 57.10207987355737, 49.12655489538263, 48.58789342191409, 41.40891884266165, 37.88969024991965, 36.252047424392394, 31.653464603169056, 30.653945113137716, 29.912589685107935, 29.44529175372335, 53.4354124832665, 28.585262194414792, 27.479415325686915, 27.153804118398902, 26.807852152112677, 26.3549730954359, 102.84068500057258, 25.413163496304264, 25.1025364833496, 20.310844347147924, 19.972110416232724, 19.79280951674678, 18.825850717543386, 17.821658205208116, 17.51662312763693, 17.303384779831934, 96.99364644918883, 60.0340810931367, 51.786192427689116, 71.76653114630429, 67.8124019506804, 135.42519233593657, 669.7190192745492, 148.17215682099024, 63.650488774361094, 53.86926412805993, 281.5911136365359, 103.51255125425024, 235.8000348110462, 195.62332359569518, 143.3379302941031, 60.915910924849335, 193.01201981662064, 200.81539099703923, 87.37354864368928, 128.52111355999838, 75.95097112747419, 94.73253990735277, 88.02411760896429, 99.91370502299048, 115.67568458290307, 97.82578833997337, 84.40517781169848, 83.07552025836621, 74.18622811389199, 80.65931408572865, 66.20191596222207, 90.22667459989644, 89.523264071528, 71.76654798498902, 68.20733896272353, 61.39128713352188, 45.330023634865015, 43.5742865764639, 41.21505299735224, 40.4398200172365, 37.51618615094543, 36.46454529697987, 35.786043433148706, 33.90288913817497, 32.56388229099053, 29.90069316714701, 28.480852730271373, 26.751184060125993, 24.77471644778253, 24.398248542667933, 25.738624625702467, 23.545140538113593, 21.891550167156847, 21.423191087626563, 21.181246901286464, 21.09073766042582, 432.82876787476295, 20.201202056663327, 19.97404858030207, 28.50372976201715, 18.550398831942395, 24.02210231274532, 36.5376502169268, 890.8427393702597, 64.87934244983394, 135.60677375050324, 53.443768211922595, 38.70960534577841, 59.88483141863594, 53.5260958982292, 43.185749502797385, 32.34705416503516, 47.09033186704698, 322.547033337004, 54.96016622978186, 94.79841554489141, 70.96043418644271, 124.3273855160056, 95.52010230324659, 135.209978936053, 91.10044600296752, 65.78638607243388, 64.77025646663616, 59.04285930131993, 56.02523279044448, 64.39299495496239, 81.23328804751408, 88.44763302034967, 57.171755128340685, 60.18164873690355, 54.19671248728842, 68.5619350710673, 57.75445704091672, 56.62303650677055, 648.3873708147357, 221.8538206399851, 287.65291447940155, 189.65739543785378, 156.72662983193806, 170.52650258281855, 102.08264548607093, 92.83747819491781, 88.93208516248188, 88.74192853596863, 89.4488954627503, 570.2815903611609, 79.745510034539, 78.13546263200584, 68.3134666829764, 59.19781123832744, 54.15201425465201, 53.807076138356585, 57.05971732993982, 47.96230693019584, 42.45444660025745, 42.21958547697533, 41.17110408840534, 38.43083702335635, 37.38154798326281, 34.824503560915204, 86.44410873456937, 34.204065660531214, 34.17430468682962, 33.09571956513097, 199.81114311464552, 396.7804560002159, 155.54947576649568, 49.93240144215992, 126.9170788460261, 76.65676694554512, 156.55422577988858, 95.24114368329974, 70.03069141256518, 74.62748142631432, 90.33694180087335, 72.1891617779272, 75.23692344668757, 104.82550885528585, 81.1145542224476, 197.43616295099983, 129.55277037239932, 111.0008784252141, 96.06606261915063, 57.35266080980619, 47.755348970261295, 45.513025951325474, 43.738535763018284, 36.12243455091685, 35.71444159230642, 31.584404716640826, 28.269723660726264, 28.04116953644355, 27.83191255108263, 25.705861902942587, 25.70513648303503, 24.84526508485866, 24.614714036286983, 23.978682340811464, 23.73791886632513, 23.691438676301594, 23.680583227840817, 23.265733516251146, 46.59948524655182, 38.202971158487074, 21.741687684581944, 21.453990026766903, 21.329455300943824, 21.219892660384332, 20.05511386529421, 37.515744851406154, 106.1665509104773, 65.60996859480834, 225.8824593103834, 92.92487486246397, 96.80346407244348, 43.73441266367732, 99.4868714765969, 50.818117057742825, 41.64014316253415, 49.371704081258756, 40.628319720424955, 48.333397157802764, 31.358535776960256, 80.46132072063907, 48.109263409616, 52.98635353930442, 44.311943848166635, 52.50713694772109, 103.95180031056687, 102.52869770919698, 48.36801697468289, 43.73007953184642, 46.68914973214138, 42.71841442192195, 143.83048038272963, 105.68857405813198, 60.042693450550075, 58.76594053911544, 57.949678264750005, 54.844606078979716, 46.402776073104874, 43.879855490014556, 40.32052594097109, 40.14831638016273, 38.71607162058038, 36.625863216481875, 35.14918739192263, 33.03165144742561, 32.13141238651479, 31.783612587968882, 31.157121550642486, 29.013741030305763, 28.895127978845146, 28.68752258590851, 28.413625060205963, 27.99022300505414, 27.682607929065483, 26.948892525825297, 26.948395792981206, 25.754377835981725, 24.464128741399602, 24.35492708940739, 24.2254968363031, 23.95035988981481, 57.10307670570318, 46.562762630094284, 43.759482171679245, 61.44702954053281, 47.15101488372354, 56.45707805328598, 33.677828537854765, 54.45066317507194, 46.786909709004085, 103.46813966384883, 38.77751457980518, 92.62336211335433, 89.52591935825738, 62.870029282036285, 64.60529072181272, 67.0649140371486, 42.588899877358074, 62.22888703713366, 55.65713562304101, 56.12011474697964, 50.24539525672342, 47.98293147665133, 44.02783847371324, 148.2156718001354, 105.50443159959904, 94.6133937807704, 75.26174435505357, 70.81974147734273, 68.75055010638748, 65.81041395495755, 65.10122536466969, 67.51341438125574, 63.99316539064058, 59.55307079372311, 45.918309563414866, 41.92424168699936, 99.24130028809094, 35.12088150928546, 34.23423863218968, 33.22846160428552, 29.411479472297216, 29.401987810246894, 28.5581614182028, 27.247776199158647, 26.330693530213534, 25.129561908580925, 24.477626264085885, 22.604336647939633, 22.12179483879719, 21.056901804230872, 19.6084307642245, 19.466498988724982, 19.152252170781622, 91.34385761486035, 52.67703315413556, 167.30554308574114, 45.677843573491074, 42.478470641679564, 43.27040717091877, 175.00504910758212, 74.27893452655559, 181.35316674428023, 95.87217176153473, 82.31730961496501, 113.99801757507748, 130.34915320682225, 72.07314733113434, 51.91089911353815, 52.70095901593082, 79.83249287842172, 93.97912103859481, 57.55857821524488, 88.82989211529829, 64.05971103081806, 65.42782174386099, 43.53682331568377, 34.606510541951856, 28.947495596474667, 27.53582576381602, 27.088893737702872, 23.935417071449386, 23.935417071449386, 23.72822971934069, 21.123969167359046, 20.75281086369816, 20.479293763592757, 18.842346248045377, 18.723635181517736, 16.970282660678432, 16.553973238101772, 16.469694884860722, 16.412787138368305, 15.723981259272705, 15.12643124409373, 14.49303675350911, 14.326793798795668, 14.254780746953154, 14.050278489489568, 13.454552229265946, 13.210729375505908, 13.13970071188026, 12.608416723139307, 12.581688825215304, 12.235748877726214, 12.049288610549869, 27.675327636834698, 20.06026299100139, 15.901123896463293, 18.89387062147681, 15.808994607733714, 19.837854975548435, 28.905810710621637, 18.30941538660679, 41.856586888840695, 28.280820873897532, 16.94470284945825, 19.173667591054986, 23.286558017761415, 23.70340248170148, 16.968052406124595, 19.923441818037574, 18.98951448376192, 17.384090462753075, 21.33553595810607, 21.170982260253105, 18.891419761858288, 16.448266959029535, 15.889685352793673, 14.913405226666201, 14.776936617840082, 11.344474995666463, 11.14428982257742, 9.774796154733078, 9.687660094907448, 9.634839498479353, 9.48929727258546, 9.227403289362554, 8.96858078272224, 8.441052479463815, 8.157174116575247, 7.416279399940381, 7.261271628352701, 7.13239516985681, 6.980247069112218, 6.95086122295383, 6.504142383152345, 6.39633971565809, 10.762916280370908, 6.180682749353581, 6.139285581590831, 6.284722784694221, 5.9534545010697215, 5.885447257103168, 10.335250569612997, 7.967370945039017, 17.55219729989786, 8.849523661778647, 7.286683623337468, 8.76816268199169, 8.789092139996322, 10.614471553110427, 10.331116544015872, 9.255928418014415, 8.074213152711742, 7.986430527997092], \"Total\": [1288.0, 4411.0, 1017.0, 1942.0, 6492.0, 1316.0, 962.0, 2599.0, 1313.0, 2087.0, 649.0, 4215.0, 1117.0, 1571.0, 3230.0, 576.0, 587.0, 856.0, 1665.0, 1497.0, 523.0, 889.0, 589.0, 690.0, 779.0, 1140.0, 666.0, 738.0, 950.0, 1250.0, 213.31336546360018, 175.22487262259176, 109.10963208766837, 107.0071531987511, 97.45938154463074, 283.34791297742714, 86.74934633557805, 82.13560610010482, 74.47487274774214, 72.44468860537873, 72.35865989404722, 569.9031532176862, 69.29609389933505, 67.18666085546583, 66.45329749797142, 66.1429947989079, 61.50876732947668, 59.51767182926357, 57.01990657380959, 61.10334285208825, 52.84455784353391, 50.78320402496611, 49.5309135283215, 49.402218859549826, 55.85522573640405, 48.74701116445322, 47.27664322435672, 44.89963453149492, 44.62375314992882, 45.30533716170255, 156.67585501437503, 146.67120595251714, 74.33688473191997, 251.3833685071652, 422.3193099053978, 437.49543199107615, 196.06743485913526, 172.53304149731488, 151.7060823002366, 348.2138191406954, 500.67194160940153, 177.38193714101803, 249.48195656265275, 96.82330689342155, 1160.7609808577504, 386.1878295467798, 384.8932080096141, 240.53100204703443, 183.7128511018346, 155.38945473051496, 4411.225036996178, 147.10238667043728, 350.77723388186683, 1050.1014050727347, 604.6092708336897, 339.00901005619545, 3230.6413311181636, 656.4029938461044, 765.2156980410173, 6492.66842169674, 830.2727018190578, 1428.5820816260962, 580.8661970585249, 1069.0577048850782, 328.59664697973125, 703.8146766440997, 876.1793598260706, 2282.4620535605445, 482.99174549579703, 2164.6285193539807, 941.9976319809904, 756.1227749633599, 2211.907320483665, 2430.7453788875005, 1195.6507138318354, 1362.9907639288026, 4215.876578677921, 1708.8774916000204, 1208.8158536445417, 3698.9479549358307, 1319.4385543312465, 2645.518846635552, 2671.665524100712, 1424.8216010731073, 1896.9959589115745, 1950.378871694597, 2599.1208244266177, 1295.3730123678156, 1550.1514577342666, 3581.7099778253755, 1605.5258045265787, 379.329409315517, 189.11342615193135, 156.23994114910926, 139.50892599932476, 132.36399638688633, 106.12489846913651, 101.47070379525798, 95.89720950580812, 93.15056954759862, 91.79811351500969, 88.60938531182583, 88.04749969722772, 84.20445278305931, 81.96554252654026, 78.21655696187173, 140.0110790227609, 75.02536931809182, 67.68252856425347, 64.84486607546947, 62.73447954185594, 58.86644789411163, 58.530680574920765, 58.50695027999652, 57.75078318676753, 56.81598880779568, 56.6741070593521, 55.537113429143055, 55.10773144694984, 54.33363589446863, 54.15923257446781, 106.42515887974737, 295.56910828987253, 94.46958873375146, 235.39134248015046, 108.74196888058512, 193.9694184975698, 192.85499447159464, 395.8779678558717, 143.79124219593984, 92.49795551721786, 356.6629999003224, 320.20686592306384, 633.9950787710612, 202.10170238491082, 503.09984998186104, 1927.9799112866265, 643.8281145207901, 315.77729922985014, 514.3695207381606, 234.58741188089735, 1463.0248622181302, 201.58903253208007, 143.17914359965903, 223.50107904273116, 623.1849270578759, 755.6889342632921, 4411.225036996178, 626.2379629306287, 1950.378871694597, 1559.4138861018187, 636.7583589628255, 3159.654266981425, 421.580340874455, 1486.6318297474543, 3698.9479549358307, 2671.665524100712, 6492.66842169674, 2645.518846635552, 581.7765749206349, 735.3978056943299, 2430.7453788875005, 2291.191520112545, 1428.5362185888991, 4215.876578677921, 3230.6413311181636, 1708.8774916000204, 1244.307697211919, 1071.6104800314836, 1497.196718986266, 1391.2728981380424, 1114.3688333768137, 3581.7099778253755, 1896.9959589115745, 2282.4620535605445, 1550.1514577342666, 661.3212836866601, 411.5065225950321, 372.1366791650676, 336.86697269447154, 271.0328190943964, 213.46338884362135, 195.16270796813353, 189.59477899452526, 181.7489888587739, 280.1389957343204, 161.54469361767497, 128.22920733082074, 127.32729909984003, 122.27310676976688, 116.77849894143446, 116.72283305885185, 114.04648708134953, 110.45148747307826, 107.62595364939679, 103.65669127446132, 99.8433372209218, 94.23372984474602, 93.43191294976621, 92.79089181448539, 92.24069689280324, 88.76094469034354, 87.69078173256341, 82.57718676430031, 81.85597382248172, 81.62839901172212, 1316.8224678520398, 639.8541378924122, 266.1828722904097, 376.17099399738373, 374.53700556531066, 139.09441814323625, 944.1614831770801, 442.2010117577383, 372.5775979548865, 979.9630015919445, 699.0473629023536, 1082.7548108288502, 336.0265963833389, 794.600899708893, 1942.2043188785037, 1217.7582425881785, 495.4506987555054, 630.7049402664637, 1306.0384551807779, 564.0274213499824, 1497.5768498147636, 869.6878779478791, 879.5102034665327, 1560.0741722535317, 529.4867088589544, 1665.4380300278378, 1254.5550776256114, 1574.6113094064135, 1573.4094414054796, 3581.7099778253755, 998.9262035741338, 1681.9740990584635, 2087.0010644314707, 638.3453295137125, 3698.9479549358307, 4215.876578677921, 1699.1487800920622, 6492.66842169674, 1756.7245507746716, 1003.4866053542692, 359.2999829841002, 318.18243845374104, 150.71309811857782, 115.32642506859213, 111.0597951746396, 100.95101950772103, 96.42768873914054, 82.23836012901104, 77.87559844999946, 81.85470854597726, 63.528318675704014, 63.47362535802243, 62.43976095795017, 60.22136595127183, 57.295117284435975, 57.28004243427444, 56.31885283454437, 55.0955335283449, 56.647269166496436, 53.93514450996821, 52.169496415190274, 48.946549576361264, 46.19572644027884, 42.23187902685862, 41.51394116526411, 39.275154319780434, 38.76518110219682, 38.723521607276005, 37.149564942386014, 37.135068701181446, 369.6617052511667, 176.82920936976728, 267.24929596022093, 72.50336059955531, 647.0467812260144, 90.93021747990096, 162.85191381770062, 104.0390749344855, 277.660636103562, 110.89472984575531, 401.31262091619465, 291.2727523863307, 111.99809227699399, 384.1110411941913, 101.0077483341024, 357.2820591109826, 385.5910646272525, 219.78650608988394, 143.92787902818586, 135.1302555994038, 538.2876614000022, 275.0963168066296, 424.2448855635596, 349.06065767348497, 160.64014586360756, 145.55036648509312, 2599.1208244266177, 4215.876578677921, 277.0130752581924, 452.1046653131051, 424.0107506203063, 722.7957966136978, 2050.655282440402, 1699.1487800920622, 578.9652115902367, 2211.907320483665, 1023.241648821913, 1140.6457259031138, 1681.9740990584635, 3698.9479549358307, 6492.66842169674, 1775.1011185784419, 3581.7099778253755, 1756.7245507746716, 1306.0384551807779, 1896.9959589115745, 2164.6285193539807, 3159.654266981425, 1114.3688333768137, 2645.518846635552, 3230.6413311181636, 1550.1514577342666, 1559.4138861018187, 266.6296390627002, 257.6957095955569, 197.4575258035329, 155.96252348600075, 118.92133439809857, 105.78843375989608, 99.87301909842344, 104.83426099815092, 65.1503889944918, 64.27187547731279, 63.80986593794426, 63.639982757819354, 56.147589568223864, 55.59842688219539, 54.818614477404076, 53.81709087062679, 53.36850540506247, 52.658356844745434, 50.76793823323684, 50.54067051438904, 50.47182512469211, 738.7283749824871, 48.730333312772665, 45.815988445684305, 45.51900240169369, 45.062208447079236, 44.73733603462921, 43.7644003584746, 45.75458022024583, 42.10327587694146, 889.7627819764408, 73.45772146374779, 135.80862715066704, 85.57766836840267, 53.2894300946298, 175.1852730668025, 102.7432817455379, 91.66743577629161, 183.2649073026599, 146.4650774575209, 271.38843358883577, 519.3346608885606, 500.9574780866292, 414.59365990115674, 167.31629569838316, 242.99574836097432, 169.10658476306128, 549.7889549953301, 399.7954195058611, 323.2785997080366, 642.0042903833786, 1057.1000954725937, 324.2235458391283, 433.48191649958187, 1414.1129553231017, 418.1198879667293, 1665.4380300278378, 287.1737301722265, 685.9461071049024, 1942.2043188785037, 430.981671916724, 309.7311647725536, 1424.8216010731073, 706.2372083714328, 1208.4534699346266, 741.7604281853482, 1161.5649186876055, 3159.654266981425, 2050.655282440402, 1573.4094414054796, 1213.848406420192, 2291.191520112545, 1205.0455229061056, 747.8815739675799, 690.1998354632792, 628.6455488630003, 313.4800335501814, 536.8556000339188, 253.0350939580151, 196.90189361183994, 176.2351160579645, 170.89716836761764, 151.2653693772167, 151.5605932113646, 114.43012272122317, 104.95068072174904, 101.14374326195988, 92.6416557710735, 90.58156066640808, 90.49136404932476, 82.9135714938919, 80.55257512287464, 403.27414757243054, 78.66210940624173, 75.95577239123047, 73.72926445660367, 72.80028910602151, 71.15229012988762, 67.90565484917738, 64.49066799726566, 59.605735615690115, 58.96769735450623, 269.1930935711358, 54.26158559037783, 332.52558916412994, 88.29443606571206, 457.9241756889792, 98.9735047674051, 118.18071222661773, 235.1225132999423, 1117.6571819519374, 144.89106049409077, 726.0300563060994, 340.0915940565392, 211.12789120534512, 806.1184403060828, 121.13244963106499, 281.7575274283317, 300.67537563012564, 299.8973601944896, 286.1645996354702, 2087.0010644314707, 850.1304300515228, 275.11171449127977, 1313.5705278493904, 515.8832284915902, 380.1408253326091, 492.61241017298977, 808.5348013058273, 530.3621536734425, 2050.655282440402, 530.3099898800904, 1250.6165432489536, 6492.66842169674, 1756.7245507746716, 645.9616100680719, 1573.4094414054796, 2671.665524100712, 172.31969489040634, 125.55601848097685, 131.8692323490286, 107.39898890357443, 95.72018080349045, 74.61653888721195, 72.91687741668062, 81.98127116571197, 67.61872980096129, 53.1412164599795, 50.76245967674089, 49.460619780704256, 48.330654738280494, 47.34140234404634, 46.016960728788234, 43.18255674052621, 41.30483310339382, 44.492404045791794, 666.5533530545823, 39.09578889229351, 37.808119684323614, 37.26579202634784, 36.382698948418096, 34.9604840426177, 34.454852032652184, 33.60135658477512, 33.20828819064039, 32.590463426004135, 32.34796340130974, 31.085485229046327, 86.52923954689464, 265.02821790743855, 69.10361408078984, 121.33980006143406, 252.85832826957542, 147.26334096679562, 423.49824138614395, 627.1848268304656, 465.9371147260548, 638.9124628128199, 390.0601039954238, 588.8471908278608, 283.3088904590505, 156.18059993057847, 276.71401967072325, 247.28181712876534, 112.84901209630411, 175.13601357302605, 93.3018985240372, 118.26147186809887, 628.7359096458646, 558.9519828106465, 609.8118179526615, 353.4335158270489, 164.03078263706306, 248.31630814734066, 463.03125555958917, 394.7307722033568, 319.863884298158, 506.81170056579487, 310.79757219854525, 407.2884893709271, 393.5149508078472, 950.9533613567407, 516.5502185463846, 1574.6113094064135, 962.3385312151829, 381.33527646393134, 728.962196093484, 1571.6826091431444, 1665.4380300278378, 1486.6318297474543, 962.0033882865896, 479.79167087871645, 395.2811862340048, 211.33153194188958, 206.12552922161183, 549.6054451232233, 198.18406476111463, 197.87382796355425, 162.40895736459686, 145.5663795503019, 139.08098764783378, 133.92005801980642, 115.74477963073781, 108.75959333045809, 98.93846381844521, 98.00832711173307, 92.50275954373815, 90.6136222372905, 85.63130297005438, 84.18766226584177, 79.611461072891, 79.53416319977548, 79.08014217703456, 72.53747876098619, 71.04590010865994, 67.6655973282824, 67.13491711689024, 66.39916306071741, 66.20740513243697, 66.3108840819233, 444.6288240572674, 614.9127936299966, 156.86858866451476, 95.47478069981734, 394.82779873250854, 176.3888623160375, 254.709182927223, 100.21338558522508, 219.9080923669176, 168.55957930983442, 374.0305465705001, 321.6809143524658, 333.8686113088613, 549.2100545546535, 1428.5820816260962, 421.0231314641069, 662.2867407727006, 845.6695875297661, 453.9449045140599, 3581.7099778253755, 1071.6104800314836, 3159.654266981425, 6492.66842169674, 3698.9479549358307, 2430.7453788875005, 2282.4620535605445, 201.47654996902187, 109.8235433149758, 61.24105602531599, 81.69431629273801, 62.821175039451234, 45.6856708025587, 44.907844881626794, 38.90412417897803, 38.81977227513889, 37.141248320064946, 35.971425781319276, 138.452573698727, 35.86336752688357, 35.09429094734311, 32.79721072076688, 32.787900410329314, 32.70554901847097, 32.162983729253426, 31.971867205136242, 31.95499682874922, 31.2022176576712, 382.4852442333054, 31.091883257205343, 29.822891449004423, 28.086988940180394, 27.994245587811214, 27.91151036593319, 60.071368384387625, 26.59623053854223, 26.145794708205337, 170.89350015020756, 152.29712873042502, 585.0100433709862, 97.08932389366653, 94.18881631308116, 104.3069120228013, 81.2095170263674, 45.858818171019735, 856.9289940259173, 117.13141136321634, 100.02699193300266, 779.6558336940053, 280.4112500942664, 273.65526394924444, 77.48594730680135, 130.39760039404513, 68.61326759518313, 364.6522256250101, 1571.6826091431444, 361.9012998091428, 95.54610708717657, 441.53049766129436, 276.6194609509487, 625.9659334031767, 1391.2728981380424, 2599.1208244266177, 1239.6980645052424, 1023.241648821913, 3230.6413311181636, 6492.66842169674, 4215.876578677921, 904.9867625955364, 2645.518846635552, 401.5098798715154, 1559.4138861018187, 2211.907320483665, 1486.6318297474543, 1497.196718986266, 3159.654266981425, 2671.665524100712, 2291.191520112545, 3581.7099778253755, 2430.7453788875005, 250.5458925003637, 138.29859643367476, 128.48938605858592, 125.69401295546349, 100.90035832721982, 90.3918547879167, 90.16572414237501, 86.41891204405843, 81.80105218828118, 77.95041753088115, 76.14339314809972, 61.41587592916503, 61.160275034998165, 58.18170824952465, 57.52435496907441, 56.620046602455815, 56.40936261995546, 53.40841705423153, 50.49428799726406, 49.04585722533472, 47.21408905016997, 47.18316967579293, 46.47812578645863, 44.22237883737917, 41.45389934782767, 41.32198801578683, 39.32754771058751, 39.302573223529144, 37.411376359110406, 37.08782422530883, 76.65995933562989, 98.26428561723463, 91.5607169589152, 172.4528002685644, 93.2758682942098, 179.5743622935481, 137.2083158131609, 81.01190171572647, 90.33245979947891, 68.86338318845293, 78.16315422518214, 528.665038418412, 161.2518701721382, 90.5490639338205, 226.33363851397496, 625.9659334031767, 233.5974792376692, 185.63948427938885, 146.89862714989047, 263.9341545122537, 115.13791630117315, 167.89977691126654, 441.53049766129436, 856.9289940259173, 1140.6457259031138, 779.6558336940053, 364.6522256250101, 468.70232189833763, 1018.2040496749456, 2291.191520112545, 198.25545406927654, 388.8796941898661, 188.6775198645122, 267.17296590019754, 173.50844531764102, 151.4490901611677, 119.76969840058149, 112.9603464478157, 87.247430874059, 67.14168269507682, 68.81895281822297, 62.60662857611793, 61.31315272561912, 58.67382822854491, 55.594111557804325, 55.40996013571733, 54.69160962781613, 67.31397466523636, 50.923685450035066, 49.69451288378414, 48.74729883452521, 45.589489163091564, 41.450856202692925, 41.31711401926036, 40.293017223044615, 39.59350730161867, 39.18579285882094, 167.686678251469, 38.19179351065293, 36.75061051348663, 36.28128209572567, 34.23778888480464, 34.07729246805348, 97.49268615420418, 50.2871115598919, 188.83586393901604, 227.97534679239087, 88.41960975592946, 134.16598688249564, 133.85857526371507, 175.82954362072073, 70.08288783682985, 56.547749451125014, 398.59795229071415, 189.74184051001043, 69.70169001060026, 76.61754920288108, 291.5082040087827, 1288.8123145193447, 86.65281711952953, 120.38895220447708, 310.8115834124104, 162.0036838049271, 198.03650442657602, 139.7207347320692, 249.91430968186023, 2087.0010644314707, 172.43994496549018, 891.1464916115684, 2291.191520112545, 195.1601569727245, 1140.6457259031138, 587.434695572348, 359.3045863659439, 242.51118969792512, 166.12744640660205, 126.93698064345024, 111.64802231138438, 107.37187884795738, 98.01830813196528, 81.41536444236426, 80.1681544050856, 75.88949410328564, 73.9561655462848, 68.1812059418526, 62.71436765436686, 61.4786726173882, 81.30998479467287, 45.51731564085742, 44.55162655653728, 39.10952669802346, 38.29030773831324, 33.264740823290815, 33.10681128287839, 31.282458576750255, 27.448667710127015, 26.27490391097058, 25.85764408413825, 24.255947499927448, 23.745541871611543, 23.56153087608866, 22.2710032266267, 182.8763405801441, 48.4877140669309, 589.1676863731647, 64.75706353800275, 329.9585690054584, 190.20692665043623, 51.2722237169508, 366.67800088890317, 88.91540598981132, 68.83525531841563, 269.5883524935462, 214.82792563886804, 157.9804824779552, 151.04464329332922, 242.8286140841148, 263.54049733184405, 193.797692893987, 355.04684236041015, 962.3385312151829, 465.5672835106171, 225.56671609758254, 438.66112479810283, 1187.8724159661272, 402.22187275874626, 299.6186041444919, 1250.6165432489536, 515.8832284915902, 523.8748265995822, 185.87885779433785, 67.06370844749794, 302.7118304798033, 58.0279448274516, 50.05468642128384, 49.513758248944086, 42.33478809841632, 38.81555512122751, 37.177912263616726, 32.57932949542203, 31.579809972430876, 30.8384573798026, 30.37115657054387, 55.14579429169448, 29.511127011235313, 28.405280156279616, 28.079668945899122, 27.733773013587367, 27.280838030262977, 106.54665158345054, 26.33902831835013, 26.02840139150213, 21.236709207722637, 20.898806556889618, 20.718674383221952, 19.751716763886026, 18.747523382506706, 18.442488165465218, 18.229249602963524, 107.03718311373746, 66.09003677165131, 57.97251038938339, 84.20225595936562, 79.28822853231472, 170.82537409040972, 1017.699564910971, 196.51175698715122, 76.46919961107814, 63.81727707434276, 523.8563115356625, 155.50947082922656, 465.65039124834993, 370.5902606302503, 293.5963969923661, 95.28484898241886, 755.5735359637729, 950.9533613567407, 211.4188801122547, 461.2431688385351, 173.75274270938894, 317.98978640629167, 269.30715272255327, 529.4867088589544, 1205.0455229061056, 887.1480064120232, 500.9574780866292, 495.4506987555054, 329.14845111082286, 630.7049402664637, 148.1913758790271, 91.1651315904526, 90.46179253490749, 72.70527494424934, 69.14603778769653, 62.32974398260787, 46.275163793312515, 44.512743405800784, 42.15354004461117, 41.378276834794356, 38.45464324512037, 37.403002170730346, 36.724500247773086, 34.84135801740094, 33.50233914517878, 30.839150039595555, 29.419379081787884, 27.689640980335742, 25.71317359590491, 25.336705541664102, 26.747542528009244, 24.483597364218273, 22.830007018664684, 22.36266322752355, 22.119703763418972, 22.029194506654417, 452.56217912088607, 21.139658914133136, 20.912505411514072, 29.854107250770767, 19.489362876381623, 25.575454256061498, 40.01778614565755, 1288.8123145193447, 78.92814021555466, 186.6204582709617, 64.1908835155729, 44.36430337391886, 76.90954697197456, 67.73332826480087, 52.10619579692527, 36.591374884244125, 63.60016593670542, 1313.5705278493904, 90.85435435929104, 243.87568172868, 164.52908982544318, 506.81170056579487, 412.31862471227413, 1497.5768498147636, 558.9519828106465, 269.0364055495548, 275.03447460934746, 199.45101440777225, 172.43994496549018, 309.25811217921563, 879.5102034665327, 1574.6113094064135, 202.68509031226353, 336.1661961082722, 176.35731397698734, 3581.7099778253755, 492.61241017298977, 505.995723608031, 649.3772066404115, 222.7954825756116, 288.95274273844103, 190.59896694890958, 157.66818983337103, 171.58185113837501, 103.02425450781297, 93.7790425359367, 89.87364548074625, 89.68349203680347, 90.44419358528093, 576.7049387963317, 80.68707059556945, 79.07702265604333, 69.25502674863681, 60.139371262820795, 55.09357736257871, 54.7486361855372, 58.07488838165574, 48.90386698314887, 43.39600942724909, 43.16115342614444, 42.12160874262866, 39.37239712151835, 38.32310803680679, 35.76606357138999, 88.78858437295003, 35.14563512872155, 35.11888519614586, 34.03727958921769, 214.3921661482726, 451.75654010157115, 205.19251839415807, 55.46361307856369, 200.89111384450425, 111.81143099787496, 348.92809081099426, 200.36377636119937, 121.62417829131661, 218.26815942648275, 474.67773974346, 276.81630005859597, 349.9532567289018, 4411.225036996178, 1250.6165432489536, 198.4865242069643, 130.49625793084877, 111.9443384992845, 97.0094969165501, 58.296097530381225, 48.69878278020277, 46.45649956152285, 44.68197089305975, 37.06586836526614, 36.65787540879881, 32.52784100250626, 29.21316392093942, 28.984603417929577, 28.77534827340175, 26.649295679064313, 26.648570351967404, 25.78869885870007, 25.563947192082818, 24.92211613402355, 24.681352633262847, 24.634874052634746, 24.624016984131064, 24.209167280885254, 48.49451376912025, 39.829204800582886, 22.685121528349587, 22.397423831094184, 22.272889088762394, 22.163326425231624, 20.99854767293891, 40.799851978839335, 130.90972197329532, 78.43230890911218, 330.80694559083804, 125.78297571718622, 137.6570981754531, 52.396896315744854, 151.4899443463628, 68.09906182220979, 52.52090154314018, 71.56092399326384, 56.69035466206459, 76.44026113428396, 37.61363842100398, 212.76344872240813, 82.80646978796945, 112.726909294056, 78.3040877230563, 117.43563576555255, 706.2372083714328, 1140.6457259031138, 184.68216796750337, 109.89512657511683, 841.537542765859, 427.65788624556063, 145.08697937075516, 106.77356316320069, 60.9897102785934, 59.71295735836992, 58.89678819116142, 55.791622891001985, 47.349792880468314, 44.826873057296005, 41.26754433707771, 41.095337580957995, 39.663088467674676, 37.57288017801605, 36.13227195252631, 33.97866944985982, 33.07842919864606, 32.73062988992188, 32.10413860345951, 29.960758448016442, 29.842144806452957, 29.634539435058823, 29.360641954705926, 28.93724018246132, 28.629624722636418, 27.89590930970464, 27.895412642284967, 26.70181185021047, 25.411145525278943, 25.30194416293755, 25.17251375960156, 24.897376679592785, 61.30189574120755, 50.69519959985358, 49.4215989859791, 78.97205259787965, 57.05755409222626, 73.14551346930793, 37.73696526831295, 73.0132350288385, 60.60306877153359, 252.77851190775192, 50.080969915298446, 342.29947750634875, 361.9012998091428, 188.6775198645122, 251.63627912100876, 310.79757219854525, 80.61052199199655, 549.2100545546535, 401.5098798715154, 626.2379629306287, 358.1483899499908, 779.6558336940053, 585.0100433709862, 149.16277825420346, 106.45135556560216, 95.56031201755073, 76.20866352278689, 71.76680059860871, 69.69746852720766, 66.7573323354213, 66.0481437514445, 68.50220945261633, 64.94008378225946, 60.54460733552147, 46.8652277975142, 42.87119323579507, 101.531187620783, 36.06779976292549, 35.18115690062784, 34.17540426132766, 30.358417919064184, 30.348906022232498, 29.50507963643219, 28.19470288291277, 27.277611758101802, 26.07648025293954, 25.42454448181926, 23.551255226939634, 23.068713327824494, 22.003820064611755, 20.55534940522688, 20.41427649682029, 20.09917060583076, 99.47170614210354, 56.492247930161476, 188.70093843201553, 50.64311774993332, 47.38191729058441, 48.8125484708809, 237.61569589238928, 93.14321784100272, 305.5148118122687, 142.81943471975518, 119.51290208653873, 195.14081863174064, 286.9865753217527, 125.68333896251856, 74.66668752948789, 88.50844564354341, 232.47087493339993, 348.8281046750478, 114.2691546463006, 465.9371147260548, 371.89781125003833, 479.2371820871554, 44.49248522263878, 35.56217232443853, 29.903171667077366, 28.491487292199366, 28.044555837332574, 24.891078574797977, 24.891078574797977, 24.683900999979578, 22.07963071595825, 21.708476643649167, 21.434955266805293, 19.798007740943273, 19.67929675757289, 17.92594576259579, 17.509634736898303, 17.425997950633555, 17.3684489403606, 16.67964278597583, 16.08213045440111, 15.448698250887766, 15.282455329527338, 15.21044226314929, 15.00594001045832, 14.410220483180229, 14.166390878122142, 14.09536221067679, 13.564078221935837, 13.537350337320094, 13.19141037062411, 13.004950172099816, 31.49233174187732, 22.893067073026227, 17.72985381619466, 23.447196487983454, 18.45102094892284, 26.12063450558517, 48.94134047594572, 23.651388609410944, 98.88654111653767, 64.55137759189259, 22.20484965019643, 31.696718303511613, 70.05912768664669, 82.27230592017858, 27.430437843482, 142.22327483818515, 356.3959343897394, 70.58471201613078, 22.29909378616126, 22.134552336892114, 19.854977288001002, 17.411824384066076, 16.853259528883076, 15.877914064213956, 15.740494056214448, 12.308034150213018, 12.10784744750532, 10.738353608591298, 10.651217766152152, 10.598397028704184, 10.452854707002066, 10.20330459420604, 9.932138279923214, 9.40461168997294, 9.120731628808702, 8.380129297312083, 8.224829052838658, 8.095952599611126, 7.943804844869528, 7.9144217843629106, 7.467699830442519, 7.359897179293068, 12.424862539158243, 7.144242632052985, 7.1028430018785365, 7.276211131332757, 6.917013765868825, 6.849004714212201, 14.31929981961709, 10.5821559109258, 51.80608141516342, 17.370171219637953, 12.90549006180358, 28.7271313199529, 29.31003278044669, 82.77013252062395, 94.47271368051983, 53.48459402342778, 24.840018792826154, 37.91056086720553], \"Category\": [\"Default\", \"Default\", \"Default\", \"Default\", \"Default\", \"Default\", \"Default\", \"Default\", \"Default\", \"Default\", \"Default\", \"Default\", \"Default\", \"Default\", \"Default\", \"Default\", \"Default\", \"Default\", \"Default\", \"Default\", \"Default\", \"Default\", \"Default\", \"Default\", \"Default\", \"Default\", \"Default\", \"Default\", \"Default\", \"Default\", \"Topic1\", \"Topic1\", \"Topic1\", \"Topic1\", \"Topic1\", \"Topic1\", \"Topic1\", \"Topic1\", \"Topic1\", \"Topic1\", \"Topic1\", \"Topic1\", \"Topic1\", \"Topic1\", \"Topic1\", \"Topic1\", \"Topic1\", \"Topic1\", \"Topic1\", \"Topic1\", \"Topic1\", \"Topic1\", \"Topic1\", \"Topic1\", \"Topic1\", \"Topic1\", \"Topic1\", \"Topic1\", \"Topic1\", \"Topic1\", \"Topic1\", \"Topic1\", \"Topic1\", \"Topic1\", \"Topic1\", \"Topic1\", \"Topic1\", \"Topic1\", \"Topic1\", \"Topic1\", \"Topic1\", \"Topic1\", \"Topic1\", \"Topic1\", \"Topic1\", \"Topic1\", \"Topic1\", \"Topic1\", \"Topic1\", \"Topic1\", \"Topic1\", \"Topic1\", \"Topic1\", \"Topic1\", \"Topic1\", \"Topic1\", \"Topic1\", \"Topic1\", \"Topic1\", \"Topic1\", \"Topic1\", \"Topic1\", \"Topic1\", \"Topic1\", \"Topic1\", \"Topic1\", \"Topic1\", \"Topic1\", \"Topic1\", \"Topic1\", \"Topic1\", \"Topic1\", \"Topic1\", \"Topic1\", \"Topic1\", \"Topic1\", \"Topic1\", \"Topic1\", \"Topic1\", \"Topic1\", \"Topic1\", \"Topic1\", \"Topic1\", \"Topic1\", \"Topic1\", \"Topic1\", \"Topic1\", \"Topic1\", \"Topic1\", \"Topic1\", \"Topic1\", \"Topic2\", \"Topic2\", \"Topic2\", \"Topic2\", \"Topic2\", \"Topic2\", \"Topic2\", \"Topic2\", \"Topic2\", \"Topic2\", \"Topic2\", \"Topic2\", \"Topic2\", \"Topic2\", \"Topic2\", \"Topic2\", \"Topic2\", \"Topic2\", \"Topic2\", \"Topic2\", \"Topic2\", \"Topic2\", \"Topic2\", \"Topic2\", \"Topic2\", \"Topic2\", \"Topic2\", \"Topic2\", \"Topic2\", \"Topic2\", \"Topic2\", \"Topic2\", \"Topic2\", \"Topic2\", \"Topic2\", \"Topic2\", \"Topic2\", \"Topic2\", \"Topic2\", \"Topic2\", \"Topic2\", \"Topic2\", \"Topic2\", \"Topic2\", \"Topic2\", \"Topic2\", \"Topic2\", \"Topic2\", \"Topic2\", \"Topic2\", \"Topic2\", \"Topic2\", \"Topic2\", \"Topic2\", \"Topic2\", \"Topic2\", \"Topic2\", \"Topic2\", \"Topic2\", \"Topic2\", \"Topic2\", \"Topic2\", \"Topic2\", \"Topic2\", \"Topic2\", \"Topic2\", \"Topic2\", \"Topic2\", \"Topic2\", \"Topic2\", \"Topic2\", \"Topic2\", \"Topic2\", \"Topic2\", \"Topic2\", \"Topic2\", \"Topic2\", \"Topic2\", \"Topic2\", \"Topic2\", \"Topic2\", \"Topic2\", \"Topic2\", \"Topic2\", \"Topic2\", \"Topic3\", \"Topic3\", \"Topic3\", \"Topic3\", \"Topic3\", \"Topic3\", \"Topic3\", \"Topic3\", \"Topic3\", \"Topic3\", \"Topic3\", \"Topic3\", \"Topic3\", \"Topic3\", \"Topic3\", \"Topic3\", \"Topic3\", \"Topic3\", \"Topic3\", \"Topic3\", \"Topic3\", \"Topic3\", \"Topic3\", \"Topic3\", \"Topic3\", \"Topic3\", \"Topic3\", \"Topic3\", \"Topic3\", \"Topic3\", \"Topic3\", \"Topic3\", \"Topic3\", \"Topic3\", \"Topic3\", \"Topic3\", \"Topic3\", \"Topic3\", \"Topic3\", \"Topic3\", \"Topic3\", \"Topic3\", \"Topic3\", \"Topic3\", \"Topic3\", \"Topic3\", \"Topic3\", \"Topic3\", \"Topic3\", \"Topic3\", \"Topic3\", \"Topic3\", \"Topic3\", \"Topic3\", \"Topic3\", \"Topic3\", \"Topic3\", \"Topic3\", \"Topic3\", \"Topic3\", \"Topic3\", \"Topic3\", \"Topic3\", \"Topic3\", \"Topic3\", \"Topic3\", \"Topic3\", \"Topic3\", \"Topic3\", \"Topic3\", \"Topic4\", \"Topic4\", \"Topic4\", \"Topic4\", \"Topic4\", \"Topic4\", \"Topic4\", \"Topic4\", \"Topic4\", \"Topic4\", \"Topic4\", \"Topic4\", \"Topic4\", \"Topic4\", \"Topic4\", \"Topic4\", \"Topic4\", \"Topic4\", \"Topic4\", \"Topic4\", \"Topic4\", \"Topic4\", \"Topic4\", \"Topic4\", \"Topic4\", \"Topic4\", \"Topic4\", \"Topic4\", \"Topic4\", \"Topic4\", \"Topic4\", \"Topic4\", \"Topic4\", \"Topic4\", \"Topic4\", \"Topic4\", \"Topic4\", \"Topic4\", \"Topic4\", \"Topic4\", \"Topic4\", \"Topic4\", \"Topic4\", \"Topic4\", \"Topic4\", \"Topic4\", \"Topic4\", \"Topic4\", \"Topic4\", \"Topic4\", \"Topic4\", \"Topic4\", \"Topic4\", \"Topic4\", \"Topic4\", \"Topic4\", \"Topic4\", \"Topic4\", \"Topic4\", \"Topic4\", \"Topic4\", \"Topic4\", \"Topic4\", \"Topic4\", \"Topic4\", \"Topic4\", \"Topic4\", \"Topic4\", \"Topic4\", \"Topic4\", \"Topic4\", \"Topic4\", \"Topic4\", \"Topic4\", \"Topic4\", \"Topic4\", \"Topic4\", \"Topic4\", \"Topic4\", \"Topic4\", \"Topic4\", \"Topic4\", \"Topic4\", \"Topic5\", \"Topic5\", \"Topic5\", \"Topic5\", \"Topic5\", \"Topic5\", \"Topic5\", \"Topic5\", \"Topic5\", \"Topic5\", \"Topic5\", \"Topic5\", \"Topic5\", \"Topic5\", \"Topic5\", \"Topic5\", \"Topic5\", \"Topic5\", \"Topic5\", \"Topic5\", \"Topic5\", \"Topic5\", \"Topic5\", \"Topic5\", \"Topic5\", \"Topic5\", \"Topic5\", \"Topic5\", \"Topic5\", \"Topic5\", \"Topic5\", \"Topic5\", \"Topic5\", \"Topic5\", \"Topic5\", \"Topic5\", \"Topic5\", \"Topic5\", \"Topic5\", \"Topic5\", \"Topic5\", \"Topic5\", \"Topic5\", \"Topic5\", \"Topic5\", \"Topic5\", \"Topic5\", \"Topic5\", \"Topic5\", \"Topic5\", \"Topic5\", \"Topic5\", \"Topic5\", \"Topic5\", \"Topic5\", \"Topic5\", \"Topic5\", \"Topic5\", \"Topic5\", \"Topic5\", \"Topic5\", \"Topic5\", \"Topic5\", \"Topic5\", \"Topic5\", \"Topic5\", \"Topic5\", \"Topic5\", \"Topic5\", \"Topic5\", \"Topic5\", \"Topic5\", \"Topic5\", \"Topic5\", \"Topic6\", \"Topic6\", \"Topic6\", \"Topic6\", \"Topic6\", \"Topic6\", \"Topic6\", \"Topic6\", \"Topic6\", \"Topic6\", \"Topic6\", \"Topic6\", \"Topic6\", \"Topic6\", \"Topic6\", \"Topic6\", \"Topic6\", \"Topic6\", \"Topic6\", \"Topic6\", \"Topic6\", \"Topic6\", \"Topic6\", \"Topic6\", \"Topic6\", \"Topic6\", \"Topic6\", \"Topic6\", \"Topic6\", \"Topic6\", \"Topic6\", \"Topic6\", \"Topic6\", \"Topic6\", \"Topic6\", \"Topic6\", \"Topic6\", \"Topic6\", \"Topic6\", \"Topic6\", \"Topic6\", \"Topic6\", \"Topic6\", \"Topic6\", \"Topic6\", \"Topic6\", \"Topic6\", \"Topic6\", \"Topic6\", \"Topic6\", \"Topic6\", \"Topic6\", \"Topic6\", \"Topic6\", \"Topic6\", \"Topic6\", \"Topic6\", \"Topic6\", \"Topic6\", \"Topic6\", \"Topic6\", \"Topic6\", \"Topic6\", \"Topic6\", \"Topic7\", \"Topic7\", \"Topic7\", \"Topic7\", \"Topic7\", \"Topic7\", \"Topic7\", \"Topic7\", \"Topic7\", \"Topic7\", \"Topic7\", \"Topic7\", \"Topic7\", \"Topic7\", \"Topic7\", \"Topic7\", \"Topic7\", \"Topic7\", \"Topic7\", \"Topic7\", \"Topic7\", \"Topic7\", \"Topic7\", \"Topic7\", \"Topic7\", \"Topic7\", \"Topic7\", \"Topic7\", \"Topic7\", \"Topic7\", \"Topic7\", \"Topic7\", \"Topic7\", \"Topic7\", \"Topic7\", \"Topic7\", \"Topic7\", \"Topic7\", \"Topic7\", \"Topic7\", \"Topic7\", \"Topic7\", \"Topic7\", \"Topic7\", \"Topic7\", \"Topic7\", \"Topic7\", \"Topic7\", \"Topic7\", \"Topic7\", \"Topic7\", \"Topic7\", \"Topic7\", \"Topic7\", \"Topic7\", \"Topic7\", \"Topic7\", \"Topic7\", \"Topic7\", \"Topic7\", \"Topic7\", \"Topic7\", \"Topic7\", \"Topic7\", \"Topic7\", \"Topic7\", \"Topic7\", \"Topic7\", \"Topic7\", \"Topic7\", \"Topic7\", \"Topic7\", \"Topic8\", \"Topic8\", \"Topic8\", \"Topic8\", \"Topic8\", \"Topic8\", \"Topic8\", \"Topic8\", \"Topic8\", \"Topic8\", \"Topic8\", \"Topic8\", \"Topic8\", \"Topic8\", \"Topic8\", \"Topic8\", \"Topic8\", \"Topic8\", \"Topic8\", \"Topic8\", \"Topic8\", \"Topic8\", \"Topic8\", \"Topic8\", \"Topic8\", \"Topic8\", \"Topic8\", \"Topic8\", \"Topic8\", \"Topic8\", \"Topic8\", \"Topic8\", \"Topic8\", \"Topic8\", \"Topic8\", \"Topic8\", \"Topic8\", \"Topic8\", \"Topic8\", \"Topic8\", \"Topic8\", \"Topic8\", \"Topic8\", \"Topic8\", \"Topic8\", \"Topic8\", \"Topic8\", \"Topic8\", \"Topic8\", \"Topic8\", \"Topic8\", \"Topic8\", \"Topic8\", \"Topic8\", \"Topic8\", \"Topic8\", \"Topic9\", \"Topic9\", \"Topic9\", \"Topic9\", \"Topic9\", \"Topic9\", \"Topic9\", \"Topic9\", \"Topic9\", \"Topic9\", \"Topic9\", \"Topic9\", \"Topic9\", \"Topic9\", \"Topic9\", \"Topic9\", \"Topic9\", \"Topic9\", \"Topic9\", \"Topic9\", \"Topic9\", \"Topic9\", \"Topic9\", \"Topic9\", \"Topic9\", \"Topic9\", \"Topic9\", \"Topic9\", \"Topic9\", \"Topic9\", \"Topic9\", \"Topic9\", \"Topic9\", \"Topic9\", \"Topic9\", \"Topic9\", \"Topic9\", \"Topic9\", \"Topic9\", \"Topic9\", \"Topic9\", \"Topic9\", \"Topic9\", \"Topic9\", \"Topic9\", \"Topic9\", \"Topic9\", \"Topic9\", \"Topic9\", \"Topic9\", \"Topic9\", \"Topic9\", \"Topic9\", \"Topic9\", \"Topic9\", \"Topic9\", \"Topic9\", \"Topic9\", \"Topic9\", \"Topic9\", \"Topic9\", \"Topic9\", \"Topic9\", \"Topic9\", \"Topic9\", \"Topic9\", \"Topic9\", \"Topic9\", \"Topic9\", \"Topic9\", \"Topic9\", \"Topic9\", \"Topic9\", \"Topic10\", \"Topic10\", \"Topic10\", \"Topic10\", \"Topic10\", \"Topic10\", \"Topic10\", \"Topic10\", \"Topic10\", \"Topic10\", \"Topic10\", \"Topic10\", \"Topic10\", \"Topic10\", \"Topic10\", \"Topic10\", \"Topic10\", \"Topic10\", \"Topic10\", \"Topic10\", \"Topic10\", \"Topic10\", \"Topic10\", \"Topic10\", \"Topic10\", \"Topic10\", \"Topic10\", \"Topic10\", \"Topic10\", \"Topic10\", \"Topic10\", \"Topic10\", \"Topic10\", \"Topic10\", \"Topic10\", \"Topic10\", \"Topic10\", \"Topic10\", \"Topic10\", \"Topic10\", \"Topic10\", \"Topic10\", \"Topic10\", \"Topic10\", \"Topic10\", \"Topic10\", \"Topic10\", \"Topic10\", \"Topic10\", \"Topic10\", \"Topic10\", \"Topic10\", \"Topic10\", \"Topic10\", \"Topic10\", \"Topic10\", \"Topic10\", \"Topic10\", \"Topic10\", \"Topic10\", \"Topic10\", \"Topic10\", \"Topic10\", \"Topic11\", \"Topic11\", \"Topic11\", \"Topic11\", \"Topic11\", \"Topic11\", \"Topic11\", \"Topic11\", \"Topic11\", \"Topic11\", \"Topic11\", \"Topic11\", \"Topic11\", \"Topic11\", \"Topic11\", \"Topic11\", \"Topic11\", \"Topic11\", \"Topic11\", \"Topic11\", \"Topic11\", \"Topic11\", \"Topic11\", \"Topic11\", \"Topic11\", \"Topic11\", \"Topic11\", \"Topic11\", \"Topic11\", \"Topic11\", \"Topic11\", \"Topic11\", \"Topic11\", \"Topic11\", \"Topic11\", \"Topic11\", \"Topic11\", \"Topic11\", \"Topic11\", \"Topic11\", \"Topic11\", \"Topic11\", \"Topic11\", \"Topic11\", \"Topic11\", \"Topic11\", \"Topic11\", \"Topic11\", \"Topic11\", \"Topic11\", \"Topic11\", \"Topic11\", \"Topic11\", \"Topic11\", \"Topic11\", \"Topic11\", \"Topic11\", \"Topic11\", \"Topic11\", \"Topic12\", \"Topic12\", \"Topic12\", \"Topic12\", \"Topic12\", \"Topic12\", \"Topic12\", \"Topic12\", \"Topic12\", \"Topic12\", \"Topic12\", \"Topic12\", \"Topic12\", \"Topic12\", \"Topic12\", \"Topic12\", \"Topic12\", \"Topic12\", \"Topic12\", \"Topic12\", \"Topic12\", \"Topic12\", \"Topic12\", \"Topic12\", \"Topic12\", \"Topic12\", \"Topic12\", \"Topic12\", \"Topic12\", \"Topic12\", \"Topic12\", \"Topic12\", \"Topic12\", \"Topic12\", \"Topic12\", \"Topic12\", \"Topic12\", \"Topic12\", \"Topic12\", \"Topic12\", \"Topic12\", \"Topic12\", \"Topic12\", \"Topic12\", \"Topic12\", \"Topic12\", \"Topic12\", \"Topic12\", \"Topic12\", \"Topic12\", \"Topic12\", \"Topic12\", \"Topic12\", \"Topic12\", \"Topic12\", \"Topic12\", \"Topic12\", \"Topic13\", \"Topic13\", \"Topic13\", \"Topic13\", \"Topic13\", \"Topic13\", \"Topic13\", \"Topic13\", \"Topic13\", \"Topic13\", \"Topic13\", \"Topic13\", \"Topic13\", \"Topic13\", \"Topic13\", \"Topic13\", \"Topic13\", \"Topic13\", \"Topic13\", \"Topic13\", \"Topic13\", \"Topic13\", \"Topic13\", \"Topic13\", \"Topic13\", \"Topic13\", \"Topic13\", \"Topic13\", \"Topic13\", \"Topic13\", \"Topic13\", \"Topic13\", \"Topic13\", \"Topic13\", \"Topic13\", \"Topic13\", \"Topic13\", \"Topic13\", \"Topic13\", \"Topic13\", \"Topic13\", \"Topic13\", \"Topic13\", \"Topic13\", \"Topic13\", \"Topic13\", \"Topic13\", \"Topic13\", \"Topic13\", \"Topic13\", \"Topic13\", \"Topic13\", \"Topic13\", \"Topic13\", \"Topic13\", \"Topic13\", \"Topic13\", \"Topic13\", \"Topic13\", \"Topic13\", \"Topic13\", \"Topic14\", \"Topic14\", \"Topic14\", \"Topic14\", \"Topic14\", \"Topic14\", \"Topic14\", \"Topic14\", \"Topic14\", \"Topic14\", \"Topic14\", \"Topic14\", \"Topic14\", \"Topic14\", \"Topic14\", \"Topic14\", \"Topic14\", \"Topic14\", \"Topic14\", \"Topic14\", \"Topic14\", \"Topic14\", \"Topic14\", \"Topic14\", \"Topic14\", \"Topic14\", \"Topic14\", \"Topic14\", \"Topic14\", \"Topic14\", \"Topic14\", \"Topic14\", \"Topic14\", \"Topic14\", \"Topic14\", \"Topic14\", \"Topic14\", \"Topic14\", \"Topic14\", \"Topic14\", \"Topic14\", \"Topic14\", \"Topic14\", \"Topic14\", \"Topic14\", \"Topic14\", \"Topic14\", \"Topic14\", \"Topic14\", \"Topic14\", \"Topic14\", \"Topic14\", \"Topic14\", \"Topic14\", \"Topic14\", \"Topic14\", \"Topic14\", \"Topic14\", \"Topic14\", \"Topic14\", \"Topic14\", \"Topic14\", \"Topic14\", \"Topic15\", \"Topic15\", \"Topic15\", \"Topic15\", \"Topic15\", \"Topic15\", \"Topic15\", \"Topic15\", \"Topic15\", \"Topic15\", \"Topic15\", \"Topic15\", \"Topic15\", \"Topic15\", \"Topic15\", \"Topic15\", \"Topic15\", \"Topic15\", \"Topic15\", \"Topic15\", \"Topic15\", \"Topic15\", \"Topic15\", \"Topic15\", \"Topic15\", \"Topic15\", \"Topic15\", \"Topic15\", \"Topic15\", \"Topic15\", \"Topic15\", \"Topic15\", \"Topic15\", \"Topic15\", \"Topic15\", \"Topic15\", \"Topic15\", \"Topic15\", \"Topic15\", \"Topic15\", \"Topic15\", \"Topic15\", \"Topic15\", \"Topic15\", \"Topic15\", \"Topic16\", \"Topic16\", \"Topic16\", \"Topic16\", \"Topic16\", \"Topic16\", \"Topic16\", \"Topic16\", \"Topic16\", \"Topic16\", \"Topic16\", \"Topic16\", \"Topic16\", \"Topic16\", \"Topic16\", \"Topic16\", \"Topic16\", \"Topic16\", \"Topic16\", \"Topic16\", \"Topic16\", \"Topic16\", \"Topic16\", \"Topic16\", \"Topic16\", \"Topic16\", \"Topic16\", \"Topic16\", \"Topic16\", \"Topic16\", \"Topic16\", \"Topic16\", \"Topic16\", \"Topic16\", \"Topic16\", \"Topic16\", \"Topic16\", \"Topic16\", \"Topic16\", \"Topic16\", \"Topic16\", \"Topic16\", \"Topic16\", \"Topic16\", \"Topic16\", \"Topic16\", \"Topic16\", \"Topic16\", \"Topic16\", \"Topic16\", \"Topic16\", \"Topic16\", \"Topic16\", \"Topic16\", \"Topic16\", \"Topic17\", \"Topic17\", \"Topic17\", \"Topic17\", \"Topic17\", \"Topic17\", \"Topic17\", \"Topic17\", \"Topic17\", \"Topic17\", \"Topic17\", \"Topic17\", \"Topic17\", \"Topic17\", \"Topic17\", \"Topic17\", \"Topic17\", \"Topic17\", \"Topic17\", \"Topic17\", \"Topic17\", \"Topic17\", \"Topic17\", \"Topic17\", \"Topic17\", \"Topic17\", \"Topic17\", \"Topic17\", \"Topic17\", \"Topic17\", \"Topic17\", \"Topic17\", \"Topic17\", \"Topic17\", \"Topic17\", \"Topic17\", \"Topic17\", \"Topic17\", \"Topic17\", \"Topic17\", \"Topic17\", \"Topic17\", \"Topic17\", \"Topic17\", \"Topic17\", \"Topic17\", \"Topic17\", \"Topic17\", \"Topic17\", \"Topic17\", \"Topic17\", \"Topic17\", \"Topic17\", \"Topic18\", \"Topic18\", \"Topic18\", \"Topic18\", \"Topic18\", \"Topic18\", \"Topic18\", \"Topic18\", \"Topic18\", \"Topic18\", \"Topic18\", \"Topic18\", \"Topic18\", \"Topic18\", \"Topic18\", \"Topic18\", \"Topic18\", \"Topic18\", \"Topic18\", \"Topic18\", \"Topic18\", \"Topic18\", \"Topic18\", \"Topic18\", \"Topic18\", \"Topic18\", \"Topic18\", \"Topic18\", \"Topic18\", \"Topic18\", \"Topic18\", \"Topic18\", \"Topic18\", \"Topic18\", \"Topic18\", \"Topic18\", \"Topic18\", \"Topic18\", \"Topic18\", \"Topic18\", \"Topic18\", \"Topic18\", \"Topic18\", \"Topic18\", \"Topic18\", \"Topic18\", \"Topic18\", \"Topic18\", \"Topic18\", \"Topic18\", \"Topic18\", \"Topic18\", \"Topic19\", \"Topic19\", \"Topic19\", \"Topic19\", \"Topic19\", \"Topic19\", \"Topic19\", \"Topic19\", \"Topic19\", \"Topic19\", \"Topic19\", \"Topic19\", \"Topic19\", \"Topic19\", \"Topic19\", \"Topic19\", \"Topic19\", \"Topic19\", \"Topic19\", \"Topic19\", \"Topic19\", \"Topic19\", \"Topic19\", \"Topic19\", \"Topic19\", \"Topic19\", \"Topic19\", \"Topic19\", \"Topic19\", \"Topic19\", \"Topic19\", \"Topic19\", \"Topic19\", \"Topic19\", \"Topic19\", \"Topic19\", \"Topic19\", \"Topic19\", \"Topic19\", \"Topic19\", \"Topic19\", \"Topic19\", \"Topic19\", \"Topic19\", \"Topic19\", \"Topic19\", \"Topic19\", \"Topic19\", \"Topic20\", \"Topic20\", \"Topic20\", \"Topic20\", \"Topic20\", \"Topic20\", \"Topic20\", \"Topic20\", \"Topic20\", \"Topic20\", \"Topic20\", \"Topic20\", \"Topic20\", \"Topic20\", \"Topic20\", \"Topic20\", \"Topic20\", \"Topic20\", \"Topic20\", \"Topic20\", \"Topic20\", \"Topic20\", \"Topic20\", \"Topic20\", \"Topic20\", \"Topic20\", \"Topic20\", \"Topic20\", \"Topic20\", \"Topic20\", \"Topic20\", \"Topic20\", \"Topic20\", \"Topic20\", \"Topic20\", \"Topic20\", \"Topic20\", \"Topic20\", \"Topic20\", \"Topic20\", \"Topic20\", \"Topic20\"], \"logprob\": [30.0, 29.0, 28.0, 27.0, 26.0, 25.0, 24.0, 23.0, 22.0, 21.0, 20.0, 19.0, 18.0, 17.0, 16.0, 15.0, 14.0, 13.0, 12.0, 11.0, 10.0, 9.0, 8.0, 7.0, 6.0, 5.0, 4.0, 3.0, 2.0, 1.0, -6.6679, -6.8655, -7.3425, -7.3622, -7.4565, -6.3903, -7.5743, -7.6293, -7.7285, -7.7564, -7.7576, -5.6939, -7.8018, -7.8328, -7.8439, -7.8487, -7.9224, -7.9558, -7.9994, -7.9302, -8.0768, -8.1173, -8.1427, -8.1454, -8.0227, -8.159, -8.1902, -8.2429, -8.2492, -8.2341, -7.0021, -7.0698, -7.7451, -6.5545, -6.0613, -6.0551, -6.8296, -6.958, -7.0806, -6.3097, -5.9935, -6.95, -6.6436, -7.5176, -5.3207, -6.3016, -6.3098, -6.7203, -6.9597, -7.107, -4.2591, -7.1541, -6.4228, -5.5073, -5.9694, -6.4532, -4.6194, -5.9329, -5.8227, -4.153, -5.7675, -5.367, -6.0657, -5.6146, -6.4912, -5.9587, -5.8094, -5.1584, -6.2338, -5.2748, -5.8173, -5.967, -5.3447, -5.2934, -5.7157, -5.6459, -5.0736, -5.5605, -5.7356, -5.2056, -5.7274, -5.4298, -5.4556, -5.7005, -5.6514, -5.6742, -5.6102, -5.781, -5.7901, -5.7534, -5.8094, -6.0412, -6.7397, -6.9317, -7.0457, -7.0986, -7.3214, -7.3666, -7.4236, -7.453, -7.4677, -7.5035, -7.5099, -7.555, -7.5823, -7.6296, -7.0477, -7.6718, -7.7762, -7.8196, -7.8532, -7.9179, -7.9237, -7.9241, -7.9373, -7.9539, -7.9564, -7.977, -7.9849, -7.9993, -8.0026, -7.3315, -6.3245, -7.4524, -6.559, -7.3158, -6.7554, -6.7617, -6.0715, -7.0656, -7.4873, -6.2173, -6.32, -5.6797, -6.7696, -5.9479, -4.7774, -5.7567, -6.3977, -6.0008, -6.6782, -5.1879, -6.8246, -7.1148, -6.7798, -6.0032, -5.8592, -4.5551, -6.0185, -5.1818, -5.3666, -6.0294, -4.9352, -6.3196, -5.5205, -4.9706, -5.1913, -4.6747, -5.2199, -6.1379, -6.0224, -5.3892, -5.4262, -5.6862, -5.1488, -5.4758, -5.7191, -5.8527, -5.9013, -5.8025, -5.8611, -5.9148, -5.7234, -5.8431, -5.8615, -5.9863, -5.0805, -5.5557, -5.6565, -5.7566, -5.9744, -6.2141, -6.3042, -6.3333, -6.3758, -5.9433, -6.4943, -6.7267, -6.7338, -6.7747, -6.821, -6.8216, -6.8449, -6.8772, -6.9033, -6.9412, -6.9791, -7.0374, -7.0461, -7.053, -7.059, -7.0979, -7.1102, -7.1709, -7.1798, -7.1826, -4.4026, -5.1291, -6.0024, -5.6625, -5.6709, -6.652, -4.7603, -5.5148, -5.722, -4.8071, -5.1286, -4.7352, -5.8844, -5.1255, -4.3466, -4.77, -5.5534, -5.3646, -4.7977, -5.4975, -4.6976, -5.1818, -5.2272, -4.8325, -5.6197, -4.9223, -5.1924, -5.0875, -5.0911, -4.8252, -5.37, -5.1898, -5.1305, -5.549, -5.1874, -5.1878, -5.3868, -5.2178, -5.4385, -5.4964, -5.3935, -5.5154, -6.2659, -6.5354, -6.5734, -6.6697, -6.716, -6.8768, -6.932, -6.8834, -7.1384, -7.1393, -7.1559, -7.1927, -7.2433, -7.2435, -7.2608, -7.2831, -7.2554, -7.3047, -7.3386, -7.4036, -7.4626, -7.5543, -7.5718, -7.6286, -7.6419, -7.643, -7.6856, -7.686, -5.3896, -6.1393, -5.739, -7.0243, -4.9096, -6.8181, -6.2631, -6.7028, -5.8177, -6.6534, -5.4964, -5.7874, -6.6525, -5.5702, -6.7473, -5.6499, -5.6349, -6.1098, -6.4647, -6.5236, -5.433, -5.9763, -5.6573, -5.8678, -6.4209, -6.4885, -4.6411, -4.3619, -6.0801, -5.8005, -5.8587, -5.5919, -5.0266, -5.1832, -5.749, -5.075, -5.4645, -5.4324, -5.2748, -4.9338, -4.7109, -5.3079, -5.086, -5.3803, -5.5008, -5.4063, -5.3771, -5.3237, -5.5546, -5.4378, -5.429, -5.5168, -5.5684, -5.6213, -5.6555, -5.9228, -6.1603, -6.4331, -6.5511, -6.6092, -6.561, -7.0415, -7.0552, -7.0625, -7.0652, -7.1925, -7.2025, -7.2169, -7.2356, -7.2441, -7.2578, -7.295, -7.2996, -7.301, -4.618, -7.3368, -7.3997, -7.4063, -7.4166, -7.424, -7.4465, -7.4027, -7.4861, -4.4808, -6.9493, -6.3744, -6.8115, -7.2588, -6.1417, -6.6442, -6.7541, -6.1174, -6.3404, -5.8286, -5.273, -5.3142, -5.4933, -6.2663, -5.9743, -6.3036, -5.3776, -5.6348, -5.8034, -5.2911, -4.9276, -5.8449, -5.6302, -4.7737, -5.6955, -4.8173, -5.9607, -5.4749, -4.9773, -5.8077, -5.9735, -5.3456, -5.656, -5.4525, -5.6402, -5.5288, -5.3847, -5.5173, -5.5976, -5.7084, -5.6397, -5.7406, -5.8073, -4.4194, -4.513, -5.2103, -4.6725, -5.4253, -5.6771, -5.7886, -5.8195, -5.9422, -5.9404, -6.2233, -6.3105, -6.3478, -6.4365, -6.4592, -6.4602, -6.5487, -6.5779, -4.9674, -6.6019, -6.6373, -6.6675, -6.6803, -6.7036, -6.7508, -6.8032, -6.8832, -6.8941, -5.377, -6.9787, -5.1799, -6.4929, -4.8954, -6.3883, -6.2189, -5.5781, -4.1584, -6.0457, -4.5703, -5.2635, -5.7286, -4.6351, -6.232, -5.5418, -5.5436, -5.6173, -5.6558, -4.3058, -4.9613, -5.708, -4.7854, -5.3532, -5.5433, -5.4102, -5.3071, -5.4767, -5.1774, -5.5308, -5.3671, -5.1134, -5.3694, -5.5327, -5.4798, -5.4983, -5.7852, -6.1039, -6.0551, -6.2613, -6.3775, -6.6294, -6.6527, -6.5363, -6.7292, -6.974, -7.0206, -7.0471, -7.0706, -7.0919, -7.1214, -7.1856, -7.2311, -7.1571, -4.4512, -7.2874, -7.3217, -7.3365, -7.3611, -7.4021, -7.4171, -7.4428, -7.4549, -7.4743, -7.482, -7.523, -6.5036, -5.397, -6.7283, -6.2146, -5.5304, -6.047, -5.0645, -4.7005, -5.0053, -4.7226, -5.214, -4.8575, -5.5142, -6.0458, -5.5476, -5.652, -6.3403, -5.9728, -6.5139, -6.3189, -5.0569, -5.1483, -5.0847, -5.5044, -6.0968, -5.8224, -5.4305, -5.5394, -5.6743, -5.4019, -5.7184, -5.5833, -5.6243, -5.1958, -5.5163, -5.1598, -5.43, -5.7359, -5.5473, -5.3766, -5.3879, -5.6032, -3.9887, -4.6854, -4.8796, -5.5078, -5.5329, -4.5522, -5.5723, -5.5739, -5.7725, -5.8826, -5.9285, -5.9666, -6.1136, -6.1763, -6.2718, -6.2814, -6.3397, -6.3606, -6.4178, -6.4349, -6.4915, -6.4925, -6.4983, -6.5857, -6.607, -6.6562, -6.6642, -6.6753, -6.6783, -6.6767, -4.7825, -4.468, -5.8311, -6.3204, -4.9518, -5.733, -5.4117, -6.3005, -5.7265, -5.9648, -5.4115, -5.569, -5.6394, -5.3746, -4.9654, -5.5914, -5.4986, -5.4467, -5.6849, -5.1897, -5.7215, -5.654, -5.6365, -5.6818, -5.7336, -5.7553, -5.3564, -5.9671, -6.5581, -6.2726, -6.5355, -6.8564, -6.874, -7.0208, -7.023, -7.0683, -7.1012, -5.7534, -7.1043, -7.1266, -7.1962, -7.1965, -7.1991, -7.2163, -7.2224, -7.223, -7.2475, -4.7414, -7.2512, -7.2942, -7.3562, -7.3596, -7.3627, -6.5962, -7.4127, -7.4304, -5.5707, -5.6864, -4.4653, -6.1735, -6.203, -6.1204, -6.3633, -6.8899, -4.2168, -6.0332, -6.1895, -4.3649, -5.2835, -5.3313, -6.4543, -6.0564, -6.5765, -5.2438, -4.1168, -5.28, -6.3211, -5.192, -5.6076, -5.139, -4.6324, -4.3392, -4.9058, -5.2239, -4.7118, -4.4153, -4.6649, -5.3375, -4.9342, -5.7087, -5.2862, -5.1983, -5.3264, -5.3605, -5.1664, -5.2131, -5.4094, -5.4196, -5.4554, -4.5621, -5.1594, -5.2335, -5.2556, -5.4772, -5.5883, -5.5908, -5.6337, -5.6893, -5.738, -5.7618, -5.9797, -5.984, -6.0347, -6.0463, -6.0624, -6.0662, -6.1218, -6.1789, -6.2086, -6.2474, -6.2481, -6.2634, -6.3142, -6.3803, -6.3836, -6.4343, -6.4349, -6.4855, -6.4944, -5.7805, -5.5444, -5.6333, -5.0427, -5.6345, -5.0379, -5.3087, -5.7804, -5.6992, -5.9332, -5.8303, -4.2972, -5.2599, -5.7215, -5.0546, -4.33, -5.0442, -5.2129, -5.3855, -4.9919, -5.574, -5.3465, -4.8425, -4.7123, -4.7627, -4.9777, -5.2838, -5.2202, -5.0574, -4.914, -5.4705, -5.4733, -5.5461, -4.4581, -4.8916, -5.0284, -5.2649, -5.3237, -5.5845, -5.8496, -5.8251, -5.9206, -5.9418, -5.9865, -6.0413, -6.0447, -6.0579, -5.8504, -6.1306, -6.1555, -6.1751, -6.2435, -6.3407, -6.344, -6.3697, -6.3876, -6.3982, -4.9449, -6.4246, -6.464, -6.4772, -6.5368, -6.5416, -5.4921, -6.156, -4.865, -4.7088, -5.6201, -5.2862, -5.2912, -5.0869, -5.8881, -6.0744, -4.5533, -5.1501, -5.9216, -5.8702, -5.0341, -4.1605, -5.8203, -5.6761, -5.2753, -5.578, -5.5301, -5.67, -5.5015, -5.0334, -5.7117, -5.4207, -5.2688, -5.7352, -5.7242, -3.5956, -4.0882, -4.4826, -4.8628, -5.1335, -5.2629, -5.3023, -5.3943, -5.5818, -5.5975, -5.653, -5.6791, -5.7615, -5.8463, -5.8665, -5.5888, -6.1726, -6.1947, -6.3278, -6.3495, -6.494, -6.4989, -6.5573, -6.6924, -6.7377, -6.7543, -6.8207, -6.8428, -6.8509, -6.9097, -4.8089, -6.1454, -3.7687, -5.8859, -4.3666, -4.8977, -6.1225, -4.4197, -5.6976, -5.9105, -4.829, -5.017, -5.3216, -5.3558, -5.054, -5.0136, -5.2769, -4.9219, -4.7971, -5.12, -5.4573, -5.3667, -5.1725, -5.4014, -5.4808, -5.3676, -5.4556, -3.5641, -4.6042, -5.6318, -4.1257, -5.7787, -5.9292, -5.9402, -6.1001, -6.1889, -6.2331, -6.3687, -6.4008, -6.4253, -6.441, -5.8451, -6.4707, -6.5101, -6.5221, -6.5349, -6.5519, -5.1904, -6.5883, -6.6006, -6.8124, -6.8292, -6.8383, -6.8884, -6.9432, -6.9604, -6.9727, -5.2489, -5.7287, -5.8765, -5.5502, -5.6068, -4.9152, -3.3167, -4.8252, -5.6702, -5.837, -4.1831, -5.1839, -4.3606, -4.5474, -4.8584, -5.7141, -4.5608, -4.5212, -5.3534, -4.9675, -5.4935, -5.2725, -5.346, -5.2193, -5.0728, -5.2404, -5.388, -5.4038, -5.517, -5.4333, -5.6309, -5.3057, -5.3135, -5.5346, -5.5855, -5.6907, -5.994, -6.0335, -6.0892, -6.1082, -6.1832, -6.2117, -6.2305, -6.2845, -6.3248, -6.4101, -6.4588, -6.5214, -6.5982, -6.6135, -6.56, -6.6491, -6.7219, -6.7435, -6.7549, -6.7592, -3.7377, -6.8023, -6.8136, -6.458, -6.8875, -6.629, -6.2097, -3.0158, -5.6355, -4.8982, -5.8294, -6.1519, -5.7156, -5.8278, -6.0425, -6.3315, -5.9559, -4.0318, -5.8014, -5.2563, -5.5459, -4.9851, -5.2487, -4.9012, -5.296, -5.6216, -5.6372, -5.7297, -5.7822, -5.643, -5.4107, -5.3256, -5.7619, -5.7106, -5.8154, -5.5803, -5.7518, -5.7716, -3.2618, -4.3343, -4.0746, -4.4911, -4.6818, -4.5974, -5.1105, -5.2055, -5.2484, -5.2506, -5.2427, -3.3902, -5.3575, -5.3779, -5.5122, -5.6554, -5.7445, -5.7509, -5.6922, -5.8659, -5.9879, -5.9934, -6.0186, -6.0875, -6.1151, -6.186, -5.2768, -6.204, -6.2048, -6.2369, -4.4389, -3.7529, -4.6894, -5.8256, -4.8928, -5.397, -4.6829, -5.1799, -5.4874, -5.4238, -5.2328, -5.457, -5.4157, -5.084, -5.3405, -4.2527, -4.674, -4.8285, -4.973, -5.4889, -5.672, -5.7201, -5.7598, -5.9512, -5.9625, -6.0854, -6.1963, -6.2044, -6.2119, -6.2914, -6.2914, -6.3254, -6.3347, -6.3609, -6.371, -6.373, -6.3734, -6.3911, -5.6965, -5.8952, -6.4588, -6.4722, -6.478, -6.4831, -6.5396, -5.9133, -4.8731, -5.3543, -4.1181, -5.0063, -4.9654, -5.7599, -4.938, -5.6098, -5.809, -5.6387, -5.8336, -5.66, -6.0926, -5.1503, -5.6646, -5.568, -5.7468, -5.5771, -4.8941, -4.9079, -5.6592, -5.76, -5.6946, -5.7834, -4.2767, -4.5849, -5.1503, -5.1718, -5.1858, -5.2409, -5.408, -5.4639, -5.5485, -5.5528, -5.5891, -5.6446, -5.6858, -5.7479, -5.7755, -5.7864, -5.8063, -5.8776, -5.8817, -5.8889, -5.8985, -5.9135, -5.9246, -5.9514, -5.9515, -5.9968, -6.0482, -6.0526, -6.058, -6.0694, -5.2005, -5.4046, -5.4667, -5.1272, -5.392, -5.2119, -5.7285, -5.2481, -5.3998, -4.6061, -5.5875, -4.7168, -4.7508, -5.1043, -5.0771, -5.0397, -5.4938, -5.1146, -5.2262, -5.2179, -5.3285, -5.3745, -5.4606, -4.1823, -4.5223, -4.6312, -4.86, -4.9209, -4.9505, -4.9942, -5.0051, -4.9687, -5.0222, -5.0941, -5.3541, -5.4451, -4.5835, -5.6222, -5.6478, -5.6776, -5.7996, -5.7999, -5.8291, -5.876, -5.9103, -5.957, -5.9832, -6.0629, -6.0844, -6.1338, -6.205, -6.2123, -6.2286, -4.6664, -5.2168, -4.0612, -5.3594, -5.432, -5.4135, -4.0162, -4.8732, -3.9806, -4.618, -4.7704, -4.4448, -4.3108, -4.9033, -5.2315, -5.2164, -4.8011, -4.6379, -5.1282, -4.6943, -5.0212, -5.0001, -4.6857, -4.9152, -5.0938, -5.1438, -5.1602, -5.2839, -5.2839, -5.2926, -5.4089, -5.4266, -5.4399, -5.5232, -5.5295, -5.6278, -5.6527, -5.6578, -5.6612, -5.7041, -5.7428, -5.7856, -5.7971, -5.8022, -5.8166, -5.86, -5.8782, -5.8836, -5.9249, -5.927, -5.9549, -5.9703, -5.1387, -5.4605, -5.6929, -5.5204, -5.6987, -5.4717, -5.0952, -5.5519, -4.725, -5.1171, -5.6293, -5.5057, -5.3114, -5.2937, -5.6279, -5.4674, -5.5154, -5.6037, -4.7716, -4.7794, -4.8933, -5.0318, -5.0663, -5.1297, -5.1389, -5.4033, -5.4211, -5.5522, -5.5611, -5.5666, -5.5818, -5.6098, -5.6383, -5.6989, -5.7331, -5.8283, -5.8494, -5.8673, -5.8889, -5.8931, -5.9596, -5.9763, -5.4559, -6.0106, -6.0173, -5.9939, -6.048, -6.0595, -5.4964, -5.7566, -4.9668, -5.6516, -5.8459, -5.6609, -5.6585, -5.4698, -5.4968, -5.6067, -5.7433, -5.7542], \"loglift\": [30.0, 29.0, 28.0, 27.0, 26.0, 25.0, 24.0, 23.0, 22.0, 21.0, 20.0, 19.0, 18.0, 17.0, 16.0, 15.0, 14.0, 13.0, 12.0, 11.0, 10.0, 9.0, 8.0, 7.0, 6.0, 5.0, 4.0, 3.0, 2.0, 1.0, 1.7388, 1.7379, 1.7346, 1.7344, 1.7336, 1.7325, 1.7321, 1.7318, 1.7305, 1.7302, 1.7302, 1.7301, 1.7293, 1.7292, 1.729, 1.729, 1.7279, 1.7274, 1.7267, 1.7267, 1.7253, 1.7246, 1.7241, 1.724, 1.724, 1.7238, 1.7232, 1.7221, 1.722, 1.7219, 1.7132, 1.7115, 1.7158, 1.688, 1.6624, 1.6333, 1.6614, 1.6609, 1.6669, 1.6069, 1.56, 1.6412, 1.6065, 1.679, 1.3919, 1.5115, 1.5067, 1.5663, 1.5964, 1.6166, 1.1185, 1.6242, 1.4865, 1.3055, 1.3955, 1.4902, 1.0697, 1.3498, 1.3067, 0.8381, 1.2803, 1.138, 1.3393, 1.1804, 1.4834, 1.2542, 1.1845, 0.878, 1.3557, 0.8147, 1.1042, 1.1742, 0.7231, 0.6801, 0.9673, 0.9061, 0.3493, 0.7654, 0.9365, 0.3481, 0.8571, 0.459, 0.4234, 0.8072, 0.57, 0.5195, 0.2963, 0.8219, 0.6332, -0.1676, 0.5789, 1.7899, 1.7874, 1.7864, 1.7857, 1.7853, 1.7834, 1.7831, 1.7826, 1.7823, 1.7821, 1.7818, 1.7817, 1.7812, 1.7809, 1.7803, 1.78, 1.7798, 1.7785, 1.7778, 1.7773, 1.7763, 1.7763, 1.7763, 1.776, 1.7758, 1.7757, 1.7754, 1.7752, 1.775, 1.7749, 1.7705, 1.7561, 1.7688, 1.7493, 1.7647, 1.7463, 1.7458, 1.7168, 1.7355, 1.7549, 1.6754, 1.6805, 1.6377, 1.6911, 1.6007, 1.4279, 1.5453, 1.6167, 1.5258, 1.6334, 1.2934, 1.6387, 1.6906, 1.5802, 1.3315, 1.2826, 0.8225, 1.3113, 1.0119, 1.0508, 1.2837, 0.776, 1.4059, 0.9447, 0.5831, 0.6877, 0.3163, 0.6689, 1.2655, 1.1466, 0.5843, 0.6065, 0.8188, 0.2741, 0.2132, 0.6068, 0.7904, 0.8913, 0.6556, 0.6704, 0.8386, -0.1375, 0.3783, 0.175, 0.4371, 2.1948, 2.194, 2.1937, 2.1931, 2.1928, 2.1919, 2.1914, 2.1913, 2.1911, 2.1909, 2.1904, 2.1889, 2.1889, 2.1885, 2.1882, 2.1881, 2.188, 2.1877, 2.1875, 2.1872, 2.1868, 2.1862, 2.1862, 2.1861, 2.186, 2.1856, 2.1855, 2.1848, 2.1847, 2.1847, 2.1839, 2.1791, 2.1829, 2.1769, 2.1729, 2.1823, 2.1589, 2.1629, 2.127, 2.0749, 2.0911, 2.0471, 2.0679, 1.9661, 1.8513, 1.8947, 2.0106, 1.958, 1.797, 1.9368, 1.7603, 1.8196, 1.7629, 1.5845, 1.8778, 1.4293, 1.4425, 1.3202, 1.3174, 0.7606, 1.4928, 1.152, 0.9955, 1.7616, 0.3662, 0.235, 0.9448, -0.2268, 0.8597, 1.3618, 2.4918, 2.4915, 2.4882, 2.4863, 2.486, 2.4851, 2.4847, 2.483, 2.4824, 2.4811, 2.4796, 2.4796, 2.4793, 2.4788, 2.478, 2.478, 2.4777, 2.4773, 2.4772, 2.4769, 2.4763, 2.4751, 2.474, 2.472, 2.4716, 2.4703, 2.47, 2.47, 2.4689, 2.4689, 2.4672, 2.455, 2.4423, 2.4615, 2.3874, 2.4413, 2.4136, 2.4219, 2.3254, 2.4075, 2.2784, 2.3078, 2.3985, 2.2483, 2.407, 2.2411, 2.1798, 2.267, 2.3355, 2.3396, 2.0481, 2.176, 2.0619, 2.0465, 2.2694, 2.3005, 1.2654, 1.0609, 2.0653, 1.8551, 1.861, 1.5945, 1.1169, 1.1484, 1.6592, 0.9929, 1.3743, 1.2977, 1.067, 0.6198, 0.2801, 0.9799, 0.4998, 0.9179, 1.094, 0.8151, 0.7124, 0.3875, 1.1988, 0.4511, 0.26, 0.9065, 0.849, 2.5623, 2.5622, 2.5611, 2.5595, 2.5579, 2.557, 2.5564, 2.5561, 2.5513, 2.5511, 2.551, 2.551, 2.549, 2.5488, 2.5486, 2.5483, 2.5481, 2.5479, 2.5472, 2.5471, 2.5471, 2.5466, 2.5464, 2.5451, 2.545, 2.5448, 2.5446, 2.5442, 2.5435, 2.5433, 2.4978, 2.5234, 2.4838, 2.5086, 2.5349, 2.462, 2.4931, 2.4972, 2.4411, 2.4423, 2.3373, 2.2439, 2.2387, 2.2488, 2.3833, 2.3021, 2.3354, 2.0823, 2.1437, 2.1876, 2.0138, 1.8786, 2.1431, 2.0674, 1.7415, 2.0382, 1.5343, 2.1487, 1.7638, 1.2206, 1.8957, 2.0602, 1.1621, 1.5535, 1.2199, 1.5202, 1.1831, 0.3265, 0.6263, 0.8109, 0.9595, 0.3929, 0.9346, 1.3449, 2.8131, 2.8129, 2.8114, 2.8112, 2.8107, 2.8096, 2.8091, 2.8089, 2.8082, 2.8081, 2.8062, 2.8054, 2.8051, 2.8042, 2.804, 2.804, 2.803, 2.8027, 2.8024, 2.8024, 2.802, 2.8016, 2.8015, 2.8011, 2.8005, 2.7998, 2.7986, 2.7984, 2.7971, 2.797, 2.7828, 2.7959, 2.7474, 2.7864, 2.7783, 2.7313, 2.5921, 2.7478, 2.6116, 2.6768, 2.6884, 2.4421, 2.7406, 2.5866, 2.5198, 2.4487, 2.4571, 1.8202, 2.0627, 2.4443, 1.8036, 2.1704, 2.2856, 2.1595, 1.7672, 2.0192, 0.9662, 1.9652, 1.271, -0.1223, 0.9289, 1.766, 0.9286, 0.3807, 2.8349, 2.8328, 2.8326, 2.8316, 2.8305, 2.8277, 2.8274, 2.8267, 2.8264, 2.8226, 2.8217, 2.8212, 2.8208, 2.8202, 2.8191, 2.8184, 2.8174, 2.8171, 2.8162, 2.8161, 2.8153, 2.8149, 2.8143, 2.8132, 2.8127, 2.8121, 2.8117, 2.8112, 2.811, 2.8098, 2.8054, 2.7926, 2.8056, 2.7563, 2.7062, 2.7303, 2.6565, 2.6277, 2.6201, 2.5871, 2.5892, 2.5338, 2.6087, 2.6726, 2.5989, 2.607, 2.7031, 2.6311, 2.7197, 2.6776, 2.2689, 2.2951, 2.2716, 2.3974, 2.5726, 2.4324, 2.2012, 2.2519, 2.3273, 2.1394, 2.3119, 2.1767, 2.1701, 1.7162, 2.006, 1.2479, 1.4701, 2.0899, 1.6306, 1.033, 0.9637, 0.862, 2.9117, 2.9107, 2.9103, 2.9082, 2.9081, 2.9081, 2.9079, 2.9079, 2.9069, 2.9062, 2.9059, 2.9056, 2.9045, 2.904, 2.9032, 2.9031, 2.9025, 2.9023, 2.9017, 2.9015, 2.9008, 2.9008, 2.9008, 2.8997, 2.8992, 2.8987, 2.8986, 2.8985, 2.8984, 2.8984, 2.8897, 2.88, 2.883, 2.8902, 2.8392, 2.8638, 2.8176, 2.8616, 2.6497, 2.6774, 2.4336, 2.4269, 2.3193, 2.0863, 1.5396, 2.1354, 1.7752, 1.5826, 1.9666, 0.3962, 1.071, 0.0572, -0.6455, -0.1281, 0.24, 0.2812, 3.1074, 3.1035, 3.0966, 3.0939, 3.0937, 3.0913, 3.0909, 3.0876, 3.0875, 3.0864, 3.0856, 3.0855, 3.0855, 3.0849, 3.083, 3.0829, 3.0829, 3.0824, 3.0822, 3.0821, 3.0814, 3.0814, 3.0813, 3.08, 3.078, 3.0779, 3.0778, 3.0777, 3.076, 3.0754, 3.0577, 3.0572, 2.9325, 3.0204, 3.0211, 3.0018, 3.0092, 3.054, 2.7993, 2.973, 2.9746, 2.7457, 2.8497, 2.8263, 2.9651, 2.8425, 2.9645, 2.6267, 2.2927, 2.5981, 2.8888, 2.4873, 2.5392, 2.1912, 1.8991, 1.5673, 1.7411, 1.6149, 0.9772, 0.5758, 0.7579, 1.624, 0.9547, 2.0656, 1.1312, 0.8696, 1.1388, 1.0976, 0.5448, 0.6659, 0.6233, 0.1663, 0.5181, 3.6837, 3.6807, 3.6801, 3.68, 3.6781, 3.677, 3.677, 3.6765, 3.6759, 3.6754, 3.6751, 3.6721, 3.672, 3.6712, 3.671, 3.6707, 3.6707, 3.6697, 3.6687, 3.6681, 3.6674, 3.6674, 3.667, 3.666, 3.6645, 3.6645, 3.6633, 3.6633, 3.662, 3.6618, 3.6496, 3.6375, 3.6192, 3.5766, 3.5994, 3.541, 3.5393, 3.5945, 3.5668, 3.6041, 3.5804, 3.2019, 3.4266, 3.5421, 3.2929, 3.0002, 3.2717, 3.3328, 3.3942, 3.2019, 3.4493, 3.2996, 2.8367, 2.3038, 1.9674, 2.1329, 2.5867, 2.3993, 1.7863, 1.1186, 3.0094, 2.3329, 2.9833, 3.7235, 3.7216, 3.7208, 3.719, 3.7187, 3.7163, 3.713, 3.7129, 3.712, 3.7117, 3.711, 3.7101, 3.71, 3.7098, 3.7097, 3.7085, 3.7081, 3.7077, 3.7063, 3.7042, 3.7042, 3.7036, 3.7032, 3.7029, 3.7025, 3.7023, 3.7013, 3.701, 3.6994, 3.6992, 3.6976, 3.6957, 3.6636, 3.6314, 3.6673, 3.5841, 3.5815, 3.5131, 3.6317, 3.66, 3.2282, 3.3737, 3.6037, 3.5605, 3.0603, 2.4475, 3.4872, 3.3026, 2.755, 3.1038, 2.9509, 3.1598, 2.7468, 1.0926, 2.9077, 1.5562, 0.7638, 2.7604, 1.006, 3.7981, 3.7971, 3.7958, 3.7939, 3.7922, 3.7912, 3.7909, 3.79, 3.7881, 3.7879, 3.7872, 3.7869, 3.7858, 3.7846, 3.7843, 3.7824, 3.7788, 3.7781, 3.7753, 3.7748, 3.771, 3.7708, 3.7691, 3.7648, 3.7632, 3.7626, 3.7601, 3.7592, 3.7589, 3.7565, 3.7517, 3.7428, 3.6221, 3.713, 3.6039, 3.6236, 3.7098, 3.4453, 3.5842, 3.6272, 3.3436, 3.3827, 3.3854, 3.3961, 3.2231, 3.1817, 3.2258, 2.9753, 2.103, 2.5062, 2.8936, 2.3191, 1.517, 2.3711, 2.5862, 1.2705, 2.068, 3.9441, 3.9402, 3.932, 3.931, 3.9298, 3.9272, 3.927, 3.9238, 3.9217, 3.9207, 3.9171, 3.9161, 3.9154, 3.9149, 3.9144, 3.914, 3.9127, 3.9124, 3.9119, 3.9114, 3.9105, 3.9101, 3.9097, 3.9013, 3.9005, 3.9002, 3.8979, 3.8952, 3.8944, 3.8938, 3.8474, 3.8498, 3.833, 3.7861, 3.7895, 3.7137, 3.5274, 3.6635, 3.7624, 3.7764, 3.3251, 3.5389, 3.2654, 3.307, 3.2289, 3.4985, 2.5812, 2.3908, 3.0622, 2.6681, 3.1183, 2.7349, 2.8276, 2.2783, 1.6024, 1.7411, 2.165, 2.1602, 2.456, 1.8893, 3.1401, 3.9511, 3.951, 3.9485, 3.9478, 3.9463, 3.9408, 3.9402, 3.9389, 3.9385, 3.9368, 3.9361, 3.9356, 3.9342, 3.9331, 3.9306, 3.929, 3.927, 3.9243, 3.9237, 3.923, 3.9224, 3.9195, 3.9185, 3.9181, 3.9179, 3.9169, 3.9161, 3.9155, 3.9152, 3.9121, 3.8988, 3.8705, 3.5922, 3.7655, 3.6421, 3.7782, 3.8251, 3.7113, 3.7261, 3.7737, 3.8382, 3.6609, 2.5572, 3.4588, 3.0166, 3.1205, 2.5562, 2.499, 1.5567, 2.1474, 2.553, 2.5154, 2.7442, 2.8372, 2.3923, 1.5794, 1.0821, 2.6959, 2.2412, 2.7816, 0.0056, 1.8179, 1.7714, 4.0316, 4.0289, 4.0286, 4.0282, 4.0272, 4.027, 4.024, 4.0231, 4.0226, 4.0226, 4.0221, 4.022, 4.0214, 4.0212, 4.0195, 4.0174, 4.0159, 4.0158, 4.0155, 4.0137, 4.0112, 4.0111, 4.0103, 4.0089, 4.0083, 4.0065, 4.0064, 4.006, 4.0059, 4.0051, 3.9627, 3.9034, 3.7562, 3.9281, 3.5739, 3.6557, 3.2317, 3.2894, 3.4811, 2.9599, 2.3741, 2.6891, 2.496, 0.2935, 1.2976, 4.2261, 4.2241, 4.2229, 4.2216, 4.2151, 4.2118, 4.2109, 4.2101, 4.2056, 4.2053, 4.202, 4.1986, 4.1983, 4.1981, 4.1954, 4.1954, 4.1941, 4.1936, 4.1928, 4.1924, 4.1923, 4.1923, 4.1916, 4.1915, 4.1897, 4.1889, 4.1884, 4.1881, 4.1879, 4.1854, 4.1475, 4.0219, 4.0529, 3.8499, 3.9286, 3.8793, 4.0507, 3.8109, 3.9387, 3.9993, 3.8602, 3.8983, 3.773, 4.0495, 3.259, 3.6884, 3.4765, 3.6621, 3.4265, 2.3154, 1.8222, 2.8916, 3.3099, 1.3397, 1.9277, 4.5154, 4.5139, 4.5084, 4.5081, 4.5079, 4.507, 4.5039, 4.5027, 4.5009, 4.5008, 4.4999, 4.4986, 4.4965, 4.4958, 4.495, 4.4947, 4.4942, 4.492, 4.4918, 4.4916, 4.4913, 4.4908, 4.4905, 4.4896, 4.4896, 4.488, 4.4861, 4.4859, 4.4857, 4.4853, 4.4531, 4.4391, 4.4024, 4.2732, 4.3334, 4.2651, 4.4103, 4.2307, 4.2654, 3.6308, 4.2683, 3.217, 3.1273, 3.4251, 3.1644, 2.9906, 3.8861, 2.3464, 2.5481, 2.1119, 2.5601, 1.7361, 1.9373, 4.5821, 4.5795, 4.5785, 4.576, 4.5752, 4.5748, 4.5742, 4.574, 4.5739, 4.5738, 4.572, 4.5681, 4.5661, 4.5657, 4.5619, 4.5612, 4.5604, 4.5568, 4.5568, 4.5558, 4.5543, 4.5531, 4.5515, 4.5505, 4.5474, 4.5466, 4.5445, 4.5413, 4.5409, 4.5402, 4.5032, 4.5185, 4.4681, 4.4853, 4.4792, 4.4679, 4.2826, 4.3622, 4.0669, 4.1899, 4.2156, 4.0509, 3.7992, 4.0324, 4.225, 4.07, 3.5196, 3.277, 3.9027, 2.9311, 2.8297, 2.5972, 5.2885, 5.283, 5.2777, 5.2761, 5.2755, 5.271, 5.271, 5.2707, 5.2659, 5.2652, 5.2646, 5.2607, 5.2604, 5.2554, 5.2541, 5.2538, 5.2536, 5.2512, 5.2489, 5.2463, 5.2456, 5.2453, 5.2444, 5.2416, 5.2403, 5.24, 5.2371, 5.237, 5.235, 5.2339, 5.181, 5.1781, 5.2013, 5.0943, 5.1557, 5.0351, 4.7836, 5.0542, 4.4505, 4.4849, 5.0398, 4.8075, 4.2087, 4.0658, 4.8299, 3.3447, 2.378, 3.9089, 5.8933, 5.893, 5.8877, 5.8806, 5.8786, 5.8748, 5.8743, 5.856, 5.8546, 5.8435, 5.8427, 5.8422, 5.8408, 5.8369, 5.8354, 5.8294, 5.8258, 5.8153, 5.8129, 5.8108, 5.8082, 5.8077, 5.7993, 5.7972, 5.7939, 5.7926, 5.7917, 5.791, 5.7875, 5.7859, 5.6114, 5.6537, 4.8552, 5.2631, 5.3659, 4.7508, 4.7331, 3.8836, 3.7243, 4.1834, 4.8137, 4.38]}, \"token.table\": {\"Topic\": [1, 8, 6, 1, 2, 3, 4, 5, 6, 7, 14, 2, 18, 1, 2, 8, 12, 13, 3, 1, 2, 3, 4, 5, 6, 7, 8, 11, 13, 14, 16, 16, 2, 6, 7, 12, 5, 13, 14, 16, 15, 2, 18, 1, 2, 6, 8, 9, 1, 7, 18, 5, 6, 1, 5, 17, 1, 2, 3, 4, 5, 6, 7, 8, 9, 11, 12, 14, 15, 16, 18, 16, 20, 1, 2, 13, 1, 2, 6, 7, 8, 9, 12, 17, 14, 1, 2, 3, 5, 7, 8, 9, 12, 15, 18, 16, 1, 16, 15, 3, 13, 3, 5, 13, 14, 11, 20, 1, 2, 12, 18, 1, 2, 3, 4, 6, 8, 9, 16, 9, 2, 3, 4, 6, 3, 4, 5, 13, 2, 6, 7, 10, 11, 12, 15, 17, 12, 12, 4, 3, 5, 13, 14, 15, 15, 1, 2, 1, 5, 8, 9, 13, 1, 5, 8, 14, 15, 15, 2, 15, 2, 15, 2, 12, 14, 15, 18, 1, 2, 3, 4, 5, 6, 8, 9, 10, 11, 19, 2, 15, 1, 2, 3, 4, 8, 2, 1, 14, 11, 14, 14, 5, 1, 8, 1, 8, 11, 11, 15, 3, 4, 16, 12, 13, 1, 3, 5, 8, 3, 4, 5, 6, 7, 9, 13, 14, 7, 1, 2, 4, 5, 6, 7, 9, 17, 14, 11, 15, 2, 15, 15, 1, 2, 3, 4, 5, 6, 8, 9, 10, 11, 16, 2, 16, 20, 3, 9, 17, 14, 20, 6, 9, 18, 9, 1, 2, 3, 4, 5, 6, 7, 8, 9, 11, 12, 14, 16, 2, 4, 16, 20, 19, 1, 1, 8, 1, 2, 3, 4, 5, 6, 8, 9, 1, 2, 3, 4, 5, 6, 8, 9, 10, 20, 1, 2, 3, 4, 5, 6, 8, 9, 1, 8, 8, 14, 4, 4, 3, 13, 6, 3, 4, 5, 6, 1, 2, 3, 4, 5, 7, 9, 11, 12, 13, 16, 19, 2, 19, 1, 2, 8, 15, 18, 10, 2, 3, 4, 6, 7, 16, 19, 1, 2, 3, 4, 5, 8, 10, 14, 16, 18, 9, 2, 6, 12, 17, 15, 7, 10, 15, 17, 2, 4, 6, 14, 1, 2, 5, 9, 18, 4, 9, 19, 13, 7, 12, 15, 16, 19, 1, 2, 8, 15, 17, 4, 8, 10, 2, 3, 4, 5, 6, 8, 9, 11, 12, 2, 8, 4, 6, 13, 4, 2, 4, 3, 5, 6, 3, 5, 4, 6, 11, 16, 3, 6, 18, 10, 4, 5, 7, 13, 17, 1, 2, 3, 4, 5, 6, 7, 8, 9, 12, 13, 14, 1, 2, 3, 4, 6, 8, 9, 10, 16, 17, 17, 18, 6, 12, 15, 16, 17, 3, 4, 6, 11, 19, 3, 4, 6, 12, 19, 2, 8, 9, 10, 2, 4, 10, 1, 2, 3, 4, 5, 6, 9, 13, 16, 19, 17, 8, 1, 2, 3, 4, 5, 6, 8, 13, 16, 18, 14, 5, 2, 7, 9, 10, 11, 12, 14, 17, 7, 18, 1, 2, 5, 8, 9, 18, 10, 18, 2, 3, 4, 5, 6, 9, 16, 7, 10, 17, 1, 2, 7, 8, 13, 15, 5, 6, 4, 6, 19, 8, 1, 8, 10, 1, 8, 1, 8, 8, 19, 18, 16, 5, 9, 1, 2, 5, 8, 9, 6, 12, 7, 11, 17, 5, 3, 7, 18, 6, 16, 6, 11, 11, 1, 3, 5, 6, 13, 14, 16, 3, 5, 6, 1, 2, 3, 7, 10, 14, 16, 19, 5, 13, 14, 1, 2, 3, 4, 5, 6, 8, 9, 11, 3, 5, 6, 7, 9, 11, 14, 3, 6, 7, 3, 3, 4, 5, 6, 7, 13, 14, 16, 1, 2, 8, 1, 2, 4, 16, 11, 3, 7, 10, 17, 1, 2, 6, 7, 3, 6, 16, 1, 2, 3, 6, 8, 13, 15, 16, 1, 1, 4, 5, 7, 3, 6, 15, 17, 1, 3, 5, 6, 7, 11, 17, 3, 7, 11, 13, 16, 19, 1, 2, 3, 4, 5, 6, 8, 9, 11, 12, 7, 1, 7, 12, 1, 2, 5, 7, 12, 7, 9, 13, 1, 2, 4, 6, 7, 11, 15, 13, 1, 2, 6, 13, 19, 5, 6, 5, 11, 10, 5, 1, 2, 3, 4, 5, 6, 7, 8, 9, 16, 3, 13, 3, 5, 6, 7, 11, 13, 14, 1, 2, 3, 4, 5, 6, 7, 8, 9, 11, 14, 2, 2, 4, 20, 1, 6, 10, 9, 1, 3, 5, 6, 1, 5, 13, 4, 7, 8, 11, 15, 16, 2, 3, 6, 7, 12, 7, 13, 11, 4, 11, 10, 17, 3, 4, 5, 6, 13, 5, 6, 13, 14, 10, 16, 19, 13, 1, 13, 19, 7, 18, 14, 5, 3, 6, 1, 2, 6, 9, 4, 7, 1, 3, 5, 6, 7, 8, 14, 16, 1, 7, 18, 1, 18, 3, 6, 3, 5, 13, 1, 8, 7, 9, 10, 13, 15, 17, 2, 18, 1, 2, 7, 18, 8, 17, 17, 18, 18, 8, 19, 13, 2, 4, 6, 4, 6, 19, 13, 20, 20, 1, 8, 11, 14, 1, 16, 9, 7, 10, 1, 5, 7, 6, 14, 16, 20, 16, 3, 4, 7, 11, 14, 6, 13, 6, 13, 2, 5, 7, 8, 11, 4, 7, 11, 3, 17, 3, 5, 10, 19, 20, 18, 6, 10, 8, 13, 6, 1, 12, 15, 1, 2, 3, 7, 9, 12, 15, 1, 2, 3, 4, 5, 6, 8, 9, 16, 1, 2, 5, 7, 8, 13, 14, 1, 2, 5, 8, 12, 13, 14, 15, 1, 2, 8, 1, 3, 4, 7, 9, 10, 14, 16, 2, 7, 11, 1, 8, 1, 3, 5, 6, 20, 2, 1, 2, 3, 4, 5, 6, 8, 9, 12, 1, 8, 1, 9, 10, 2, 3, 4, 5, 6, 8, 9, 2, 8, 20, 12, 7, 17, 1, 2, 3, 5, 6, 13, 15, 7, 3, 6, 12, 15, 20, 9, 17, 14, 2, 8, 16, 2, 13, 16, 1, 2, 3, 4, 5, 6, 7, 8, 9, 10, 11, 12, 13, 15, 16, 17, 1, 2, 7, 10, 17, 2, 11, 14, 2, 7, 6, 2, 6, 10, 14, 15, 16, 10, 3, 3, 1, 2, 18, 18, 9, 2, 4, 3, 7, 3, 14, 4, 9, 9, 1, 10, 1, 2, 12, 14, 1, 3, 5, 6, 8, 13, 7, 4, 9, 11, 9, 10, 17, 9, 10, 17, 14, 12, 4, 20, 1, 2, 3, 4, 5, 6, 7, 8, 11, 13, 14, 15, 15, 2, 12, 14, 7, 12, 15, 18, 17, 11, 19, 13, 19, 14, 10, 1, 2, 3, 5, 6, 7, 8, 9, 15, 1, 2, 5, 7, 10, 10, 1, 5, 7, 10, 9, 1, 2, 3, 4, 5, 6, 8, 9, 1, 2, 3, 4, 5, 6, 8, 9, 11, 18, 8, 1, 2, 6, 7, 12, 15, 3, 4, 14, 11, 11, 1, 2, 3, 4, 8, 9, 10, 14, 12, 8, 12, 1, 12, 1, 2, 4, 11, 16, 16, 1, 14, 5, 2, 17, 14, 16, 13, 2, 4, 5, 6, 1, 2, 8, 9, 15, 1, 2, 3, 4, 6, 8, 9, 3, 4, 5, 6, 11, 16, 10, 5, 17, 18, 2, 7, 18, 2, 4, 11, 16, 8, 1, 2, 4, 8, 9, 1, 2, 3, 4, 5, 6, 8, 9, 12, 14, 18, 14, 15, 7, 1, 2, 3, 4, 5, 6, 7, 9, 10, 11, 16, 1, 2, 5, 7, 8, 9, 12, 15, 9, 9, 10, 17, 1, 3, 4, 5, 9, 11, 16, 1, 12, 8, 2, 3, 4, 6, 7, 9, 17, 15, 17, 2, 4, 7, 7, 10, 19, 20, 1, 2, 3, 4, 5, 6, 7, 8, 9, 12, 13, 15, 11, 1, 2, 5, 7, 8, 12, 14, 15, 1, 5, 20, 17, 6, 20, 1, 2, 3, 5, 8, 11, 14, 3, 6, 8, 11, 14, 20, 1, 18, 1, 17, 17, 2, 18, 1, 18, 3, 4, 5, 6, 14, 1, 2, 3, 5, 6, 7, 8, 12, 13, 14, 16, 14, 19, 15, 14, 17, 17, 3, 4, 5, 12, 7, 13, 14, 4, 16, 18, 18, 5, 19, 3, 5, 6, 7, 13, 16, 19, 7, 14, 1, 2, 7, 8, 12, 10, 17, 12, 12, 12, 15, 12, 14, 10, 19, 7, 10, 8, 10, 17, 1, 8, 12, 1, 8, 12, 1, 2, 7, 1, 2, 3, 6, 7, 8, 10, 14, 16, 17, 3, 5, 1, 8, 6, 6, 2, 3, 7, 9, 14, 16, 11, 1, 15, 2, 19, 9, 13, 3, 6, 19, 5, 20, 2, 5, 6, 13, 5, 8, 10, 7, 20, 19, 9, 2, 1, 2, 3, 4, 5, 6, 8, 9, 1, 2, 15, 15, 20, 1, 2, 4, 11, 12, 15, 1, 2, 3, 4, 5, 6, 7, 8, 9, 10, 11, 15, 17, 11, 11, 12, 11, 1, 2, 12, 13, 4, 10, 17, 7, 9, 10, 12, 17, 17, 7, 20, 12, 12, 1, 2, 4, 5, 6, 8, 9, 10, 11, 7, 10, 19, 1, 1, 2, 3, 2, 3, 4, 5, 13, 14, 1, 2, 4, 8, 11, 14, 2, 4, 11, 20, 1, 2, 3, 4, 5, 6, 8, 9, 2, 10, 1, 2, 3, 4, 5, 6, 8, 9, 10, 14, 15, 1, 2, 3, 4, 5, 6, 9, 10, 15, 9, 1, 2, 3, 4, 5, 7, 8, 9, 10, 11, 13, 14, 15, 16, 17, 3, 14, 16, 2, 3, 4, 13, 1, 2, 3, 4, 5, 6, 7, 8, 9, 11, 16, 1, 2, 3, 4, 5, 8, 9, 9, 8, 17, 1, 2, 3, 4, 5, 6, 8, 9, 17, 4, 10, 14, 17, 1, 2, 3, 4, 8, 9, 14, 8, 11, 18, 2, 3, 6, 20, 14, 3, 4, 5, 6, 7, 8, 10, 13, 14, 16, 17, 1, 2, 3, 4, 5, 6, 9, 14, 16, 9, 1, 2, 3, 4, 5, 6, 7, 8, 9, 2, 3, 4, 9, 10, 13, 17, 19, 1, 2, 3, 4, 5, 6, 7, 8, 9, 12, 14, 16, 2, 1, 2, 3, 4, 5, 7, 8, 9, 10, 11, 13, 14, 20, 11, 14, 4, 5, 13, 14, 1, 2, 4, 5, 6, 7, 8, 11, 7, 2, 15, 15, 1, 2, 3, 5, 6, 7, 8, 11, 14, 8, 2, 20, 1, 2, 3, 4, 5, 6, 8, 9, 11, 11, 2, 7, 18, 1, 2, 7, 18, 2, 7, 8, 3, 11, 1, 6, 8, 2, 4, 11, 16, 11, 10, 19, 3, 1, 2, 3, 4, 5, 6, 8, 9, 11, 16, 9, 5, 2, 4, 12, 15, 2, 11, 12, 13, 2, 2, 5, 6, 7, 9, 11, 15, 11, 19, 19, 7, 8, 11, 14, 3, 6, 20, 17, 3, 4, 6, 3, 4, 6, 10, 17, 8, 11, 9, 1, 8, 1, 8, 7, 9, 6, 3, 13, 2, 7, 20, 4, 20, 3, 1, 2, 3, 4, 5, 6, 8, 9, 11, 16, 18, 1, 3, 10, 2, 3, 4, 8, 16, 1, 12, 15, 1, 2, 12, 15, 1, 2, 3, 4, 5, 6, 7, 8, 9, 14, 16, 17, 15, 1, 2, 3, 4, 5, 7, 8, 9, 10, 12, 13, 14, 16, 17, 11, 14, 1, 2, 6, 7, 11, 12, 14, 17, 12, 7, 12, 12, 13, 16, 1, 2, 3, 4, 5, 6, 8, 9, 16, 18, 2, 1, 10, 16, 1, 2, 3, 4, 5, 6, 8, 9, 7, 16, 6, 16, 7, 19, 13, 6, 5, 13, 14, 1, 2, 3, 4, 5, 6, 7, 8, 9, 12, 15, 17, 1, 16, 1, 11, 5, 12, 12, 20, 2, 17, 1, 2, 3, 4, 6, 8, 14, 1, 2, 3, 6, 7, 14, 19, 4, 5, 6, 7, 17, 7, 1, 2, 3, 4, 5, 6, 7, 8, 9, 13, 3, 1, 2, 3, 4, 5, 9, 1, 11, 14, 8, 5, 10, 17, 10, 15, 7, 9, 6, 17, 3, 4, 5, 7, 11, 14, 1, 6, 20, 9, 1, 2, 18, 2, 4, 14, 12, 12, 12, 3, 5, 6, 7, 16, 1, 2, 3, 4, 5, 6, 7, 8, 9, 12, 13, 14, 4, 19, 14, 8, 3, 3, 7, 18, 1, 3, 7, 8, 9, 10, 14, 15, 16, 11, 1, 2, 8, 12, 7, 10, 17, 1, 2, 3, 4, 5, 6, 7, 8, 15, 1, 2, 3, 4, 5, 6, 9, 13, 1, 2, 3, 5, 7, 10, 11, 12, 15, 1, 2, 3, 5, 6, 8, 13, 1, 3, 6, 7, 10, 17, 19, 7, 10, 17, 19, 6, 18, 2, 3, 4, 5, 9, 10, 17, 5, 16, 6, 17, 17, 17, 15, 17, 9, 7, 18, 7, 10, 17, 5, 13, 11, 14, 4, 1, 3, 6, 9, 10, 4, 9, 10, 17, 9, 10, 2, 9, 10, 1, 2, 3, 4, 6, 7, 8, 9, 14, 15, 19, 20, 1, 2, 3, 4, 5, 6, 8, 9, 10, 15, 6, 16, 14, 2, 12, 1, 2, 7, 12, 15, 5, 8, 1, 2, 7, 12, 15, 13, 14, 3, 6, 12, 12, 6, 3, 10, 1, 2, 4, 5, 6, 8, 9, 10, 11, 12, 15, 16, 20, 20, 2, 7, 8, 2, 5, 6, 7, 8, 12, 13, 14, 15, 7, 1, 2, 3, 4, 6, 10, 11, 12, 15, 4, 7, 11, 1, 11, 5, 9, 6, 13, 1, 2, 6, 7, 13, 9, 1, 2, 3, 4, 5, 6, 8, 12, 18, 1, 16, 18, 5, 5, 6, 20, 1, 2, 7, 8, 14, 3, 5, 7, 11, 13, 14, 3, 12, 19, 8, 11, 14, 18, 17, 7, 1, 2, 3, 5, 6, 7, 12, 13, 14, 5, 7, 10, 7, 10, 19, 1, 2, 3, 4, 5, 6, 8, 9, 13, 16, 11, 6, 11, 5, 6, 16, 20, 1, 2, 3, 4, 5, 6, 8, 9, 11, 13, 16, 9, 1, 2, 3, 4, 5, 6, 8, 9, 10, 1, 2, 3, 4, 5, 6, 8, 9, 2, 4, 1, 2, 3, 4, 5, 6, 8, 9, 10, 1, 10, 3, 5, 11, 5, 14, 19, 2, 11, 12, 15, 13, 4, 20, 1, 5, 5, 4, 2, 3, 5, 6, 7, 12, 14, 1, 3, 5, 6, 7, 14, 2, 3, 5, 6, 13, 14, 1, 5, 7, 11, 12, 14, 3, 13, 14, 8, 14, 2, 3, 5, 8, 9, 10, 11, 12, 13, 14, 15, 8, 7, 1, 2, 3, 4, 5, 6, 8, 9, 10, 12, 13, 16, 1, 2, 5, 6, 12, 19, 6, 13, 19, 4, 13, 2, 8, 2, 11, 12, 11, 12, 2, 9, 9, 10, 1, 2, 3, 8, 9, 13, 15, 3, 12, 1, 5, 2, 3, 4, 5, 6, 9, 14, 17, 2, 7, 9, 12, 15, 9, 10, 10, 20, 1, 2, 4, 6, 7, 8, 9, 12, 15, 4, 7, 13, 8, 9, 10, 19, 8, 19, 7, 11, 14, 11, 1, 2, 3, 4, 6, 8, 9, 2, 7, 18, 1, 5, 7, 11, 14, 1, 2, 5, 16, 19, 10, 9, 15, 19, 3, 4, 5, 6, 15, 8, 6, 15, 20, 1, 2, 3, 5, 6, 8, 12, 14, 15, 9, 10, 17, 7, 17, 1, 2, 3, 4, 5, 6, 8, 9, 10, 11, 17, 2, 7, 3, 5, 13, 15, 1, 1, 5, 6, 8, 12, 1, 2, 5, 6, 7, 12, 13, 19, 1, 2, 3, 4, 5, 6, 8, 9, 16, 13, 16, 16, 5, 13, 1, 2, 4, 6, 9, 10, 13, 2, 4, 13, 12, 12, 5, 10, 17, 1, 2, 3, 4, 5, 6, 7, 8, 10, 11, 12, 14, 1, 2, 4, 5, 6, 8, 5, 6, 11, 5, 1, 15, 3, 6, 13, 3, 4, 5, 6, 9, 10, 11, 12, 14, 17, 19, 3, 1, 2, 3, 4, 5, 6, 7, 8, 13, 14, 16, 20, 20, 18, 3, 10, 5, 6, 8, 12, 13, 15, 2, 3, 5, 9, 19, 20, 4, 2, 11, 14, 3, 14, 4, 4, 1, 2, 3, 4, 5, 6, 7, 8, 9, 10, 11, 12, 16, 18, 8, 2, 2, 3, 4, 5, 6, 9, 11, 18, 6, 20, 6, 20, 16, 5, 1, 2, 7, 11, 14, 16, 10, 10, 3, 5, 6, 7, 14, 11, 14, 1, 2, 3, 4, 5, 6, 8, 9, 3, 4, 2, 3, 6, 7, 8, 9, 11, 18, 1, 2, 3, 4, 6, 8, 9, 1, 3, 5, 7, 8, 13, 14, 15, 2, 4, 7, 12, 2, 11, 15, 3, 4, 5, 6, 11, 14, 11, 3, 2, 4, 6, 9, 11, 8, 7, 2, 7, 17, 4, 9, 14, 1, 2, 11, 1, 3, 4, 5, 6, 8, 2, 8, 10, 17, 2, 3, 5, 9, 10, 1, 2, 4, 5, 6, 7, 12, 13, 1, 2, 6, 8, 13, 1, 8, 1, 2, 5, 6, 7, 8, 12, 2, 4, 6, 7, 11, 14, 17, 16, 4, 4, 4, 10, 5, 1, 2, 3, 4, 5, 6, 8, 9, 11, 16, 2, 2, 5, 10, 19, 5, 5, 13, 2, 7, 8, 1, 2, 3, 4, 5, 6, 9, 16, 1, 2, 3, 5, 6, 7, 8, 9, 12, 13, 14, 16, 1, 2, 3, 2, 4, 5, 6, 15, 16, 1, 3, 7, 9, 11, 14, 2, 18, 16, 19, 10, 11, 19, 4, 18, 18, 12, 18, 1, 2, 3, 4, 5, 6, 7, 11, 13, 14, 1, 2, 3, 4, 5, 6, 8, 9, 10, 2, 9, 10, 2, 14, 7, 9, 10, 11, 17, 7, 9, 10, 17, 2, 3, 4, 5, 6, 7, 14, 16, 1, 6, 7, 11, 13, 14, 11, 14, 11, 11, 16, 8, 8, 1, 2, 3, 4, 6, 8, 9, 16, 1, 1, 2, 3, 4, 5, 6, 8, 9, 1, 2, 3, 4, 5, 6, 8, 9, 1, 2, 3, 5, 6, 8, 9, 10, 11, 12, 15, 17, 7, 13, 19, 20, 5, 3, 9, 1, 2, 3, 4, 5, 6, 7, 8, 9, 10, 11, 10, 16, 4, 4, 1, 3, 5, 8, 10, 11, 13, 15, 10, 1, 2, 3, 4, 6, 8, 1, 2, 4, 8, 10, 3, 7, 13, 13, 3, 7, 9, 10, 14, 15, 17, 7, 18, 4, 18, 2, 16, 1, 2, 15, 18, 18, 1, 2, 3, 4, 5, 6, 8, 9, 12, 17, 15, 1, 2, 8, 5, 20, 15, 12, 15, 12, 15, 13, 19, 12, 1, 2, 7, 8, 12, 15, 1, 7, 8, 3, 7, 12, 14, 15, 17, 3, 10, 3, 6, 16, 5, 1, 2, 3, 4, 5, 6, 7, 8, 9, 11, 12, 13, 16, 3, 5, 6, 13, 1, 2, 3, 4, 5, 6, 7, 8, 11, 12, 13, 1, 2, 3, 4, 5, 6, 8, 9, 16, 18, 5, 3, 19, 1, 3, 4, 5, 9, 10, 13, 2, 4, 7, 11, 3, 8, 1, 3, 5, 6, 8, 15, 6, 10, 4, 5, 8, 13, 19, 2, 11, 12, 15, 1, 2, 4, 5, 14, 16, 4, 8, 13, 16, 16, 18, 13, 18, 17, 2, 1, 2, 3, 4, 5, 6, 8, 9, 16, 1, 2, 3, 4, 6, 7, 9, 18, 13, 6, 2, 7, 10, 12, 2, 7, 8, 11, 16, 19, 2, 13, 15, 2, 1, 2, 3, 4, 5, 6, 7, 8, 9, 10, 2, 4, 9, 10, 1, 6, 7, 8, 12, 4, 1, 2, 3, 5, 6, 8, 9, 13, 3, 13, 4, 13, 14, 2, 8, 14, 9, 2, 3, 5, 13, 15, 2, 3, 9, 7, 9, 10, 17, 13, 5, 10, 17, 5, 9, 5, 9, 10, 9, 17, 16, 4, 16, 6, 11, 1, 2, 8, 1, 2, 3, 4, 6, 8, 9, 14, 1, 2, 3, 4, 5, 6, 7, 8, 9, 11, 18, 1, 2, 3, 4, 5, 6, 7, 8, 9, 12, 14, 15, 1, 8, 1, 2, 3, 4, 5, 6, 8, 9, 11, 12, 1, 2, 3, 4, 5, 6, 8, 9, 14, 13, 3, 20, 3, 13, 13, 3, 2, 4, 5, 7, 9, 10, 11, 17, 1, 2, 4, 5, 6, 7, 8, 9, 11, 12, 14, 15, 18, 18, 2, 7, 10, 15, 17, 2, 4], \"Freq\": [0.9294287866517538, 0.06591693522352864, 0.9923916434345746, 0.026399653536916347, 0.043370859382076854, 0.41108031936055456, 0.0018856895383511678, 0.0018856895383511678, 0.42805152520571504, 0.04714223845877919, 0.039599480305374524, 0.07898407874000346, 0.9083169055100397, 0.46179770704381123, 0.22178442509340934, 0.02126699966649131, 0.06987728461847144, 0.2248225679029081, 0.9914766223384661, 0.025064803109296187, 0.03916375485827529, 0.6469852302587078, 0.014098951748979105, 0.037597204663944284, 0.02819790349795821, 0.15508846923877015, 0.03289755408095125, 0.0046996505829930355, 0.012532401554648093, 0.0046996505829930355, 0.9428502928520117, 0.9742286462971851, 0.11034607147751227, 0.2404978480920139, 0.6422707237280842, 0.00282938644814134, 0.08624777444372426, 0.8969768542147324, 0.9563655624441985, 0.9901736126089676, 0.9674032031424203, 0.08442039133766475, 0.8864141090454799, 0.8328807055964841, 0.05193021185973282, 0.013981210885312682, 0.023967790089107453, 0.07390068610808131, 0.013392853400722686, 0.2812499214151764, 0.6964283768375796, 0.29703184848257597, 0.6988984670178258, 0.9931787057220861, 0.9899437000123839, 0.9733464269809154, 0.14797401332918303, 0.14518205081353808, 0.23787520633295084, 0.1359685745119097, 0.051092914036302825, 0.06142317534418919, 0.03434113894243304, 0.08068771670213944, 0.0524888952941253, 0.010051065056321867, 0.016751775093869777, 0.019264541357950245, 0.0013959812578224816, 0.0039087475219029486, 0.0011167850062579851, 0.96918179701243, 0.02062088929813681, 0.010310903726429729, 0.95375859469475, 0.03093271117928919, 0.10986995992458952, 0.1967820177753842, 0.0016398501481282018, 0.5657483011042296, 0.0016398501481282018, 0.016398501481282017, 0.0918316082951793, 0.014758651333153816, 0.9834258357475915, 0.1742328175821269, 0.1742328175821269, 0.04646208468856717, 0.005807760586070896, 0.43364612375996026, 0.12389889250284578, 0.013551441367498758, 0.0019359201953569652, 0.023231042344283585, 0.0019359201953569652, 0.9660301228299535, 0.981943003433395, 0.973055121139283, 0.9678309262608715, 0.12612212663982522, 0.8576304611508114, 0.40158883899716397, 0.010737669491902779, 0.5068180000178112, 0.08160628813846112, 0.9372609964930367, 0.05305250923545491, 0.2534876789824833, 0.2563042087489553, 0.4393786435696377, 0.05069753579649666, 0.19798164560703221, 0.10582802678093614, 0.3519673699680573, 0.24019394842414718, 0.03686144753043843, 0.01605256586002964, 0.05053585548527849, 0.000594539476297394, 0.9614701214233845, 0.9941123897198243, 0.13713638623273638, 0.5286386501552257, 0.33178157959533, 0.3894197616937795, 0.009544602002298517, 0.06299437321517021, 0.5383155529296364, 0.005094700368328662, 0.0220770349294242, 0.7353350864954368, 0.052645237139396166, 0.0441540698588484, 0.09000637317380636, 0.047550536771067506, 0.0016982334561095537, 0.9978920985107456, 0.9941958460349879, 0.969434048707029, 0.6181043312532511, 0.10544132709614285, 0.010907723492704432, 0.23633400900859605, 0.02545135481631034, 0.991692786417198, 0.9685635907349704, 0.013452272093541256, 0.9234718632386534, 0.0023678765724068035, 0.004735753144813607, 0.016575136006847624, 0.04972540802054288, 0.8654810975192154, 0.12519537888642737, 0.010886554685776295, 0.9750938995263426, 0.9964295390264852, 0.9978791885111944, 0.01040393379068833, 0.9883737101153912, 0.9558550354033233, 0.03823420141613293, 0.3619401025214987, 0.23365753453919538, 0.0366521622806581, 0.3436140213811697, 0.01832608114032905, 0.0673026719284058, 0.3849712834304812, 0.0834553131912232, 0.27369753250885026, 0.040381603157043484, 0.004486844795227054, 0.03230528252563478, 0.09781321653594977, 0.0026921068771362322, 0.004486844795227054, 0.008076320631408696, 0.9882201410888286, 0.96514316572388, 0.18334922195633482, 0.09740427416430288, 0.07448562141976102, 0.6388574452541042, 0.005729663186135463, 0.9856960915575046, 0.995286430743249, 0.9724438837427347, 0.07496666579906591, 0.9245888781884797, 0.9902995354217401, 0.9821898757755347, 0.04535433754125773, 0.9524410883664123, 0.20170909383621313, 0.7890385141240102, 0.9880998942197489, 0.9697392148452086, 0.9681400707939142, 0.08244568728879846, 0.8244568728879846, 0.08931616122953168, 0.9619795377330796, 0.9789293171790728, 0.06457212665275933, 0.290574569937417, 0.6037493842032997, 0.0387432759916556, 0.6463775131938856, 0.030716286784006962, 0.04006472189218299, 0.07745846232488712, 0.09815856863584833, 0.005341962918957732, 0.010016180473045748, 0.09014562425741174, 0.9917372355190063, 0.18436880696923755, 0.028920597171645104, 0.1518331351511368, 0.007230149292911276, 0.014460298585822552, 0.046995970403923296, 0.5639516448470796, 0.003615074646455638, 0.9624895840091611, 0.9795755634260506, 0.9966089004488838, 0.9881030159762652, 0.9923788422899168, 0.9863800808393105, 0.040399794154383044, 0.4764610643921683, 0.03462839498947118, 0.19302123873760788, 0.0314220621200757, 0.039117261006624854, 0.02244433008576836, 0.13787231338400563, 0.011542798329823727, 0.005130132591032768, 0.007695198886549151, 0.5221544689908353, 0.13924119173088942, 0.31329268139450117, 0.04596278379213844, 0.9455201237239907, 0.9837725040162918, 0.6823602057975998, 0.3070620926089199, 0.2677535181668415, 0.04183648721356899, 0.6861183903025314, 0.9976347124809555, 0.301947229174055, 0.008968729579427376, 0.4344851218478151, 0.03188881628240845, 0.07972204070602112, 0.01494788263237896, 0.0388644948441853, 0.015944408141204226, 0.01793745915885475, 0.022920086702981072, 0.021923561194155807, 0.008968729579427376, 0.003986102035301056, 0.98940023985546, 0.8362202896717438, 0.0423402678314807, 0.10585066957870173, 0.9096828665661667, 0.9812232579205216, 0.22736771285603616, 0.7685028694534023, 0.5459959284328683, 0.07279945712438243, 0.026599801641601275, 0.025199812081516997, 0.0020999843401264167, 0.027299796421643416, 0.2533981103752543, 0.04619965548278116, 0.18177524362319208, 0.04104602275362402, 0.07916018673913204, 0.32641360951691484, 0.0977286256038667, 0.004886431280193336, 0.032250446449276014, 0.22379855263285478, 0.01368200758454134, 0.9435389118671895, 0.270227089637102, 0.12987033263156245, 0.05727201004249027, 0.192788878875425, 0.06614513835893243, 0.025812736920558996, 0.0040332401438373435, 0.2540941290617526, 0.00363897413634902, 0.9952594262914569, 0.9935653285347824, 0.9748907709561577, 0.996381900791357, 0.9904574362578907, 0.9908240305499014, 0.9683168797843051, 0.9947502443944084, 0.05571540262545718, 0.017411063320455368, 0.6581381935132129, 0.2646481624709216, 0.07014670367328339, 0.2833926828400649, 0.05331149479169538, 0.1964107702851935, 0.08137017626100873, 0.04489389035090137, 0.058923231085558046, 0.07014670367328339, 0.014029340734656679, 0.01964107702851935, 0.056117362938626715, 0.05331149479169538, 0.36455852644642317, 0.6197494949589194, 0.07742905430693965, 0.2667000759461255, 0.19787424989551244, 0.10754035320408285, 0.34412913025306513, 0.9736293054182563, 0.03945906095951562, 0.08944053817490207, 0.13153020319838538, 0.5892553103287665, 0.1394220153902885, 0.010522416255870831, 0.9222891760917582, 0.010755642757226869, 0.28502453306651204, 0.0053778213786134345, 0.08066732067920152, 0.008066732067920152, 0.3038469078916591, 0.016133464135840304, 0.11831207032949556, 0.0026889106893067173, 0.1720902841156299, 0.9784272382013065, 0.02538485293816255, 0.964624411650177, 0.9486939296932634, 0.04124756216057667, 0.9914847497808753, 0.13780126015367591, 0.4929045074727639, 0.031800290804694445, 0.33390305344929166, 0.10084252630450845, 0.8427553984019635, 0.050421263152254224, 0.9713906283113284, 0.34129945321392646, 0.11376648440464215, 0.00875126803112632, 0.026253804093378956, 0.5075735458053265, 0.9776529070183002, 0.9130595687086485, 0.07431880210419232, 0.9604892603263032, 0.17090718787852552, 0.6583091681246909, 0.07595875016823357, 0.08861854186293916, 0.9330553645228502, 0.01705121331075874, 0.8525606655379371, 0.07673045989841433, 0.05115363993227622, 0.9880602571048177, 0.02214043550280402, 0.07749152425981408, 0.8856174201121609, 0.013478784543329504, 0.1309367641352009, 0.03273419103380022, 0.724003284041699, 0.03851081298094144, 0.017329865841423646, 0.01155324389428243, 0.03080865038475315, 0.9429301314497087, 0.9738583731880993, 0.010585417099870644, 0.2958019196818894, 0.03215238257411841, 0.668769557541663, 0.9797187271995773, 0.03393104578923615, 0.9613796306950243, 0.036816512359358185, 0.9204128089839545, 0.036816512359358185, 0.20105662974412322, 0.7923996584033092, 0.7270180943228832, 0.19265979499556404, 0.06179653801744507, 0.01817545235807208, 0.06604340970867613, 0.9328631621350504, 0.984130610007922, 0.9961912335828051, 0.03559305347619394, 0.011864351158731313, 0.8740072020265401, 0.003954783719577104, 0.07118610695238788, 0.11722959331286452, 0.22769594085767916, 0.11272076280083126, 0.22769594085767916, 0.02141694493215794, 0.04959713563236576, 0.05748758902842395, 0.03719785172427432, 0.02930739832821613, 0.0022544152560166255, 0.11046634754481464, 0.004508830512033251, 0.004813980360794873, 0.6306314272641284, 0.028883882164769236, 0.0866516464943077, 0.02567456192423932, 0.12034950901987182, 0.06579106493086326, 0.027279222044504278, 0.00641864048105983, 0.968663139865271, 0.9678838463461392, 0.9941365614477292, 0.9930737877498746, 0.9665684721666085, 0.13671378497050307, 0.08202827098230184, 0.7655971958348172, 0.1724312372102811, 0.12405124979156915, 0.6897249488411245, 0.013645637477072606, 0.9596925230363986, 0.13812570675249994, 0.0726977403960526, 0.6906285337624998, 0.04725353125743419, 0.05088841827723682, 0.06829935631179716, 0.04268709769487323, 0.8708167929754138, 0.01707483907794929, 0.16822720147543588, 0.8308363827970506, 0.9706689662165058, 0.44671816503060996, 0.13815172881502197, 0.01985414066802711, 0.13318819364801518, 0.18199628945691515, 0.05459888683707455, 0.014063349639852535, 0.0033090234446711848, 0.008272558611677961, 0.9642008853846861, 0.9737166955505704, 0.9922276389741282, 0.39229009564998607, 0.19614504782499304, 0.04590628778882816, 0.06468613279334877, 0.025039793339360815, 0.02295314389441408, 0.02295314389441408, 0.02295314389441408, 0.06677278223829551, 0.13563221392153774, 0.9726348002234124, 0.9823425613837998, 0.017758074626044687, 0.4952529701263574, 0.06708605969839104, 0.0473548656694525, 0.035516149252089374, 0.08484413432443573, 0.2446668059588379, 0.005919358208681563, 0.9707701170131754, 0.023113574214599416, 0.6791006327930179, 0.14285958433755558, 0.028986002619214177, 0.08074672158209664, 0.06004243399694365, 0.008281715034061193, 0.9978211875879669, 0.9855238286200628, 0.06074725758718964, 0.15887744292034214, 0.14953171098385143, 0.5763201360835941, 0.012460975915320954, 0.026479573820057025, 0.014018597904736071, 0.2226051418435625, 0.6592536893059351, 0.11558343903415745, 0.06595908700501567, 0.6014840553076428, 0.10993181167502611, 0.12092499284252871, 0.01099318116750261, 0.08951590379252125, 0.9802110103701308, 0.998261611490426, 0.014859222229425352, 0.9844234726994295, 0.9021374804898888, 0.9967587978415792, 0.01951496232361788, 0.9676168818793865, 0.011383728022110429, 0.08637301469529651, 0.9108427004231269, 0.020241602687550493, 0.9783441298982739, 0.9983499695247595, 0.962753703663865, 0.9815379581370541, 0.9961971481886344, 0.9529290945206595, 0.027226545557733132, 0.8960093553799571, 0.006857214454438447, 0.052571977484028094, 0.02971459596923327, 0.011428690757397412, 0.983805298075661, 0.9836542991862048, 0.12268314180950331, 0.03505232623128666, 0.8237296664352365, 0.9848735587860827, 0.9895756910794183, 0.10243267677332495, 0.8809210202505946, 0.9869216819273463, 0.009918810873641671, 0.9915828673901645, 0.9885156934720497, 0.9646847624528511, 0.01058798332553507, 0.489694228805997, 0.205142176932242, 0.018528970819686373, 0.25543509772853357, 0.005293991662767535, 0.014558477072610721, 0.7712390985509903, 0.18793412516414934, 0.03900519578878572, 0.0907249018438091, 0.10773582093952332, 0.09639520820904718, 0.26083409280095116, 0.05103275728714262, 0.3061965437228557, 0.034021838191428413, 0.04536245092190455, 0.08408293023216634, 0.9062271369466817, 0.9948951648871064, 0.22022927584010413, 0.40593108046798854, 0.032661121416964596, 0.0746539918102048, 0.0018663497952551198, 0.038260170802729955, 0.15863973259668518, 0.06718859262918431, 0.9681218291614856, 0.3881330369736753, 0.028009600606347704, 0.13204526000135347, 0.06002057272788794, 0.004001371515192529, 0.3761289224280977, 0.008002743030385059, 0.9772065098015474, 0.02135970513227426, 0.9924761863439335, 0.9959123459230161, 0.35248946556129634, 0.18428396620573037, 0.021025687419445747, 0.351252660418976, 0.05318262111977454, 0.0012368051423203381, 0.03463054398496947, 0.0012368051423203381, 0.9231517723993254, 0.03570200224748772, 0.03570200224748772, 0.0839672724531659, 0.12315199959797667, 0.7752978156508985, 0.013994545408860984, 0.9893134085399208, 0.020219844944751375, 0.792617921834254, 0.060659534834254125, 0.12536303865745854, 0.007059432539372005, 0.18354524602367214, 0.01411886507874401, 0.7941861606793507, 0.1089664114587212, 0.18161068576453532, 0.7046494607663971, 0.06497649519747634, 0.037902955531861196, 0.26532068872302833, 0.1570265300605678, 0.0595617872643533, 0.1353676983280757, 0.016244123799369084, 0.25990598078990534, 0.9799634330906665, 0.9846885277943358, 0.9826616852802651, 0.9976829153425729, 0.9779003064808662, 0.9961893209174911, 0.9984686949763754, 0.9014919372305491, 0.09014919372305491, 0.06564446306322215, 0.3080240189889655, 0.040396592654290554, 0.015148722245358959, 0.10604105571751271, 0.45951124144255506, 0.9673978110577813, 0.14585710058549375, 0.3160237179352364, 0.1580118589676182, 0.04861903352849792, 0.03646427514637344, 0.2917142011709875, 0.26724902258875904, 0.33125404060371394, 0.12089836736158148, 0.07598256524582366, 0.0048658785625404315, 0.08758581412572776, 0.021335006004984967, 0.08646291907283381, 0.001497193403858594, 0.002245790105787891, 0.9786257636965034, 0.1955053090751489, 0.13964664933939208, 0.6609941402064557, 0.2348053980106091, 0.4308565070291759, 0.01139832029177714, 0.09346622639257254, 0.2279664058355428, 0.9906871409467466, 0.15692592653031448, 0.8369382748283438, 0.12547794896128947, 0.20912991493548247, 0.14478224880148785, 0.022521683146898112, 0.10617364912109109, 0.3796512301905682, 0.01286953322679892, 0.9822178815710914, 0.12667155016385306, 0.8391990198355265, 0.01900073252457796, 0.012667155016385306, 0.965481654860889, 0.9906517126431142, 0.9963011941330766, 0.9795611961786989, 0.9846699437221753, 0.9910767578812757, 0.9848172605131884, 0.06796583276982379, 0.02973505183679791, 0.20106558861072873, 0.07646156186605177, 0.36390039628843157, 0.031151006686169238, 0.050974374577367844, 0.001415954849371329, 0.02973505183679791, 0.14725930433461823, 0.9895429278706276, 0.9789889615469779, 0.16443730688266922, 0.13703108906889103, 0.3638936698607217, 0.0030451353126420225, 0.04643831351779085, 0.038064191408025284, 0.24589467649584332, 0.08422477306977255, 0.5895734114884079, 0.025783093796869147, 0.030939712556242976, 0.022345347957286595, 0.003437745839582553, 0.11860223146559808, 0.06703604387185978, 0.017188729197912766, 0.022345347957286595, 0.015469856278121488, 0.9785958456321572, 0.1406050770474812, 0.8584309967109379, 0.8820671692101265, 0.9913022164114786, 0.9898376287209067, 0.9890489916617462, 0.9792602916625593, 0.151074971979523, 0.04053230955548178, 0.7959071694530967, 0.007369510828269414, 0.902008415168003, 0.06765063113760023, 0.022550210379200075, 0.02308061141556639, 0.02308061141556639, 0.03462091712334959, 0.7847407881292573, 0.03462091712334959, 0.08078213995448237, 0.0795044646678147, 0.04336607163698984, 0.0795044646678147, 0.7842031287688996, 0.007227678606164974, 0.9869739099235796, 0.9530499015887222, 0.9857023770034024, 0.01988581107524939, 0.9744047426872202, 0.8631521672710903, 0.13364936783552367, 0.09336527664612128, 0.1267100183054503, 0.006668948331865806, 0.6935706265140438, 0.07669290581645677, 0.08525638132051921, 0.8809826069786986, 0.028418793773506406, 0.004736465628917734, 0.13293050632421485, 0.8241691392101321, 0.02658610126484297, 0.9619416999103357, 0.06052349484719551, 0.9078524227079326, 0.015130873711798878, 0.9821032051709604, 0.9893153854956218, 0.9517536016704529, 0.9835185529585743, 0.980936876814501, 0.015950193118934974, 0.8905361970332101, 0.05438388989515787, 0.013595972473789467, 0.040787917421368405, 0.9876200343586232, 0.9650806406575875, 0.7923605473510488, 0.0491988575152612, 0.012947067767174, 0.0103576542137392, 0.0828612337099136, 0.012947067767174, 0.025894135534348, 0.0103576542137392, 0.0953890327709471, 0.01589817212849118, 0.8849982484860092, 0.07037176973721475, 0.9148330065837916, 0.1818106548805851, 0.8167705935165679, 0.7880071460832774, 0.08244742775921614, 0.12842772400954822, 0.9711880046926131, 0.9945649238334298, 0.2808783051381776, 0.14241716880245625, 0.10285684413510729, 0.051428422067553645, 0.007912064933469791, 0.40747134407369423, 0.4099603586831914, 0.5841935111235478, 0.11298356814753857, 0.13558028177704629, 0.14687863859180014, 0.5988129111819545, 0.993015849846458, 0.9717800174245232, 0.971493161884028, 0.930721204004434, 0.9453126386462986, 0.09526128533730364, 0.889105329814834, 0.9653127236844874, 0.010736744856810695, 0.18789303499418716, 0.8007822205704643, 0.02706558620833757, 0.9683465287871886, 0.9642008853846861, 0.9417654969220508, 0.8353093074882797, 0.8674263494466761, 0.11791330018103288, 0.2558969493290501, 0.6071280562512756, 0.01756155534611128, 0.9861740096162342, 0.9837726394916408, 0.9648820482126214, 0.9636148607328414, 0.9796893510851101, 0.28995276442849727, 0.04027121728173573, 0.6644750851486395, 0.9931401929481243, 0.13359569921504216, 0.8397443950659793, 0.019085099887863166, 0.9915642138589212, 0.7941093449946643, 0.1271078349357545, 0.007550960491232941, 0.018877401228082354, 0.05033973660821961, 0.9916347715116393, 0.9615497978989954, 0.9965435770181003, 0.0018626982748001875, 0.028628535397201185, 0.2147140154790089, 0.14314267698600594, 0.04294280309580178, 0.5654135740947235, 0.9504234579454494, 0.011225473912741528, 0.0374182463758051, 0.9880425353328627, 0.011270447171097292, 0.016244130327719552, 0.9814162072997229, 0.002707355054619925, 0.9204203111120669, 0.9085017008755277, 0.9703946520180282, 0.9954195787795831, 0.9835810008423268, 0.996109132122049, 0.9491618178861502, 0.9890070614299894, 0.04498657972116051, 0.8097584349808893, 0.13495973916348153, 0.020640080592642124, 0.03612014103712372, 0.11352044325953169, 0.18576072533377913, 0.04644018133344478, 0.562442196149498, 0.025800100740802658, 0.3455730111824587, 0.29867381680769645, 0.030031940257523197, 0.09256419942387287, 0.033734508234478114, 0.05471572677055596, 0.06911460223649174, 0.07487415242286605, 0.0004113964418838794, 0.2588587625003317, 0.023842254440820023, 0.02043621809213145, 0.023842254440820023, 0.08515090871721437, 0.4870631978624662, 0.09536901776328009, 0.24136009512886786, 0.16338221824107976, 0.06683818018953264, 0.07797787688778808, 0.03713232232751813, 0.3267644364821595, 0.03713232232751813, 0.04827201902577357, 0.9861324627297379, 0.0035093681947677507, 0.007018736389535501, 0.10829813708987653, 0.003609937902995884, 0.6497888225392592, 0.046929192738946496, 0.11912795079886418, 0.02887950322396707, 0.03970931693295472, 0.982053640548931, 0.014471023162853513, 0.9695585519111855, 0.980479912651556, 0.8738106875687154, 0.12425748309463384, 0.9846757545414816, 0.8808826538906563, 0.029759549117927577, 0.08927864735378273, 0.864629568154368, 0.9881055548233668, 0.5696605498628967, 0.22543217162062085, 0.0037416128069812592, 0.004677016008726574, 0.024320483245378183, 0.0383515312715579, 0.0888633041658049, 0.013095644824434406, 0.0318037088593407, 0.06838424266649017, 0.9295191503185884, 0.9823378503953543, 0.9750631309589101, 0.02166806957686467, 0.047168615349353786, 0.1297136922107229, 0.5306469226802301, 0.07075292302403068, 0.19339132293235053, 0.007075292302403068, 0.016509015372273825, 0.382366483406687, 0.615516778166862, 0.8152287802173225, 0.9716302703791214, 0.9818823249523663, 0.9679010791570918, 0.007142291931322342, 0.9856362865224833, 0.7084733499071562, 0.26052871733504435, 0.0005148788880139216, 0.02625882328871, 0.004119031104111373, 0.9923415899079577, 0.963818177519668, 0.023301098797178788, 0.010591408544172176, 0.0021182817088344352, 0.9569388936789319, 0.05917720067540014, 0.9271094772479355, 0.9786659803547578, 0.893172603203072, 0.028106830170726044, 0.07807452825201679, 0.3463299816541544, 0.6401857236637399, 0.9630000867877876, 0.14010177550946604, 0.30551789051908484, 0.045391229448549744, 0.037098600991603156, 0.11391452775068735, 0.0423360505433589, 0.009165536715572544, 0.04408186706061081, 0.08292628456946588, 0.07681592675908418, 0.05150158725893144, 0.0004364541293129783, 0.00785617432763361, 0.018331073431145088, 0.015275894525954242, 0.009165536715572544, 0.18853747701283596, 0.026933925287547997, 0.048481065517586394, 0.7002820574762478, 0.032320710345057596, 0.03981128458764356, 0.8076003444921979, 0.1478704856112475, 0.9009692107161563, 0.09079534681635684, 0.9959092869616464, 0.09157477873738522, 0.06541055624098945, 0.039246333744593666, 0.05232844499279155, 0.1046568899855831, 0.6279413399134987, 0.9846019888497436, 0.9968628936003431, 0.9958789929810509, 0.06272070385111027, 0.48085872952517866, 0.45298286114690745, 0.9796788199711766, 0.9797842696744902, 0.043989777115447375, 0.9457802079821185, 0.9987691019042958, 0.9583292652898463, 0.9849424716592188, 0.007189361107001597, 0.9801157469909737, 0.9775821412858414, 0.9688185480371998, 0.072607527665565, 0.9148548485861191, 0.8398085830137608, 0.016629872930965562, 0.14135391991320728, 0.9460890585433616, 0.04934866762557339, 0.11103450215754013, 0.6538698460388475, 0.015421458632991684, 0.006168583453196674, 0.16346746150971186, 0.9934083763623652, 0.9708305892315335, 0.9638409253617957, 0.968386793960717, 0.7316825598983487, 0.2508959336174561, 0.01633740963090412, 0.8358830853266205, 0.08717799049418741, 0.07521238395576953, 0.9720519173966565, 0.9886091866810505, 0.9654724887390853, 0.013792464124844075, 0.24418275865868472, 0.0864242348061637, 0.12483500583112533, 0.020577198763372308, 0.041154397526744615, 0.05761615653744246, 0.29768347544345275, 0.00960269275624041, 0.023320825265155283, 0.03978258427585313, 0.023320825265155283, 0.030179891519612718, 0.9968574491326067, 0.005468175909621059, 0.9514626082740643, 0.03827723136734741, 0.12092093808060722, 0.8411891344737894, 0.015772296271383553, 0.021029728361844736, 0.967932772807357, 0.9818613786124856, 0.9697967935598037, 0.05640204427893185, 0.9024327084629096, 0.9850058486065123, 0.9908846440893373, 0.4024701376224147, 0.11365435780034966, 0.014708211009457016, 0.29550133028090914, 0.009359770642381736, 0.0026742201835376392, 0.08156371559789799, 0.07220394495551626, 0.008022660550612917, 0.21217413147414416, 0.03409941398691603, 0.06062118042118405, 0.07198765175015606, 0.6137894517644885, 0.9902110116437162, 0.18463395586513023, 0.005955934060165492, 0.1310305493236408, 0.678976482858866, 0.969272752756444, 0.14627229210278014, 0.6069616606881718, 0.021188976893393382, 0.10731191523428261, 0.000683515383657851, 0.04101092301947106, 0.0068351538365785105, 0.06903505374944297, 0.23546423630960328, 0.11811686363896766, 0.07194740553904545, 0.292406567966174, 0.010003382588316479, 0.006155927746656295, 0.05155589487824647, 0.21353374371214023, 0.00038474548416601845, 0.9957599829217393, 0.9932838521424592, 0.28545920164509925, 0.30944736985056975, 0.21349469702868765, 0.04717673080409203, 0.07996056068490175, 0.06476805415477041, 0.983036543409465, 0.0031257123796803337, 0.012502849518721335, 0.9873543742354152, 0.9687945131374754, 0.1524884182882529, 0.2066328566659659, 0.05524942691603366, 0.2276276388940587, 0.10828887675542598, 0.22541766181741735, 0.005524942691603366, 0.017679816613130773, 0.9872231084835537, 0.17577964462271783, 0.8213152360820092, 0.14527439396777656, 0.8425914850131041, 0.036274933643147635, 0.1783517570788092, 0.04232075591700558, 0.05743531160165042, 0.6831779169459471, 0.98565091896944, 0.9840180734214005, 0.9802720188733672, 0.9925470702999011, 0.9964953697686771, 0.9815540768092584, 0.7972441541465237, 0.19192914822045942, 0.9841388364568194, 0.9054847031989327, 0.044532034583554064, 0.014844011527851355, 0.03463602689831983, 0.005607534284629876, 0.8887941841138354, 0.04205650713472407, 0.039252739992409136, 0.022430137138519504, 0.11998158917075608, 0.11410013872120922, 0.0011762900899093733, 0.17526722339649664, 0.47169232605365874, 0.04587531350646556, 0.07175369548447177, 0.5072005951722379, 0.035824577354172944, 0.00188550407127226, 0.45063547303407014, 0.00188550407127226, 0.9712439391743767, 0.9870713161407733, 0.9873081391718976, 0.9858110796929398, 0.9531626240071279, 0.004292424743145626, 0.8026834269682321, 0.19101290106998037, 0.24568878385653103, 0.18199169174557855, 0.1728921071582996, 0.4003817218402728, 0.9913246326590605, 0.0802073527819348, 0.14437323500748267, 0.05347156852128987, 0.6202701948469626, 0.10159598019045075, 0.13391201629661342, 0.19528835709922793, 0.4702862477083448, 0.0916659635363723, 0.0007970953350988894, 0.06855019881850449, 0.003985476675494448, 0.011159334691384453, 0.0055796673456922265, 0.0023912860052966683, 0.0151448113668789, 0.972789456307384, 0.9957620504549637, 0.9874257174859373, 0.050496748204238606, 0.13465799521130295, 0.015710099441318678, 0.2704381403827001, 0.05274104812442699, 0.13241369529111457, 0.14587949481224485, 0.04600814836386184, 0.020198699281695442, 0.1144592959296075, 0.015710099441318678, 0.4255518704314449, 0.04424054098544724, 0.00210669242787844, 0.1264015456727064, 0.0842676971151376, 0.04845392584120412, 0.08005431225938071, 0.1896023185090596, 0.9869283718597186, 0.6142839238566729, 0.3318230124404349, 0.04936210102419693, 0.12419394878892691, 0.07096797073652966, 0.03548398536826483, 0.08870996342066208, 0.053225978052397246, 0.14193594147305932, 0.470162806129509, 0.06176932339825131, 0.9110975201242068, 0.9955839133828492, 0.6179759498912234, 0.06706715735253588, 0.08782603939022555, 0.007984185399111414, 0.007984185399111414, 0.11816594390684892, 0.08942287647004783, 0.9801505472156632, 0.948543710532543, 0.9863330320475402, 0.9905793966979374, 0.9719716899609739, 0.5267122293648815, 0.015491536157790631, 0.4337630124181377, 0.8447321725136174, 0.4600005617337471, 0.06523644330042232, 0.13465470988933323, 0.10454558221221524, 0.05520006740804965, 0.06272734932732915, 0.02090911644244305, 0.04265459754258382, 0.0418182328848861, 0.0016727293153954439, 0.0066909172615817756, 0.002509093973093166, 0.9870696256107909, 0.7062412380994654, 0.03969505787912686, 0.021501489684527048, 0.014885646704672573, 0.06615842979854476, 0.1290089381071623, 0.0066158429798544765, 0.013231685959708953, 0.9701558672588956, 0.025530417559444622, 0.9529561109346439, 0.9656075929306968, 0.9767499313436661, 0.8811898248634493, 0.9812962920937816, 0.012874664118083749, 0.8997959700305197, 0.030040882942195413, 0.03290191941288069, 0.0185967370594543, 0.004291554706027916, 0.7340146985973098, 0.012934179710965813, 0.01940126956644872, 0.02263481449419017, 0.206946875375453, 0.8937251770470283, 0.9845774988009605, 0.9656067196063068, 0.9913619368072318, 0.9534208712407862, 0.9711975346384889, 0.05310463134178603, 0.9381818203715532, 0.993623718574846, 0.9587183453250677, 0.6864531691630391, 0.032195458520209545, 0.24951480353162395, 0.0034495134128795938, 0.02759610730303675, 0.036199409758772456, 0.01270154728377981, 0.4166107509079777, 0.12765055020198707, 0.09653175935672655, 0.20322475654047695, 0.0006350773641889904, 0.0266732492959376, 0.018417243561480723, 0.05588680804863116, 0.004445541549322933, 0.988177156079115, 0.9827496793284664, 0.9654749287156973, 0.9802481082732952, 0.9832819759304652, 0.9692847161749129, 0.20260362187269262, 0.13757036053084065, 0.6553351719832773, 0.9590039071384433, 0.8107984023559529, 0.022839391615660645, 0.1598757413096245, 0.9765823917184722, 0.9313759280231834, 0.0490197856854307, 0.9899929144925057, 0.9764279540731634, 0.9483460580067208, 0.45962740333659813, 0.01084026894661788, 0.004336107578647152, 0.199460948617769, 0.2796789388227413, 0.019512484103912184, 0.026016645471882913, 0.9880305446383175, 0.9390652529325572, 0.993843023100096, 0.00662055918168509, 0.291304603994144, 0.03310279590842545, 0.6686764773501941, 0.9112753550778413, 0.07504620571229281, 0.9975576935050624, 0.9963691352255236, 0.9870711854891072, 0.9814913396889925, 0.9166756694514425, 0.07801495059161213, 0.97501544859759, 0.9327122449684538, 0.05460857195169826, 0.9392674375692102, 0.9989569805067146, 0.9653018425957656, 0.026089238989074746, 0.0027271884257462774, 0.29453634998059797, 0.7008874254167934, 0.0016973096507648996, 0.15954710717190057, 0.8367736578270955, 0.011319549381144592, 0.03018546501638558, 0.9546153311431939, 0.02184956356949915, 0.005462390892374788, 0.07283187856499718, 0.02913275142599887, 0.20939165087436687, 0.43699127138998306, 0.07829426945737196, 0.014566375712999435, 0.018207969641249294, 0.11288941177574562, 0.9959341764207629, 0.003569656546310978, 0.025499050090611545, 0.9689639034432387, 0.9901088874007022, 0.9835893650605253, 0.047533893731083646, 0.006790556247297664, 0.8963534246432916, 0.047533893731083646, 0.19040038739217174, 0.7996816270471213, 0.9891231148401795, 0.9729963225540726, 0.9900581225973802, 0.9963520183695829, 0.9176649233981354, 0.7954274885386734, 0.18839072096968582, 0.9340336131592579, 0.029524050990666198, 0.03489206026169642, 0.18899740438855678, 0.7559896175542271, 0.006551302943301232, 0.0021837676477670775, 0.9346525532443092, 0.05677795884194402, 0.9885981156372096, 0.09857769762813674, 0.8929979667490034, 0.6441218959391782, 0.3220609479695891, 0.9329638789867722, 0.9612992000496935, 0.9899157348472062, 0.2479083272248712, 0.2984632423732364, 0.16031585391968223, 0.15328682828408066, 0.0018924299788158107, 0.046229360911071944, 0.04785144375005693, 0.044066583792425305, 0.13889644515032926, 0.858181607535963, 0.9785812724438934, 0.9810544866217253, 0.9312414513896643, 0.1403958798537534, 0.10245104746084709, 0.07209518154652203, 0.08347863126439392, 0.5388166199792699, 0.060711731828650126, 0.026594351151034104, 0.32560111003833647, 0.05318870230206821, 0.07187662473252461, 0.05103240356009247, 0.01078149370987869, 0.046001039828815746, 0.03953214360288853, 0.2975692263926519, 0.004312597483951477, 0.02371928616173312, 0.023000519914407873, 0.026594351151034104, 0.995609713369594, 0.9744320702143595, 0.020514359372933885, 0.9860243547329193, 0.7757905902158887, 0.1740366723298001, 0.03539728928741697, 0.01179909642913899, 0.981315707424191, 0.8614114449267832, 0.12148110120762329, 0.005526368656467239, 0.5968478148984618, 0.044210949251737915, 0.10223782014464391, 0.24868658954102577, 0.9780079295926434, 0.4605596513035837, 0.5181296077165316, 0.9826754906203922, 0.9838890045548416, 0.03969887428515342, 0.6007762975153217, 0.1429159474265523, 0.021172732952081823, 0.014556253904556253, 0.009263070666535797, 0.046315353332678985, 0.07807445276080172, 0.046315353332678985, 0.9867986072840734, 0.9849836853753574, 0.9181683623128333, 0.9938616810432985, 0.9716162777316475, 0.9856380426545756, 0.9904139832382377, 0.3683395093627013, 0.0633083531717143, 0.005755304833792208, 0.09784018217446754, 0.43740316736820783, 0.017265914501376625, 0.47891044678929606, 0.24477645058119576, 0.0011824949303439409, 0.2648788643970428, 0.007094969582063645, 0.0011824949303439409, 0.5235152385701048, 0.22436367367290208, 0.0747878912243007, 0.16827275525467655, 0.2481097300832323, 0.2191715015266794, 0.14065876667242522, 0.23838458769947274, 0.006878759247049462, 0.03984936391394171, 0.011859929736292176, 0.09487943789033741, 0.9913352126957496, 0.9769460923947734, 0.03594740002649559, 0.05959700530708478, 0.19676471593450215, 0.08797653164379182, 0.5032636003709382, 0.02459558949181277, 0.010405826323459249, 0.002837952633670704, 0.0681108632080969, 0.00945984211223568, 0.000945984211223568, 0.002320284283906217, 0.0417651171103119, 0.20418501698374708, 0.1252953513309357, 0.5127828267432739, 0.02088255855515595, 0.03016369569078082, 0.0417651171103119, 0.02088255855515595, 0.9759262002867862, 0.05505912228872496, 0.0720773964506945, 0.4945310256478206, 0.031033323471826798, 0.10511286982392948, 0.08609244576055176, 0.008008599605632723, 0.03003224852112271, 0.012012899408449084, 0.019020424063377714, 0.006006449704224542, 0.040042998028163614, 0.013013974359153174, 0.024025798816898168, 0.004004299802816361, 0.20440198242466123, 0.7389917826122367, 0.0471696882518449, 0.18052772452424576, 0.018675281847335766, 0.796812025486326, 0.9601268195667797, 0.21172330798532643, 0.3130539184218834, 0.0057667827077715365, 0.10050678433544678, 0.20101356867089357, 0.033776870145519, 0.01647652202220439, 0.019771826426645267, 0.07414434909991975, 0.019771826426645267, 0.003295304404440878, 0.030437365716665922, 0.1895417774174196, 0.3140582735310529, 0.4067538873045355, 0.011068132987878516, 0.016602199481817775, 0.031820882340150736, 0.9788826098893968, 0.9945395932960748, 0.9536576224455527, 0.020449928965696914, 0.3534916292641895, 0.08472113428645864, 0.029214184236709875, 0.014607092118354937, 0.005842836847341975, 0.07303546059177468, 0.14607092118354936, 0.2716919134014018, 0.967532799250181, 0.860006183303662, 0.00728818799409883, 0.12389919589968011, 0.29689580134305876, 0.054628827447122816, 0.009500665642977881, 0.13775965182317929, 0.46078228368442725, 0.038002662571911525, 0.0023751664107444703, 0.9925903302655831, 0.9970696220768378, 0.9828816040269714, 0.9882922509723556, 0.01132574196697697, 0.9853395511269963, 0.8246049890117746, 0.9666908112124335, 0.739884131751018, 0.14206432274464606, 0.002463543168982302, 0.019708345351858416, 0.025456612746150454, 0.012317715844911509, 0.000821181056327434, 0.010675353732256641, 0.004927086337964604, 0.02052952640818585, 0.021350707464513282, 0.11006460622258124, 0.17550842613871062, 0.08626685352580692, 0.14576123526774273, 0.11006460622258124, 0.08031741535161334, 0.023797752696774324, 0.1784831452258074, 0.08626685352580692, 0.9797349016188918, 0.39498694226534964, 0.1501412353640218, 0.0836171187719629, 0.1681581836077044, 0.0628283323369445, 0.042501518933815395, 0.002309865159446489, 0.014321163988568232, 0.08084528058062712, 0.9906440499110271, 0.5000160596254108, 0.05346083656372318, 0.12579020367934865, 0.003144755091983716, 0.29875173373845304, 0.01572377545991858, 0.9708940395070411, 0.4210365725471232, 0.1984698931985919, 0.11303583321244307, 0.04293609168534659, 0.06002290368257636, 0.022782415996306354, 0.017524935381774118, 0.07185223506527388, 0.03724048768627, 0.01182933138269753, 0.002628740307266118, 0.0008762467690887059, 0.9754546907727852, 0.05142978740935552, 0.020571914963742208, 0.22886255397163208, 0.06685872363216218, 0.002571489370467776, 0.02571489370467776, 0.18514723467367988, 0.12600297915292102, 0.2571489370467776, 0.002571489370467776, 0.01285744685233888, 0.018000425593274434, 0.9373702959329039, 0.9387057942136414, 0.045238833456079104, 0.1650994066908589, 0.09905964401451534, 0.13207952535268713, 0.605364491199816, 0.04611597028617801, 0.27157182501860383, 0.04611597028617801, 0.020495986793856894, 0.015371990095392671, 0.056363963683106456, 0.1537199009539267, 0.37917575568635253, 0.9716653441252563, 0.011262709131610572, 0.9685929853185092, 0.9730972568161007, 0.25068812083239816, 0.050137624166479634, 0.040110099333183706, 0.12534406041619908, 0.025068812083239817, 0.07019267383307148, 0.09526148591631131, 0.050137624166479634, 0.29581198258222985, 0.9940254290245694, 0.08048378779631536, 0.8853216657594689, 0.6299135198039764, 0.14453082672366568, 0.03131501245679423, 0.021679624008549853, 0.0228840475645804, 0.0036132706680916424, 0.0758786840299245, 0.06624329558168011, 0.0036132706680916424, 0.9638472890591954, 0.06546327453442587, 0.3371358638522932, 0.5924426345365541, 0.023869512258062015, 0.023869512258062015, 0.3739556920429716, 0.5728682941934884, 0.09604265834980419, 0.8451753934782769, 0.05122275111989557, 0.9936647478673369, 0.990310473668449, 0.9681518541953669, 0.013635941608385448, 0.013635941608385448, 0.03622905320902661, 0.313985127811564, 0.048305404278702155, 0.5796648513444258, 0.9679096450909339, 0.38821985289386074, 0.5925460912590506, 0.996628217210501, 0.39834086017957276, 0.14281600607213366, 0.03473902850403251, 0.1281484162593199, 0.0895494956992838, 0.08182971158727657, 0.02547528756962384, 0.09572532298888958, 0.0007719784112007224, 0.0015439568224014449, 0.9561767113605557, 0.9835080943456687, 0.1455958355646878, 0.7962272257443865, 0.018199479445585975, 0.03639895889117195, 0.62154750134623, 0.05469618011846824, 0.23867424051695232, 0.08204427017770237, 0.9920638657439975, 0.3086126444700137, 0.00857257345750038, 0.09429830803250418, 0.2600347282108449, 0.08858325906083726, 0.02286019588666768, 0.2143143364375095, 0.18014082792785832, 0.7655985186933979, 0.9227255653577369, 0.08959542056883922, 0.08959542056883922, 0.7009524079797421, 0.12121733371078247, 0.2527642971783996, 0.7449895074731777, 0.8510815185373453, 0.9444674572472485, 0.1167039491527147, 0.7287513269313962, 0.1530118444446704, 0.07214048865196107, 0.9197912303125038, 0.009017561081495134, 0.7488157114481381, 0.24506696011029971, 0.017890508842336846, 0.978014483381081, 0.9701143194015269, 0.988184444549998, 0.007058460318214271, 0.9930097102982066, 0.9901634308339402, 0.08239834905804579, 0.9166816332707594, 0.9929916574767185, 0.8315660892897709, 0.16752423643458977, 0.07089118328455447, 0.8684169952357924, 0.04430698955284655, 0.9806615668611215, 0.9447084761472151, 0.9974263648123859, 0.36077460959146607, 0.15190509877535413, 0.08182982999505684, 0.22288456457217137, 0.015371349280839405, 0.0361678806607986, 0.017179743313879337, 0.10624314944109589, 0.004068886574339843, 0.00180839403303993, 0.002712591049559895, 0.07676251117904548, 0.012793751863174246, 0.8955626304221973, 0.39170392956218153, 0.017030605633138327, 0.11069893661539913, 0.017030605633138327, 0.4513110492781657, 0.12671027288653927, 0.11208985678424628, 0.7602616373192357, 0.46415575554109756, 0.009981844205184894, 0.044918298923332024, 0.47413759974628245, 0.39232981839901077, 0.08773028139512763, 0.03158290130224595, 0.04702343082778841, 0.24564478790635738, 0.07228975186958517, 0.01263316052089838, 0.0835192278881615, 0.007018422511610211, 0.002105526753483063, 0.017546056279025526, 0.9925080846298585, 0.9733721295052639, 0.0860907542843021, 0.18165149153987745, 0.2625768005671214, 0.018939965942546464, 0.25052409496731914, 0.012913613142645315, 0.11966614845517992, 0.028409948913819694, 0.003443630171372084, 0.0060263527999011475, 0.001721815085686042, 0.018079058399703443, 0.003443630171372084, 0.005165445257058126, 0.041983181265628514, 0.9567746046324814, 0.0015651596395498187, 0.05947606630289311, 0.03286835243054619, 0.7763191812167101, 0.0031303192790996374, 0.05634574702379347, 0.05165026810514401, 0.015651596395498187, 0.9761674706519801, 0.9619957015729254, 0.9932133646125963, 0.9896110415352782, 0.15299817341735625, 0.8414899537954593, 0.19752669810812495, 0.11498672339435517, 0.26298943667421826, 0.20663455738688577, 0.021631165787056914, 0.15198740171432093, 0.013092547713218657, 0.028462060246127515, 0.0011384824098451007, 0.0011384824098451007, 0.9931227904393949, 0.11458278097221761, 0.06874966858333056, 0.8097183188703377, 0.29413946471607033, 0.3672725010252572, 0.01687685453288928, 0.16957220506855422, 0.0008036597396613944, 0.008036597396613944, 0.06750741813155713, 0.07474035578850968, 0.9955715505500751, 0.9756355407330934, 0.25440644743490287, 0.7393687378576864, 0.37858808868142496, 0.5994311404122562, 0.9569924457435914, 0.9945700448381248, 0.7695607896900661, 0.21399551371060663, 0.016461193362354357, 0.03323638314964823, 0.1414314176580776, 0.12021670500936595, 0.011314513412646207, 0.4384373947400405, 0.10041630653723509, 0.129409747157141, 0.002828628353161552, 0.014143141765807759, 0.004950099618032716, 0.000707157088290388, 0.0035357854414519397, 0.9821131489843925, 0.9697986397166358, 0.9467611219205072, 0.05171384279397728, 0.9892366220457395, 0.982615511801016, 0.9686028697242383, 0.9061492849120482, 0.24653064602452457, 0.7395919380735737, 0.07226286562778203, 0.009967291810728555, 0.0647873967697356, 0.8048588137163308, 0.0024918229526821388, 0.029901875432185667, 0.012459114763410694, 0.010133489156855717, 0.25587060121060684, 0.03800058433820894, 0.012666861446069645, 0.5548085313378505, 0.08866803012248752, 0.03546721204899501, 0.018765447448475796, 0.9758032673207413, 0.05299843232702562, 0.02649921616351281, 0.9009733495594355, 0.9725265805402795, 0.01603624524735113, 0.2084711882155647, 0.1880614215371178, 0.0029156809540638417, 0.44901486692583165, 0.06997634289753221, 0.008747042862191527, 0.04373521431095763, 0.0072892023851596046, 0.0058313619081276835, 0.9915533951048154, 0.7699409057439522, 0.06999462779490474, 0.05173515967449482, 0.06695138310816975, 0.015216223433674946, 0.02434595749387991, 0.9860219478215312, 0.937321948849513, 0.05825164653867031, 0.9863411705227277, 0.04937546107775789, 0.913446029938521, 0.024687730538878946, 0.96624382175169, 0.9840322133679131, 0.016646865668202376, 0.9655182087557378, 0.9866630422578371, 0.9785878421883575, 0.044955802614206355, 0.02023011117639286, 0.9339567993101371, 0.05757472703806611, 0.09595787839677684, 0.8252377542122808, 0.27023854376876805, 0.3860550625268115, 0.3474495562741303, 0.9849915566409875, 0.021042380980860732, 0.2356746669856402, 0.7364833343301257, 0.028835319824682522, 0.9323420076647349, 0.028835319824682522, 0.9854286977946008, 0.992618536862145, 0.988279087720956, 0.09241537489769455, 0.019803294620934546, 0.15182525876049818, 0.07261208027676, 0.65350872249084, 0.2431443413800641, 0.1659688337065284, 0.06472784514554608, 0.0414922084266321, 0.1958432237737035, 0.04813096177489324, 0.0356832992469036, 0.06140846847141551, 0.023235636718913977, 0.021575948381848693, 0.09626192354978648, 0.002489532505597926, 0.17059608819544697, 0.8103314189283731, 0.9493798029397342, 0.9905146716228855, 0.9938072694098558, 0.9865493547360651, 0.9785248337166134, 0.992204635313095, 0.09884127732352699, 0.09285089687967686, 0.0898557066577518, 0.551115000834211, 0.05690861421657614, 0.09584608710160193, 0.0029951902219250604, 0.00898557066577518, 0.9524468221092381, 0.9829959177481183, 0.12240884925022864, 0.018546795340943733, 0.21885218502313605, 0.6343004006602757, 0.9660334060402395, 0.21526602691413949, 0.7724251553977945, 0.5354521658247576, 0.37903303186240256, 0.016095302190329296, 0.0036271103527502637, 0.007480915102547419, 0.009521164675969442, 0.0011334719852344574, 0.023576217292876712, 0.023802911689923604, 0.667967945053114, 0.19453705616237596, 0.044760738586033404, 0.012050968080855148, 0.022380369293016702, 0.041317604848646224, 0.012050968080855148, 0.0034431337373871853, 0.12862586904447687, 0.09079473109021897, 0.0018915568977128953, 0.0018915568977128953, 0.10592718627192213, 0.6147559917566909, 0.03215646726111922, 0.020807125874841848, 0.0037831137954257906, 0.5660456399038369, 0.29228057574473826, 0.017192975043808133, 0.023805657752965108, 0.01587043850197674, 0.039676096254941846, 0.04628877896409882, 0.09917161662996209, 0.18417585945564388, 0.18417585945564388, 0.12750636423852268, 0.09917161662996209, 0.0425021214128409, 0.24084535467276508, 0.11162661233500606, 0.7689833294189307, 0.11162661233500606, 0.9889310471156106, 0.9886919029781445, 0.9576266900958614, 0.14703762163883832, 0.05166186706229455, 0.25036135576342744, 0.01589595909609063, 0.17485555005699693, 0.09934974435056644, 0.25830933531147277, 0.9893022686702363, 0.9584720119935436, 0.10117034055127393, 0.8902989968512106, 0.9847735637425472, 0.984752827696418, 0.9818781854898134, 0.977677487650586, 0.9925012133999915, 0.009849190415608852, 0.9750698511452763, 0.1723119915186268, 0.6759931974961514, 0.1502207105547003, 0.02815668024677725, 0.9667126884726857, 0.20803659142382305, 0.7801372178393364, 0.9884985156888092, 0.04792593078811748, 0.004792593078811747, 0.044730868735576315, 0.3977852255413751, 0.5032222732752335, 0.10341953110030719, 0.7702971971609087, 0.11411810328309759, 0.007132381455193599, 0.9699720592977967, 0.028759279386188046, 0.02925798813650156, 0.9479588156226505, 0.017554792881900934, 0.19101655889190072, 0.03397274369553939, 0.5422819088004966, 0.16281277167296235, 0.03461373885960617, 0.017306869429803085, 0.012178908117268837, 0.005768956476601028, 0.9383997546910391, 0.039099989778793295, 0.7656781842617015, 0.19141954606542538, 0.4328716053066515, 0.179018087618344, 0.06676494251339879, 0.019809378547931508, 0.10785106098318266, 0.03228195022625875, 0.0755691107569239, 0.07703647213084475, 0.008804168243525114, 0.9863259390973658, 0.26459527532357335, 0.7232270858844337, 0.9472423303232537, 0.9270533593665778, 0.07072886665467079, 0.367133410537325, 0.13016548191777885, 0.13016548191777885, 0.29704430488929023, 0.073426682107465, 0.9743574343205673, 0.9897118220313715, 0.2564877862501986, 0.12282513707755989, 0.12643764110925282, 0.23120025802834804, 0.2601002902818915, 0.9816398523950255, 0.963644031384392, 0.19520330300311103, 0.7950098158672159, 0.007098301927385856, 0.9514782655232369, 0.9875022180592494, 0.9940423660839786, 0.9622741396744494, 0.16394222654184892, 0.06487553349784396, 0.302460257523732, 0.003506785594478052, 0.05435517671440981, 0.039451337937878084, 0.000876696398619513, 0.17884606531838065, 0.06575222989646348, 0.007013571188956104, 0.029807677553063443, 0.09029972905780984, 0.9189157693688855, 0.9388597829422268, 0.019503314986603126, 0.9766660043291258, 0.0015002549989694713, 0.12276310601663933, 0.024552621203327865, 0.0540157666473213, 0.5156050452698852, 0.0024552621203327864, 0.09329996057264589, 0.06383681512865244, 0.0368289318049918, 0.08593417421164752, 0.9908497275417247, 0.0200912830064123, 0.04327353262919572, 0.006181933232742245, 0.8979258020558112, 0.009272899849113368, 0.0030909666163711227, 0.0030909666163711227, 0.006181933232742245, 0.007727416540927807, 0.8545946819372814, 0.034739621216962654, 0.10421886365088798, 0.939856351943943, 0.05164045889801885, 0.9973002670605235, 0.9756927280324454, 0.46952124349971874, 0.5288859984249705, 0.14947476280860514, 0.04458019241660153, 0.2412575119016083, 0.4720255667640162, 0.08916038483320306, 0.9767601970727161, 0.2289381627775547, 0.10652392663942775, 0.28602557097658504, 0.26013025179351973, 0.03236914897883164, 0.06297270801336337, 0.020010019368732285, 0.0005885299814333025, 0.0017655899442999075, 0.31926813435869783, 0.5619119164713082, 0.10216580299478331, 0.9825337408438504, 0.6858247254920266, 0.07913362217215691, 0.2110229924590851, 0.008241319002451812, 0.016482638004903623, 0.9230277282746029, 0.05768923301716268, 0.987219547977106, 0.4641421572360031, 0.356662925482776, 0.15311287205068666, 0.007205311625914667, 0.0006004426354928889, 0.018013279064786666, 0.9846742627378711, 0.9663019752379227, 0.9212106420636897, 0.9852785296961499, 0.15578536160160453, 0.8256624164885039, 0.96642643378772, 0.9639569786350896, 0.9724676864924293, 0.14827225574851852, 0.0473209326856974, 0.062043000632358805, 0.02103152563808773, 0.13144703523804832, 0.32493707110845543, 0.05047566153141055, 0.2113668326627817, 0.004206305127617546, 0.9850668521047444, 0.968409674961582, 0.9906101980268647, 0.040706549433240244, 0.9464272743228357, 0.9584138182701122, 0.7038486074853012, 0.025845114105947413, 0.09734992979906859, 0.049967220604831664, 0.006892030428252644, 0.05772075483661589, 0.03790616735538954, 0.010338045642378965, 0.007753534231784224, 0.001723007607063161, 0.997034712056112, 0.07134409203629316, 0.9132043780645526, 0.8307618777944485, 0.14941760391986483, 0.011953408313589188, 0.8760396948697593, 0.5718007327854117, 0.1004360568565194, 0.06505517319115461, 0.06962044850281458, 0.02510901421412985, 0.04907670960034471, 0.07190308615864457, 0.0342395648374498, 0.009130550623319945, 0.0034239564837449795, 0.0011413188279149932, 0.9724073887868477, 0.3235540380558896, 0.09516295236937929, 0.19611843227428602, 0.001655007867293553, 0.2606637390987346, 0.026480125876696847, 0.09268044056843897, 0.001655007867293553, 0.0008275039336467765, 0.32964520818300436, 0.2580393019045044, 0.023223537171405396, 0.20449614675931974, 0.000645098254761261, 0.034835305757108095, 0.03548040401186935, 0.1141823910927432, 0.07920184472916349, 0.9207214449765255, 0.6468764313999565, 0.0993184015886802, 0.026136421470705315, 0.06926151689736909, 0.04443191650019904, 0.035284168985452176, 0.045738737573734305, 0.030056884691311115, 0.0026136421470705318, 0.9898301179608341, 0.9786759313731704, 0.013051840086297051, 0.1305184008629705, 0.8483696056093084, 0.08198653397120012, 0.8745230290261347, 0.9841918452194159, 0.03577451754531272, 0.1341544407949227, 0.14309807018125087, 0.6886594627472697, 0.98228534836951, 0.9690557629902575, 0.850646498093003, 0.09133187807344287, 0.9019022959752483, 0.9920420958739277, 0.9775827543765642, 0.1563164910277679, 0.05314760694944108, 0.06565292623166251, 0.05627393676999644, 0.5971289957260734, 0.0594002665905518, 0.009378989461666074, 0.0703339559794004, 0.5747981919695825, 0.03880494123001401, 0.004850617653751751, 0.0800351912869039, 0.23282964738008408, 0.042545667805168295, 0.38291101024651464, 0.00607795254359547, 0.018233857630786412, 0.11548109832831394, 0.4315346305952784, 0.13417968324017449, 0.03220312397764187, 0.5796562315975538, 0.02325781176163024, 0.06440624795528374, 0.16280468233141168, 0.5250240656892307, 0.4115053487834511, 0.056759358452889805, 0.9932281458114145, 0.9884809749620158, 0.11073126276548216, 0.04844492745989845, 0.6067150439025377, 0.03460351961421318, 0.01153450653807106, 0.004613802615228424, 0.02768281569137054, 0.06690013792081215, 0.029989716998984752, 0.002306901307614212, 0.05305873007512687, 0.9926276612855565, 0.9849798516148294, 0.29430179352859637, 0.45837247981631557, 0.019483393996666657, 0.09844241177263154, 0.024610602943157884, 0.034352299941491214, 0.009741696998333329, 0.028712370100350864, 0.022559719364561394, 0.002563604473245613, 0.0066653716304385935, 0.0005127208946491226, 0.513352223115458, 0.1503542076070379, 0.032218758772936694, 0.02792292426987847, 0.2749334081957265, 0.9511028635466291, 0.013213887259245643, 0.9844346008138004, 0.9603060921132613, 0.9741160810226752, 0.9325671857187317, 0.9869996016445444, 0.9923194341034495, 0.05217417739512991, 0.8646006539764385, 0.07453453913589987, 0.8895049745647633, 0.10042798099924746, 0.9852811249003814, 0.9644839299315102, 0.8697652335508795, 0.11996761842081097, 0.188944868309052, 0.013496062022075142, 0.2564251784194277, 0.047236217077263, 0.026992124044150283, 0.4453700467284797, 0.013496062022075142, 0.9895880066892873, 0.9886347506751241, 0.2701440249392668, 0.7284240672469516, 0.009962394950978577, 0.35864621823522874, 0.0672461659191054, 0.03237778359068037, 0.027396586115191086, 0.35117442202199484, 0.009962394950978577, 0.13947352931370008, 0.1404300808401869, 0.37543552224621396, 0.028659200171466715, 0.0028659200171466713, 0.4499494426920274, 0.8598920014726421, 0.13116996632633524, 0.9742854500723318, 0.8610088107291073, 0.1716822867615405, 0.6945093110987998, 0.014522972898257202, 0.002593388017545929, 0.0031120656210551147, 0.08039502854392379, 0.025415202571950103, 0.006224131242110229, 0.0010373552070183716, 0.9738633861340815, 0.018936232508162697, 0.005410352145189342, 0.9817632917341835, 0.975969781520957, 0.989712885828156, 0.9160831619085779, 0.974079220903389, 0.010473970117240742, 0.035091513677070175, 0.9079929163941908, 0.05263727051560526, 0.9935735130766785, 0.15365833175598126, 0.524885982812467, 0.03943443912321643, 0.04759328859698535, 0.031275589649447516, 0.19853200386171033, 0.004079424736884459, 0.47520430828894183, 0.5107811014228734, 0.010164798038266136, 0.6126533991029164, 0.009881506437143812, 0.17786711586858864, 0.08695725664686554, 0.11264917338343947, 0.04282097278484673, 0.11418926075959128, 0.37111509746867166, 0.12846291835454018, 0.32829412468382496, 0.9944785520078081, 0.8646729159123161, 0.051622263636556184, 0.06452782954569523, 0.9678856190281212, 0.006784244993187765, 0.00452282999545851, 0.011307074988646275, 0.00904565999091702, 0.9931297967353752, 0.998973111534524, 0.9815174742017778, 0.94937124611291, 0.2318868148001918, 0.08387395428943108, 0.09867524034050715, 0.1480128605107607, 0.04440385815322821, 0.029602572102152145, 0.01973504806810143, 0.28122443497044536, 0.05427138218727893, 0.534504414191202, 0.4280565011954965, 0.03623758740279335, 0.8540397680205504, 0.1437492678846471, 0.10115850554010468, 0.3741882583570862, 0.03633849228139682, 0.022588792499246675, 0.10410486977913684, 0.0903551699969867, 0.027499399564300298, 0.07562334880182582, 0.1492824547776302, 0.01767818543419305, 0.0009821214130107249, 0.2316638340016908, 0.7681485022161326, 0.07385856408675408, 0.7206200441977897, 0.16767890225100923, 0.03593119333950198, 0.9905879824979509, 0.02126550932883902, 0.004253101865767804, 0.9186700030058457, 0.02126550932883902, 0.02977171306037463, 0.0368300401149981, 0.011630538983683611, 0.009692115819736342, 0.5253126774297098, 0.12599750565657244, 0.17639650791920145, 0.11242854350894158, 0.9062252218691296, 0.5276021755541203, 0.10509580559327546, 0.09872636283004664, 0.1549897739052345, 0.008492590350971753, 0.046709246930344644, 0.018046754495814978, 0.03821665657937289, 0.9746581971360233, 0.9735422579095936, 0.947511199225616, 0.9694168805095029, 0.9465086107663474, 0.04674116596377024, 0.07810241514206616, 0.01301706919034436, 0.7810241514206615, 0.05987851827558405, 0.04165462140910195, 0.005206827676137744, 0.020827310704550975, 0.04912438431000169, 0.9210822058125318, 0.024562192155000846, 0.9668320872022386, 0.9482210497062131, 0.15974131518479648, 0.05990299319429868, 0.7787389115258829, 0.02501392242328562, 0.0227399294757142, 0.6480879900578547, 0.06480879900578547, 0.04775385189899982, 0.00909597179028568, 0.06367180253199975, 0.01023296826407139, 0.01023296826407139, 0.00341098942135713, 0.00113699647378571, 0.0920967143766425, 0.7898294739261974, 0.05456058865937548, 0.06495308173735176, 0.005196246538988141, 0.03897184904241106, 0.0441680955813992, 0.9381739466333211, 0.043635997517828894, 0.021817998758914447, 0.9874975809312377, 0.9917285396608352, 0.9902791805531755, 0.10879422087053661, 0.8703537669642929, 0.014701921739261704, 0.11168555024241573, 0.14519121531514045, 0.08934844019393258, 0.03908994258484551, 0.20941040670452948, 0.11726982775453651, 0.1256462440227177, 0.005584277512120786, 0.005584277512120786, 0.13960693780301967, 0.00837641626818118, 0.9980020547965819, 0.0021596814210554007, 0.05399203552638502, 0.05615171694744042, 0.19005196505287528, 0.0021596814210554007, 0.036714584157941814, 0.5269622667375178, 0.010798407105277004, 0.02591617705266481, 0.03023553989477561, 0.06479044263166202, 0.8844613277789163, 0.9417423058255634, 0.9886554433958492, 0.9941839897518037, 0.9878074093637198, 0.035621278377037206, 0.10686383513111163, 0.025443770269312292, 0.03053252432317475, 0.7531355999716438, 0.04071003243089966, 0.32620462451564125, 0.2657963607164484, 0.15706148587790134, 0.08457156931886994, 0.024163305519677127, 0.1328981803582242, 0.9962837721041825, 0.991305774329674, 0.26792346596536054, 0.7287518274257807, 0.11270322353217495, 0.8790851435509646, 0.9773956779247611, 0.9952685060059162, 0.3120473047443357, 0.21612857234787322, 0.05792494878487668, 0.13515821383137894, 0.05543355313821532, 0.08844454545647837, 0.01058843149831079, 0.029273898848271012, 0.06975907810651816, 0.006228489116653407, 0.00934273367498011, 0.0024913956466613625, 0.0024913956466613625, 0.004982791293322725, 0.9789280015557128, 0.9903287478232312, 0.007275519021719846, 0.1564236589669767, 0.15824253872240665, 0.616600237090757, 0.02728319633144942, 0.010913278532579769, 0.021826557065159537, 0.9841400771655641, 0.9935797014079958, 0.9487429282678046, 0.9889816410337697, 0.8398370980684102, 0.9723940319079355, 0.9912587092459567, 0.7725700924230052, 0.002850812149162381, 0.11973411026482, 0.05986705513241, 0.04276218223743572, 0.9777669932416014, 0.9680076375976449, 0.9890505029691143, 0.8616909300876597, 0.001847140257422636, 0.10436342454437894, 0.018471402574226362, 0.012929981801958453, 0.8665862442616631, 0.12699970821076098, 0.3762703898674209, 0.3054636757555112, 0.09655461015260412, 0.13049501856988316, 0.021651639852402135, 0.022236819307872465, 0.018725742575050497, 0.028088613862575745, 0.08035851162304779, 0.9107297983945416, 0.378409876471866, 0.1662710063285472, 0.08026876167585037, 0.0028667414884232276, 0.017200448930539364, 0.08026876167585037, 0.005733482976846455, 0.2694736999117834, 0.1791418178183643, 0.02592842100002641, 0.07542813381825865, 0.6482105250006602, 0.054213971181873405, 0.002357129181820583, 0.014142775090923496, 0.1011108130740823, 0.40174696394768705, 0.3518656294978064, 0.009437009220247683, 0.04448875775259622, 0.004044432522963292, 0.009437009220247683, 0.07684421793630256, 0.02882691575044459, 0.045299439036412925, 0.3623955122913034, 0.5600657917229235, 0.22897976480734425, 0.13440116629996293, 0.632183263707233, 0.0038795408328052188, 0.0015518163331220876, 0.024053153163392356, 0.0007759081665610438, 0.2785510317954147, 0.69133417640589, 0.9914983755095037, 0.9921225273749967, 0.00928871374646742, 0.6390635057569585, 0.26008398490108775, 0.0464435687323371, 0.04272808323375013, 0.9936993219627267, 0.9664571048070182, 0.13645861269937118, 0.3225385391076046, 0.5334291223702692, 0.09587092366241289, 0.8915995900604399, 0.9758517444417425, 0.09967692035078397, 0.24088589084772793, 0.6562063923093278, 0.14397140410588735, 0.2074426682816011, 0.10681749336888416, 0.18112531484289052, 0.34986599277344665, 0.009288477684250796, 0.9747846309128704, 0.018392162847412647, 0.04893812766679872, 0.9298244256691757, 0.824885954577332, 0.07950707995926092, 0.0039753539979630464, 0.05565495597148264, 0.03180283198370437, 0.26186211174750496, 0.2005531252669383, 0.014547895097083608, 0.013508759733006206, 0.013508759733006206, 0.2535490288348857, 0.1828878240776225, 0.05715244502425703, 0.873026810797446, 0.048820578235383494, 0.020102591038099086, 0.03158978591701285, 0.020102591038099086, 0.8816557097622424, 0.10940253332816147, 0.10020105267326745, 0.17177323315417276, 0.006361971598302695, 0.0015904928995756737, 0.5646249793493642, 0.019085914794908086, 0.13678238936350795, 0.25422789004841045, 0.21322339165350554, 0.012301349518471474, 0.07790854695031933, 0.049205398073885895, 0.3895427347515966, 0.9927551058493915, 0.9779397450696709, 0.984941818792734, 0.9885736916179667, 0.9851942034719636, 0.9749239043514292, 0.9850127576988841, 0.2558114075078422, 0.3205991530124393, 0.05677276667928613, 0.1663108106252029, 0.010018723531638728, 0.022041191769605204, 0.032059915301243934, 0.1335829804218497, 0.001335829804218497, 0.0006679149021092486, 0.9876482822038926, 0.9458155999144721, 0.027818105879837414, 0.020863579409878062, 0.9673640552822286, 0.9976385256158556, 0.8839662889330954, 0.11458822263947532, 0.04287158207149973, 0.8895853279836193, 0.05358947758937466, 0.1969030223541024, 0.058725462807363876, 0.22108409527478165, 0.43353209307789214, 0.008636097471671158, 0.02245385342634501, 0.036271609381018866, 0.02072663393201078, 0.16992705937991276, 0.043967141238159244, 0.41352878786160585, 0.1663621560362782, 0.0035649033436345335, 0.007129806687269067, 0.0665448624145113, 0.0106947100309036, 0.046343743467248934, 0.0106947100309036, 0.004753204458179378, 0.05585015238360769, 0.9827193370608194, 0.9896951102707755, 0.9869077680913337, 0.07990094211238252, 0.3525041563781582, 0.009400110836750885, 0.14570171796963874, 0.028200332510252658, 0.3760044334700354, 0.0695894446173798, 0.02899560192390825, 0.0695894446173798, 0.06379032423259814, 0.4407331492434054, 0.3247507415477724, 0.19325078537362053, 0.7944754509804399, 0.1083950858619972, 0.8671606868959776, 0.04368134670684867, 0.04368134670684867, 0.8736269341369735, 0.9916837296072489, 0.9926687116134012, 0.9910048580792108, 0.9922140053288526, 0.9543797367155271, 0.16339234598948005, 0.0009583128797036953, 0.30091024422696033, 0.05174889550399955, 0.013895536755703581, 0.3699087715656264, 0.02204119623318499, 0.07187346597777715, 0.00047915643985184766, 0.004312407958666629, 0.30030740167285647, 0.37800931679100813, 0.0497012249854844, 0.11970295031715257, 0.021000517599500453, 0.027300672879350587, 0.020300500346183768, 0.08190201863805176, 0.0014000345066333634, 0.04361211386960449, 0.9376604481964964, 0.9810289434713265, 0.9772125416088162, 0.00939627443854631, 0.016674023893858483, 0.6938959174290338, 0.21163184172974228, 0.016674023893858483, 0.06156562668501594, 0.00365423264865635, 0.752771925623208, 0.1973285630274429, 0.04385079178387619, 0.011150907230833559, 0.14867876307778077, 0.04832059800027875, 0.12265997953916914, 0.17841451569333694, 0.24160299000139376, 0.24531995907833828, 0.0037169690769445194, 0.014209954632571728, 0.5196783408483374, 0.2557791833862911, 0.08728972131436918, 0.006089980556816455, 0.11773962409845146, 0.16470678220083085, 0.8235339110041542, 0.978582854293995, 0.29345624438802337, 0.6847312369053878, 0.9830949799950717, 0.9858926803063915, 0.01761050749215222, 0.016079159014573765, 0.6707306331793628, 0.24654710489013107, 0.022970227163676808, 0.005359719671524588, 0.019907530208519902, 0.0007656742387892269, 0.9892811682542878, 0.41229657736939845, 0.241769500332423, 0.05381076653166781, 0.12960057854810136, 0.01970535112427272, 0.0053052868411503475, 0.11444261614481464, 0.021979045484765727, 0.5098058964750363, 0.20615101824673598, 0.013310050727642114, 0.10709947794800398, 0.00123814425373415, 0.021667524440347627, 0.021977060503781166, 0.11824277623161134, 0.04053745653114373, 0.3029641488117058, 0.017068402749955257, 0.027736154468677294, 0.0896091144372651, 0.06400651031233222, 0.08534201374977629, 0.2752279943430285, 0.021335503437444073, 0.03200325515616611, 0.017068402749955257, 0.02346905378118848, 0.042280815579770974, 0.12684244673931291, 0.7610546804358775, 0.8771226175245893, 0.9737959611464416, 0.992301710932345, 0.9729945155016969, 0.15001641317321587, 0.3620649296838797, 0.07469171626345769, 0.12153228408969388, 0.1066572389016324, 0.031332541991874206, 0.009494709694507334, 0.057601238813344495, 0.07690714852550941, 0.0025319225852019557, 0.007279277432455623, 0.025107204751056576, 0.9540737805401499, 0.9925382337096558, 0.9887564465965338, 0.05258622134392209, 0.1237322855151108, 0.6836208774709872, 0.04639960706816655, 0.03402637851665547, 0.03402637851665547, 0.01546653568938885, 0.00927992141363331, 0.9668578131991282, 0.05436233555294641, 0.7812644223752012, 0.0015532095872270403, 0.06989443142521681, 0.041936658855130086, 0.04970270679126529, 0.07582097777495046, 0.7659862882905252, 0.0583238290576542, 0.01555302108204112, 0.08359748831597102, 0.9933335421461027, 0.018133749143415825, 0.9610887046010387, 0.9684706559694284, 0.050439974259198404, 0.020175989703679363, 0.2370678790182325, 0.5094437400179038, 0.020175989703679363, 0.025219987129599202, 0.14123192792575553, 0.9726149438618952, 0.9555533889345356, 0.9929570364907975, 0.9729827309534488, 0.9798988015317558, 0.9376078319706506, 0.18904990103749014, 0.08402217823888451, 0.05601478549258967, 0.6721774259110761, 0.9552539950307773, 0.6456519310656847, 0.032377825451671505, 0.03523469240328958, 0.021902646629071904, 0.07237396277432455, 0.04570987122588919, 0.09999034330663259, 0.015236623741963062, 0.02666409154843536, 0.004761444919363457, 0.9695251911511084, 0.6080033000820952, 0.002202910507543823, 0.38771224932771287, 0.2095074506289807, 0.6983581687632691, 0.9967027731614112, 0.11953341060177868, 0.8787919260908543, 0.0653008934585682, 0.9328699065509742, 0.9728113060430922, 0.9722936419174528, 0.9876182622459979, 0.020509659711555266, 0.02820078210338849, 0.7768033615751556, 0.005127414927888816, 0.14613132544483126, 0.017945952247610857, 0.9215626098058122, 0.017387973769920986, 0.05795991256640328, 0.09407115331243225, 0.8083741479559856, 0.0031888526546587203, 0.051021642474539525, 0.019133115927952322, 0.022321968582611044, 0.9969455331099909, 0.9723583653906481, 0.05521389637648674, 0.9386362384002747, 0.9756620958122235, 0.992252572654337, 0.1667759583624409, 0.09460390620559514, 0.13361582629037663, 0.2521145335479004, 0.14385645531263178, 0.1575106273423053, 0.00048764900105976875, 0.020968907045570057, 0.00048764900105976875, 0.010240629022255143, 0.0014629470031793062, 0.010728278023314912, 0.0068270860148367625, 0.7271192903589143, 0.022663458400797327, 0.060435889068792874, 0.18886215333997775, 0.0883431841338358, 0.050844998062639306, 0.4150222966862933, 0.08452980927913785, 0.17287299341297363, 0.15189943171213494, 0.0031778123789149566, 0.0006355624757829913, 0.018431311797706747, 0.0025422499031319654, 0.012075687039876834, 0.1823887796967048, 0.0911943898483524, 0.11691588442096462, 0.19408036813880125, 0.10756261366728745, 0.023383176884192922, 0.03741308301470868, 0.07716448371783664, 0.10054766060202958, 0.07014953065257877, 0.9938284950481252, 0.8507749532393205, 0.14062395921311083, 0.2989573172609922, 0.004783317076175875, 0.01674160976661556, 0.5907396589077205, 0.011958292690439687, 0.0023916585380879376, 0.076533073218814, 0.07407238970225835, 0.23456256739048476, 0.15431747854637157, 0.537024825341373, 0.993010336305743, 0.9802312380528092, 0.02653161390558944, 0.8857477257712166, 0.021429380462206854, 0.030613400660295508, 0.030613400660295508, 0.004081786754706067, 0.9699565578243081, 0.020207428288006417, 0.07078819747320829, 0.42472918483924976, 0.010112599639029756, 0.060675597834178537, 0.42472918483924976, 0.9953611852716846, 0.9745540308590032, 0.41932451850029195, 0.5755434567651067, 0.03243314928665175, 0.9621834288373353, 0.040965396694923224, 0.8807560289408493, 0.06827566115820537, 0.9847372244458071, 0.0940184269067201, 0.04700921345336005, 0.846165842160481, 0.9500533303415202, 0.9895938341230808, 0.9439697146653726, 0.9896239294468211, 0.9765933823217597, 0.9676112795639241, 0.9869709642936701, 0.3094366106803932, 0.24301580498068356, 0.1855565365579189, 0.18661083506108891, 0.0168687760507199, 0.032683253598269804, 0.011597283534869931, 0.013178731289624922, 0.0005271492515849968, 0.07827689481807994, 0.6783997550900261, 0.07353284058668115, 0.120973382900669, 0.007116081347098176, 0.002372027115699392, 0.028464325388392706, 0.007116081347098176, 0.9760071330128975, 0.9874167247446645, 0.01652899425765839, 0.8311722826708219, 0.13459323895521833, 0.014167709363707192, 0.2812956852409185, 0.1372174074345944, 0.030873916672783743, 0.514565277879729, 0.0343043518586486, 0.9592531569952283, 0.964241498879825, 0.0033833035048414914, 0.03044973154357342, 0.9844462987233666, 0.2766943055162595, 0.3250780092130918, 0.06614959489801286, 0.12965320600010521, 0.03326379629157218, 0.017387893516049097, 0.012095925924208066, 0.021545868052495618, 0.11566729165023965, 0.0015119907405260083, 0.8564735250824873, 0.04100978204814856, 0.009463795857265053, 0.09148335995356217, 0.039899503595674575, 0.20393079615567003, 0.30589619423350506, 0.044332781772971744, 0.4034283141340429, 0.9895582238192544, 0.6748902795282842, 0.13406398329230024, 0.09140726133565925, 0.03503945017866938, 0.030469087111886416, 0.025898724045103454, 0.007617271777971604, 0.9983300846783179, 0.2048875946349526, 0.7902807221633885, 0.059380831820146286, 0.8550839782101065, 0.0831331645482048, 0.954084702364818, 0.041481943581079046, 0.9532804294617524, 0.9673428505307361, 0.03537389740669615, 0.30460856100210576, 0.0009826082612971153, 0.6583475350690673, 0.0009826082612971153, 0.011391057159335636, 0.9879843576197109, 0.9696024258170285, 0.05211141727027125, 0.05211141727027125, 0.7903564952657806, 0.09553759832883062, 0.9505275023323807, 0.16500814567161307, 0.04950244370148392, 0.7755382846565815, 0.9343676624790043, 0.05839797890493777, 0.23006558333392468, 0.7668852777797489, 0.9902073119250667, 0.8989094218636727, 0.08619679387733847, 0.9925107046289234, 0.23495184180028994, 0.7489089957384242, 0.9909416431107337, 0.9850099841598421, 0.04026826196342117, 0.8098394905976924, 0.14765029386587764, 0.36389072159110636, 0.07398608032350294, 0.1419324806205975, 0.051337280224471434, 0.001509920006602101, 0.3201030413996454, 0.004529760019806303, 0.04227776018485883, 0.14140039537635404, 0.18815829504263845, 0.2135089635364071, 0.21970579361266165, 0.0698551754050514, 0.08337553193506135, 0.055208122497540625, 0.019153838417514092, 0.006760178265004974, 0.001126696377500829, 0.0016900445662512435, 0.4116603714568822, 0.03451549126734595, 0.05219415752623047, 0.00841841250423072, 0.022729713761422944, 0.006734730003384576, 0.09007701379526871, 0.13469460006769152, 0.09260253754653792, 0.1018627913011917, 0.002525523751269216, 0.041250221270730525, 0.039914827511722525, 0.94797715340341, 0.4044562003543288, 0.22856549936246148, 0.08871544988731658, 0.10920009369810323, 0.006776874644170017, 0.05298283812714741, 0.02849367748116939, 0.07916621743416793, 0.0013861789044893216, 0.0001540198782765913, 0.6137979418955068, 0.10229965698258446, 0.04830817135288711, 0.09661634270577422, 0.01989159996883587, 0.018470771399633306, 0.059674799906507606, 0.041204028506874296, 0.9722642717265173, 0.9952718786592166, 0.3874320135117159, 0.5424048189164022, 0.9978291881988213, 0.954853330417001, 0.9826801934388775, 0.9914270325423168, 0.18387936490406168, 0.04390199369681749, 0.13997737120724418, 0.16415528077940456, 0.4409287193028192, 0.012088954786080179, 0.0006362607782147463, 0.013997737120724418, 0.13318697746007213, 0.42848537698013106, 0.09148196431600915, 0.00201798450697079, 0.0026906460092943865, 0.1385682694786609, 0.011435245539501144, 0.1392409309809845, 0.028924444599914657, 0.012780568544148337, 0.0006726615023235966, 0.01008992253485395, 0.0006726615023235966, 0.9536726078894284, 0.04826292526640982, 0.5888076882501998, 0.05791551031969178, 0.0836557371284437, 0.21557439952329718, 0.9909332922544531, 0.9802611240179797], \"Term\": [\"absolute\", \"absolute\", \"accelerator\", \"access\", \"access\", \"access\", \"access\", \"access\", \"access\", \"access\", \"access\", \"acid\", \"acid\", \"action\", \"action\", \"action\", \"action\", \"action\", \"adaptec\", \"address\", \"address\", \"address\", \"address\", \"address\", \"address\", \"address\", \"address\", \"address\", \"address\", \"address\", \"adjective\", \"adjustable\", \"administration\", \"administration\", \"administration\", \"administration\", \"adobe\", \"adobe\", \"aeronautics\", \"aerospace\", \"agdam\", \"aged\", \"aged\", \"agree\", \"agree\", \"agree\", \"agree\", \"agree\", \"aids\", \"aids\", \"aids\", \"algorithm\", \"algorithm\", \"allah\", \"allocation\", \"alomar\", \"also\", \"also\", \"also\", \"also\", \"also\", \"also\", \"also\", \"also\", \"also\", \"also\", \"also\", \"also\", \"also\", \"also\", \"also\", \"aluminum\", \"aluminum\", \"amendment\", \"amendment\", \"amendment\", \"american\", \"american\", \"american\", \"american\", \"american\", \"american\", \"american\", \"american\", \"ames\", \"among\", \"among\", \"among\", \"among\", \"among\", \"among\", \"among\", \"among\", \"among\", \"among\", \"amongst\", \"analogy\", \"anecdotal\", \"ankara\", \"anon\", \"anon\", \"anonymous\", \"anonymous\", \"anonymous\", \"anonymous\", \"antenna\", \"antenna\", \"anti\", \"anti\", \"anti\", \"anti\", \"anyone\", \"anyone\", \"anyone\", \"anyone\", \"anyone\", \"anyone\", \"anyone\", \"anyone\", \"anyways\", \"apartment\", \"apple\", \"apple\", \"apple\", \"application\", \"application\", \"application\", \"application\", \"april\", \"april\", \"april\", \"april\", \"april\", \"april\", \"april\", \"april\", \"arab\", \"arabs\", \"architecture\", \"archive\", \"archive\", \"archive\", \"archive\", \"archive\", \"argic\", \"arguing\", \"arguing\", \"argument\", \"argument\", \"argument\", \"argument\", \"argument\", \"arguments\", \"arguments\", \"arguments\", \"ariane\", \"armenia\", \"armenian\", \"armenians\", \"armenians\", \"arms\", \"arms\", \"army\", \"army\", \"army\", \"army\", \"army\", \"around\", \"around\", \"around\", \"around\", \"around\", \"around\", \"around\", \"around\", \"around\", \"around\", \"around\", \"arrived\", \"asala\", \"asking\", \"asking\", \"asking\", \"asking\", \"asking\", \"assault\", \"assumption\", \"astro\", \"astronomical\", \"astronomical\", \"astronomy\", \"astros\", \"atheism\", \"atheism\", \"atheists\", \"atheists\", \"atmosphere\", \"atmospheric\", \"atrocities\", \"audio\", \"audio\", \"audio\", \"austria\", \"authentication\", \"author\", \"author\", \"author\", \"author\", \"available\", \"available\", \"available\", \"available\", \"available\", \"available\", \"available\", \"available\", \"avenue\", \"average\", \"average\", \"average\", \"average\", \"average\", \"average\", \"average\", \"average\", \"aviation\", \"axis\", \"azerbaijan\", \"azerbaijanis\", \"azeri\", \"azeris\", \"back\", \"back\", \"back\", \"back\", \"back\", \"back\", \"back\", \"back\", \"back\", \"back\", \"back\", \"backing\", \"backing\", \"backing\", \"ball\", \"ball\", \"baltimore\", \"bands\", \"bands\", \"banks\", \"banks\", \"banks\", \"baseball\", \"based\", \"based\", \"based\", \"based\", \"based\", \"based\", \"based\", \"based\", \"based\", \"based\", \"based\", \"based\", \"based\", \"batf\", \"battery\", \"battery\", \"battery\", \"beauchaine\", \"beings\", \"belief\", \"belief\", \"believe\", \"believe\", \"believe\", \"believe\", \"believe\", \"believe\", \"believe\", \"believe\", \"best\", \"best\", \"best\", \"best\", \"best\", \"best\", \"best\", \"best\", \"best\", \"beth\", \"better\", \"better\", \"better\", \"better\", \"better\", \"better\", \"better\", \"better\", \"bible\", \"bible\", \"biblical\", \"bibliography\", \"bike\", \"bikes\", \"binaries\", \"bindings\", \"bios\", \"bits\", \"bits\", \"bits\", \"bits\", \"black\", \"black\", \"black\", \"black\", \"black\", \"black\", \"black\", \"black\", \"black\", \"black\", \"black\", \"black\", \"blew\", \"blew\", \"blood\", \"blood\", \"blood\", \"blood\", \"blood\", \"blues\", \"board\", \"board\", \"board\", \"board\", \"board\", \"board\", \"bobbe\", \"body\", \"body\", \"body\", \"body\", \"body\", \"body\", \"body\", \"body\", \"body\", \"body\", \"boggs\", \"boot\", \"boot\", \"borders\", \"borders\", \"borland\", \"boston\", \"boston\", \"boston\", \"boston\", \"bought\", \"bought\", \"bought\", \"boulder\", \"brain\", \"brain\", \"brain\", \"brain\", \"brain\", \"brake\", \"braves\", \"braves\", \"breakers\", \"british\", \"british\", \"british\", \"british\", \"bronx\", \"brought\", \"brought\", \"brought\", \"brought\", \"bruins\", \"buffalo\", \"buffalo\", \"buffalo\", \"build\", \"build\", \"build\", \"build\", \"build\", \"build\", \"build\", \"build\", \"bullinger\", \"burning\", \"burning\", \"button\", \"button\", \"button\", \"buttons\", \"buying\", \"buying\", \"byte\", \"byte\", \"byte\", \"bytes\", \"bytes\", \"cable\", \"cable\", \"cable\", \"cable\", \"cache\", \"cache\", \"cadre\", \"calgary\", \"california\", \"california\", \"california\", \"california\", \"california\", \"call\", \"call\", \"call\", \"call\", \"call\", \"call\", \"call\", \"call\", \"call\", \"call\", \"call\", \"call\", \"came\", \"came\", \"came\", \"came\", \"came\", \"came\", \"came\", \"came\", \"came\", \"campbell\", \"canadiens\", \"cancer\", \"candida\", \"capitol\", \"caps\", \"caps\", \"caps\", \"card\", \"card\", \"card\", \"card\", \"cardinals\", \"cards\", \"cards\", \"cards\", \"cards\", \"cards\", \"career\", \"career\", \"career\", \"career\", \"cars\", \"cars\", \"carson\", \"case\", \"case\", \"case\", \"case\", \"case\", \"case\", \"case\", \"case\", \"case\", \"catbyte\", \"catcher\", \"catholic\", \"cause\", \"cause\", \"cause\", \"cause\", \"cause\", \"cause\", \"cause\", \"cause\", \"cause\", \"cause\", \"cdrom\", \"cells\", \"center\", \"center\", \"center\", \"center\", \"center\", \"center\", \"center\", \"center\", \"centers\", \"centers\", \"certainly\", \"certainly\", \"certainly\", \"certainly\", \"certainly\", \"certainly\", \"char\", \"chastity\", \"check\", \"check\", \"check\", \"check\", \"check\", \"check\", \"check\", \"chicago\", \"chicago\", \"chicago\", \"children\", \"children\", \"children\", \"children\", \"children\", \"children\", \"chinese\", \"chip\", \"chips\", \"chips\", \"chop\", \"christ\", \"christian\", \"christian\", \"christian\", \"christianity\", \"christianity\", \"christians\", \"christians\", \"church\", \"cincinnati\", \"ciphertext\", \"circuit\", \"circuits\", \"circuits\", \"claim\", \"claim\", \"claim\", \"claim\", \"claim\", \"classified\", \"cleansing\", \"cleveland\", \"cleveland\", \"cleveland\", \"click\", \"clients\", \"clinical\", \"clinical\", \"clipper\", \"clipper\", \"clone\", \"cluster\", \"cobra\", \"code\", \"code\", \"code\", \"code\", \"code\", \"code\", \"code\", \"color\", \"color\", \"color\", \"colorado\", \"colorado\", \"colorado\", \"colorado\", \"colorado\", \"colorado\", \"colorado\", \"colorado\", \"colormap\", \"colormap\", \"column\", \"come\", \"come\", \"come\", \"come\", \"come\", \"come\", \"come\", \"come\", \"comics\", \"commercial\", \"commercial\", \"commercial\", \"commercial\", \"commercial\", \"commercial\", \"commercial\", \"comp\", \"comp\", \"compass\", \"compile\", \"computer\", \"computer\", \"computer\", \"computer\", \"computer\", \"computer\", \"computer\", \"computer\", \"conclusion\", \"conclusion\", \"conclusion\", \"condition\", \"condition\", \"condition\", \"condition\", \"conductor\", \"conference\", \"conference\", \"conference\", \"conference\", \"congress\", \"congress\", \"congress\", \"congress\", \"connected\", \"connected\", \"connected\", \"connection\", \"connection\", \"connection\", \"connection\", \"connection\", \"connection\", \"connection\", \"connection\", \"conscience\", \"consequences\", \"consumer\", \"contest\", \"contracts\", \"contrib\", \"controller\", \"cooper\", \"cooper\", \"copies\", \"copies\", \"copies\", \"copies\", \"copies\", \"copies\", \"corn\", \"corp\", \"corp\", \"corp\", \"corp\", \"corp\", \"corp\", \"could\", \"could\", \"could\", \"could\", \"could\", \"could\", \"could\", \"could\", \"could\", \"could\", \"countersteering\", \"countries\", \"countries\", \"countries\", \"country\", \"country\", \"country\", \"country\", \"country\", \"courses\", \"courtesy\", \"courtesy\", \"cover\", \"cover\", \"cover\", \"cover\", \"cover\", \"cover\", \"cover\", \"cpsr\", \"crime\", \"crime\", \"crime\", \"crime\", \"crowley\", \"cryptanalysis\", \"crypto\", \"cryptology\", \"ctrl\", \"cubs\", \"cure\", \"current\", \"current\", \"current\", \"current\", \"current\", \"current\", \"current\", \"current\", \"current\", \"current\", \"cursor\", \"darkness\", \"data\", \"data\", \"data\", \"data\", \"data\", \"data\", \"data\", \"days\", \"days\", \"days\", \"days\", \"days\", \"days\", \"days\", \"days\", \"days\", \"days\", \"days\", \"deaf\", \"dealer\", \"dealer\", \"dealy\", \"decenso\", \"decrypt\", \"defenseman\", \"defensive\", \"define\", \"define\", \"define\", \"define\", \"definition\", \"definition\", \"definition\", \"degrees\", \"degrees\", \"degrees\", \"degrees\", \"degrees\", \"degrees\", \"department\", \"department\", \"department\", \"department\", \"department\", \"dept\", \"destination\", \"detector\", \"detectors\", \"detectors\", \"detroit\", \"detroit\", \"device\", \"device\", \"device\", \"device\", \"device\", \"devices\", \"devices\", \"devices\", \"devices\", \"diagnosed\", \"diagnosed\", \"diagnosed\", \"diagnostic\", \"dialog\", \"dialog\", \"dialog\", \"diarrhea\", \"diet\", \"diff\", \"digit\", \"directory\", \"directory\", \"disagree\", \"disagree\", \"disagree\", \"disagree\", \"disc\", \"discharge\", \"discussion\", \"discussion\", \"discussion\", \"discussion\", \"discussion\", \"discussion\", \"discussion\", \"discussion\", \"disease\", \"disease\", \"disease\", \"diseases\", \"diseases\", \"disk\", \"disk\", \"display\", \"display\", \"display\", \"dispute\", \"divine\", \"division\", \"division\", \"division\", \"division\", \"division\", \"division\", \"doctor\", \"doctor\", \"doctors\", \"doctors\", \"doctors\", \"doctors\", \"doctrine\", \"documentary\", \"dodgers\", \"dortmund\", \"dose\", \"dragon\", \"dragon\", \"drawings\", \"drive\", \"drive\", \"drive\", \"drives\", \"drives\", \"dtmedin\", \"duplicate\", \"dylan\", \"eagle\", \"earth\", \"earth\", \"earth\", \"earth\", \"easter\", \"eaten\", \"eddie\", \"editorial\", \"edmonton\", \"education\", \"education\", \"education\", \"eisa\", \"electric\", \"electric\", \"electric\", \"electrical\", \"email\", \"email\", \"email\", \"email\", \"email\", \"encrypted\", \"encrypting\", \"encryption\", \"encryption\", \"energy\", \"energy\", \"energy\", \"energy\", \"energy\", \"engine\", \"engine\", \"engine\", \"entries\", \"entries\", \"entry\", \"entry\", \"entry\", \"envelope\", \"erase\", \"erzurum\", \"escrow\", \"espn\", \"eternal\", \"ether\", \"ethernet\", \"ethnic\", \"ethnic\", \"ethnic\", \"europe\", \"europe\", \"europe\", \"europe\", \"europe\", \"europe\", \"europe\", \"even\", \"even\", \"even\", \"even\", \"even\", \"even\", \"even\", \"even\", \"even\", \"event\", \"event\", \"event\", \"event\", \"event\", \"event\", \"event\", \"events\", \"events\", \"events\", \"events\", \"events\", \"events\", \"events\", \"events\", \"evidence\", \"evidence\", \"evidence\", \"excellent\", \"excellent\", \"excellent\", \"excellent\", \"excellent\", \"excellent\", \"excellent\", \"exclusively\", \"executive\", \"executive\", \"exhaust\", \"existence\", \"existence\", \"explaining\", \"export\", \"export\", \"export\", \"faceplate\", \"faces\", \"fact\", \"fact\", \"fact\", \"fact\", \"fact\", \"fact\", \"fact\", \"fact\", \"fact\", \"faith\", \"faith\", \"fallacy\", \"fans\", \"fans\", \"fast\", \"fast\", \"fast\", \"fast\", \"fast\", \"fast\", \"fast\", \"father\", \"father\", \"faulty\", \"feedback\", \"fees\", \"fielding\", \"fighting\", \"fighting\", \"file\", \"file\", \"file\", \"file\", \"file\", \"filename\", \"files\", \"files\", \"files\", \"files\", \"filters\", \"finals\", \"finals\", \"financial\", \"fire\", \"fire\", \"fire\", \"firearm\", \"firearm\", \"firms\", \"first\", \"first\", \"first\", \"first\", \"first\", \"first\", \"first\", \"first\", \"first\", \"first\", \"first\", \"first\", \"first\", \"first\", \"first\", \"first\", \"flames\", \"flames\", \"flames\", \"flames\", \"flames\", \"flight\", \"flight\", \"flight\", \"floor\", \"floor\", \"floppy\", \"flow\", \"flow\", \"flow\", \"flow\", \"flow\", \"flow\", \"flyers\", \"font\", \"fonts\", \"food\", \"food\", \"food\", \"foods\", \"football\", \"ford\", \"ford\", \"format\", \"formation\", \"formats\", \"formats\", \"forsale\", \"forty\", \"franchise\", \"francis\", \"francis\", \"freedom\", \"freedom\", \"freedom\", \"fujitsu\", \"function\", \"function\", \"function\", \"function\", \"function\", \"function\", \"funds\", \"fuse\", \"gainey\", \"galaxy\", \"game\", \"game\", \"game\", \"games\", \"games\", \"games\", \"gangs\", \"gaza\", \"gear\", \"gear\", \"general\", \"general\", \"general\", \"general\", \"general\", \"general\", \"general\", \"general\", \"general\", \"general\", \"general\", \"general\", \"genocide\", \"german\", \"german\", \"german\", \"germany\", \"germany\", \"germany\", \"germany\", \"ghetto\", \"ghost\", \"giants\", \"gibson\", \"gibson\", \"gifs\", \"gilmour\", \"given\", \"given\", \"given\", \"given\", \"given\", \"given\", \"given\", \"given\", \"given\", \"goal\", \"goal\", \"goal\", \"goal\", \"goal\", \"goalie\", \"goals\", \"goals\", \"goals\", \"goals\", \"goaltender\", \"going\", \"going\", \"going\", \"going\", \"going\", \"going\", \"going\", \"going\", \"good\", \"good\", \"good\", \"good\", \"good\", \"good\", \"good\", \"good\", \"good\", \"gordon\", \"gospel\", \"government\", \"government\", \"government\", \"government\", \"government\", \"government\", \"graphics\", \"graphics\", \"graphics\", \"gravity\", \"grayscale\", \"great\", \"great\", \"great\", \"great\", \"great\", \"great\", \"great\", \"great\", \"greece\", \"greek\", \"greek\", \"greeks\", \"greeks\", \"ground\", \"ground\", \"ground\", \"ground\", \"ground\", \"grounded\", \"grow\", \"gsfc\", \"guidelines\", \"guns\", \"habs\", \"handguns\", \"handguns\", \"handler\", \"hands\", \"hands\", \"hands\", \"hands\", \"happened\", \"happened\", \"happened\", \"happened\", \"happened\", \"hard\", \"hard\", \"hard\", \"hard\", \"hard\", \"hard\", \"hard\", \"hardware\", \"hardware\", \"hardware\", \"hardware\", \"hardware\", \"harley\", \"hartford\", \"hash\", \"hawks\", \"headache\", \"health\", \"health\", \"health\", \"heat\", \"heat\", \"heat\", \"heat\", \"heaven\", \"hell\", \"hell\", \"hell\", \"hell\", \"hell\", \"help\", \"help\", \"help\", \"help\", \"help\", \"help\", \"help\", \"help\", \"help\", \"help\", \"help\", \"hemisphere\", \"henrik\", \"hicnet\", \"high\", \"high\", \"high\", \"high\", \"high\", \"high\", \"high\", \"high\", \"high\", \"high\", \"high\", \"history\", \"history\", \"history\", \"history\", \"history\", \"history\", \"history\", \"history\", \"hitter\", \"hockey\", \"hockey\", \"hockey\", \"hole\", \"hole\", \"hole\", \"hole\", \"hole\", \"hole\", \"hole\", \"holocaust\", \"holocaust\", \"holy\", \"home\", \"home\", \"home\", \"home\", \"home\", \"home\", \"home\", \"homeland\", \"homers\", \"homosexual\", \"honda\", \"hong\", \"houston\", \"houston\", \"houston\", \"howell\", \"however\", \"however\", \"however\", \"however\", \"however\", \"however\", \"however\", \"however\", \"however\", \"however\", \"however\", \"however\", \"hulk\", \"human\", \"human\", \"human\", \"human\", \"human\", \"human\", \"human\", \"human\", \"humans\", \"humans\", \"hussein\", \"icons\", \"ieee\", \"ifas\", \"ignorant\", \"image\", \"image\", \"image\", \"image\", \"image\", \"image\", \"images\", \"images\", \"images\", \"images\", \"images\", \"immaculate\", \"immoral\", \"immune\", \"imply\", \"imprisonment\", \"indians\", \"infection\", \"infection\", \"infections\", \"inflammation\", \"info\", \"info\", \"info\", \"info\", \"info\", \"information\", \"information\", \"information\", \"information\", \"information\", \"information\", \"information\", \"information\", \"information\", \"information\", \"information\", \"infrared\", \"ingr\", \"init\", \"inkjet\", \"inning\", \"innings\", \"input\", \"input\", \"input\", \"installations\", \"institute\", \"institute\", \"institute\", \"instruction\", \"intake\", \"intake\", \"intellect\", \"interfaces\", \"intergraph\", \"internet\", \"internet\", \"internet\", \"internet\", \"internet\", \"internet\", \"internet\", \"investment\", \"invoked\", \"islam\", \"island\", \"island\", \"island\", \"island\", \"islanders\", \"islanders\", \"israel\", \"israeli\", \"israelis\", \"istanbul\", \"italy\", \"italy\", \"jagr\", \"jeep\", \"jersey\", \"jersey\", \"jesus\", \"jets\", \"jets\", \"jewish\", \"jewish\", \"jewish\", \"jews\", \"jews\", \"jews\", \"jobs\", \"jobs\", \"jobs\", \"john\", \"john\", \"john\", \"john\", \"john\", \"john\", \"john\", \"john\", \"john\", \"john\", \"jpeg\", \"jpeg\", \"judas\", \"judas\", \"jumper\", \"jumpers\", \"june\", \"june\", \"june\", \"june\", \"junk\", \"junk\", \"jupiter\", \"justification\", \"karabakh\", \"karina\", \"kawasaki\", \"kent\", \"kent\", \"keyboard\", \"keyboard\", \"keyboard\", \"keycode\", \"keycode\", \"keys\", \"keys\", \"keys\", \"keys\", \"kidney\", \"kings\", \"kings\", \"kitchen\", \"kitchen\", \"klein\", \"knee\", \"knife\", \"know\", \"know\", \"know\", \"know\", \"know\", \"know\", \"know\", \"know\", \"koresh\", \"koresh\", \"kurdish\", \"kurds\", \"lamps\", \"land\", \"land\", \"land\", \"land\", \"land\", \"land\", \"last\", \"last\", \"last\", \"last\", \"last\", \"last\", \"last\", \"last\", \"last\", \"last\", \"last\", \"last\", \"last\", \"launch\", \"launched\", \"launched\", \"launches\", \"laws\", \"laws\", \"laws\", \"laws\", \"lawyers\", \"leafs\", \"leafs\", \"league\", \"league\", \"league\", \"league\", \"league\", \"leagues\", \"leaning\", \"leaning\", \"lebanese\", \"lebanon\", \"left\", \"left\", \"left\", \"left\", \"left\", \"left\", \"left\", \"left\", \"left\", \"legislative\", \"lemieux\", \"lens\", \"liar\", \"libertarians\", \"liberty\", \"libraries\", \"license\", \"license\", \"license\", \"license\", \"license\", \"license\", \"life\", \"life\", \"life\", \"life\", \"life\", \"life\", \"lights\", \"lights\", \"lights\", \"lights\", \"like\", \"like\", \"like\", \"like\", \"like\", \"like\", \"like\", \"like\", \"liked\", \"lindros\", \"line\", \"line\", \"line\", \"line\", \"line\", \"line\", \"line\", \"line\", \"line\", \"line\", \"line\", \"lines\", \"lines\", \"lines\", \"lines\", \"lines\", \"lines\", \"lines\", \"lines\", \"lines\", \"lineup\", \"list\", \"list\", \"list\", \"list\", \"list\", \"list\", \"list\", \"list\", \"list\", \"list\", \"list\", \"list\", \"list\", \"list\", \"list\", \"listserv\", \"listserv\", \"listserv\", \"lock\", \"lock\", \"lock\", \"lockheed\", \"long\", \"long\", \"long\", \"long\", \"long\", \"long\", \"long\", \"long\", \"long\", \"long\", \"long\", \"looking\", \"looking\", \"looking\", \"looking\", \"looking\", \"looking\", \"looking\", \"lopez\", \"lord\", \"losses\", \"lost\", \"lost\", \"lost\", \"lost\", \"lost\", \"lost\", \"lost\", \"lost\", \"lost\", \"lotus\", \"louis\", \"louis\", \"louis\", \"love\", \"love\", \"love\", \"love\", \"love\", \"love\", \"love\", \"luke\", \"lunar\", \"lyme\", \"lyuda\", \"macs\", \"macs\", \"madonna\", \"magellan\", \"mail\", \"mail\", \"mail\", \"mail\", \"mail\", \"mail\", \"mail\", \"mail\", \"mail\", \"mail\", \"mail\", \"main\", \"main\", \"main\", \"main\", \"main\", \"main\", \"main\", \"main\", \"main\", \"maine\", \"make\", \"make\", \"make\", \"make\", \"make\", \"make\", \"make\", \"make\", \"make\", \"mamma\", \"manager\", \"manager\", \"manager\", \"manager\", \"manager\", \"manager\", \"manhattan\", \"many\", \"many\", \"many\", \"many\", \"many\", \"many\", \"many\", \"many\", \"many\", \"many\", \"many\", \"many\", \"marina\", \"mark\", \"mark\", \"mark\", \"mark\", \"mark\", \"mark\", \"mark\", \"mark\", \"mark\", \"mark\", \"mark\", \"mark\", \"marker\", \"mars\", \"mars\", \"mask\", \"mask\", \"mask\", \"mask\", \"mass\", \"mass\", \"mass\", \"mass\", \"mass\", \"mass\", \"mass\", \"mass\", \"massachusetts\", \"massacre\", \"massacre\", \"massacres\", \"material\", \"material\", \"material\", \"material\", \"material\", \"material\", \"material\", \"material\", \"material\", \"matthew\", \"mazda\", \"mazda\", \"mean\", \"mean\", \"mean\", \"mean\", \"mean\", \"mean\", \"mean\", \"mean\", \"mean\", \"measurements\", \"medical\", \"medical\", \"medical\", \"medicine\", \"medicine\", \"medicine\", \"medicine\", \"meeting\", \"meeting\", \"meeting\", \"menu\", \"mercury\", \"merely\", \"merely\", \"merely\", \"metal\", \"metal\", \"metal\", \"metal\", \"meter\", \"mets\", \"mets\", \"microsoft\", \"might\", \"might\", \"might\", \"might\", \"might\", \"might\", \"might\", \"might\", \"might\", \"might\", \"mighty\", \"mileage\", \"miles\", \"miles\", \"miles\", \"miles\", \"military\", \"military\", \"military\", \"military\", \"militia\", \"million\", \"million\", \"million\", \"million\", \"million\", \"million\", \"million\", \"mint\", \"mint\", \"misconduct\", \"mission\", \"mission\", \"mission\", \"mission\", \"modem\", \"modem\", \"modifiers\", \"moncton\", \"monitor\", \"monitor\", \"monitor\", \"monitors\", \"monitors\", \"monitors\", \"montreal\", \"montreal\", \"moon\", \"moon\", \"moore\", \"moral\", \"moral\", \"morality\", \"mormon\", \"morris\", \"morris\", \"motherboard\", \"motif\", \"motif\", \"motorcycle\", \"motorcycle\", \"motorcycle\", \"mounted\", \"mounting\", \"mouse\", \"much\", \"much\", \"much\", \"much\", \"much\", \"much\", \"much\", \"much\", \"much\", \"much\", \"much\", \"murphy\", \"murphy\", \"murphy\", \"music\", \"music\", \"music\", \"music\", \"music\", \"muslim\", \"muslim\", \"muslim\", \"muslims\", \"muslims\", \"muslims\", \"muslims\", \"must\", \"must\", \"must\", \"must\", \"must\", \"must\", \"must\", \"must\", \"must\", \"must\", \"must\", \"myers\", \"nagorno\", \"name\", \"name\", \"name\", \"name\", \"name\", \"name\", \"name\", \"name\", \"name\", \"name\", \"name\", \"name\", \"name\", \"name\", \"nasa\", \"nasa\", \"national\", \"national\", \"national\", \"national\", \"national\", \"national\", \"national\", \"national\", \"nationality\", \"nationwide\", \"nazi\", \"nazis\", \"ncsl\", \"ncsl\", \"need\", \"need\", \"need\", \"need\", \"need\", \"need\", \"need\", \"need\", \"need\", \"need\", \"neighbor\", \"neutral\", \"neutral\", \"neutral\", \"never\", \"never\", \"never\", \"never\", \"never\", \"never\", \"never\", \"never\", \"newsletter\", \"nintendo\", \"nist\", \"nist\", \"norway\", \"norway\", \"nren\", \"nubus\", \"null\", \"null\", \"null\", \"number\", \"number\", \"number\", \"number\", \"number\", \"number\", \"number\", \"number\", \"number\", \"number\", \"number\", \"number\", \"obfuscate\", \"obfuscation\", \"objective\", \"objective\", \"obscure\", \"occupied\", \"occupying\", \"occurrence\", \"offense\", \"offense\", \"offer\", \"offer\", \"offer\", \"offer\", \"offer\", \"offer\", \"offer\", \"office\", \"office\", \"office\", \"office\", \"office\", \"office\", \"office\", \"offset\", \"offset\", \"olson\", \"olson\", \"olson\", \"ontario\", \"open\", \"open\", \"open\", \"open\", \"open\", \"open\", \"open\", \"open\", \"open\", \"open\", \"openwindows\", \"opinion\", \"opinion\", \"opinion\", \"opinion\", \"opinion\", \"opinion\", \"oppose\", \"orbit\", \"orbit\", \"orthodox\", \"ottawa\", \"ottawa\", \"ottawa\", \"otto\", \"ottoman\", \"outlet\", \"outlet\", \"outlets\", \"outline\", \"output\", \"output\", \"output\", \"ozone\", \"ozone\", \"ozone\", \"pack\", \"pack\", \"pack\", \"packaging\", \"pain\", \"pain\", \"pain\", \"paint\", \"paint\", \"paint\", \"palestine\", \"palestinian\", \"palestinians\", \"panel\", \"panel\", \"panel\", \"panel\", \"panel\", \"part\", \"part\", \"part\", \"part\", \"part\", \"part\", \"part\", \"part\", \"part\", \"part\", \"part\", \"part\", \"partition\", \"partition\", \"pasadena\", \"passages\", \"patch\", \"patches\", \"patent\", \"patients\", \"paul\", \"paul\", \"paul\", \"paul\", \"paul\", \"paul\", \"paul\", \"paul\", \"pavement\", \"payload\", \"peace\", \"peace\", \"peace\", \"peace\", \"pennsylvania\", \"pens\", \"pens\", \"people\", \"people\", \"people\", \"people\", \"people\", \"people\", \"people\", \"people\", \"people\", \"perhaps\", \"perhaps\", \"perhaps\", \"perhaps\", \"perhaps\", \"perhaps\", \"perhaps\", \"perhaps\", \"period\", \"period\", \"period\", \"period\", \"period\", \"period\", \"period\", \"period\", \"period\", \"person\", \"person\", \"person\", \"person\", \"person\", \"person\", \"person\", \"phil\", \"phil\", \"phil\", \"phil\", \"phil\", \"phil\", \"phil\", \"philadelphia\", \"philadelphia\", \"philadelphia\", \"phillies\", \"phones\", \"physician\", \"pick\", \"pick\", \"pick\", \"pick\", \"pick\", \"pick\", \"pick\", \"pipe\", \"pipes\", \"pirates\", \"pirates\", \"pitch\", \"pitched\", \"pitcher\", \"pitchers\", \"pitching\", \"pitt\", \"pitt\", \"pittsburgh\", \"pittsburgh\", \"pittsburgh\", \"pixmap\", \"pixmap\", \"planetary\", \"planetary\", \"plastic\", \"play\", \"play\", \"play\", \"play\", \"play\", \"player\", \"player\", \"player\", \"player\", \"players\", \"players\", \"playing\", \"playing\", \"playing\", \"please\", \"please\", \"please\", \"please\", \"please\", \"please\", \"please\", \"please\", \"plots\", \"plots\", \"plugs\", \"plugs\", \"point\", \"point\", \"point\", \"point\", \"point\", \"point\", \"point\", \"point\", \"point\", \"pointer\", \"pointers\", \"pointers\", \"pole\", \"police\", \"police\", \"political\", \"political\", \"political\", \"political\", \"political\", \"polygon\", \"pope\", \"population\", \"population\", \"population\", \"population\", \"population\", \"popup\", \"pork\", \"port\", \"port\", \"port\", \"ported\", \"ports\", \"postscript\", \"potvin\", \"power\", \"power\", \"power\", \"power\", \"power\", \"power\", \"power\", \"power\", \"power\", \"power\", \"power\", \"power\", \"premises\", \"prep\", \"president\", \"president\", \"president\", \"press\", \"press\", \"press\", \"press\", \"press\", \"press\", \"press\", \"press\", \"press\", \"prevention\", \"price\", \"price\", \"price\", \"price\", \"price\", \"price\", \"price\", \"price\", \"price\", \"prices\", \"prices\", \"prices\", \"principle\", \"principle\", \"printf\", \"prisoners\", \"privacy\", \"privacy\", \"private\", \"private\", \"private\", \"private\", \"private\", \"prize\", \"problem\", \"problem\", \"problem\", \"problem\", \"problem\", \"problem\", \"problem\", \"problem\", \"problem\", \"procedure\", \"procedure\", \"procedure\", \"producing\", \"prof\", \"prof\", \"prof\", \"professor\", \"professor\", \"professor\", \"professor\", \"prog\", \"program\", \"program\", \"program\", \"program\", \"program\", \"program\", \"programmer\", \"promo\", \"promotion\", \"prophecy\", \"propulsion\", \"propulsion\", \"protein\", \"providence\", \"pseudo\", \"public\", \"public\", \"public\", \"public\", \"public\", \"public\", \"public\", \"public\", \"public\", \"publish\", \"publisher\", \"puck\", \"quebec\", \"quebec\", \"queens\", \"question\", \"question\", \"question\", \"question\", \"question\", \"question\", \"question\", \"question\", \"question\", \"question\", \"radar\", \"radius\", \"radius\", \"random\", \"random\", \"random\", \"ranking\", \"rather\", \"rather\", \"rather\", \"rather\", \"rather\", \"rather\", \"rather\", \"rather\", \"rather\", \"rather\", \"rather\", \"ratings\", \"read\", \"read\", \"read\", \"read\", \"read\", \"read\", \"read\", \"read\", \"read\", \"really\", \"really\", \"really\", \"really\", \"really\", \"really\", \"really\", \"really\", \"rear\", \"rear\", \"reason\", \"reason\", \"reason\", \"reason\", \"reason\", \"reason\", \"reason\", \"reason\", \"reason\", \"reasoning\", \"recchi\", \"receiver\", \"receiver\", \"receiver\", \"redesign\", \"redesign\", \"reds\", \"region\", \"region\", \"region\", \"region\", \"reilly\", \"reliability\", \"relying\", \"remark\", \"remark\", \"remarks\", \"repair\", \"report\", \"report\", \"report\", \"report\", \"report\", \"report\", \"report\", \"request\", \"request\", \"request\", \"request\", \"request\", \"request\", \"requests\", \"requests\", \"requests\", \"requests\", \"requests\", \"requests\", \"research\", \"research\", \"research\", \"research\", \"research\", \"research\", \"resource\", \"resource\", \"resource\", \"resurrection\", \"retail\", \"return\", \"return\", \"return\", \"return\", \"return\", \"return\", \"return\", \"return\", \"return\", \"return\", \"return\", \"revelation\", \"riders\", \"right\", \"right\", \"right\", \"right\", \"right\", \"right\", \"right\", \"right\", \"right\", \"right\", \"right\", \"right\", \"rights\", \"rights\", \"rights\", \"rights\", \"rights\", \"riley\", \"ripem\", \"ripem\", \"ripken\", \"risc\", \"rivest\", \"rkba\", \"rockefeller\", \"rocket\", \"rocket\", \"rocket\", \"rockets\", \"rockets\", \"rocks\", \"rode\", \"roger\", \"roger\", \"root\", \"root\", \"root\", \"root\", \"root\", \"root\", \"root\", \"routines\", \"rows\", \"rules\", \"rules\", \"runs\", \"runs\", \"runs\", \"runs\", \"runs\", \"runs\", \"runs\", \"runs\", \"russian\", \"russian\", \"russian\", \"russian\", \"russian\", \"ryan\", \"ryan\", \"sabres\", \"saddam\", \"said\", \"said\", \"said\", \"said\", \"said\", \"said\", \"said\", \"said\", \"said\", \"sale\", \"sale\", \"sale\", \"salvation\", \"sandberg\", \"sanderson\", \"sank\", \"satan\", \"satan\", \"satellite\", \"satellite\", \"satellite\", \"satellites\", \"says\", \"says\", \"says\", \"says\", \"says\", \"says\", \"says\", \"school\", \"school\", \"school\", \"science\", \"science\", \"science\", \"science\", \"science\", \"scope\", \"scope\", \"scope\", \"scope\", \"scope\", \"scorer\", \"scores\", \"scores\", \"scores\", \"screen\", \"screen\", \"screen\", \"screen\", \"screen\", \"scripture\", \"scsi\", \"sdpa\", \"seal\", \"search\", \"search\", \"search\", \"search\", \"search\", \"search\", \"search\", \"search\", \"search\", \"season\", \"season\", \"season\", \"seattle\", \"seattle\", \"second\", \"second\", \"second\", \"second\", \"second\", \"second\", \"second\", \"second\", \"second\", \"second\", \"second\", \"secretary\", \"secretary\", \"section\", \"section\", \"section\", \"section\", \"secular\", \"secure\", \"secure\", \"secure\", \"secure\", \"secure\", \"security\", \"security\", \"security\", \"security\", \"security\", \"security\", \"security\", \"sedan\", \"seems\", \"seems\", \"seems\", \"seems\", \"seems\", \"seems\", \"seems\", \"seems\", \"sega\", \"segments\", \"seizure\", \"seizures\", \"selection\", \"selection\", \"sell\", \"sell\", \"sell\", \"sell\", \"sell\", \"sell\", \"sell\", \"selling\", \"selling\", \"selling\", \"semitic\", \"semitism\", \"senators\", \"senators\", \"senators\", \"send\", \"send\", \"send\", \"send\", \"send\", \"send\", \"send\", \"send\", \"send\", \"send\", \"send\", \"send\", \"sense\", \"sense\", \"sense\", \"sense\", \"sense\", \"sense\", \"sequence\", \"sequence\", \"sequence\", \"sequences\", \"serbs\", \"serdar\", \"serial\", \"serial\", \"serial\", \"series\", \"series\", \"series\", \"series\", \"series\", \"series\", \"series\", \"series\", \"series\", \"series\", \"series\", \"server\", \"service\", \"service\", \"service\", \"service\", \"service\", \"service\", \"service\", \"service\", \"service\", \"service\", \"service\", \"shadows\", \"shaft\", \"shameful\", \"shareware\", \"sharks\", \"shell\", \"shell\", \"shell\", \"shell\", \"shell\", \"shell\", \"shift\", \"shift\", \"shift\", \"shift\", \"shift\", \"shift\", \"shipping\", \"shooting\", \"shuttle\", \"shuttle\", \"siggraph\", \"siggraph\", \"simm\", \"simms\", \"since\", \"since\", \"since\", \"since\", \"since\", \"since\", \"since\", \"since\", \"since\", \"since\", \"since\", \"since\", \"since\", \"since\", \"sins\", \"sister\", \"size\", \"size\", \"size\", \"size\", \"size\", \"size\", \"size\", \"skepticism\", \"sleeve\", \"slip\", \"slots\", \"smile\", \"smiley\", \"smokeless\", \"society\", \"society\", \"society\", \"society\", \"society\", \"socket\", \"sockets\", \"soderstrom\", \"software\", \"software\", \"software\", \"software\", \"software\", \"solar\", \"solar\", \"something\", \"something\", \"something\", \"something\", \"something\", \"something\", \"something\", \"something\", \"sony\", \"sony\", \"soon\", \"soon\", \"soon\", \"soon\", \"soon\", \"soon\", \"soon\", \"soon\", \"sound\", \"sound\", \"sound\", \"sound\", \"sound\", \"sound\", \"sound\", \"source\", \"source\", \"source\", \"source\", \"source\", \"source\", \"source\", \"source\", \"south\", \"south\", \"south\", \"south\", \"soviet\", \"soviet\", \"soviet\", \"space\", \"space\", \"space\", \"space\", \"space\", \"space\", \"spacecraft\", \"sparc\", \"speed\", \"speed\", \"speed\", \"speed\", \"speed\", \"spirit\", \"sponsored\", \"sport\", \"sport\", \"sport\", \"sports\", \"sports\", \"ssto\", \"stage\", \"stage\", \"stage\", \"standard\", \"standard\", \"standard\", \"standard\", \"standard\", \"standard\", \"standing\", \"standing\", \"stanley\", \"stanley\", \"started\", \"started\", \"started\", \"started\", \"started\", \"state\", \"state\", \"state\", \"state\", \"state\", \"state\", \"state\", \"state\", \"statement\", \"statement\", \"statement\", \"statement\", \"statement\", \"statements\", \"statements\", \"states\", \"states\", \"states\", \"states\", \"states\", \"states\", \"states\", \"station\", \"station\", \"station\", \"station\", \"station\", \"station\", \"stats\", \"stays\", \"stealth\", \"steering\", \"stereo\", \"stevens\", \"stewart\", \"still\", \"still\", \"still\", \"still\", \"still\", \"still\", \"still\", \"still\", \"still\", \"still\", \"stolen\", \"stopped\", \"stopped\", \"stopped\", \"streak\", \"stream\", \"string\", \"string\", \"students\", \"students\", \"students\", \"stuff\", \"stuff\", \"stuff\", \"stuff\", \"stuff\", \"stuff\", \"stuff\", \"stuff\", \"subject\", \"subject\", \"subject\", \"subject\", \"subject\", \"subject\", \"subject\", \"subject\", \"subject\", \"subject\", \"subject\", \"subject\", \"subjective\", \"sumgait\", \"sunos\", \"supply\", \"supply\", \"supply\", \"supply\", \"supply\", \"supply\", \"surface\", \"surface\", \"surface\", \"surface\", \"surface\", \"surface\", \"surrender\", \"surrender\", \"sweep\", \"sweep\", \"swing\", \"swing\", \"swing\", \"switches\", \"symptoms\", \"syndrome\", \"syria\", \"syrian\", \"system\", \"system\", \"system\", \"system\", \"system\", \"system\", \"system\", \"system\", \"system\", \"system\", \"take\", \"take\", \"take\", \"take\", \"take\", \"take\", \"take\", \"take\", \"take\", \"talent\", \"talent\", \"tampa\", \"tanks\", \"tanks\", \"team\", \"team\", \"team\", \"team\", \"team\", \"teams\", \"teams\", \"teams\", \"teams\", \"technical\", \"technical\", \"technical\", \"technical\", \"technical\", \"technical\", \"technical\", \"technical\", \"technology\", \"technology\", \"technology\", \"technology\", \"technology\", \"technology\", \"telescope\", \"telescope\", \"temp\", \"temperature\", \"temperature\", \"terminals\", \"testament\", \"thanks\", \"thanks\", \"thanks\", \"thanks\", \"thanks\", \"thanks\", \"thanks\", \"thanks\", \"theories\", \"things\", \"things\", \"things\", \"things\", \"things\", \"things\", \"things\", \"things\", \"think\", \"think\", \"think\", \"think\", \"think\", \"think\", \"think\", \"think\", \"third\", \"third\", \"third\", \"third\", \"third\", \"third\", \"third\", \"third\", \"third\", \"third\", \"third\", \"third\", \"thompson\", \"thompson\", \"thompson\", \"throat\", \"thumb\", \"tiff\", \"tigers\", \"time\", \"time\", \"time\", \"time\", \"time\", \"time\", \"time\", \"time\", \"time\", \"time\", \"time\", \"timer\", \"timer\", \"tire\", \"tires\", \"title\", \"title\", \"title\", \"title\", \"title\", \"title\", \"title\", \"title\", \"tocchet\", \"told\", \"told\", \"told\", \"told\", \"told\", \"told\", \"took\", \"took\", \"took\", \"took\", \"took\", \"toolkit\", \"toolkits\", \"toolkits\", \"toplevel\", \"toronto\", \"toronto\", \"toronto\", \"toronto\", \"toronto\", \"toronto\", \"toronto\", \"torque\", \"toshiba\", \"toyota\", \"tract\", \"tragedy\", \"transformer\", \"treatment\", \"treatment\", \"treatment\", \"treatment\", \"treatments\", \"true\", \"true\", \"true\", \"true\", \"true\", \"true\", \"true\", \"true\", \"true\", \"true\", \"truetype\", \"truth\", \"truth\", \"truth\", \"tuning\", \"tuning\", \"turkey\", \"turkish\", \"turkish\", \"turks\", \"turks\", \"tvtwm\", \"twins\", \"tyre\", \"united\", \"united\", \"united\", \"united\", \"united\", \"united\", \"universe\", \"universe\", \"universe\", \"university\", \"university\", \"university\", \"university\", \"university\", \"university\", \"unix\", \"unto\", \"upgrade\", \"upgrade\", \"uranium\", \"usage\", \"used\", \"used\", \"used\", \"used\", \"used\", \"used\", \"used\", \"used\", \"used\", \"used\", \"used\", \"used\", \"used\", \"user\", \"user\", \"user\", \"user\", \"using\", \"using\", \"using\", \"using\", \"using\", \"using\", \"using\", \"using\", \"using\", \"using\", \"using\", \"usually\", \"usually\", \"usually\", \"usually\", \"usually\", \"usually\", \"usually\", \"usually\", \"usually\", \"usually\", \"uuencode\", \"uunet\", \"uunet\", \"value\", \"value\", \"value\", \"value\", \"value\", \"value\", \"value\", \"vehicle\", \"vehicle\", \"vehicle\", \"vehicle\", \"vendor\", \"verses\", \"version\", \"version\", \"version\", \"version\", \"version\", \"version\", \"vesa\", \"vesa\", \"vice\", \"vice\", \"vice\", \"vice\", \"vice\", \"victims\", \"viewing\", \"villages\", \"villages\", \"violent\", \"violent\", \"visual\", \"visual\", \"visual\", \"vitamin\", \"void\", \"void\", \"void\", \"volt\", \"voltage\", \"volvo\", \"vpic\", \"wagon\", \"wales\", \"walking\", \"want\", \"want\", \"want\", \"want\", \"want\", \"want\", \"want\", \"want\", \"want\", \"wanted\", \"wanted\", \"wanted\", \"wanted\", \"wanted\", \"wanted\", \"wanted\", \"wanted\", \"ware\", \"warranty\", \"washington\", \"washington\", \"washington\", \"washington\", \"water\", \"water\", \"water\", \"water\", \"water\", \"waving\", \"weapons\", \"weapons\", \"weapons\", \"weaver\", \"well\", \"well\", \"well\", \"well\", \"well\", \"well\", \"well\", \"well\", \"well\", \"well\", \"went\", \"went\", \"went\", \"went\", \"western\", \"western\", \"western\", \"western\", \"western\", \"wheel\", \"whether\", \"whether\", \"whether\", \"whether\", \"whether\", \"whether\", \"whether\", \"widget\", \"widgets\", \"widgets\", \"width\", \"width\", \"width\", \"wife\", \"wife\", \"wiley\", \"willie\", \"window\", \"window\", \"window\", \"window\", \"window\", \"windows\", \"windows\", \"winfield\", \"wings\", \"wings\", \"wings\", \"wings\", \"winmarks\", \"winner\", \"winner\", \"winner\", \"winners\", \"winners\", \"winning\", \"winning\", \"winnipeg\", \"wins\", \"wins\", \"wire\", \"wires\", \"wires\", \"wiretap\", \"wolverine\", \"woman\", \"woman\", \"woman\", \"word\", \"word\", \"word\", \"word\", \"word\", \"word\", \"word\", \"word\", \"work\", \"work\", \"work\", \"work\", \"work\", \"work\", \"work\", \"work\", \"work\", \"work\", \"work\", \"world\", \"world\", \"world\", \"world\", \"world\", \"world\", \"world\", \"world\", \"world\", \"world\", \"world\", \"world\", \"worship\", \"worship\", \"would\", \"would\", \"would\", \"would\", \"would\", \"would\", \"would\", \"would\", \"would\", \"would\", \"wrong\", \"wrong\", \"wrong\", \"wrong\", \"wrong\", \"wrong\", \"wrong\", \"wrong\", \"xhost\", \"xlib\", \"xmodmap\", \"xmodmap\", \"xterm\", \"xtpointer\", \"xtsetarg\", \"xview\", \"year\", \"year\", \"year\", \"year\", \"year\", \"year\", \"year\", \"year\", \"years\", \"years\", \"years\", \"years\", \"years\", \"years\", \"years\", \"years\", \"years\", \"years\", \"years\", \"years\", \"years\", \"yogurt\", \"york\", \"york\", \"york\", \"york\", \"york\", \"zionist\", \"zoom\"]}, \"R\": 30, \"lambda.step\": 0.01, \"plot.opts\": {\"xlab\": \"PC1\", \"ylab\": \"PC2\"}, \"topic.order\": [12, 3, 5, 4, 1, 9, 20, 10, 16, 11, 6, 18, 15, 7, 8, 14, 2, 17, 19, 13]};\n",
       "\n",
       "function LDAvis_load_lib(url, callback){\n",
       "  var s = document.createElement('script');\n",
       "  s.src = url;\n",
       "  s.async = true;\n",
       "  s.onreadystatechange = s.onload = callback;\n",
       "  s.onerror = function(){console.warn(\"failed to load library \" + url);};\n",
       "  document.getElementsByTagName(\"head\")[0].appendChild(s);\n",
       "}\n",
       "\n",
       "if(typeof(LDAvis) !== \"undefined\"){\n",
       "   // already loaded: just create the visualization\n",
       "   !function(LDAvis){\n",
       "       new LDAvis(\"#\" + \"ldavis_el786771406905786462242397410593\", ldavis_el786771406905786462242397410593_data);\n",
       "   }(LDAvis);\n",
       "}else if(typeof define === \"function\" && define.amd){\n",
       "   // require.js is available: use it to load d3/LDAvis\n",
       "   require.config({paths: {d3: \"https://d3js.org/d3.v5\"}});\n",
       "   require([\"d3\"], function(d3){\n",
       "      window.d3 = d3;\n",
       "      LDAvis_load_lib(\"https://cdn.jsdelivr.net/gh/bmabey/pyLDAvis@3.2.2/pyLDAvis/js/ldavis.v3.0.0.js\", function(){\n",
       "        new LDAvis(\"#\" + \"ldavis_el786771406905786462242397410593\", ldavis_el786771406905786462242397410593_data);\n",
       "      });\n",
       "    });\n",
       "}else{\n",
       "    // require.js not available: dynamically load d3 & LDAvis\n",
       "    LDAvis_load_lib(\"https://d3js.org/d3.v5.js\", function(){\n",
       "         LDAvis_load_lib(\"https://cdn.jsdelivr.net/gh/bmabey/pyLDAvis@3.2.2/pyLDAvis/js/ldavis.v3.0.0.js\", function(){\n",
       "                 new LDAvis(\"#\" + \"ldavis_el786771406905786462242397410593\", ldavis_el786771406905786462242397410593_data);\n",
       "            })\n",
       "         });\n",
       "}\n",
       "</script>"
      ],
      "text/plain": [
       "PreparedData(topic_coordinates=              x         y  topics  cluster       Freq\n",
       "topic                                                \n",
       "11    -0.269703  0.044067       1        1  17.495711\n",
       "2     -0.231153  0.100833       2        1  16.655941\n",
       "4     -0.216684 -0.139406       3        1  11.121779\n",
       "3     -0.241016  0.046510       4        1   8.254036\n",
       "0     -0.158263 -0.105881       5        1   7.685138\n",
       "8     -0.176228 -0.097948       6        1   5.994000\n",
       "19    -0.012565 -0.119049       7        1   5.840615\n",
       "9     -0.146214  0.077071       8        1   5.432955\n",
       "15    -0.159973  0.203162       9        1   4.450920\n",
       "10     0.120705  0.217590      10        1   2.503476\n",
       "5      0.067610 -0.076423      11        1   2.406411\n",
       "17     0.095182 -0.045135      12        1   2.237776\n",
       "14     0.109877 -0.124140      13        1   1.933406\n",
       "6      0.113927 -0.186760      14        1   1.903525\n",
       "7      0.141584  0.005337      15        1   1.771841\n",
       "13     0.117776 -0.014719      16        1   1.453208\n",
       "1      0.193156  0.137572      17        1   1.084452\n",
       "16     0.180837  0.021600      18        1   1.016844\n",
       "18     0.229753  0.032973      19        1   0.494098\n",
       "12     0.241392  0.022744      20        1   0.263867, topic_info=         Term         Freq        Total Category  logprob  loglift\n",
       "1883    space  1288.000000  1288.000000  Default  30.0000  30.0000\n",
       "80     people  4411.000000  4411.000000  Default  29.0000  29.0000\n",
       "2170   window  1017.000000  1017.000000  Default  28.0000  28.0000\n",
       "282      file  1942.000000  1942.000000  Default  27.0000  27.0000\n",
       "130     would  6492.000000  6492.000000  Default  26.0000  26.0000\n",
       "...       ...          ...          ...      ...      ...      ...\n",
       "2873    shift    10.614472    82.770133  Topic20  -5.4698   3.8836\n",
       "472   battery    10.331117    94.472714  Topic20  -5.4968   3.7243\n",
       "3364   lights     9.255928    53.484594  Topic20  -5.6067   4.1834\n",
       "8016  kitchen     8.074213    24.840019  Topic20  -5.7433   4.8137\n",
       "9535     prof     7.986431    37.910561  Topic20  -5.7542   4.3800\n",
       "\n",
       "[1296 rows x 6 columns], token_table=       Topic      Freq         Term\n",
       "term                               \n",
       "7058       1  0.929429     absolute\n",
       "7058       8  0.065917     absolute\n",
       "6749       6  0.992392  accelerator\n",
       "519        1  0.026400       access\n",
       "519        2  0.043371       access\n",
       "...      ...       ...          ...\n",
       "2205      10  0.057916         york\n",
       "2205      15  0.083656         york\n",
       "2205      17  0.215574         york\n",
       "23553      2  0.990933      zionist\n",
       "7406       4  0.980261         zoom\n",
       "\n",
       "[3383 rows x 3 columns], R=30, lambda_step=0.01, plot_opts={'xlab': 'PC1', 'ylab': 'PC2'}, topic_order=[12, 3, 5, 4, 1, 9, 20, 10, 16, 11, 6, 18, 15, 7, 8, 14, 2, 17, 19, 13])"
      ]
     },
     "execution_count": 22,
     "metadata": {},
     "output_type": "execute_result"
    }
   ],
   "source": [
    "# Visualize the topics\n",
    "pyLDAvis.enable_notebook()\n",
    "vis = pyLDAvis.gensim.prepare(ldamodel, corpus, id2word)\n",
    "vis"
   ]
  },
  {
   "cell_type": "markdown",
   "metadata": {},
   "source": [
    "# 커머스 데이터로 LDA 추천 모델 만들기\n",
    "- 사용자 = 문서, 단어 = 구매한 아이템.\n",
    "- 각 사용자는 n개 토픽의 분포로 표현되고, 각 토픽은 아이템의 분포로 표현됩니다.\n",
    "- 사용자가 특정 토픽에 대한 비율이 높다면, 그 사용자에게 해당 토픽의 비율이 높은 아이템을 추천해줍니다."
   ]
  },
  {
   "cell_type": "code",
   "execution_count": 23,
   "metadata": {},
   "outputs": [],
   "source": [
    "file_path = '../data/online_retail.csv'\n",
    "parse_date = lambda x : datetime.strptime(x, '%Y-%m-%d %H:%M')\n",
    "retail_df = pd.read_csv(file_path, encoding=\"utf-8\", parse_dates = ['InvoiceDate'], date_parser = parse_date)"
   ]
  },
  {
   "cell_type": "code",
   "execution_count": 24,
   "metadata": {},
   "outputs": [
    {
     "data": {
      "text/html": [
       "<div>\n",
       "<style scoped>\n",
       "    .dataframe tbody tr th:only-of-type {\n",
       "        vertical-align: middle;\n",
       "    }\n",
       "\n",
       "    .dataframe tbody tr th {\n",
       "        vertical-align: top;\n",
       "    }\n",
       "\n",
       "    .dataframe thead th {\n",
       "        text-align: right;\n",
       "    }\n",
       "</style>\n",
       "<table border=\"1\" class=\"dataframe\">\n",
       "  <thead>\n",
       "    <tr style=\"text-align: right;\">\n",
       "      <th></th>\n",
       "      <th>InvoiceNo</th>\n",
       "      <th>StockCode</th>\n",
       "      <th>Description</th>\n",
       "      <th>Quantity</th>\n",
       "      <th>InvoiceDate</th>\n",
       "      <th>UnitPrice</th>\n",
       "      <th>CustomerID</th>\n",
       "      <th>Country</th>\n",
       "    </tr>\n",
       "  </thead>\n",
       "  <tbody>\n",
       "    <tr>\n",
       "      <th>0</th>\n",
       "      <td>536365</td>\n",
       "      <td>85123A</td>\n",
       "      <td>WHITE HANGING HEART T-LIGHT HOLDER</td>\n",
       "      <td>6</td>\n",
       "      <td>2010-12-01 08:26:00</td>\n",
       "      <td>2.55</td>\n",
       "      <td>17850.0</td>\n",
       "      <td>United Kingdom</td>\n",
       "    </tr>\n",
       "    <tr>\n",
       "      <th>1</th>\n",
       "      <td>536365</td>\n",
       "      <td>71053</td>\n",
       "      <td>WHITE METAL LANTERN</td>\n",
       "      <td>6</td>\n",
       "      <td>2010-12-01 08:26:00</td>\n",
       "      <td>3.39</td>\n",
       "      <td>17850.0</td>\n",
       "      <td>United Kingdom</td>\n",
       "    </tr>\n",
       "    <tr>\n",
       "      <th>2</th>\n",
       "      <td>536365</td>\n",
       "      <td>84406B</td>\n",
       "      <td>CREAM CUPID HEARTS COAT HANGER</td>\n",
       "      <td>8</td>\n",
       "      <td>2010-12-01 08:26:00</td>\n",
       "      <td>2.75</td>\n",
       "      <td>17850.0</td>\n",
       "      <td>United Kingdom</td>\n",
       "    </tr>\n",
       "    <tr>\n",
       "      <th>3</th>\n",
       "      <td>536365</td>\n",
       "      <td>84029G</td>\n",
       "      <td>KNITTED UNION FLAG HOT WATER BOTTLE</td>\n",
       "      <td>6</td>\n",
       "      <td>2010-12-01 08:26:00</td>\n",
       "      <td>3.39</td>\n",
       "      <td>17850.0</td>\n",
       "      <td>United Kingdom</td>\n",
       "    </tr>\n",
       "    <tr>\n",
       "      <th>4</th>\n",
       "      <td>536365</td>\n",
       "      <td>84029E</td>\n",
       "      <td>RED WOOLLY HOTTIE WHITE HEART.</td>\n",
       "      <td>6</td>\n",
       "      <td>2010-12-01 08:26:00</td>\n",
       "      <td>3.39</td>\n",
       "      <td>17850.0</td>\n",
       "      <td>United Kingdom</td>\n",
       "    </tr>\n",
       "  </tbody>\n",
       "</table>\n",
       "</div>"
      ],
      "text/plain": [
       "  InvoiceNo StockCode                          Description  Quantity  \\\n",
       "0    536365    85123A   WHITE HANGING HEART T-LIGHT HOLDER         6   \n",
       "1    536365     71053                  WHITE METAL LANTERN         6   \n",
       "2    536365    84406B       CREAM CUPID HEARTS COAT HANGER         8   \n",
       "3    536365    84029G  KNITTED UNION FLAG HOT WATER BOTTLE         6   \n",
       "4    536365    84029E       RED WOOLLY HOTTIE WHITE HEART.         6   \n",
       "\n",
       "          InvoiceDate  UnitPrice  CustomerID         Country  \n",
       "0 2010-12-01 08:26:00       2.55     17850.0  United Kingdom  \n",
       "1 2010-12-01 08:26:00       3.39     17850.0  United Kingdom  \n",
       "2 2010-12-01 08:26:00       2.75     17850.0  United Kingdom  \n",
       "3 2010-12-01 08:26:00       3.39     17850.0  United Kingdom  \n",
       "4 2010-12-01 08:26:00       3.39     17850.0  United Kingdom  "
      ]
     },
     "execution_count": 24,
     "metadata": {},
     "output_type": "execute_result"
    }
   ],
   "source": [
    "retail_df.head()"
   ]
  },
  {
   "cell_type": "code",
   "execution_count": 25,
   "metadata": {},
   "outputs": [],
   "source": [
    "stock_to_description = {row['StockCode']: row['Description'] for _, row in retail_df.iterrows()}"
   ]
  },
  {
   "cell_type": "code",
   "execution_count": 26,
   "metadata": {},
   "outputs": [],
   "source": [
    "# 사용자 아이디가 없는 데이터 제외\n",
    "# quantity가 음수인 데이터 제외\n",
    "\n",
    "cleaned_retail_df = retail_df[~(retail_df['CustomerID'].isnull()) & (retail_df['Quantity'] > 0)]"
   ]
  },
  {
   "cell_type": "code",
   "execution_count": 27,
   "metadata": {},
   "outputs": [],
   "source": [
    "# 데이터 전처리\n",
    "\n",
    "cleaned_retail_df['CustomerID'] = cleaned_retail_df.CustomerID.astype(int)\n",
    "cleaned_retail_df['StockCode'] = cleaned_retail_df['StockCode'].astype('str')\n",
    "cleaned_retail_df = cleaned_retail_df[['InvoiceNo', 'StockCode', 'Quantity', 'CustomerID', 'InvoiceDate']] \n",
    "cleaned_retail_df['ym'] = cleaned_retail_df['InvoiceDate'].apply(lambda x: str(x)[:7])"
   ]
  },
  {
   "cell_type": "code",
   "execution_count": 28,
   "metadata": {},
   "outputs": [
    {
     "data": {
      "text/plain": [
       "<matplotlib.axes._subplots.AxesSubplot at 0x7ff5228ba610>"
      ]
     },
     "execution_count": 28,
     "metadata": {},
     "output_type": "execute_result"
    },
    {
     "data": {
      "image/png": "[encoded data removed]",
      "text/plain": [
       "<Figure size 360x360 with 1 Axes>"
      ]
     },
     "metadata": {
      "needs_background": "light"
     },
     "output_type": "display_data"
    }
   ],
   "source": [
    "# 전체 기간 데이터 확인\n",
    "\n",
    "cleaned_retail_df.groupby(['ym'])['StockCode'].count().plot.bar(figsize=(5,5))"
   ]
  },
  {
   "cell_type": "code",
   "execution_count": 29,
   "metadata": {},
   "outputs": [],
   "source": [
    "# 2011-09 ~ 2011-11 데이터를 train 데이터로 사용하고, 2011-12 데이터의 test 데이터로 사용합니다\n",
    "\n",
    "cleaned_retail_df['ym'] = cleaned_retail_df['InvoiceDate'].apply(lambda x: str(x)[:7])\n",
    "train_df = cleaned_retail_df[(cleaned_retail_df['ym'] >= '2011-09') & (cleaned_retail_df['ym'] <= '2011-11')]\n",
    "test_df = cleaned_retail_df[cleaned_retail_df['ym'] == '2011-12']"
   ]
  },
  {
   "cell_type": "code",
   "execution_count": 30,
   "metadata": {},
   "outputs": [],
   "source": [
    "# 사용자 별로 groupby 하여 문서의 형태로 만들어줍니다\n",
    "\n",
    "train_groupby = train_df.groupby(['CustomerID'])\n",
    "\n",
    "doc_list = []\n",
    "\n",
    "for user_id, user_df in train_groupby:\n",
    "    document = user_df['StockCode'].values.tolist()\n",
    "    doc_list.append(document)"
   ]
  },
  {
   "cell_type": "code",
   "execution_count": 31,
   "metadata": {
    "scrolled": true
   },
   "outputs": [
    {
     "data": {
      "text/plain": [
       "['22993',\n",
       " '16045',\n",
       " '22398',\n",
       " '22608',\n",
       " '22610',\n",
       " '21558',\n",
       " '16008',\n",
       " '23379',\n",
       " '23392',\n",
       " '23559',\n",
       " '90087',\n",
       " '23388',\n",
       " '23389',\n",
       " '21559',\n",
       " '22352',\n",
       " '35964',\n",
       " '22579',\n",
       " '21015',\n",
       " '21014',\n",
       " '22336',\n",
       " '23483',\n",
       " '23540',\n",
       " '23542',\n",
       " 'POST',\n",
       " '22326',\n",
       " '21580',\n",
       " '22327',\n",
       " 'POST']"
      ]
     },
     "execution_count": 31,
     "metadata": {},
     "output_type": "execute_result"
    }
   ],
   "source": [
    "# 학습 데이터 샘플\n",
    "doc_list[100]"
   ]
  },
  {
   "cell_type": "code",
   "execution_count": 32,
   "metadata": {},
   "outputs": [
    {
     "name": "stdout",
     "output_type": "stream",
     "text": [
      "[(49, 2), (67, 1), (139, 1), (148, 1), (329, 1), (342, 1), (343, 1), (354, 1), (433, 1), (434, 1), (501, 1), (741, 1), (757, 1), (774, 1), (800, 1), (1035, 1), (1081, 1), (1192, 1), (1213, 1), (1403, 1), (1404, 1), (1405, 1), (1406, 1), (1407, 1), (1408, 1), (1409, 1), (1410, 1)]\n"
     ]
    }
   ],
   "source": [
    "# gensim에서 지원하는 dictionary\n",
    "id2word = corpora.Dictionary(doc_list)\n",
    "\n",
    "# 문서를 TF의 형태로 변환\n",
    "corpus = [id2word.doc2bow(doc) for doc in doc_list]\n",
    "\n",
    "print(corpus[100])"
   ]
  },
  {
   "cell_type": "code",
   "execution_count": 33,
   "metadata": {},
   "outputs": [],
   "source": [
    "import gensim\n",
    "topic_num = 20 #20개의 토픽, k=20\n",
    "ldamodel = gensim.models.ldamodel.LdaModel(corpus,\n",
    "                                           num_topics = topic_num,\n",
    "                                           id2word=id2word,\n",
    "                                           passes=10)"
   ]
  },
  {
   "cell_type": "code",
   "execution_count": 34,
   "metadata": {},
   "outputs": [
    {
     "name": "stdout",
     "output_type": "stream",
     "text": [
      "(0, '0.013*\"23263\" + 0.011*\"23266\" + 0.010*\"23265\" + 0.009*\"23264\" + 0.009*\"23275\"')\n",
      "(1, '0.021*\"22197\" + 0.019*\"23084\" + 0.016*\"23177\" + 0.013*\"23194\" + 0.012*\"23176\"')\n",
      "(2, '0.032*\"84946\" + 0.029*\"22791\" + 0.029*\"84947\" + 0.028*\"22577\" + 0.027*\"22578\"')\n",
      "(3, '0.010*\"22551\" + 0.010*\"22554\" + 0.008*\"22086\" + 0.008*\"22555\" + 0.008*\"21889\"')\n",
      "(4, '0.014*\"22909\" + 0.014*\"22910\" + 0.013*\"22086\" + 0.012*\"22952\" + 0.011*\"22734\"')\n",
      "(5, '0.017*\"POST\" + 0.015*\"22629\" + 0.014*\"22630\" + 0.010*\"22326\" + 0.010*\"23084\"')\n",
      "(6, '0.025*\"21669\" + 0.022*\"23032\" + 0.021*\"21668\" + 0.021*\"21670\" + 0.020*\"84879\"')\n",
      "(7, '0.022*\"20727\" + 0.017*\"22383\" + 0.016*\"20725\" + 0.015*\"23209\" + 0.014*\"22382\"')\n",
      "(8, '0.019*\"85123A\" + 0.018*\"82494L\" + 0.015*\"22469\" + 0.015*\"23322\" + 0.015*\"82482\"')\n",
      "(9, '0.016*\"20679\" + 0.015*\"15056BL\" + 0.015*\"22738\" + 0.013*\"22739\" + 0.013*\"M\"')\n",
      "(10, '0.058*\"23355\" + 0.044*\"22112\" + 0.040*\"22114\" + 0.034*\"22111\" + 0.033*\"23356\"')\n",
      "(11, '0.016*\"21034\" + 0.009*\"21619\" + 0.009*\"85034C\" + 0.008*\"23301\" + 0.008*\"21616\"')\n",
      "(12, '0.029*\"85099B\" + 0.018*\"21181\" + 0.018*\"21175\" + 0.016*\"22386\" + 0.015*\"20724\"')\n",
      "(13, '0.007*\"22093\" + 0.007*\"21034\" + 0.007*\"22098\" + 0.006*\"22624\" + 0.005*\"23198\"')\n",
      "(14, '0.067*\"21137\" + 0.063*\"79321\" + 0.046*\"22041\" + 0.045*\"22467\" + 0.034*\"22371\"')\n",
      "(15, '0.034*\"22423\" + 0.031*\"22699\" + 0.029*\"22697\" + 0.026*\"22698\" + 0.026*\"23245\"')\n",
      "(16, '0.059*\"22726\" + 0.055*\"22727\" + 0.038*\"22728\" + 0.033*\"22730\" + 0.022*\"22725\"')\n",
      "(17, '0.017*\"23203\" + 0.015*\"23344\" + 0.014*\"22086\" + 0.013*\"23209\" + 0.012*\"85099B\"')\n",
      "(18, '0.022*\"22749\" + 0.022*\"22750\" + 0.021*\"20972\" + 0.021*\"22940\" + 0.019*\"20971\"')\n",
      "(19, '0.019*\"22577\" + 0.019*\"22578\" + 0.014*\"21498\" + 0.011*\"21500\" + 0.010*\"21497\"')\n"
     ]
    }
   ],
   "source": [
    "# 20개의 토픽별 Top N 아이템 분포 확인\n",
    "\n",
    "topics = ldamodel.print_topics(num_words=5)\n",
    "for topic in topics:\n",
    "    print(topic)"
   ]
  },
  {
   "cell_type": "code",
   "execution_count": 35,
   "metadata": {
    "scrolled": false
   },
   "outputs": [
    {
     "name": "stdout",
     "output_type": "stream",
     "text": [
      "0 ['SET OF 3 WOODEN HEART DECORATIONS', 'SET OF 3 WOODEN STOCKING DECORATION', 'SET OF 3 WOODEN TREE DECORATIONS', 'SET OF 3 WOODEN SLEIGH DECORATIONS', 'SET OF 3 HANGING OWLS OLLIE BEAK']\n",
      "1 ['POPCORN HOLDER', 'RABBIT NIGHT LIGHT', 'TREASURE ISLAND BOOK BOX', 'GYMKHANA TREASURE BOOK BOX', 'ABC TREASURE BOOK BOX ']\n",
      "2 ['ANTIQUE SILVER T-LIGHT GLASS', 'T-LIGHT GLASS FLUTED ANTIQUE', 'ANTIQUE SILVER TEA GLASS ENGRAVED', 'WOODEN HEART CHRISTMAS SCANDINAVIAN', 'WOODEN STAR CHRISTMAS SCANDINAVIAN']\n",
      "3 ['PLASTERS IN TIN SPACEBOY', 'PLASTERS IN TIN WOODLAND ANIMALS', \"PAPER CHAIN KIT 50'S CHRISTMAS \", 'PLASTERS IN TIN STRONGMAN', 'WOODEN BOX OF DOMINOES']\n",
      "4 ['SET OF 20 VINTAGE CHRISTMAS NAPKINS', 'PAPER CHAIN KIT VINTAGE CHRISTMAS', \"PAPER CHAIN KIT 50'S CHRISTMAS \", '60 CAKE CASES VINTAGE CHRISTMAS', 'SET OF 6 RIBBONS VINTAGE CHRISTMAS']\n",
      "5 ['POSTAGE', 'SPACEBOY LUNCH BOX ', 'DOLLY GIRL LUNCH BOX', 'ROUND SNACK BOXES SET OF4 WOODLAND ', 'RABBIT NIGHT LIGHT']\n",
      "6 ['BLUE STRIPE CERAMIC DRAWER KNOB', 'DRAWER KNOB CRACKLE GLAZE IVORY', 'RED STRIPE CERAMIC DRAWER KNOB', 'BLUE SPOT CERAMIC DRAWER KNOB', 'ASSORTED COLOUR BIRD ORNAMENT']\n",
      "7 ['LUNCH BAG  BLACK SKULL.', 'LUNCH BAG SUKI DESIGN ', 'LUNCH BAG RED RETROSPOT', 'LUNCH BAG VINTAGE DOILY ', 'LUNCH BAG SPACEBOY DESIGN ']\n",
      "8 ['CREAM HANGING HEART T-LIGHT HOLDER', 'WOODEN FRAME ANTIQUE WHITE ', 'HEART OF WICKER SMALL', 'LARGE WHITE HEART OF WICKER', 'WOODEN PICTURE FRAME WHITE FINISH']\n",
      "9 ['EDWARDIAN PARASOL RED', 'EDWARDIAN PARASOL BLACK', 'RIBBON REEL SNOWY VILLAGE', 'RIBBON REEL CHRISTMAS SOCK BAUBLE', 'Manual']\n",
      "10 ['HOT WATER BOTTLE KEEP CALM', 'CHOCOLATE HOT WATER BOTTLE', 'HOT WATER BOTTLE TEA AND SYMPATHY', 'SCOTTIE DOG HOT WATER BOTTLE', 'LOVE HOT WATER BOTTLE']\n",
      "11 ['REX CASH+CARRY JUMBO SHOPPER', '4 VANILLA BOTANICAL CANDLES', '3 ROSE MORRIS BOXED CANDLES', 'GARDENERS KNEELING PAD KEEP CALM ', '4 PEAR BOTANICAL DINNER CANDLES']\n",
      "12 ['JUMBO BAG RED RETROSPOT', 'PLEASE ONE PERSON METAL SIGN', 'GIN AND TONIC DIET METAL SIGN', 'JUMBO BAG PINK POLKADOT', 'RED RETROSPOT CHARLOTTE BAG']\n",
      "13 ['MOTORING TISSUE BOX', 'REX CASH+CARRY JUMBO SHOPPER', 'BOUDOIR SQUARE TISSUE BOX', 'IVORY KITCHEN SCALES', 'PANTRY MAGNETIC  SHOPPING LIST']\n",
      "14 ['BLACK RECORD COVER FRAME', 'CHILLI LIGHTS', 'RECORD FRAME 7\" SINGLE SIZE ', 'GUMBALL COAT RACK', 'AIRLINE BAG VINTAGE TOKYO 78']\n",
      "15 ['REGENCY CAKESTAND 3 TIER', 'ROSES REGENCY TEACUP AND SAUCER ', 'GREEN REGENCY TEACUP AND SAUCER', 'PINK REGENCY TEACUP AND SAUCER', 'SET OF 3 REGENCY CAKE TINS']\n",
      "16 ['ALARM CLOCK BAKELIKE GREEN', 'ALARM CLOCK BAKELIKE RED ', 'ALARM CLOCK BAKELIKE PINK', 'ALARM CLOCK BAKELIKE IVORY', 'ALARM CLOCK BAKELIKE CHOCOLATE']\n",
      "17 ['JUMBO BAG VINTAGE DOILY ', \"JUMBO BAG 50'S CHRISTMAS \", \"PAPER CHAIN KIT 50'S CHRISTMAS \", 'LUNCH BAG VINTAGE DOILY ', 'JUMBO BAG RED RETROSPOT']\n",
      "18 ['FELTCRAFT PRINCESS CHARLOTTE DOLL', 'FELTCRAFT PRINCESS LOLA DOLL', 'PINK CREAM FELT CRAFT TRINKET BOX ', 'FELTCRAFT CHRISTMAS FAIRY', 'PINK BLUE FELT CRAFT TRINKET BOX']\n",
      "19 ['WOODEN HEART CHRISTMAS SCANDINAVIAN', 'WOODEN STAR CHRISTMAS SCANDINAVIAN', 'RED RETROSPOT WRAP ', 'PINK POLKADOT WRAP ', 'FANCY FONTS BIRTHDAY WRAP']\n"
     ]
    }
   ],
   "source": [
    "# 20개의 토픽별 Top N 아이템 분포 확인\n",
    "\n",
    "for i in range(20):\n",
    "    recommend = ldamodel.show_topic(topicid=i, topn=5)\n",
    "    print(i, [stock_to_description[item] for item, score in recommend])"
   ]
  },
  {
   "cell_type": "code",
   "execution_count": 36,
   "metadata": {},
   "outputs": [],
   "source": [
    "# 유저의 토픽 분포를 구해봅시다\n",
    "\n",
    "user_topic_dict = {}\n",
    "\n",
    "for user_id, user_df in train_groupby:\n",
    "    document = user_df['StockCode'].values.tolist()\n",
    "    user_topic_dict[user_id] = ldamodel.get_document_topics(id2word.doc2bow(document), minimum_probability=0.0)"
   ]
  },
  {
   "cell_type": "code",
   "execution_count": 37,
   "metadata": {
    "scrolled": false
   },
   "outputs": [
    {
     "data": {
      "text/plain": [
       "[(0, 0.00035465768),\n",
       " (1, 0.00035465768),\n",
       " (2, 0.00035465768),\n",
       " (3, 0.00035465768),\n",
       " (4, 0.00035465768),\n",
       " (5, 0.5483172),\n",
       " (6, 0.00035465768),\n",
       " (7, 0.00035465768),\n",
       " (8, 0.00035465768),\n",
       " (9, 0.1300236),\n",
       " (10, 0.00035465768),\n",
       " (11, 0.00035465768),\n",
       " (12, 0.00035465768),\n",
       " (13, 0.00035465768),\n",
       " (14, 0.00035465768),\n",
       " (15, 0.029265743),\n",
       " (16, 0.00035465768),\n",
       " (17, 0.27219823),\n",
       " (18, 0.014875428),\n",
       " (19, 0.00035465768)]"
      ]
     },
     "execution_count": 37,
     "metadata": {},
     "output_type": "execute_result"
    }
   ],
   "source": [
    "user_id = 12682\n",
    "user_topic_dict[user_id]"
   ]
  },
  {
   "cell_type": "markdown",
   "metadata": {},
   "source": [
    "## LDA로 유저에게 추천"
   ]
  },
  {
   "cell_type": "markdown",
   "metadata": {},
   "source": [
    "### 유저 토픽 가운데 확률이 높은 topic을 이용한 추천"
   ]
  },
  {
   "cell_type": "code",
   "execution_count": 38,
   "metadata": {
    "scrolled": true
   },
   "outputs": [
    {
     "data": {
      "text/plain": [
       "['POST',\n",
       " '22629',\n",
       " '22630',\n",
       " '22326',\n",
       " '23084',\n",
       " '22029',\n",
       " '23389',\n",
       " '22328',\n",
       " '21731',\n",
       " '22659',\n",
       " '23309',\n",
       " '23480',\n",
       " '23346',\n",
       " '23390',\n",
       " '22983',\n",
       " '23345',\n",
       " '22382',\n",
       " '22712',\n",
       " '23290',\n",
       " '23292']"
      ]
     },
     "execution_count": 38,
     "metadata": {},
     "output_type": "execute_result"
    }
   ],
   "source": [
    "# 유저의 토픽 분포를 확인하고 가장 확률이 높은 토픽을 선택합니다.\n",
    "# 해당 토픽에 속한 Top N 아이템을 추천합니다.\n",
    "# example: user: 12682, n: 20\n",
    "\n",
    "topn = 20\n",
    "user_id = 12682\n",
    "user_topics = user_topic_dict[user_id]\n",
    "user_topics = sorted(user_topics, key=lambda x: (x[1]), reverse=True)\n",
    "user_topic = user_topics[0][0]\n",
    "recommend = ldamodel.show_topic(topicid=user_topic, topn=topn)\n",
    "recommend = [item for item, score in recommend]\n",
    "recommend"
   ]
  },
  {
   "cell_type": "code",
   "execution_count": 39,
   "metadata": {},
   "outputs": [
    {
     "data": {
      "text/plain": [
       "5"
      ]
     },
     "execution_count": 39,
     "metadata": {},
     "output_type": "execute_result"
    }
   ],
   "source": [
    "user_topic"
   ]
  },
  {
   "cell_type": "code",
   "execution_count": 40,
   "metadata": {
    "scrolled": true
   },
   "outputs": [
    {
     "data": {
      "text/plain": [
       "['20750',\n",
       " '21931',\n",
       " '85099B',\n",
       " '22423',\n",
       " '21242',\n",
       " '21243',\n",
       " '21239',\n",
       " '21240',\n",
       " '23040',\n",
       " '22596',\n",
       " '22456',\n",
       " '48185',\n",
       " '21770',\n",
       " '21977',\n",
       " '21212',\n",
       " '84375',\n",
       " '23163',\n",
       " '84378',\n",
       " '23020',\n",
       " '22966',\n",
       " '23084',\n",
       " '22556',\n",
       " '22551',\n",
       " '22555',\n",
       " '47566',\n",
       " '23192',\n",
       " '22139',\n",
       " '22138',\n",
       " '22467',\n",
       " 'POST']"
      ]
     },
     "execution_count": 40,
     "metadata": {},
     "output_type": "execute_result"
    }
   ],
   "source": [
    "# 실제 유저가 test 데이터에서 선호한(구매한) 아이템\n",
    "\n",
    "relevant = test_df[test_df['CustomerID'] == user_id]['StockCode'].unique()\n",
    "list(relevant)"
   ]
  },
  {
   "cell_type": "code",
   "execution_count": 41,
   "metadata": {},
   "outputs": [],
   "source": [
    "def get_precision(relevant, recommend):\n",
    "    \n",
    "    _intersection = set(recommend).intersection(set(relevant))\n",
    "    return len(_intersection) / len(recommend)\n",
    "\n",
    "def get_recall(relevant, recommend):\n",
    "    \n",
    "    _intersection = set(recommend).intersection(set(relevant))\n",
    "    return len(_intersection) / len(relevant)"
   ]
  },
  {
   "cell_type": "code",
   "execution_count": 42,
   "metadata": {},
   "outputs": [
    {
     "name": "stdout",
     "output_type": "stream",
     "text": [
      "0.1\n",
      "0.06666666666666667\n"
     ]
    }
   ],
   "source": [
    "# precision\n",
    "print(get_precision(relevant, recommend))\n",
    "\n",
    "# recall\n",
    "print(get_recall(relevant, recommend))"
   ]
  },
  {
   "cell_type": "markdown",
   "metadata": {},
   "source": [
    "### Top N 추천 성능 평가"
   ]
  },
  {
   "cell_type": "code",
   "execution_count": 43,
   "metadata": {},
   "outputs": [
    {
     "name": "stdout",
     "output_type": "stream",
     "text": [
      "precision@k: 0.10552845528455286\n",
      "recall@k: 0.12661685968667544\n"
     ]
    }
   ],
   "source": [
    "# 유저별로 추천하여 전체 성능을 구해봅시다\n",
    "\n",
    "train_user_ids = train_df['CustomerID'].unique()\n",
    "test_user_ids = test_df['CustomerID'].unique()\n",
    "topn = 20\n",
    "\n",
    "default_recommend = list(train_df.groupby('StockCode')['Quantity'].count().sort_values(ascending=False)[:topn].index)\n",
    "\n",
    "precisions = []\n",
    "recalls = []\n",
    "\n",
    "for user_id in test_user_ids:\n",
    "\n",
    "    if user_id in train_user_ids:        \n",
    "        user_topics = user_topic_dict[user_id]\n",
    "        user_topics = sorted(user_topics, key=lambda x: (x[1]), reverse=True)\n",
    "        user_topic = user_topics[0][0]\n",
    "        recommend = [item for item, score in ldamodel.show_topic(topicid=user_topic, topn=topn)]        \n",
    "    else:\n",
    "        recommend = default_recommend\n",
    "    \n",
    "    relevant = test_df[test_df['CustomerID'] == user_id]['StockCode'].unique()\n",
    "    precisions.append(get_precision(relevant, recommend))\n",
    "    recalls.append(get_recall(relevant, recommend))\n",
    "    \n",
    "print('precision@k:', np.mean(np.asarray(precisions)))\n",
    "print('recall@k:', np.mean(np.asarray(recalls)))"
   ]
  },
  {
   "cell_type": "code",
   "execution_count": 44,
   "metadata": {},
   "outputs": [
    {
     "data": {
      "text/plain": [
       "2852"
      ]
     },
     "execution_count": 44,
     "metadata": {},
     "output_type": "execute_result"
    }
   ],
   "source": [
    "len(train_user_ids)"
   ]
  }
 ],
 "metadata": {
  "kernelspec": {
   "display_name": "Python 3",
   "language": "python",
   "name": "python3"
  },
  "language_info": {
   "codemirror_mode": {
    "name": "ipython",
    "version": 3
   },
   "file_extension": ".py",
   "mimetype": "text/x-python",
   "name": "python",
   "nbconvert_exporter": "python",
   "pygments_lexer": "ipython3",
   "version": "3.7.6"
  }
 },
 "nbformat": 4,
 "nbformat_minor": 4
}
