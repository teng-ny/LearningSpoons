{
 "cells": [
  {
   "cell_type": "markdown",
   "metadata": {},
   "source": [
    "# Matrix Factorization의 SGD 구현\n",
    "- sgd 최적화를 이용해 mf 모델의 파라미터를 업데이트한다.\n",
    "- 유저, 아이템 bias까지 추가된 모델로 구현해본다."
   ]
  },
  {
   "cell_type": "markdown",
   "metadata": {},
   "source": [
    "## 학습 데이터 준비"
   ]
  },
  {
   "cell_type": "code",
   "execution_count": 19,
   "metadata": {},
   "outputs": [],
   "source": [
    "import os\n",
    "import pandas as pd\n",
    "import seaborn as sns\n",
    "import scipy\n",
    "import numpy as np\n",
    "import random\n",
    "from matplotlib import pyplot as plt\n",
    "from datetime import datetime\n",
    "from tqdm import tqdm\n",
    "%matplotlib inline\n",
    "\n",
    "from surprise import KNNBasic, KNNWithMeans, SVD\n",
    "from surprise.model_selection.validation import cross_validate\n",
    "\n",
    "from IPython.display import Image\n",
    "\n",
    "import warnings\n",
    "warnings.filterwarnings(\"ignore\")"
   ]
  },
  {
   "cell_type": "code",
   "execution_count": 20,
   "metadata": {},
   "outputs": [],
   "source": [
    "path = '../data/ml-latest-small/'"
   ]
  },
  {
   "cell_type": "code",
   "execution_count": 21,
   "metadata": {},
   "outputs": [],
   "source": [
    "# 무비렌즈 학습 데이터\n",
    "ratings_df = pd.read_csv(path + 'ratings.csv', encoding='utf-8')"
   ]
  },
  {
   "cell_type": "code",
   "execution_count": 22,
   "metadata": {},
   "outputs": [
    {
     "data": {
      "text/html": [
       "<div>\n",
       "<style scoped>\n",
       "    .dataframe tbody tr th:only-of-type {\n",
       "        vertical-align: middle;\n",
       "    }\n",
       "\n",
       "    .dataframe tbody tr th {\n",
       "        vertical-align: top;\n",
       "    }\n",
       "\n",
       "    .dataframe thead th {\n",
       "        text-align: right;\n",
       "    }\n",
       "</style>\n",
       "<table border=\"1\" class=\"dataframe\">\n",
       "  <thead>\n",
       "    <tr style=\"text-align: right;\">\n",
       "      <th></th>\n",
       "      <th>userId</th>\n",
       "      <th>movieId</th>\n",
       "      <th>rating</th>\n",
       "      <th>timestamp</th>\n",
       "    </tr>\n",
       "  </thead>\n",
       "  <tbody>\n",
       "    <tr>\n",
       "      <th>0</th>\n",
       "      <td>1</td>\n",
       "      <td>1</td>\n",
       "      <td>4.0</td>\n",
       "      <td>964982703</td>\n",
       "    </tr>\n",
       "    <tr>\n",
       "      <th>1</th>\n",
       "      <td>1</td>\n",
       "      <td>3</td>\n",
       "      <td>4.0</td>\n",
       "      <td>964981247</td>\n",
       "    </tr>\n",
       "    <tr>\n",
       "      <th>2</th>\n",
       "      <td>1</td>\n",
       "      <td>6</td>\n",
       "      <td>4.0</td>\n",
       "      <td>964982224</td>\n",
       "    </tr>\n",
       "    <tr>\n",
       "      <th>3</th>\n",
       "      <td>1</td>\n",
       "      <td>47</td>\n",
       "      <td>5.0</td>\n",
       "      <td>964983815</td>\n",
       "    </tr>\n",
       "    <tr>\n",
       "      <th>4</th>\n",
       "      <td>1</td>\n",
       "      <td>50</td>\n",
       "      <td>5.0</td>\n",
       "      <td>964982931</td>\n",
       "    </tr>\n",
       "    <tr>\n",
       "      <th>...</th>\n",
       "      <td>...</td>\n",
       "      <td>...</td>\n",
       "      <td>...</td>\n",
       "      <td>...</td>\n",
       "    </tr>\n",
       "    <tr>\n",
       "      <th>100831</th>\n",
       "      <td>610</td>\n",
       "      <td>166534</td>\n",
       "      <td>4.0</td>\n",
       "      <td>1493848402</td>\n",
       "    </tr>\n",
       "    <tr>\n",
       "      <th>100832</th>\n",
       "      <td>610</td>\n",
       "      <td>168248</td>\n",
       "      <td>5.0</td>\n",
       "      <td>1493850091</td>\n",
       "    </tr>\n",
       "    <tr>\n",
       "      <th>100833</th>\n",
       "      <td>610</td>\n",
       "      <td>168250</td>\n",
       "      <td>5.0</td>\n",
       "      <td>1494273047</td>\n",
       "    </tr>\n",
       "    <tr>\n",
       "      <th>100834</th>\n",
       "      <td>610</td>\n",
       "      <td>168252</td>\n",
       "      <td>5.0</td>\n",
       "      <td>1493846352</td>\n",
       "    </tr>\n",
       "    <tr>\n",
       "      <th>100835</th>\n",
       "      <td>610</td>\n",
       "      <td>170875</td>\n",
       "      <td>3.0</td>\n",
       "      <td>1493846415</td>\n",
       "    </tr>\n",
       "  </tbody>\n",
       "</table>\n",
       "<p>100836 rows × 4 columns</p>\n",
       "</div>"
      ],
      "text/plain": [
       "        userId  movieId  rating   timestamp\n",
       "0            1        1     4.0   964982703\n",
       "1            1        3     4.0   964981247\n",
       "2            1        6     4.0   964982224\n",
       "3            1       47     5.0   964983815\n",
       "4            1       50     5.0   964982931\n",
       "...        ...      ...     ...         ...\n",
       "100831     610   166534     4.0  1493848402\n",
       "100832     610   168248     5.0  1493850091\n",
       "100833     610   168250     5.0  1494273047\n",
       "100834     610   168252     5.0  1493846352\n",
       "100835     610   170875     3.0  1493846415\n",
       "\n",
       "[100836 rows x 4 columns]"
      ]
     },
     "execution_count": 22,
     "metadata": {},
     "output_type": "execute_result"
    }
   ],
   "source": [
    "ratings_df"
   ]
  },
  {
   "cell_type": "code",
   "execution_count": 23,
   "metadata": {
    "scrolled": true
   },
   "outputs": [
    {
     "data": {
      "text/plain": [
       "<seaborn.axisgrid.FacetGrid at 0x7f811b5c4dd0>"
      ]
     },
     "execution_count": 23,
     "metadata": {},
     "output_type": "execute_result"
    },
    {
     "data": {
      "image/png": "[encoded data removed]",
      "text/plain": [
       "<Figure size 360x360 with 1 Axes>"
      ]
     },
     "metadata": {
      "needs_background": "light"
     },
     "output_type": "display_data"
    }
   ],
   "source": [
    "sns.displot(ratings_df['rating'])"
   ]
  },
  {
   "cell_type": "markdown",
   "metadata": {},
   "source": [
    "## MF 구현"
   ]
  },
  {
   "cell_type": "code",
   "execution_count": 24,
   "metadata": {},
   "outputs": [],
   "source": [
    "# 학습데이터, 하이퍼파라미터 initialize\n",
    "\n",
    "# 유저 아이템의 Rating 매트릭스\n",
    "user_item_matrix = ratings_df.pivot_table('rating', 'userId', 'movieId').fillna(0)\n",
    "\n",
    "# numpy 형태로 변환\n",
    "R = user_item_matrix.to_numpy()\n",
    "\n",
    "# 잠재 요인의 수\n",
    "K = 20\n",
    "learning_rate = 0.01\n",
    "\n",
    "# l2 정규화 파라미터\n",
    "regularization = 0.2\n",
    "\n",
    "# 학습데이터의 반복 횟수\n",
    "iterations = 20\n",
    "\n",
    "num_users, num_items = user_item_matrix.shape"
   ]
  },
  {
   "cell_type": "code",
   "execution_count": 25,
   "metadata": {},
   "outputs": [],
   "source": [
    "# 학습 파라미터 initialize\n",
    "\n",
    "# 평균이 0, 표준편차는 1/K로 랜덤하게 initialize\n",
    "P = np.random.normal(scale=1./K, size=(num_users, K))\n",
    "Q = np.random.normal(scale=1./K, size=(num_items, K))\n",
    "\n",
    "# Initialize the biases\n",
    "\n",
    "# 유저별 bias\n",
    "b_u = np.zeros(num_users)\n",
    "# 아이템별 bias\n",
    "b_i = np.zeros(num_items)\n",
    "# 전체 bias\n",
    "b = np.mean(R[np.where(R != 0)])"
   ]
  },
  {
   "cell_type": "code",
   "execution_count": 26,
   "metadata": {},
   "outputs": [
    {
     "data": {
      "text/plain": [
       "(610, 9724)"
      ]
     },
     "execution_count": 26,
     "metadata": {},
     "output_type": "execute_result"
    }
   ],
   "source": [
    "R.shape"
   ]
  },
  {
   "cell_type": "code",
   "execution_count": 27,
   "metadata": {},
   "outputs": [],
   "source": [
    "# 학습 데이터 구성\n",
    "# 실제 평가를 내린 데이터만 학습에 사용함\n",
    "\n",
    "samples = [(i, j, R[i, j]) for i in range(num_users) for j in range(num_items) if R[i, j] > 0]"
   ]
  },
  {
   "cell_type": "code",
   "execution_count": 28,
   "metadata": {},
   "outputs": [
    {
     "data": {
      "text/plain": [
       "100836"
      ]
     },
     "execution_count": 28,
     "metadata": {},
     "output_type": "execute_result"
    }
   ],
   "source": [
    "# 총 학습 데이터 사이즈\n",
    "len(samples)"
   ]
  },
  {
   "cell_type": "markdown",
   "metadata": {},
   "source": [
    "- Parameter Update\n",
    "![ab](https://i.ibb.co/QCgV5Ys/svd-sgd.png)"
   ]
  },
  {
   "cell_type": "code",
   "execution_count": 29,
   "metadata": {
    "scrolled": true
   },
   "outputs": [
    {
     "name": "stdout",
     "output_type": "stream",
     "text": [
      "1 0.8977249668388066\n",
      "2 0.877289760991885\n",
      "3 0.8660882789355437\n",
      "4 0.8573171997008906\n",
      "5 0.8523401303627859\n",
      "6 0.8471585739036257\n",
      "7 0.843736732087284\n",
      "8 0.8403665101689365\n",
      "9 0.8380879938943965\n",
      "10 0.8353486447551656\n",
      "11 0.8329249129566343\n",
      "12 0.8308144910618454\n",
      "13 0.8287650040570125\n",
      "14 0.8275604286148257\n",
      "15 0.8261207428971503\n",
      "16 0.8253136057981352\n",
      "17 0.8240969051288499\n",
      "18 0.8227636770698904\n",
      "19 0.8214054773848662\n",
      "20 0.8203815990761009\n"
     ]
    }
   ],
   "source": [
    "# SGD를 활용한 파라미터 업데이트\n",
    "\n",
    "training_result = []\n",
    "\n",
    "for epoch in range(iterations):\n",
    "    \n",
    "    # 학습 데이터 순서를 셔플링\n",
    "    np.random.shuffle(samples)\n",
    "    \n",
    "    for i, j, r in samples:\n",
    "        \n",
    "        # 현재 주어진 파라미터로 predicted rating을 구함\n",
    "        prediction = b + b_u[i] + b_i[j] + P[i, :].dot(Q[j, :].T)\n",
    "        # 실제 rating과 predicted rating의 차이가 error\n",
    "        e = (r - prediction)\n",
    "\n",
    "        # 유저, 아이템 bias 파라미터를 업데이트\n",
    "        b_u[i] += learning_rate * (e - regularization * b_u[i])\n",
    "        b_i[j] += learning_rate * (e - regularization * b_i[j])\n",
    "\n",
    "        # 유저, 아이템 잠재 행렬 파라미터를 업데이트\n",
    "        P[i, :] += learning_rate * (e * Q[j, :] - regularization * P[i,:])\n",
    "        Q[j, :] += learning_rate * (e * P[i, :] - regularization * Q[j,:])\n",
    "        \n",
    "    \n",
    "    # 학습이 모두 끝나고 학습 데이터를 활용해 training loss를 구합니다\n",
    "    ut, it = R.nonzero()\n",
    "    predicted_R = b + b_u[:,np.newaxis] + b_i[np.newaxis:,] + P.dot(Q.T) # add new axis, dimension 1 => 2\n",
    "    error = []\n",
    "    for x, y in zip(ut, it):\n",
    "        error.append(pow(R[x, y] - predicted_R[x, y], 2))\n",
    "    rmse = np.sqrt(np.asarray(error).mean())\n",
    "    print(epoch+1, rmse)\n",
    "    training_result.append([epoch+1, rmse])\n",
    "\n",
    "training_result_pd = pd.DataFrame(training_result, columns = ['iteration', 'rmse'])"
   ]
  },
  {
   "cell_type": "markdown",
   "metadata": {},
   "source": [
    "## MF Class"
   ]
  },
  {
   "cell_type": "code",
   "execution_count": 30,
   "metadata": {},
   "outputs": [],
   "source": [
    "import numpy as np\n",
    "\n",
    "# 위에서 구한 MF를 SGD로 학습하는 것을 class 형태로 만듦\n",
    "\n",
    "class MF():\n",
    "\n",
    "    def __init__(self, R, K, learning_rate, regularization, iterations):\n",
    "        \"\"\"\n",
    "        Arguments\n",
    "        - R (ndarray)             : 유저 아이템 매트릭스\n",
    "        - K (int)                 : latent factor 차원\n",
    "        - learning_rate (float)   : learning rate\n",
    "        - regularization (float)  : regularization parameter\n",
    "        \"\"\"\n",
    "        self.R = R\n",
    "        self.num_users, self.num_items = R.shape\n",
    "        self.K = K\n",
    "        self.learning_rate = learning_rate\n",
    "        self.regularization = regularization\n",
    "        self.iterations = iterations\n",
    "\n",
    "    def train(self):\n",
    "        \n",
    "        # 유저, 아이템 잠재 요인 행렬 초기화\n",
    "        self.P = np.random.normal(scale=1./self.K, size=(self.num_users, self.K))\n",
    "        self.Q = np.random.normal(scale=1./self.K, size=(self.num_items, self.K))\n",
    "\n",
    "        # 유저, 아이템, 글로벌 bias 초기화\n",
    "        self.b_u = np.zeros(self.num_users)\n",
    "        self.b_i = np.zeros(self.num_items)\n",
    "        self.b = np.mean(self.R[np.where(self.R != 0)])\n",
    "\n",
    "        # 학습 데이터 생성\n",
    "        self.samples = [\n",
    "            (i, j, self.R[i, j])\n",
    "            for i in range(self.num_users)\n",
    "            for j in range(self.num_items)\n",
    "            if self.R[i, j] > 0\n",
    "        ]\n",
    "\n",
    "        # iteration 개수만큼 전체 데이터에 대해서 SGD 수행\n",
    "        training_process = []\n",
    "        for i in range(self.iterations):\n",
    "            np.random.shuffle(self.samples)\n",
    "            self.sgd()\n",
    "            rmse = self.rmse()\n",
    "            training_process.append((i, rmse))\n",
    "            if (i+1) % 10 == 0:\n",
    "                print(\"Iteration: %d, error = %.4f\" % (i+1, rmse))\n",
    "\n",
    "        return pd.DataFrame(training_process, columns = ['iteration', 'rmse'])\n",
    "\n",
    "    def rmse(self):\n",
    "        \"\"\"\n",
    "        전체 학습 데이터에 대한 rmse 계산\n",
    "        \"\"\"\n",
    "        ut, it = self.R.nonzero()\n",
    "        predicted_R = self.full_matrix()\n",
    "        error = []\n",
    "        for x, y in zip(ut, it):\n",
    "            error.append(pow(R[x, y] - predicted_R[x, y], 2))\n",
    "        return np.sqrt(np.asarray(error).mean())\n",
    "\n",
    "    def sgd(self):\n",
    "        \"\"\"\n",
    "        sgd로 파라미터 업데이트가 되는 함수\n",
    "        \"\"\"\n",
    "        for i, j, r in self.samples:\n",
    "            # 실제 rating과 predicted rating을 구하고 error를 구함\n",
    "            prediction = self.get_rating(i, j)\n",
    "            e = (r - prediction)\n",
    "\n",
    "            # bias 업데이트\n",
    "            self.b_u[i] += self.learning_rate * (e - self.regularization * self.b_u[i])\n",
    "            self.b_i[j] += self.learning_rate * (e - self.regularization * self.b_i[j])\n",
    "\n",
    "            # 유저, 아이템 잠재 요인 행렬 업데이트\n",
    "            self.P[i, :] += self.learning_rate * (e * self.Q[j, :] - self.regularization * self.P[i,:])\n",
    "            self.Q[j, :] += self.learning_rate * (e * self.P[i, :] - self.regularization * self.Q[j,:])\n",
    "\n",
    "    def get_rating(self, i, j):\n",
    "        \"\"\"\n",
    "        유저 i, 아이템 j에 대한 예측 평점\n",
    "        \"\"\"\n",
    "        prediction = self.b + self.b_u[i] + self.b_i[j] + self.P[i, :].dot(self.Q[j, :].T)\n",
    "        return prediction\n",
    "\n",
    "    def full_matrix(self):\n",
    "        \"\"\"\n",
    "        예측된 유저 아이템 매트릭스를 계산 Rhat\n",
    "        \"\"\"\n",
    "        return self.b + self.b_u[:,np.newaxis] + self.b_i[np.newaxis:,] + self.P.dot(self.Q.T)"
   ]
  },
  {
   "cell_type": "code",
   "execution_count": 31,
   "metadata": {},
   "outputs": [],
   "source": [
    "# 주어진 유저-아이템 매트릭스\n",
    "\n",
    "R = np.array([\n",
    "    [5, 3, 0, 1],\n",
    "    [4, 0, 0, 1],\n",
    "    [1, 1, 0, 5],\n",
    "    [1, 0, 0, 4],\n",
    "    [0, 1, 5, 4],\n",
    "])\n",
    "\n",
    "mf = MF(R, K=2, learning_rate=0.1, regularization=0.01, iterations=30)"
   ]
  },
  {
   "cell_type": "code",
   "execution_count": 32,
   "metadata": {
    "scrolled": true
   },
   "outputs": [
    {
     "name": "stdout",
     "output_type": "stream",
     "text": [
      "Iteration: 10, error = 0.3038\n",
      "Iteration: 20, error = 0.0630\n",
      "Iteration: 30, error = 0.0209\n"
     ]
    }
   ],
   "source": [
    "# MF 모델 학습\n",
    "train_result_df = mf.train()"
   ]
  },
  {
   "cell_type": "code",
   "execution_count": 33,
   "metadata": {},
   "outputs": [
    {
     "data": {
      "text/plain": [
       "array([[4.99535761, 2.98728313, 4.46647038, 1.01671257],\n",
       "       [3.99170961, 2.22593586, 4.00834371, 1.00750187],\n",
       "       [1.04106116, 0.97231188, 4.66160257, 4.99560785],\n",
       "       [0.99902554, 0.69249891, 4.18539502, 3.98986848],\n",
       "       [1.48540136, 1.04460414, 4.97690674, 3.99824545]])"
      ]
     },
     "execution_count": 33,
     "metadata": {},
     "output_type": "execute_result"
    }
   ],
   "source": [
    "# 예측 매트릭스\n",
    "mf.full_matrix()"
   ]
  },
  {
   "cell_type": "markdown",
   "metadata": {},
   "source": [
    "### 무비렌즈 데이터로 학습"
   ]
  },
  {
   "cell_type": "code",
   "execution_count": 34,
   "metadata": {},
   "outputs": [],
   "source": [
    "user_item_matrix = ratings_df.pivot_table('rating', 'userId', 'movieId').fillna(0)\n",
    "R = user_item_matrix.to_numpy()\n",
    "K = 20\n",
    "learning_rate = 0.01\n",
    "regularization = 0.2\n",
    "\n",
    "mf = MF(R, K, learning_rate, regularization, iterations=30)"
   ]
  },
  {
   "cell_type": "code",
   "execution_count": 35,
   "metadata": {
    "scrolled": true
   },
   "outputs": [
    {
     "name": "stdout",
     "output_type": "stream",
     "text": [
      "Iteration: 10, error = 0.8349\n",
      "Iteration: 20, error = 0.8208\n",
      "Iteration: 30, error = 0.8128\n"
     ]
    }
   ],
   "source": [
    "train_result_df = mf.train()"
   ]
  },
  {
   "cell_type": "code",
   "execution_count": 36,
   "metadata": {
    "scrolled": true
   },
   "outputs": [
    {
     "data": {
      "image/png": "[encoded data removed]",
      "text/plain": [
       "<Figure size 576x288 with 1 Axes>"
      ]
     },
     "metadata": {
      "needs_background": "light"
     },
     "output_type": "display_data"
    }
   ],
   "source": [
    "# iteration에 따른 training loss\n",
    "\n",
    "x = train_result_df.iteration.values + 1\n",
    "y = train_result_df.rmse.values\n",
    "plt.figure(figsize=((8,4)))\n",
    "plt.plot(x, y)\n",
    "plt.xticks(x, x)\n",
    "plt.xlabel(\"Iterations\")\n",
    "plt.ylabel(\"RMSE\")\n",
    "plt.grid(axis=\"y\")"
   ]
  },
  {
   "cell_type": "markdown",
   "metadata": {},
   "source": [
    "# Matrix Factorization의 ALS 구현\n",
    "1. 초기 아이템, 사용자 행렬을 초기화\n",
    "2. 아이템 행렬을 고정하고 사용자 행렬을 최적화\n",
    "3. 사용자 행렬을 고정하고 아이템 행렬을 최적화\n",
    "4. 위의 2, 3 과정을 반복"
   ]
  },
  {
   "cell_type": "markdown",
   "metadata": {},
   "source": [
    "## ALS 구현"
   ]
  },
  {
   "cell_type": "code",
   "execution_count": 66,
   "metadata": {},
   "outputs": [],
   "source": [
    "# 유저-아이템 행렬\n",
    "\n",
    "R = np.array([\n",
    "        [1, 0, 0, 1, 3],\n",
    "        [2, 0, 3, 1, 1],\n",
    "        [1, 2, 0, 5, 0],\n",
    "        [1, 0, 0, 4, 4],\n",
    "        [2, 1, 5, 4, 0],\n",
    "        [5, 1, 5, 4, 0],\n",
    "        [0, 0, 0, 1, 0],\n",
    "    ])\n"
   ]
  },
  {
   "cell_type": "code",
   "execution_count": 67,
   "metadata": {},
   "outputs": [],
   "source": [
    "# 학습데이터, 하이퍼파라미터 초기화\n",
    "\n",
    "# 잠재요인 개수\n",
    "k = 5\n",
    "\n",
    "# l2 하이퍼파라미터\n",
    "regularization = 0.01\n",
    "num_users, num_items = R.shape\n",
    "\n",
    "# ALS 업데이트 횟수\n",
    "iterations = 100"
   ]
  },
  {
   "cell_type": "code",
   "execution_count": 68,
   "metadata": {},
   "outputs": [],
   "source": [
    "# 유저, 아이템 잠재요인 매트릭스\n",
    "\n",
    "users = np.random.normal(scale=1./k, size=(num_users, k))\n",
    "items = np.random.normal(scale=1./k, size=(num_items, k))"
   ]
  },
  {
   "cell_type": "code",
   "execution_count": 69,
   "metadata": {},
   "outputs": [
    {
     "data": {
      "text/plain": [
       "(5, 5)"
      ]
     },
     "execution_count": 69,
     "metadata": {},
     "output_type": "execute_result"
    }
   ],
   "source": [
    "items.shape"
   ]
  },
  {
   "cell_type": "markdown",
   "metadata": {},
   "source": [
    "- ALS 업데이트 수식\n",
    "![수식](https://i.ibb.co/Csh6Yb0/2021-06-25-10-50-03.png)"
   ]
  },
  {
   "cell_type": "code",
   "execution_count": 70,
   "metadata": {},
   "outputs": [
    {
     "name": "stdout",
     "output_type": "stream",
     "text": [
      "Iteration: 10, cost = 0.0008\n",
      "Iteration: 20, cost = 0.0012\n",
      "Iteration: 30, cost = 0.0015\n",
      "Iteration: 40, cost = 0.0017\n",
      "Iteration: 50, cost = 0.0019\n",
      "Iteration: 60, cost = 0.0020\n",
      "Iteration: 70, cost = 0.0022\n",
      "Iteration: 80, cost = 0.0023\n",
      "Iteration: 90, cost = 0.0024\n",
      "Iteration: 100, cost = 0.0025\n"
     ]
    }
   ],
   "source": [
    "# iteration마다 상위에 있는 수식을 활용해 유저, 아이템을 업데이트 한다\n",
    "# 참고: https://numpy.org/doc/stable/reference/generated/numpy.linalg.solve.html\n",
    "\n",
    "training_process = []\n",
    "for epoch in range(iterations):\n",
    "    for i, Ri in enumerate(R):\n",
    "        users[i] = np.linalg.solve(np.dot(items.T, items) + regularization * np.eye(k), \\\n",
    "                                   np.dot(items.T, R[i].T)).T\n",
    "\n",
    "    for j, Rj in enumerate(R.T):\n",
    "        items[j] = np.linalg.solve(np.dot(users.T, users) + regularization * np.eye(k), \\\n",
    "                                   np.dot(users.T, R[:, j]))\n",
    "\n",
    "    cost = 0\n",
    "    xi, yi = R.nonzero()\n",
    "    for x, y in zip(xi, yi):\n",
    "        cost += pow(R[x, y] - users[x, :].dot(items[y, :].T), 2)\n",
    "        \n",
    "    cost = np.sqrt(cost/len(xi))\n",
    "    training_process.append((epoch, cost))\n",
    "    \n",
    "    if (epoch + 1) % 10 == 0:\n",
    "        print(\"Iteration: %d, cost = %.4f\" % (epoch + 1, cost))"
   ]
  },
  {
   "cell_type": "code",
   "execution_count": 71,
   "metadata": {},
   "outputs": [
    {
     "data": {
      "text/plain": [
       "array([[1, 0, 0, 1, 3],\n",
       "       [2, 0, 3, 1, 1],\n",
       "       [1, 2, 0, 5, 0],\n",
       "       [1, 0, 0, 4, 4],\n",
       "       [2, 1, 5, 4, 0],\n",
       "       [5, 1, 5, 4, 0],\n",
       "       [0, 0, 0, 1, 0]])"
      ]
     },
     "execution_count": 71,
     "metadata": {},
     "output_type": "execute_result"
    }
   ],
   "source": [
    "R"
   ]
  },
  {
   "cell_type": "code",
   "execution_count": 72,
   "metadata": {},
   "outputs": [
    {
     "data": {
      "text/plain": [
       "array([[ 9.98899936e-01, -4.68935024e-03, -1.69936228e-04,\n",
       "         1.00237503e+00,  2.99627767e+00],\n",
       "       [ 1.99979231e+00, -9.54968039e-04,  2.99814158e+00,\n",
       "         1.00143674e+00,  9.98355620e-01],\n",
       "       [ 9.99995924e-01,  1.99519736e+00,  1.97542123e-03,\n",
       "         4.99838823e+00,  1.05814651e-03],\n",
       "       [ 1.00070635e+00,  4.55374713e-03,  7.03367968e-04,\n",
       "         3.99770480e+00,  3.99844759e+00],\n",
       "       [ 2.00490936e+00,  9.99270556e-01,  4.99619829e+00,\n",
       "         3.99923656e+00, -4.81487594e-04],\n",
       "       [ 4.99434245e+00,  1.00151015e+00,  5.00088948e+00,\n",
       "         3.99981289e+00,  1.55716430e-03],\n",
       "       [ 3.74624084e-04,  4.14564651e-03,  5.44197239e-04,\n",
       "         9.97975797e-01,  1.36395405e-03]])"
      ]
     },
     "execution_count": 72,
     "metadata": {},
     "output_type": "execute_result"
    }
   ],
   "source": [
    "R_hat = users.dot(items.T)\n",
    "R_hat"
   ]
  },
  {
   "cell_type": "markdown",
   "metadata": {},
   "source": [
    "## ALS 클래스"
   ]
  },
  {
   "cell_type": "code",
   "execution_count": 73,
   "metadata": {},
   "outputs": [],
   "source": [
    "import numpy as np\n",
    "from tqdm import tqdm_notebook as tqdm\n",
    "\n",
    "class AlternatingLeastSquares():\n",
    "    def __init__(self, R, k, regularization, iterations, verbose=False):\n",
    "        \"\"\"\n",
    "        Arguments\n",
    "        - R (ndarray)             : 유저 아이템 매트릭스\n",
    "        - k (int)                 : latent factor 차원\n",
    "        - reg_param (float)       : regularization parameter\n",
    "        - epochs (int)            : als로 파라미터 업데이트를 수행하는 횟수\n",
    "        - verbose (boolean)       : 학습 과정의 status print 옵션\n",
    "        \"\"\"\n",
    "        self.R = R\n",
    "        self.num_users, self.num_items = R.shape\n",
    "        self.k = k\n",
    "        self.regularization = regularization\n",
    "        self.iterations = iterations\n",
    "        self.verbose = verbose\n",
    "\n",
    "\n",
    "    def fit(self):\n",
    "\n",
    "        # 유저, 아이템 매트릭스를 초기화\n",
    "        self.users = np.random.normal(scale=1./k, size=(self.num_users, self.k))\n",
    "        self.items = np.random.normal(scale=1./k, size=(self.num_items, self.k))\n",
    "\n",
    "        # iteration 개수만큼 ALS를 수행하여 유저, 아이템 파라미터를 업데이트함\n",
    "        self._training_process = [] \n",
    "        for iteration in range(self.iterations):\n",
    "            for i, Ri in enumerate(self.R):\n",
    "                self.users[i] = self.user_latent(i, Ri)\n",
    "\n",
    "            for j, Rj in enumerate(self.R.T):\n",
    "                self.items[j] = self.item_latent(j, Rj)\n",
    "            \n",
    "            # iteration 수행이 끝날때마다 training loss를 계산함\n",
    "            cost = self.cost()\n",
    "            self._training_process.append((iteration, cost))\n",
    "\n",
    "            # 10번째마다 loss를 출력하는 옵션\n",
    "            if self.verbose == True and ((iteration + 1) % 10 == 0):\n",
    "                print(\"Iteration: %d, cost = %.4f\" % (iteration + 1, cost))\n",
    "\n",
    "    def cost(self):\n",
    "        \"\"\"\n",
    "        학습 데이터 전체의 rmse 계산\n",
    "        \"\"\"\n",
    "        xi, yi = self.R.nonzero()\n",
    "        cost = 0\n",
    "        for x, y in zip(xi, yi):\n",
    "            cost += pow(self.R[x, y] - self.get_prediction(x, y), 2)\n",
    "        return np.sqrt(cost/len(xi))\n",
    "\n",
    "\n",
    "    def user_latent(self, i, Ri):\n",
    "        \"\"\"\n",
    "        유저 i에 대한 유저 벡터 업데이트\n",
    "        \"\"\"\n",
    "\n",
    "        du = np.linalg.solve(np.dot(self.items.T, self.items) + self.regularization * np.eye(self.k),\n",
    "                                   np.dot(self.items.T, self.R[i].T)).T\n",
    "        return du\n",
    "\n",
    "    def item_latent(self, j, Rj):\n",
    "        \"\"\"\n",
    "        아이템 j에 대한 아이템 벡터 업데이트\n",
    "        \"\"\"\n",
    "\n",
    "        di = np.linalg.solve(np.dot(self.users.T, self.users) + self.regularization * np.eye(self.k),\n",
    "                                 np.dot(self.users.T, self.R[:, j]))\n",
    "        return di\n",
    "\n",
    "\n",
    "    def get_prediction(self, i, j):\n",
    "        \"\"\"\n",
    "        유저 i, 아이템 j에 대한 예측 평점\n",
    "        \"\"\"\n",
    "        return self.users[i, :].dot(self.items[j, :].T)\n",
    "\n",
    "\n",
    "    def get_full_matrix(self):\n",
    "        \"\"\"\n",
    "        예측된 유저 아이템 매트릭스를 계산 Rhat\n",
    "        \"\"\"\n",
    "        return self.users.dot(self.items.T)"
   ]
  },
  {
   "cell_type": "code",
   "execution_count": 74,
   "metadata": {
    "scrolled": true
   },
   "outputs": [
    {
     "name": "stdout",
     "output_type": "stream",
     "text": [
      "Iteration: 10, cost = 0.0007\n",
      "Iteration: 20, cost = 0.0011\n"
     ]
    }
   ],
   "source": [
    "R = np.array([\n",
    "        [1, 0, 0, 1, 3],\n",
    "        [2, 0, 3, 1, 1],\n",
    "        [1, 2, 0, 5, 0],\n",
    "        [1, 0, 0, 4, 4],\n",
    "        [2, 1, 5, 4, 0],\n",
    "        [5, 1, 5, 4, 0],\n",
    "        [0, 0, 0, 1, 0],\n",
    "    ])\n",
    "\n",
    "als = AlternatingLeastSquares(R = R, regularization = 0.01, iterations=20, verbose=True, k=5)\n",
    "als.fit()"
   ]
  },
  {
   "cell_type": "code",
   "execution_count": 75,
   "metadata": {},
   "outputs": [
    {
     "data": {
      "text/plain": [
       "array([[ 9.99810173e-01, -3.15060496e-03, -3.36330029e-04,\n",
       "         1.00116368e+00,  2.99825621e+00],\n",
       "       [ 2.00008552e+00, -8.06943155e-04,  2.99923984e+00,\n",
       "         1.00065884e+00,  9.99259402e-01],\n",
       "       [ 9.99966108e-01,  1.99746338e+00,  6.42773492e-04,\n",
       "         4.99958152e+00, -1.99060656e-05],\n",
       "       [ 1.00002043e+00,  2.64021302e-03,  3.14222488e-04,\n",
       "         3.99899358e+00,  4.00009728e+00],\n",
       "       [ 2.00151268e+00,  9.99434387e-01,  4.99826443e+00,\n",
       "         3.99994207e+00, -3.45278248e-04],\n",
       "       [ 4.99848196e+00,  1.00114380e+00,  5.00092012e+00,\n",
       "         3.99976445e+00,  6.87184413e-04],\n",
       "       [-2.37056898e-05,  2.63660781e-03,  3.96652271e-04,\n",
       "         9.99033353e-01,  9.51391694e-04]])"
      ]
     },
     "execution_count": 75,
     "metadata": {},
     "output_type": "execute_result"
    }
   ],
   "source": [
    "als.get_full_matrix()"
   ]
  },
  {
   "cell_type": "code",
   "execution_count": 76,
   "metadata": {},
   "outputs": [
    {
     "data": {
      "text/plain": [
       "1.0006588372403666"
      ]
     },
     "execution_count": 76,
     "metadata": {},
     "output_type": "execute_result"
    }
   ],
   "source": [
    "als.get_prediction(1, 3)"
   ]
  },
  {
   "cell_type": "markdown",
   "metadata": {},
   "source": [
    "# Surprise에서 제공하는 MF 모델 (SVD)\n",
    "- 지난 시간에 사용한 Surprsie 패키지에서 추천 모델을 제공한다.\n",
    "    - Surprise의 SVD는 SGD로 학습되는 MF를 의미한다.\n",
    "- SGD로 모델이 학습될 때 변경 가능한 옵션과 하이퍼파라미터에 대해서 살펴본다.\n",
    "- 무비렌즈 데이터를 활용해 KNN 모델과 SVD모델을 각각 학습해보고 추천 성능을 비교해보자."
   ]
  },
  {
   "cell_type": "code",
   "execution_count": 77,
   "metadata": {},
   "outputs": [],
   "source": [
    "# surprise에서 제공하는 dataset과 reader\n",
    "\n",
    "from surprise import Reader, Dataset\n",
    "\n",
    "reader = Reader(rating_scale=(0.5, 5.0))\n",
    "data = Dataset.load_from_df(ratings_df[['userId', 'movieId', 'rating']], reader)"
   ]
  },
  {
   "cell_type": "code",
   "execution_count": 78,
   "metadata": {},
   "outputs": [],
   "source": [
    "from surprise import accuracy\n",
    "from surprise.model_selection import train_test_split\n",
    "\n",
    "# train / test 데이터 나누기\n",
    "train_data, test_data = train_test_split(data, test_size=0.2, random_state=10)"
   ]
  },
  {
   "cell_type": "markdown",
   "metadata": {},
   "source": [
    "## SVD Model\n",
    "\n",
    "- [모델 API 문서](https://surprise.readthedocs.io/en/stable/matrix_factorization.html)\n",
    "- The SVD++ algorithm, an extension of SVD taking into account implicit ratings."
   ]
  },
  {
   "cell_type": "code",
   "execution_count": 79,
   "metadata": {},
   "outputs": [
    {
     "name": "stdout",
     "output_type": "stream",
     "text": [
      "RMSE: 0.8668\n"
     ]
    },
    {
     "data": {
      "text/plain": [
       "0.8668081311916622"
      ]
     },
     "execution_count": 79,
     "metadata": {},
     "output_type": "execute_result"
    }
   ],
   "source": [
    "# SVD 모델을 사용하자 => MF의 SGD 구현을 Suprise에서 SVD로 부름\n",
    "\n",
    "svd_model = SVD(n_factors=20, reg_all = 0.02)\n",
    "\n",
    "# 학습데이터를 가지고 모델 학습\n",
    "svd_model.fit(train_data)\n",
    "\n",
    "# 테스트 데이터로 모델의 예측 평점을 추론\n",
    "predictions = svd_model.test(test_data)\n",
    "\n",
    "# Then compute RMSE\n",
    "accuracy.rmse(predictions)"
   ]
  },
  {
   "cell_type": "code",
   "execution_count": 80,
   "metadata": {},
   "outputs": [
    {
     "name": "stdout",
     "output_type": "stream",
     "text": [
      "(610, 20)\n",
      "(8933, 20)\n"
     ]
    }
   ],
   "source": [
    "# 유저/아이템 매트릭스\n",
    "\n",
    "print(svd_model.pu.shape)\n",
    "print(svd_model.qi.shape)"
   ]
  },
  {
   "cell_type": "code",
   "execution_count": 81,
   "metadata": {
    "scrolled": true
   },
   "outputs": [
    {
     "data": {
      "text/plain": [
       "array([ 0.07380621, -0.06692793, -0.01942939, -0.14955216,  0.01818387,\n",
       "       -0.10913621,  0.15902081, -0.17509367,  0.13926057,  0.01303776,\n",
       "        0.04174939, -0.0018524 ,  0.04205402,  0.0839531 , -0.35875277,\n",
       "       -0.20206477, -0.02747232, -0.13191464, -0.13195688,  0.02076674])"
      ]
     },
     "execution_count": 81,
     "metadata": {},
     "output_type": "execute_result"
    }
   ],
   "source": [
    "# 유저 0의 latent factor\n",
    "\n",
    "svd_model.pu[0]"
   ]
  },
  {
   "cell_type": "code",
   "execution_count": 82,
   "metadata": {},
   "outputs": [
    {
     "data": {
      "text/plain": [
       "array([-0.03139309,  0.15404227,  0.11104108,  0.14684663, -0.06158748,\n",
       "       -0.0228011 , -0.25756611,  0.20263045,  0.25347548,  0.01855477,\n",
       "        0.01215266, -0.19974691,  0.28118865,  0.13565833,  0.13103271,\n",
       "        0.12963981,  0.25759053,  0.05920032, -0.11346777,  0.01587297])"
      ]
     },
     "execution_count": 82,
     "metadata": {},
     "output_type": "execute_result"
    }
   ],
   "source": [
    "# 아이템 0의 latent factor\n",
    "\n",
    "svd_model.qi[0]"
   ]
  },
  {
   "cell_type": "code",
   "execution_count": 83,
   "metadata": {},
   "outputs": [
    {
     "data": {
      "text/plain": [
       "Prediction(uid=1, iid=1, r_ui=None, est=4.6288738687233515, details={'was_impossible': False})"
      ]
     },
     "execution_count": 83,
     "metadata": {},
     "output_type": "execute_result"
    }
   ],
   "source": [
    "# 평점 예측\n",
    "\n",
    "user_id = 1\n",
    "item_id = 1\n",
    "\n",
    "svd_model.predict(user_id, item_id)"
   ]
  },
  {
   "cell_type": "code",
   "execution_count": 84,
   "metadata": {},
   "outputs": [
    {
     "name": "stdout",
     "output_type": "stream",
     "text": [
      "3.5001859473397134\n",
      "3.5001859473397134\n"
     ]
    }
   ],
   "source": [
    "# 새로운 유저, 아이템이 등장할 경우 default_prediction를 사용\n",
    "\n",
    "user_id = 0\n",
    "item_id = 0\n",
    "\n",
    "print(svd_model.predict(user_id, item_id).est)\n",
    "print(svd_model.default_prediction())"
   ]
  },
  {
   "cell_type": "markdown",
   "metadata": {},
   "source": [
    "![default_prediction](https://i.ibb.co/6YxrX1s/default-prediction.png)"
   ]
  },
  {
   "cell_type": "markdown",
   "metadata": {},
   "source": [
    "### [모델 상세 옵션](https://surprise.readthedocs.io/en/stable/matrix_factorization.html#surprise.prediction_algorithms.matrix_factorization.SVD)\n",
    "\n",
    "- Rating Function\n",
    "![ab](https://i.ibb.co/MSZJKLp/svd-rating.png)\n",
    "- Objective Function\n",
    "![ab](https://i.ibb.co/DzMmtyx/svd-obj.png)"
   ]
  },
  {
   "cell_type": "code",
   "execution_count": 85,
   "metadata": {},
   "outputs": [
    {
     "name": "stdout",
     "output_type": "stream",
     "text": [
      "RMSE: 0.9868\n",
      "biased: False , 0.9868480466455576\n",
      "RMSE: 0.8717\n",
      "biased: True , 0.8717097729884191\n"
     ]
    }
   ],
   "source": [
    "# bias 유무에 따른 성능 비교\n",
    "\n",
    "for biased in [False, True]:\n",
    "    svd_model = SVD(biased=biased)\n",
    "    svd_model.fit(train_data)\n",
    "    predictions = svd_model.test(test_data)\n",
    "\n",
    "    # Then compute RMSE\n",
    "    print('biased:', biased, ',', accuracy.rmse(predictions))\n"
   ]
  },
  {
   "cell_type": "code",
   "execution_count": 86,
   "metadata": {},
   "outputs": [
    {
     "name": "stdout",
     "output_type": "stream",
     "text": [
      "RMSE: 0.8680\n",
      "n_factors: 25 , 0.8680233997092965\n",
      "RMSE: 0.8688\n",
      "n_factors: 50 , 0.8688039750179892\n",
      "RMSE: 0.8694\n",
      "n_factors: 100 , 0.8694304155282296\n",
      "RMSE: 0.8717\n",
      "n_factors: 150 , 0.8717075522153843\n"
     ]
    }
   ],
   "source": [
    "# latent factor 수에 따른 성능 비교\n",
    "\n",
    "for k in [25, 50, 100, 150]:\n",
    "    svd_model = SVD(n_factors=k)\n",
    "    svd_model.fit(train_data)\n",
    "    predictions = svd_model.test(test_data)\n",
    "\n",
    "    # Then compute RMSE\n",
    "    print('n_factors:', k, ',', accuracy.rmse(predictions))\n"
   ]
  },
  {
   "cell_type": "code",
   "execution_count": 87,
   "metadata": {},
   "outputs": [
    {
     "name": "stdout",
     "output_type": "stream",
     "text": [
      "RMSE: 0.8791\n",
      "lr_all: 0.0025 , 0.8791246241187973\n",
      "RMSE: 0.8684\n",
      "lr_all: 0.005 , 0.8684393236369308\n",
      "RMSE: 0.8944\n",
      "lr_all: 0.001 , 0.8943944920696499\n"
     ]
    }
   ],
   "source": [
    "# learning rate에 따른 성능 비교\n",
    "\n",
    "for lr_all in [.0025, .005, .001]:\n",
    "    svd_model = SVD(lr_all=lr_all)\n",
    "    svd_model.fit(train_data)\n",
    "    predictions = svd_model.test(test_data)\n",
    "\n",
    "    # Then compute RMSE\n",
    "    print('lr_all:', lr_all, ',', accuracy.rmse(predictions))\n"
   ]
  },
  {
   "cell_type": "code",
   "execution_count": 88,
   "metadata": {},
   "outputs": [
    {
     "name": "stdout",
     "output_type": "stream",
     "text": [
      "RMSE: 0.8922\n",
      "reg_all: 0 , 0.8922486959885384\n",
      "RMSE: 0.8706\n",
      "reg_all: 0.02 , 0.8706042912906077\n",
      "RMSE: 0.8684\n",
      "reg_all: 0.1 , 0.8683782621427854\n",
      "RMSE: 0.9051\n",
      "reg_all: 1 , 0.9051061242525684\n"
     ]
    }
   ],
   "source": [
    "# regularization에 따른 성능 비교\n",
    "\n",
    "for reg_all in [0, 0.02, 0.1, 1]:\n",
    "    svd_model = SVD(reg_all=reg_all)\n",
    "    svd_model.fit(train_data)\n",
    "    predictions = svd_model.test(test_data)\n",
    "\n",
    "    # Then compute RMSE\n",
    "    print('reg_all:', reg_all, ',', accuracy.rmse(predictions))\n"
   ]
  },
  {
   "cell_type": "code",
   "execution_count": 89,
   "metadata": {},
   "outputs": [],
   "source": [
    "# Grid Search 패키지를 제공함\n",
    "\n",
    "from surprise.model_selection import GridSearchCV\n",
    "\n",
    "grid = {'lr_all': [.0025, .005], \n",
    "        'n_factors': [25, 50, 100],\n",
    "        'reg_all': [0.02, 0.1]\n",
    "       }\n",
    "\n",
    "gs = GridSearchCV(SVD, grid, measures=['RMSE'], cv=2)\n",
    "gs.fit(data)"
   ]
  },
  {
   "cell_type": "code",
   "execution_count": 97,
   "metadata": {
    "scrolled": true
   },
   "outputs": [
    {
     "data": {
      "text/html": [
       "<div>\n",
       "<style scoped>\n",
       "    .dataframe tbody tr th:only-of-type {\n",
       "        vertical-align: middle;\n",
       "    }\n",
       "\n",
       "    .dataframe tbody tr th {\n",
       "        vertical-align: top;\n",
       "    }\n",
       "\n",
       "    .dataframe thead th {\n",
       "        text-align: right;\n",
       "    }\n",
       "</style>\n",
       "<table border=\"1\" class=\"dataframe\">\n",
       "  <thead>\n",
       "    <tr style=\"text-align: right;\">\n",
       "      <th></th>\n",
       "      <th>split0_test_rmse</th>\n",
       "      <th>split1_test_rmse</th>\n",
       "      <th>mean_test_rmse</th>\n",
       "      <th>std_test_rmse</th>\n",
       "      <th>rank_test_rmse</th>\n",
       "      <th>mean_fit_time</th>\n",
       "      <th>std_fit_time</th>\n",
       "      <th>mean_test_time</th>\n",
       "      <th>std_test_time</th>\n",
       "      <th>params</th>\n",
       "      <th>param_lr_all</th>\n",
       "      <th>param_n_factors</th>\n",
       "      <th>param_reg_all</th>\n",
       "    </tr>\n",
       "  </thead>\n",
       "  <tbody>\n",
       "    <tr>\n",
       "      <th>7</th>\n",
       "      <td>0.885123</td>\n",
       "      <td>0.878457</td>\n",
       "      <td>0.881790</td>\n",
       "      <td>0.003333</td>\n",
       "      <td>1</td>\n",
       "      <td>1.259836</td>\n",
       "      <td>0.057024</td>\n",
       "      <td>0.360754</td>\n",
       "      <td>0.003416</td>\n",
       "      <td>{'lr_all': 0.005, 'n_factors': 25, 'reg_all': ...</td>\n",
       "      <td>0.0050</td>\n",
       "      <td>25</td>\n",
       "      <td>0.10</td>\n",
       "    </tr>\n",
       "    <tr>\n",
       "      <th>9</th>\n",
       "      <td>0.885297</td>\n",
       "      <td>0.878478</td>\n",
       "      <td>0.881887</td>\n",
       "      <td>0.003409</td>\n",
       "      <td>2</td>\n",
       "      <td>1.448279</td>\n",
       "      <td>0.003696</td>\n",
       "      <td>0.374078</td>\n",
       "      <td>0.001275</td>\n",
       "      <td>{'lr_all': 0.005, 'n_factors': 50, 'reg_all': ...</td>\n",
       "      <td>0.0050</td>\n",
       "      <td>50</td>\n",
       "      <td>0.10</td>\n",
       "    </tr>\n",
       "    <tr>\n",
       "      <th>6</th>\n",
       "      <td>0.887012</td>\n",
       "      <td>0.878884</td>\n",
       "      <td>0.882948</td>\n",
       "      <td>0.004064</td>\n",
       "      <td>3</td>\n",
       "      <td>1.272384</td>\n",
       "      <td>0.005376</td>\n",
       "      <td>0.431445</td>\n",
       "      <td>0.042519</td>\n",
       "      <td>{'lr_all': 0.005, 'n_factors': 25, 'reg_all': ...</td>\n",
       "      <td>0.0050</td>\n",
       "      <td>25</td>\n",
       "      <td>0.02</td>\n",
       "    </tr>\n",
       "    <tr>\n",
       "      <th>11</th>\n",
       "      <td>0.886583</td>\n",
       "      <td>0.879570</td>\n",
       "      <td>0.883077</td>\n",
       "      <td>0.003506</td>\n",
       "      <td>4</td>\n",
       "      <td>2.726787</td>\n",
       "      <td>0.173621</td>\n",
       "      <td>0.418329</td>\n",
       "      <td>0.010730</td>\n",
       "      <td>{'lr_all': 0.005, 'n_factors': 100, 'reg_all':...</td>\n",
       "      <td>0.0050</td>\n",
       "      <td>100</td>\n",
       "      <td>0.10</td>\n",
       "    </tr>\n",
       "    <tr>\n",
       "      <th>8</th>\n",
       "      <td>0.889431</td>\n",
       "      <td>0.881482</td>\n",
       "      <td>0.885456</td>\n",
       "      <td>0.003975</td>\n",
       "      <td>5</td>\n",
       "      <td>1.408219</td>\n",
       "      <td>0.023825</td>\n",
       "      <td>0.287977</td>\n",
       "      <td>0.056975</td>\n",
       "      <td>{'lr_all': 0.005, 'n_factors': 50, 'reg_all': ...</td>\n",
       "      <td>0.0050</td>\n",
       "      <td>50</td>\n",
       "      <td>0.02</td>\n",
       "    </tr>\n",
       "    <tr>\n",
       "      <th>10</th>\n",
       "      <td>0.892716</td>\n",
       "      <td>0.886476</td>\n",
       "      <td>0.889596</td>\n",
       "      <td>0.003120</td>\n",
       "      <td>6</td>\n",
       "      <td>2.667909</td>\n",
       "      <td>0.018121</td>\n",
       "      <td>0.354392</td>\n",
       "      <td>0.042899</td>\n",
       "      <td>{'lr_all': 0.005, 'n_factors': 100, 'reg_all':...</td>\n",
       "      <td>0.0050</td>\n",
       "      <td>100</td>\n",
       "      <td>0.02</td>\n",
       "    </tr>\n",
       "    <tr>\n",
       "      <th>0</th>\n",
       "      <td>0.893326</td>\n",
       "      <td>0.887204</td>\n",
       "      <td>0.890265</td>\n",
       "      <td>0.003061</td>\n",
       "      <td>7</td>\n",
       "      <td>1.182749</td>\n",
       "      <td>0.003514</td>\n",
       "      <td>0.384532</td>\n",
       "      <td>0.025060</td>\n",
       "      <td>{'lr_all': 0.0025, 'n_factors': 25, 'reg_all':...</td>\n",
       "      <td>0.0025</td>\n",
       "      <td>25</td>\n",
       "      <td>0.02</td>\n",
       "    </tr>\n",
       "    <tr>\n",
       "      <th>1</th>\n",
       "      <td>0.893540</td>\n",
       "      <td>0.887066</td>\n",
       "      <td>0.890303</td>\n",
       "      <td>0.003237</td>\n",
       "      <td>8</td>\n",
       "      <td>1.166492</td>\n",
       "      <td>0.020855</td>\n",
       "      <td>0.317419</td>\n",
       "      <td>0.067497</td>\n",
       "      <td>{'lr_all': 0.0025, 'n_factors': 25, 'reg_all':...</td>\n",
       "      <td>0.0025</td>\n",
       "      <td>25</td>\n",
       "      <td>0.10</td>\n",
       "    </tr>\n",
       "    <tr>\n",
       "      <th>3</th>\n",
       "      <td>0.894352</td>\n",
       "      <td>0.887641</td>\n",
       "      <td>0.890996</td>\n",
       "      <td>0.003355</td>\n",
       "      <td>9</td>\n",
       "      <td>1.521773</td>\n",
       "      <td>0.113391</td>\n",
       "      <td>0.302504</td>\n",
       "      <td>0.078223</td>\n",
       "      <td>{'lr_all': 0.0025, 'n_factors': 50, 'reg_all':...</td>\n",
       "      <td>0.0025</td>\n",
       "      <td>50</td>\n",
       "      <td>0.10</td>\n",
       "    </tr>\n",
       "    <tr>\n",
       "      <th>2</th>\n",
       "      <td>0.894874</td>\n",
       "      <td>0.888104</td>\n",
       "      <td>0.891489</td>\n",
       "      <td>0.003385</td>\n",
       "      <td>10</td>\n",
       "      <td>1.530586</td>\n",
       "      <td>0.010665</td>\n",
       "      <td>0.361283</td>\n",
       "      <td>0.001688</td>\n",
       "      <td>{'lr_all': 0.0025, 'n_factors': 50, 'reg_all':...</td>\n",
       "      <td>0.0025</td>\n",
       "      <td>50</td>\n",
       "      <td>0.02</td>\n",
       "    </tr>\n",
       "    <tr>\n",
       "      <th>5</th>\n",
       "      <td>0.895070</td>\n",
       "      <td>0.888412</td>\n",
       "      <td>0.891741</td>\n",
       "      <td>0.003329</td>\n",
       "      <td>11</td>\n",
       "      <td>2.326499</td>\n",
       "      <td>0.005940</td>\n",
       "      <td>0.331792</td>\n",
       "      <td>0.040415</td>\n",
       "      <td>{'lr_all': 0.0025, 'n_factors': 100, 'reg_all'...</td>\n",
       "      <td>0.0025</td>\n",
       "      <td>100</td>\n",
       "      <td>0.10</td>\n",
       "    </tr>\n",
       "    <tr>\n",
       "      <th>4</th>\n",
       "      <td>0.897719</td>\n",
       "      <td>0.891462</td>\n",
       "      <td>0.894590</td>\n",
       "      <td>0.003128</td>\n",
       "      <td>12</td>\n",
       "      <td>2.276298</td>\n",
       "      <td>0.036195</td>\n",
       "      <td>0.355644</td>\n",
       "      <td>0.002683</td>\n",
       "      <td>{'lr_all': 0.0025, 'n_factors': 100, 'reg_all'...</td>\n",
       "      <td>0.0025</td>\n",
       "      <td>100</td>\n",
       "      <td>0.02</td>\n",
       "    </tr>\n",
       "  </tbody>\n",
       "</table>\n",
       "</div>"
      ],
      "text/plain": [
       "    split0_test_rmse  split1_test_rmse  mean_test_rmse  std_test_rmse  \\\n",
       "7           0.885123          0.878457        0.881790       0.003333   \n",
       "9           0.885297          0.878478        0.881887       0.003409   \n",
       "6           0.887012          0.878884        0.882948       0.004064   \n",
       "11          0.886583          0.879570        0.883077       0.003506   \n",
       "8           0.889431          0.881482        0.885456       0.003975   \n",
       "10          0.892716          0.886476        0.889596       0.003120   \n",
       "0           0.893326          0.887204        0.890265       0.003061   \n",
       "1           0.893540          0.887066        0.890303       0.003237   \n",
       "3           0.894352          0.887641        0.890996       0.003355   \n",
       "2           0.894874          0.888104        0.891489       0.003385   \n",
       "5           0.895070          0.888412        0.891741       0.003329   \n",
       "4           0.897719          0.891462        0.894590       0.003128   \n",
       "\n",
       "    rank_test_rmse  mean_fit_time  std_fit_time  mean_test_time  \\\n",
       "7                1       1.259836      0.057024        0.360754   \n",
       "9                2       1.448279      0.003696        0.374078   \n",
       "6                3       1.272384      0.005376        0.431445   \n",
       "11               4       2.726787      0.173621        0.418329   \n",
       "8                5       1.408219      0.023825        0.287977   \n",
       "10               6       2.667909      0.018121        0.354392   \n",
       "0                7       1.182749      0.003514        0.384532   \n",
       "1                8       1.166492      0.020855        0.317419   \n",
       "3                9       1.521773      0.113391        0.302504   \n",
       "2               10       1.530586      0.010665        0.361283   \n",
       "5               11       2.326499      0.005940        0.331792   \n",
       "4               12       2.276298      0.036195        0.355644   \n",
       "\n",
       "    std_test_time                                             params  \\\n",
       "7        0.003416  {'lr_all': 0.005, 'n_factors': 25, 'reg_all': ...   \n",
       "9        0.001275  {'lr_all': 0.005, 'n_factors': 50, 'reg_all': ...   \n",
       "6        0.042519  {'lr_all': 0.005, 'n_factors': 25, 'reg_all': ...   \n",
       "11       0.010730  {'lr_all': 0.005, 'n_factors': 100, 'reg_all':...   \n",
       "8        0.056975  {'lr_all': 0.005, 'n_factors': 50, 'reg_all': ...   \n",
       "10       0.042899  {'lr_all': 0.005, 'n_factors': 100, 'reg_all':...   \n",
       "0        0.025060  {'lr_all': 0.0025, 'n_factors': 25, 'reg_all':...   \n",
       "1        0.067497  {'lr_all': 0.0025, 'n_factors': 25, 'reg_all':...   \n",
       "3        0.078223  {'lr_all': 0.0025, 'n_factors': 50, 'reg_all':...   \n",
       "2        0.001688  {'lr_all': 0.0025, 'n_factors': 50, 'reg_all':...   \n",
       "5        0.040415  {'lr_all': 0.0025, 'n_factors': 100, 'reg_all'...   \n",
       "4        0.002683  {'lr_all': 0.0025, 'n_factors': 100, 'reg_all'...   \n",
       "\n",
       "    param_lr_all  param_n_factors  param_reg_all  \n",
       "7         0.0050               25           0.10  \n",
       "9         0.0050               50           0.10  \n",
       "6         0.0050               25           0.02  \n",
       "11        0.0050              100           0.10  \n",
       "8         0.0050               50           0.02  \n",
       "10        0.0050              100           0.02  \n",
       "0         0.0025               25           0.02  \n",
       "1         0.0025               25           0.10  \n",
       "3         0.0025               50           0.10  \n",
       "2         0.0025               50           0.02  \n",
       "5         0.0025              100           0.10  \n",
       "4         0.0025              100           0.02  "
      ]
     },
     "execution_count": 97,
     "metadata": {},
     "output_type": "execute_result"
    }
   ],
   "source": [
    "pd.DataFrame(gs.cv_results).sort_values(by='rank_test_rmse')"
   ]
  },
  {
   "cell_type": "code",
   "execution_count": 91,
   "metadata": {},
   "outputs": [
    {
     "name": "stdout",
     "output_type": "stream",
     "text": [
      "{'rmse': 0.8817898424848083}\n",
      "{'rmse': {'lr_all': 0.005, 'n_factors': 25, 'reg_all': 0.1}}\n"
     ]
    }
   ],
   "source": [
    "print(gs.best_score)\n",
    "print(gs.best_params)"
   ]
  },
  {
   "cell_type": "markdown",
   "metadata": {},
   "source": [
    "## 예측 모델 간의 성능 비교\n",
    "\n",
    "- 지난시간에 배운 KNN과 MF(SVD) 사이의 모델 성능을 비교해보자"
   ]
  },
  {
   "cell_type": "code",
   "execution_count": 92,
   "metadata": {
    "scrolled": true
   },
   "outputs": [
    {
     "name": "stdout",
     "output_type": "stream",
     "text": [
      "Computing the msd similarity matrix...\n",
      "Done computing similarity matrix.\n",
      "Computing the msd similarity matrix...\n",
      "Done computing similarity matrix.\n",
      "Computing the msd similarity matrix...\n",
      "Done computing similarity matrix.\n",
      "Computing the msd similarity matrix...\n",
      "Done computing similarity matrix.\n",
      "Computing the msd similarity matrix...\n",
      "Done computing similarity matrix.\n",
      "Evaluating RMSE, MAE of algorithm KNNWithMeans on 5 split(s).\n",
      "\n",
      "                  Fold 1  Fold 2  Fold 3  Fold 4  Fold 5  Mean    Std     \n",
      "RMSE (testset)    0.8959  0.8948  0.8840  0.8885  0.8961  0.8919  0.0048  \n",
      "MAE (testset)     0.6846  0.6840  0.6774  0.6787  0.6838  0.6817  0.0030  \n",
      "Fit time          4.25    4.05    3.89    3.84    3.70    3.95    0.19    \n",
      "Test time         7.67    7.38    6.67    6.73    7.14    7.12    0.38    \n"
     ]
    },
    {
     "data": {
      "text/plain": [
       "{'test_rmse': array([0.89588592, 0.8947679 , 0.88400366, 0.88846784, 0.8961274 ]),\n",
       " 'test_mae': array([0.68456817, 0.68403841, 0.67738954, 0.67870204, 0.6837754 ]),\n",
       " 'fit_time': (4.254040956497192,\n",
       "  4.049951791763306,\n",
       "  3.8850748538970947,\n",
       "  3.842864990234375,\n",
       "  3.70485782623291),\n",
       " 'test_time': (7.672054767608643,\n",
       "  7.3797829151153564,\n",
       "  6.670558929443359,\n",
       "  6.7324559688568115,\n",
       "  7.135619163513184)}"
      ]
     },
     "execution_count": 92,
     "metadata": {},
     "output_type": "execute_result"
    }
   ],
   "source": [
    "# KNN 모델\n",
    "\n",
    "sim_options = {\n",
    "    'name': 'msd',\n",
    "    'user_based': False\n",
    "}\n",
    "\n",
    "knn = KNNWithMeans(k = 40, min_k = 1, sim_options = sim_options)\n",
    "\n",
    "cross_validate(knn, data, measures=['RMSE', 'MAE'], cv=5, verbose=True)"
   ]
  },
  {
   "cell_type": "code",
   "execution_count": 93,
   "metadata": {
    "scrolled": true
   },
   "outputs": [
    {
     "name": "stdout",
     "output_type": "stream",
     "text": [
      "Evaluating RMSE, MAE of algorithm SVD on 5 split(s).\n",
      "\n",
      "                  Fold 1  Fold 2  Fold 3  Fold 4  Fold 5  Mean    Std     \n",
      "RMSE (testset)    0.8707  0.8728  0.8757  0.8682  0.8676  0.8710  0.0030  \n",
      "MAE (testset)     0.6700  0.6698  0.6743  0.6696  0.6687  0.6705  0.0020  \n",
      "Fit time          1.87    1.89    1.89    1.87    1.88    1.88    0.01    \n",
      "Test time         0.20    0.09    0.20    0.10    0.19    0.16    0.05    \n"
     ]
    },
    {
     "data": {
      "text/plain": [
       "{'test_rmse': array([0.87070924, 0.87284774, 0.87565554, 0.86817313, 0.86758787]),\n",
       " 'test_mae': array([0.67003361, 0.66977008, 0.67430051, 0.66963418, 0.66865309]),\n",
       " 'fit_time': (1.8651511669158936,\n",
       "  1.8866848945617676,\n",
       "  1.8852827548980713,\n",
       "  1.8725008964538574,\n",
       "  1.8761088848114014),\n",
       " 'test_time': (0.20186495780944824,\n",
       "  0.09291481971740723,\n",
       "  0.19897103309631348,\n",
       "  0.09630608558654785,\n",
       "  0.19020986557006836)}"
      ]
     },
     "execution_count": 93,
     "metadata": {},
     "output_type": "execute_result"
    }
   ],
   "source": [
    "# SVD 모델\n",
    "\n",
    "svd = SVD(n_factors=25, lr_all=0.005, reg_all=0.1)\n",
    "\n",
    "cross_validate(svd, data, measures=['RMSE', 'MAE'], cv=5, verbose=True)"
   ]
  }
 ],
 "metadata": {
  "kernelspec": {
   "display_name": "Python 3",
   "language": "python",
   "name": "python3"
  },
  "language_info": {
   "codemirror_mode": {
    "name": "ipython",
    "version": 3
   },
   "file_extension": ".py",
   "mimetype": "text/x-python",
   "name": "python",
   "nbconvert_exporter": "python",
   "pygments_lexer": "ipython3",
   "version": "3.7.6"
  }
 },
 "nbformat": 4,
 "nbformat_minor": 4
}
