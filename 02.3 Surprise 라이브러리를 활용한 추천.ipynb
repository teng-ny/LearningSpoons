{
 "cells": [
  {
   "cell_type": "markdown",
   "metadata": {},
   "source": [
    "# [Surprise](https://surprise.readthedocs.io/en/stable/index.html) 라이브러리 활용\n",
    "\n",
    "- Collaborative Filtering 관련 머신러닝 라이브러리 Surprise를 사용해봅시다\n",
    "- 본 패키지는 KNN Collaborative Filtering 외에도 Matrix Factorization 등의 알고리즘도 제공하지만, 본 실습에서는 KNN 알고리즘만 사용합니다"
   ]
  },
  {
   "cell_type": "markdown",
   "metadata": {},
   "source": [
    "## 학습 데이터 준비"
   ]
  },
  {
   "cell_type": "code",
   "execution_count": 1,
   "metadata": {},
   "outputs": [],
   "source": [
    "import os\n",
    "import pandas as pd\n",
    "import seaborn as sns\n",
    "import scipy\n",
    "import numpy as np\n",
    "import random\n",
    "from matplotlib import pyplot as plt\n",
    "from datetime import datetime\n",
    "from tqdm import tqdm\n",
    "%matplotlib inline\n",
    "\n",
    "from surprise import accuracy\n",
    "from surprise.model_selection import train_test_split\n",
    "from surprise import KNNBasic, KNNWithMeans\n",
    "from surprise.model_selection.validation import cross_validate\n",
    "from sklearn.metrics import mean_squared_error, mean_absolute_error\n",
    "\n",
    "import warnings\n",
    "warnings.filterwarnings(\"ignore\")"
   ]
  },
  {
   "cell_type": "code",
   "execution_count": 2,
   "metadata": {},
   "outputs": [],
   "source": [
    "# 학습 데이터가 들어있는 디렉토리 경로\n",
    "path = '../data/ml-latest-small/'"
   ]
  },
  {
   "cell_type": "code",
   "execution_count": 3,
   "metadata": {},
   "outputs": [],
   "source": [
    "ratings_df = pd.read_csv(path + 'ratings.csv', encoding='utf-8')"
   ]
  },
  {
   "cell_type": "code",
   "execution_count": 4,
   "metadata": {
    "scrolled": true
   },
   "outputs": [
    {
     "data": {
      "text/plain": [
       "<seaborn.axisgrid.FacetGrid at 0x7f8bcaeb1350>"
      ]
     },
     "execution_count": 4,
     "metadata": {},
     "output_type": "execute_result"
    },
    {
     "data": {
      "image/png": "[encoded data removed]",
      "text/plain": [
       "<Figure size 360x360 with 1 Axes>"
      ]
     },
     "metadata": {
      "needs_background": "light"
     },
     "output_type": "display_data"
    }
   ],
   "source": [
    "sns.displot(ratings_df['rating'])"
   ]
  },
  {
   "cell_type": "code",
   "execution_count": 5,
   "metadata": {},
   "outputs": [],
   "source": [
    "# surprise에서 제공하는 dataset과 reader입니다\n",
    "# https://surprise.readthedocs.io/en/stable/reader.html\n",
    "# https://surprise.readthedocs.io/en/stable/dataset.html\n",
    "\n",
    "from surprise import Reader, Dataset\n",
    "\n",
    "reader = Reader(rating_scale=(0.5, 5.0))\n",
    "data = Dataset.load_from_df(ratings_df[['userId', 'movieId', 'rating']], reader)"
   ]
  },
  {
   "cell_type": "code",
   "execution_count": 6,
   "metadata": {},
   "outputs": [
    {
     "data": {
      "text/plain": [
       "surprise.dataset.DatasetAutoFolds"
      ]
     },
     "execution_count": 6,
     "metadata": {},
     "output_type": "execute_result"
    }
   ],
   "source": [
    "type(data)"
   ]
  },
  {
   "cell_type": "markdown",
   "metadata": {},
   "source": [
    "## KNN Model\n",
    "\n",
    "- [모델 API 문서](https://surprise.readthedocs.io/en/stable/knn_inspired.html)\n",
    "- [유사도 API 문서](https://surprise.readthedocs.io/en/stable/prediction_algorithms.html#similarity-measures-configuration)"
   ]
  },
  {
   "cell_type": "code",
   "execution_count": 7,
   "metadata": {},
   "outputs": [
    {
     "name": "stdout",
     "output_type": "stream",
     "text": [
      "Computing the cosine similarity matrix...\n",
      "Done computing similarity matrix.\n",
      "RMSE: 0.9699\n"
     ]
    },
    {
     "data": {
      "text/plain": [
       "0.969943918550271"
      ]
     },
     "execution_count": 7,
     "metadata": {},
     "output_type": "execute_result"
    }
   ],
   "source": [
    "from surprise import accuracy\n",
    "from surprise.model_selection import train_test_split\n",
    "\n",
    "# train / test 데이터 나누기, surprise에서 제공하는 함수\n",
    "\n",
    "train_data, test_data = train_test_split(data, test_size=0.2, random_state=10)\n",
    "\n",
    "# 기본 KNN 모델을 사용합니다\n",
    "# user-based\n",
    "\n",
    "sim_options = {\n",
    "    'name': 'cosine',\n",
    "    'user_based': True\n",
    "}\n",
    "\n",
    "knnbasic = KNNBasic(k = 40, min_k = 1, sim_options = sim_options)\n",
    "\n",
    "# 학습 데이터를 가지고 모델을 학습하고, 예측을 수행합니다\n",
    "knnbasic.fit(train_data)\n",
    "predictions = knnbasic.test(test_data)\n",
    "\n",
    "# 모델 성능을 rmse로 계산합니다\n",
    "accuracy.rmse(predictions)"
   ]
  },
  {
   "cell_type": "code",
   "execution_count": 8,
   "metadata": {},
   "outputs": [
    {
     "data": {
      "text/plain": [
       "20168"
      ]
     },
     "execution_count": 8,
     "metadata": {},
     "output_type": "execute_result"
    }
   ],
   "source": [
    "len(predictions)"
   ]
  },
  {
   "cell_type": "code",
   "execution_count": 9,
   "metadata": {
    "scrolled": false
   },
   "outputs": [
    {
     "name": "stdout",
     "output_type": "stream",
     "text": [
      "Computing the cosine similarity matrix...\n",
      "Done computing similarity matrix.\n",
      "Computing the cosine similarity matrix...\n",
      "Done computing similarity matrix.\n",
      "Computing the cosine similarity matrix...\n",
      "Done computing similarity matrix.\n",
      "Computing the cosine similarity matrix...\n",
      "Done computing similarity matrix.\n",
      "Computing the cosine similarity matrix...\n",
      "Done computing similarity matrix.\n",
      "Evaluating RMSE, MAE of algorithm KNNBasic on 5 split(s).\n",
      "\n",
      "                  Fold 1  Fold 2  Fold 3  Fold 4  Fold 5  Mean    Std     \n",
      "RMSE (testset)    0.9774  0.9747  0.9752  0.9782  0.9600  0.9731  0.0067  \n",
      "MAE (testset)     0.7463  0.7499  0.7518  0.7546  0.7422  0.7490  0.0043  \n",
      "Fit time          0.33    0.32    0.42    0.37    0.31    0.35    0.04    \n",
      "Test time         1.32    1.50    1.49    1.55    1.83    1.54    0.17    \n"
     ]
    }
   ],
   "source": [
    "# cross validation 함수를 지원합니다\n",
    "user_based_cv_result = cross_validate(knnbasic, data, measures=['RMSE', 'MAE'], cv=5, verbose=True)"
   ]
  },
  {
   "cell_type": "code",
   "execution_count": 10,
   "metadata": {},
   "outputs": [
    {
     "name": "stdout",
     "output_type": "stream",
     "text": [
      "Computing the cosine similarity matrix...\n",
      "Done computing similarity matrix.\n",
      "RMSE: 0.9765\n"
     ]
    },
    {
     "data": {
      "text/plain": [
       "0.9764701105938001"
      ]
     },
     "execution_count": 10,
     "metadata": {},
     "output_type": "execute_result"
    }
   ],
   "source": [
    "# item-based 추천\n",
    "\n",
    "sim_options = {\n",
    "    'name': 'cosine',\n",
    "    'user_based': False # item-based\n",
    "}\n",
    "\n",
    "knnbasic = KNNBasic(k = 40, min_k = 1, sim_options = sim_options)\n",
    "\n",
    "# 학습 데이터를 가지고 모델을 학습하고, 예측을 수행합니다\n",
    "knnbasic.fit(train_data)\n",
    "predictions = knnbasic.test(test_data)\n",
    "\n",
    "# 모델 성능을 rmse로 계산합니다\n",
    "accuracy.rmse(predictions)"
   ]
  },
  {
   "cell_type": "code",
   "execution_count": 11,
   "metadata": {
    "scrolled": true
   },
   "outputs": [
    {
     "name": "stdout",
     "output_type": "stream",
     "text": [
      "Computing the cosine similarity matrix...\n",
      "Done computing similarity matrix.\n",
      "Computing the cosine similarity matrix...\n",
      "Done computing similarity matrix.\n",
      "Computing the cosine similarity matrix...\n",
      "Done computing similarity matrix.\n",
      "Computing the cosine similarity matrix...\n",
      "Done computing similarity matrix.\n",
      "Computing the cosine similarity matrix...\n",
      "Done computing similarity matrix.\n",
      "Evaluating RMSE, MAE of algorithm KNNBasic on 5 split(s).\n",
      "\n",
      "                  Fold 1  Fold 2  Fold 3  Fold 4  Fold 5  Mean    Std     \n",
      "RMSE (testset)    0.9782  0.9666  0.9795  0.9771  0.9789  0.9761  0.0048  \n",
      "MAE (testset)     0.7601  0.7571  0.7628  0.7589  0.7650  0.7608  0.0028  \n",
      "Fit time          17.05   19.05   20.42   20.70   18.39   19.12   1.34    \n",
      "Test time         7.93    8.81    8.87    8.56    8.40    8.51    0.34    \n"
     ]
    }
   ],
   "source": [
    "item_based_cv_result = cross_validate(knnbasic, data, measures=['RMSE', 'MAE'], cv=5, verbose=True)"
   ]
  },
  {
   "cell_type": "markdown",
   "metadata": {},
   "source": [
    "### KNN Model with deviation\n",
    "\n",
    "- 평점을 예측할 때, 사용자 혹은 아이템의 평균평점을 고려하여 예측하는 모델\n",
    "- predicted rating = average rating + predicted devaition"
   ]
  },
  {
   "cell_type": "code",
   "execution_count": 12,
   "metadata": {},
   "outputs": [
    {
     "name": "stdout",
     "output_type": "stream",
     "text": [
      "Computing the cosine similarity matrix...\n",
      "Done computing similarity matrix.\n",
      "RMSE: 0.9034\n"
     ]
    },
    {
     "data": {
      "text/plain": [
       "0.9033571267064436"
      ]
     },
     "execution_count": 12,
     "metadata": {},
     "output_type": "execute_result"
    }
   ],
   "source": [
    "# KNN with Means\n",
    "# user-based\n",
    "\n",
    "sim_options = {\n",
    "    'name': 'cosine',\n",
    "    'user_based': True\n",
    "}\n",
    "\n",
    "knnbasic = KNNWithMeans(k = 40, min_k = 1, sim_options = sim_options)\n",
    "\n",
    "knnbasic.fit(train_data)\n",
    "predictions = knnbasic.test(test_data)\n",
    "\n",
    "accuracy.rmse(predictions)"
   ]
  },
  {
   "cell_type": "code",
   "execution_count": 13,
   "metadata": {},
   "outputs": [
    {
     "name": "stdout",
     "output_type": "stream",
     "text": [
      "Computing the cosine similarity matrix...\n",
      "Done computing similarity matrix.\n",
      "RMSE: 0.9031\n"
     ]
    },
    {
     "data": {
      "text/plain": [
       "0.9030789845102651"
      ]
     },
     "execution_count": 13,
     "metadata": {},
     "output_type": "execute_result"
    }
   ],
   "source": [
    "# KNN with Means\n",
    "# item-based\n",
    "\n",
    "sim_options = {\n",
    "    'name': 'cosine',\n",
    "    'user_based': False\n",
    "}\n",
    "\n",
    "knnbasic = KNNWithMeans(k = 40, min_k = 1, sim_options = sim_options)\n",
    "\n",
    "# Train the algorithm on the trainset, and predict ratings for the testset\n",
    "knnbasic.fit(train_data)\n",
    "predictions = knnbasic.test(test_data)\n",
    "\n",
    "# Then compute RMSE\n",
    "accuracy.rmse(predictions)"
   ]
  },
  {
   "cell_type": "markdown",
   "metadata": {},
   "source": [
    "### 여러가지 알고리즘, 하이퍼파라미터를 비교해봅시다\n",
    "- 사용자가 정한 몇 개의 하이퍼파라미터의 가능한 경우의 수를 비교해보는 것을 그리드 서치라고 합니다\n",
    "- 보통은 모델은 정해져 있고 거기에 사용되는 최적의 하이퍼파라미터를 찾는데 사용됩니다"
   ]
  },
  {
   "cell_type": "code",
   "execution_count": 14,
   "metadata": {
    "scrolled": true
   },
   "outputs": [
    {
     "name": "stdout",
     "output_type": "stream",
     "text": [
      "Computing the cosine similarity matrix...\n",
      "Done computing similarity matrix.\n",
      "Computing the cosine similarity matrix...\n",
      "Done computing similarity matrix.\n",
      "Computing the cosine similarity matrix...\n",
      "Done computing similarity matrix.\n",
      "Computing the cosine similarity matrix...\n",
      "Done computing similarity matrix.\n",
      "Computing the msd similarity matrix...\n",
      "Done computing similarity matrix.\n",
      "Computing the msd similarity matrix...\n",
      "Done computing similarity matrix.\n",
      "Computing the msd similarity matrix...\n",
      "Done computing similarity matrix.\n",
      "Computing the msd similarity matrix...\n",
      "Done computing similarity matrix.\n",
      "Computing the pearson similarity matrix...\n",
      "Done computing similarity matrix.\n",
      "Computing the pearson similarity matrix...\n",
      "Done computing similarity matrix.\n",
      "Computing the pearson similarity matrix...\n",
      "Done computing similarity matrix.\n",
      "Computing the pearson similarity matrix...\n",
      "Done computing similarity matrix.\n",
      "Computing the cosine similarity matrix...\n",
      "Done computing similarity matrix.\n",
      "Computing the cosine similarity matrix...\n",
      "Done computing similarity matrix.\n",
      "Computing the cosine similarity matrix...\n",
      "Done computing similarity matrix.\n",
      "Computing the cosine similarity matrix...\n",
      "Done computing similarity matrix.\n",
      "Computing the msd similarity matrix...\n",
      "Done computing similarity matrix.\n",
      "Computing the msd similarity matrix...\n",
      "Done computing similarity matrix.\n",
      "Computing the msd similarity matrix...\n",
      "Done computing similarity matrix.\n",
      "Computing the msd similarity matrix...\n",
      "Done computing similarity matrix.\n",
      "Computing the pearson similarity matrix...\n",
      "Done computing similarity matrix.\n",
      "Computing the pearson similarity matrix...\n",
      "Done computing similarity matrix.\n",
      "Computing the pearson similarity matrix...\n",
      "Done computing similarity matrix.\n",
      "Computing the pearson similarity matrix...\n",
      "Done computing similarity matrix.\n",
      "Computing the cosine similarity matrix...\n",
      "Done computing similarity matrix.\n",
      "Computing the cosine similarity matrix...\n",
      "Done computing similarity matrix.\n",
      "Computing the cosine similarity matrix...\n",
      "Done computing similarity matrix.\n",
      "Computing the cosine similarity matrix...\n",
      "Done computing similarity matrix.\n",
      "Computing the msd similarity matrix...\n",
      "Done computing similarity matrix.\n",
      "Computing the msd similarity matrix...\n",
      "Done computing similarity matrix.\n",
      "Computing the msd similarity matrix...\n",
      "Done computing similarity matrix.\n",
      "Computing the msd similarity matrix...\n",
      "Done computing similarity matrix.\n",
      "Computing the pearson similarity matrix...\n",
      "Done computing similarity matrix.\n",
      "Computing the pearson similarity matrix...\n",
      "Done computing similarity matrix.\n",
      "Computing the pearson similarity matrix...\n",
      "Done computing similarity matrix.\n",
      "Computing the pearson similarity matrix...\n",
      "Done computing similarity matrix.\n",
      "Computing the cosine similarity matrix...\n",
      "Done computing similarity matrix.\n",
      "Computing the cosine similarity matrix...\n",
      "Done computing similarity matrix.\n",
      "Computing the cosine similarity matrix...\n",
      "Done computing similarity matrix.\n",
      "Computing the cosine similarity matrix...\n",
      "Done computing similarity matrix.\n",
      "Computing the msd similarity matrix...\n",
      "Done computing similarity matrix.\n",
      "Computing the msd similarity matrix...\n",
      "Done computing similarity matrix.\n",
      "Computing the msd similarity matrix...\n",
      "Done computing similarity matrix.\n",
      "Computing the msd similarity matrix...\n",
      "Done computing similarity matrix.\n",
      "Computing the pearson similarity matrix...\n",
      "Done computing similarity matrix.\n",
      "Computing the pearson similarity matrix...\n",
      "Done computing similarity matrix.\n",
      "Computing the pearson similarity matrix...\n",
      "Done computing similarity matrix.\n",
      "Computing the pearson similarity matrix...\n",
      "Done computing similarity matrix.\n",
      "Computing the cosine similarity matrix...\n",
      "Done computing similarity matrix.\n",
      "Computing the cosine similarity matrix...\n",
      "Done computing similarity matrix.\n",
      "Computing the cosine similarity matrix...\n",
      "Done computing similarity matrix.\n",
      "Computing the cosine similarity matrix...\n",
      "Done computing similarity matrix.\n",
      "Computing the msd similarity matrix...\n",
      "Done computing similarity matrix.\n",
      "Computing the msd similarity matrix...\n",
      "Done computing similarity matrix.\n",
      "Computing the msd similarity matrix...\n",
      "Done computing similarity matrix.\n",
      "Computing the msd similarity matrix...\n",
      "Done computing similarity matrix.\n",
      "Computing the pearson similarity matrix...\n",
      "Done computing similarity matrix.\n",
      "Computing the pearson similarity matrix...\n",
      "Done computing similarity matrix.\n",
      "Computing the pearson similarity matrix...\n",
      "Done computing similarity matrix.\n",
      "Computing the pearson similarity matrix...\n",
      "Done computing similarity matrix.\n",
      "Computing the cosine similarity matrix...\n",
      "Done computing similarity matrix.\n",
      "Computing the cosine similarity matrix...\n",
      "Done computing similarity matrix.\n",
      "Computing the cosine similarity matrix...\n",
      "Done computing similarity matrix.\n",
      "Computing the cosine similarity matrix...\n",
      "Done computing similarity matrix.\n",
      "Computing the msd similarity matrix...\n",
      "Done computing similarity matrix.\n",
      "Computing the msd similarity matrix...\n",
      "Done computing similarity matrix.\n",
      "Computing the msd similarity matrix...\n",
      "Done computing similarity matrix.\n",
      "Computing the msd similarity matrix...\n",
      "Done computing similarity matrix.\n",
      "Computing the pearson similarity matrix...\n",
      "Done computing similarity matrix.\n",
      "Computing the pearson similarity matrix...\n",
      "Done computing similarity matrix.\n",
      "Computing the pearson similarity matrix...\n",
      "Done computing similarity matrix.\n",
      "Computing the pearson similarity matrix...\n",
      "Done computing similarity matrix.\n"
     ]
    }
   ],
   "source": [
    "benchmark = []\n",
    "\n",
    "for algorithm in [KNNBasic(), KNNWithMeans()]:\n",
    "    for k in [10, 20, 40]:\n",
    "        for similarity in ['cosine', 'msd', 'pearson']:\n",
    "            for user_based in [True, False]:            \n",
    "                algorithm.k = k\n",
    "                algorithm.sim_options = {'name':  similarity, 'user_based': user_based}\n",
    "                results = cross_validate(algorithm, data, measures=['RMSE'], cv=2, verbose=False)\n",
    "\n",
    "                # Get results & append algorithm name\n",
    "                rmse = results['test_rmse'].mean()\n",
    "                benchmark.append([str(algorithm.__class__.__name__), k, similarity, user_based, rmse])\n",
    "\n",
    "benchmark_df = pd.DataFrame(benchmark,\n",
    "                            columns = ['algorithm', 'k', 'similarity', 'user_based', 'rmse']\n",
    "                           ).sort_values(by='rmse')"
   ]
  },
  {
   "cell_type": "code",
   "execution_count": 15,
   "metadata": {
    "scrolled": true
   },
   "outputs": [
    {
     "data": {
      "text/html": [
       "<div>\n",
       "<style scoped>\n",
       "    .dataframe tbody tr th:only-of-type {\n",
       "        vertical-align: middle;\n",
       "    }\n",
       "\n",
       "    .dataframe tbody tr th {\n",
       "        vertical-align: top;\n",
       "    }\n",
       "\n",
       "    .dataframe thead th {\n",
       "        text-align: right;\n",
       "    }\n",
       "</style>\n",
       "<table border=\"1\" class=\"dataframe\">\n",
       "  <thead>\n",
       "    <tr style=\"text-align: right;\">\n",
       "      <th></th>\n",
       "      <th>algorithm</th>\n",
       "      <th>k</th>\n",
       "      <th>similarity</th>\n",
       "      <th>user_based</th>\n",
       "      <th>rmse</th>\n",
       "    </tr>\n",
       "  </thead>\n",
       "  <tbody>\n",
       "    <tr>\n",
       "      <th>33</th>\n",
       "      <td>KNNWithMeans</td>\n",
       "      <td>40</td>\n",
       "      <td>msd</td>\n",
       "      <td>False</td>\n",
       "      <td>0.914035</td>\n",
       "    </tr>\n",
       "    <tr>\n",
       "      <th>27</th>\n",
       "      <td>KNNWithMeans</td>\n",
       "      <td>20</td>\n",
       "      <td>msd</td>\n",
       "      <td>False</td>\n",
       "      <td>0.918160</td>\n",
       "    </tr>\n",
       "    <tr>\n",
       "      <th>32</th>\n",
       "      <td>KNNWithMeans</td>\n",
       "      <td>40</td>\n",
       "      <td>msd</td>\n",
       "      <td>True</td>\n",
       "      <td>0.919556</td>\n",
       "    </tr>\n",
       "    <tr>\n",
       "      <th>26</th>\n",
       "      <td>KNNWithMeans</td>\n",
       "      <td>20</td>\n",
       "      <td>msd</td>\n",
       "      <td>True</td>\n",
       "      <td>0.919677</td>\n",
       "    </tr>\n",
       "    <tr>\n",
       "      <th>30</th>\n",
       "      <td>KNNWithMeans</td>\n",
       "      <td>40</td>\n",
       "      <td>cosine</td>\n",
       "      <td>True</td>\n",
       "      <td>0.920837</td>\n",
       "    </tr>\n",
       "    <tr>\n",
       "      <th>31</th>\n",
       "      <td>KNNWithMeans</td>\n",
       "      <td>40</td>\n",
       "      <td>cosine</td>\n",
       "      <td>False</td>\n",
       "      <td>0.921349</td>\n",
       "    </tr>\n",
       "    <tr>\n",
       "      <th>15</th>\n",
       "      <td>KNNBasic</td>\n",
       "      <td>40</td>\n",
       "      <td>msd</td>\n",
       "      <td>False</td>\n",
       "      <td>0.925562</td>\n",
       "    </tr>\n",
       "    <tr>\n",
       "      <th>24</th>\n",
       "      <td>KNNWithMeans</td>\n",
       "      <td>20</td>\n",
       "      <td>cosine</td>\n",
       "      <td>True</td>\n",
       "      <td>0.925670</td>\n",
       "    </tr>\n",
       "    <tr>\n",
       "      <th>20</th>\n",
       "      <td>KNNWithMeans</td>\n",
       "      <td>10</td>\n",
       "      <td>msd</td>\n",
       "      <td>True</td>\n",
       "      <td>0.928860</td>\n",
       "    </tr>\n",
       "    <tr>\n",
       "      <th>34</th>\n",
       "      <td>KNNWithMeans</td>\n",
       "      <td>40</td>\n",
       "      <td>pearson</td>\n",
       "      <td>True</td>\n",
       "      <td>0.929987</td>\n",
       "    </tr>\n",
       "    <tr>\n",
       "      <th>28</th>\n",
       "      <td>KNNWithMeans</td>\n",
       "      <td>20</td>\n",
       "      <td>pearson</td>\n",
       "      <td>True</td>\n",
       "      <td>0.930553</td>\n",
       "    </tr>\n",
       "    <tr>\n",
       "      <th>9</th>\n",
       "      <td>KNNBasic</td>\n",
       "      <td>20</td>\n",
       "      <td>msd</td>\n",
       "      <td>False</td>\n",
       "      <td>0.930843</td>\n",
       "    </tr>\n",
       "    <tr>\n",
       "      <th>25</th>\n",
       "      <td>KNNWithMeans</td>\n",
       "      <td>20</td>\n",
       "      <td>cosine</td>\n",
       "      <td>False</td>\n",
       "      <td>0.934339</td>\n",
       "    </tr>\n",
       "    <tr>\n",
       "      <th>18</th>\n",
       "      <td>KNNWithMeans</td>\n",
       "      <td>10</td>\n",
       "      <td>cosine</td>\n",
       "      <td>True</td>\n",
       "      <td>0.934452</td>\n",
       "    </tr>\n",
       "    <tr>\n",
       "      <th>21</th>\n",
       "      <td>KNNWithMeans</td>\n",
       "      <td>10</td>\n",
       "      <td>msd</td>\n",
       "      <td>False</td>\n",
       "      <td>0.935596</td>\n",
       "    </tr>\n",
       "    <tr>\n",
       "      <th>22</th>\n",
       "      <td>KNNWithMeans</td>\n",
       "      <td>10</td>\n",
       "      <td>pearson</td>\n",
       "      <td>True</td>\n",
       "      <td>0.937343</td>\n",
       "    </tr>\n",
       "    <tr>\n",
       "      <th>35</th>\n",
       "      <td>KNNWithMeans</td>\n",
       "      <td>40</td>\n",
       "      <td>pearson</td>\n",
       "      <td>False</td>\n",
       "      <td>0.938312</td>\n",
       "    </tr>\n",
       "    <tr>\n",
       "      <th>29</th>\n",
       "      <td>KNNWithMeans</td>\n",
       "      <td>20</td>\n",
       "      <td>pearson</td>\n",
       "      <td>False</td>\n",
       "      <td>0.946059</td>\n",
       "    </tr>\n",
       "    <tr>\n",
       "      <th>3</th>\n",
       "      <td>KNNBasic</td>\n",
       "      <td>10</td>\n",
       "      <td>msd</td>\n",
       "      <td>False</td>\n",
       "      <td>0.952468</td>\n",
       "    </tr>\n",
       "    <tr>\n",
       "      <th>19</th>\n",
       "      <td>KNNWithMeans</td>\n",
       "      <td>10</td>\n",
       "      <td>cosine</td>\n",
       "      <td>False</td>\n",
       "      <td>0.952785</td>\n",
       "    </tr>\n",
       "    <tr>\n",
       "      <th>23</th>\n",
       "      <td>KNNWithMeans</td>\n",
       "      <td>10</td>\n",
       "      <td>pearson</td>\n",
       "      <td>False</td>\n",
       "      <td>0.955035</td>\n",
       "    </tr>\n",
       "    <tr>\n",
       "      <th>8</th>\n",
       "      <td>KNNBasic</td>\n",
       "      <td>20</td>\n",
       "      <td>msd</td>\n",
       "      <td>True</td>\n",
       "      <td>0.974523</td>\n",
       "    </tr>\n",
       "    <tr>\n",
       "      <th>13</th>\n",
       "      <td>KNNBasic</td>\n",
       "      <td>40</td>\n",
       "      <td>cosine</td>\n",
       "      <td>False</td>\n",
       "      <td>0.976507</td>\n",
       "    </tr>\n",
       "    <tr>\n",
       "      <th>14</th>\n",
       "      <td>KNNBasic</td>\n",
       "      <td>40</td>\n",
       "      <td>msd</td>\n",
       "      <td>True</td>\n",
       "      <td>0.976545</td>\n",
       "    </tr>\n",
       "    <tr>\n",
       "      <th>2</th>\n",
       "      <td>KNNBasic</td>\n",
       "      <td>10</td>\n",
       "      <td>msd</td>\n",
       "      <td>True</td>\n",
       "      <td>0.977157</td>\n",
       "    </tr>\n",
       "    <tr>\n",
       "      <th>17</th>\n",
       "      <td>KNNBasic</td>\n",
       "      <td>40</td>\n",
       "      <td>pearson</td>\n",
       "      <td>False</td>\n",
       "      <td>0.986096</td>\n",
       "    </tr>\n",
       "    <tr>\n",
       "      <th>7</th>\n",
       "      <td>KNNBasic</td>\n",
       "      <td>20</td>\n",
       "      <td>cosine</td>\n",
       "      <td>False</td>\n",
       "      <td>0.989134</td>\n",
       "    </tr>\n",
       "    <tr>\n",
       "      <th>12</th>\n",
       "      <td>KNNBasic</td>\n",
       "      <td>40</td>\n",
       "      <td>cosine</td>\n",
       "      <td>True</td>\n",
       "      <td>0.994454</td>\n",
       "    </tr>\n",
       "    <tr>\n",
       "      <th>11</th>\n",
       "      <td>KNNBasic</td>\n",
       "      <td>20</td>\n",
       "      <td>pearson</td>\n",
       "      <td>False</td>\n",
       "      <td>0.995399</td>\n",
       "    </tr>\n",
       "    <tr>\n",
       "      <th>6</th>\n",
       "      <td>KNNBasic</td>\n",
       "      <td>20</td>\n",
       "      <td>cosine</td>\n",
       "      <td>True</td>\n",
       "      <td>0.995844</td>\n",
       "    </tr>\n",
       "    <tr>\n",
       "      <th>0</th>\n",
       "      <td>KNNBasic</td>\n",
       "      <td>10</td>\n",
       "      <td>cosine</td>\n",
       "      <td>True</td>\n",
       "      <td>1.005755</td>\n",
       "    </tr>\n",
       "    <tr>\n",
       "      <th>16</th>\n",
       "      <td>KNNBasic</td>\n",
       "      <td>40</td>\n",
       "      <td>pearson</td>\n",
       "      <td>True</td>\n",
       "      <td>1.007217</td>\n",
       "    </tr>\n",
       "    <tr>\n",
       "      <th>10</th>\n",
       "      <td>KNNBasic</td>\n",
       "      <td>20</td>\n",
       "      <td>pearson</td>\n",
       "      <td>True</td>\n",
       "      <td>1.009127</td>\n",
       "    </tr>\n",
       "    <tr>\n",
       "      <th>5</th>\n",
       "      <td>KNNBasic</td>\n",
       "      <td>10</td>\n",
       "      <td>pearson</td>\n",
       "      <td>False</td>\n",
       "      <td>1.010907</td>\n",
       "    </tr>\n",
       "    <tr>\n",
       "      <th>1</th>\n",
       "      <td>KNNBasic</td>\n",
       "      <td>10</td>\n",
       "      <td>cosine</td>\n",
       "      <td>False</td>\n",
       "      <td>1.013847</td>\n",
       "    </tr>\n",
       "    <tr>\n",
       "      <th>4</th>\n",
       "      <td>KNNBasic</td>\n",
       "      <td>10</td>\n",
       "      <td>pearson</td>\n",
       "      <td>True</td>\n",
       "      <td>1.016054</td>\n",
       "    </tr>\n",
       "  </tbody>\n",
       "</table>\n",
       "</div>"
      ],
      "text/plain": [
       "       algorithm   k similarity  user_based      rmse\n",
       "33  KNNWithMeans  40        msd       False  0.914035\n",
       "27  KNNWithMeans  20        msd       False  0.918160\n",
       "32  KNNWithMeans  40        msd        True  0.919556\n",
       "26  KNNWithMeans  20        msd        True  0.919677\n",
       "30  KNNWithMeans  40     cosine        True  0.920837\n",
       "31  KNNWithMeans  40     cosine       False  0.921349\n",
       "15      KNNBasic  40        msd       False  0.925562\n",
       "24  KNNWithMeans  20     cosine        True  0.925670\n",
       "20  KNNWithMeans  10        msd        True  0.928860\n",
       "34  KNNWithMeans  40    pearson        True  0.929987\n",
       "28  KNNWithMeans  20    pearson        True  0.930553\n",
       "9       KNNBasic  20        msd       False  0.930843\n",
       "25  KNNWithMeans  20     cosine       False  0.934339\n",
       "18  KNNWithMeans  10     cosine        True  0.934452\n",
       "21  KNNWithMeans  10        msd       False  0.935596\n",
       "22  KNNWithMeans  10    pearson        True  0.937343\n",
       "35  KNNWithMeans  40    pearson       False  0.938312\n",
       "29  KNNWithMeans  20    pearson       False  0.946059\n",
       "3       KNNBasic  10        msd       False  0.952468\n",
       "19  KNNWithMeans  10     cosine       False  0.952785\n",
       "23  KNNWithMeans  10    pearson       False  0.955035\n",
       "8       KNNBasic  20        msd        True  0.974523\n",
       "13      KNNBasic  40     cosine       False  0.976507\n",
       "14      KNNBasic  40        msd        True  0.976545\n",
       "2       KNNBasic  10        msd        True  0.977157\n",
       "17      KNNBasic  40    pearson       False  0.986096\n",
       "7       KNNBasic  20     cosine       False  0.989134\n",
       "12      KNNBasic  40     cosine        True  0.994454\n",
       "11      KNNBasic  20    pearson       False  0.995399\n",
       "6       KNNBasic  20     cosine        True  0.995844\n",
       "0       KNNBasic  10     cosine        True  1.005755\n",
       "16      KNNBasic  40    pearson        True  1.007217\n",
       "10      KNNBasic  20    pearson        True  1.009127\n",
       "5       KNNBasic  10    pearson       False  1.010907\n",
       "1       KNNBasic  10     cosine       False  1.013847\n",
       "4       KNNBasic  10    pearson        True  1.016054"
      ]
     },
     "execution_count": 15,
     "metadata": {},
     "output_type": "execute_result"
    }
   ],
   "source": [
    "benchmark_df"
   ]
  },
  {
   "cell_type": "markdown",
   "metadata": {},
   "source": [
    "## 추천 결과 서빙\n",
    "- 위에서 수행한 오프라인 테스트 결과를 바탕으로 모델을 선택합니다\n",
    "- 실제 프로덕션에 적용할 때는 train/test를 나누지 않고 지금까지 쌓인 모든 데이터를 가지고 학습하여 모델을 만듭니다"
   ]
  },
  {
   "cell_type": "code",
   "execution_count": 16,
   "metadata": {},
   "outputs": [
    {
     "name": "stdout",
     "output_type": "stream",
     "text": [
      "Computing the msd similarity matrix...\n",
      "Done computing similarity matrix.\n"
     ]
    },
    {
     "data": {
      "text/plain": [
       "<surprise.prediction_algorithms.knns.KNNWithMeans at 0x7f8a301e5410>"
      ]
     },
     "execution_count": 16,
     "metadata": {},
     "output_type": "execute_result"
    }
   ],
   "source": [
    "# 제일 높은 성능을 낸 모델로 추천 서빙을 해봅시다\n",
    "\n",
    "sim_options = {\n",
    "    'name': 'msd',\n",
    "    'user_based': False\n",
    "}\n",
    "\n",
    "knn = KNNWithMeans(k = 40, min_k = 1, sim_options = sim_options)\n",
    "\n",
    "# 전체 데이터를 가지고 학습데이터를 만든다\n",
    "full_train_data = data.build_full_trainset()\n",
    "knn.fit(full_train_data)"
   ]
  },
  {
   "cell_type": "markdown",
   "metadata": {},
   "source": [
    "- [predict method](https://surprise.readthedocs.io/en/stable/algobase.html#surprise.prediction_algorithms.algo_base.AlgoBase.predict)"
   ]
  },
  {
   "cell_type": "code",
   "execution_count": 17,
   "metadata": {},
   "outputs": [
    {
     "data": {
      "text/plain": [
       "Prediction(uid=1, iid=29, r_ui=None, est=4.900674110940887, details={'actual_k': 40, 'was_impossible': False})"
      ]
     },
     "execution_count": 17,
     "metadata": {},
     "output_type": "execute_result"
    }
   ],
   "source": [
    "# user 1의 item 29에 대한 평점을 구한다면\n",
    "knn.predict(1, 29)"
   ]
  },
  {
   "cell_type": "code",
   "execution_count": 18,
   "metadata": {},
   "outputs": [],
   "source": [
    "# user 1에 대해서 rating이 없는 영화 가운데 추천을 해봅시다\n",
    "user_id = 1\n",
    "\n",
    "# 전체 영화 리스트 가운데서 user 1이 이미 평가한 영화를 제거합니다\n",
    "candidate_itemlist = list(set(ratings_df['movieId'].unique()) \\\n",
    "                    - set(ratings_df[ratings_df['userId'] == user_id]['movieId'].unique()))"
   ]
  },
  {
   "cell_type": "code",
   "execution_count": 19,
   "metadata": {},
   "outputs": [
    {
     "data": {
      "text/plain": [
       "9492"
      ]
     },
     "execution_count": 19,
     "metadata": {},
     "output_type": "execute_result"
    }
   ],
   "source": [
    "len(candidate_itemlist)"
   ]
  },
  {
   "cell_type": "code",
   "execution_count": 20,
   "metadata": {},
   "outputs": [],
   "source": [
    "def recommend_highest_rating_from_user(user_id, item_ids, algorithm, k):\n",
    "    \n",
    "    _result = []\n",
    "    \n",
    "    # 받은 영화 리스트에 대해서 평점을 구합니다\n",
    "    for item_id in item_ids:\n",
    "        pred_rating = algorithm.predict(user_id, item_id).est\n",
    "        _result.append([item_id, pred_rating])\n",
    "    \n",
    "    # 평점을 기준으로 정렬하여 k개를 return합니다\n",
    "    ratings = pd.DataFrame(_result, columns=['movieId', 'predRating']).sort_values(by='predRating', ascending=False)\n",
    "    return ratings[:k]"
   ]
  },
  {
   "cell_type": "code",
   "execution_count": 21,
   "metadata": {
    "scrolled": false
   },
   "outputs": [
    {
     "name": "stdout",
     "output_type": "stream",
     "text": [
      "CPU times: user 2.02 s, sys: 8 ms, total: 2.03 s\n",
      "Wall time: 2.03 s\n"
     ]
    },
    {
     "data": {
      "text/html": [
       "<div>\n",
       "<style scoped>\n",
       "    .dataframe tbody tr th:only-of-type {\n",
       "        vertical-align: middle;\n",
       "    }\n",
       "\n",
       "    .dataframe tbody tr th {\n",
       "        vertical-align: top;\n",
       "    }\n",
       "\n",
       "    .dataframe thead th {\n",
       "        text-align: right;\n",
       "    }\n",
       "</style>\n",
       "<table border=\"1\" class=\"dataframe\">\n",
       "  <thead>\n",
       "    <tr style=\"text-align: right;\">\n",
       "      <th></th>\n",
       "      <th>movieId</th>\n",
       "      <th>predRating</th>\n",
       "    </tr>\n",
       "  </thead>\n",
       "  <tbody>\n",
       "    <tr>\n",
       "      <th>6400</th>\n",
       "      <td>164917</td>\n",
       "      <td>5.0</td>\n",
       "    </tr>\n",
       "    <tr>\n",
       "      <th>6316</th>\n",
       "      <td>107951</td>\n",
       "      <td>5.0</td>\n",
       "    </tr>\n",
       "    <tr>\n",
       "      <th>9468</th>\n",
       "      <td>98154</td>\n",
       "      <td>5.0</td>\n",
       "    </tr>\n",
       "    <tr>\n",
       "      <th>4577</th>\n",
       "      <td>71462</td>\n",
       "      <td>5.0</td>\n",
       "    </tr>\n",
       "    <tr>\n",
       "      <th>2627</th>\n",
       "      <td>3330</td>\n",
       "      <td>5.0</td>\n",
       "    </tr>\n",
       "    <tr>\n",
       "      <th>7136</th>\n",
       "      <td>147196</td>\n",
       "      <td>5.0</td>\n",
       "    </tr>\n",
       "    <tr>\n",
       "      <th>7138</th>\n",
       "      <td>147250</td>\n",
       "      <td>5.0</td>\n",
       "    </tr>\n",
       "    <tr>\n",
       "      <th>3114</th>\n",
       "      <td>3942</td>\n",
       "      <td>5.0</td>\n",
       "    </tr>\n",
       "    <tr>\n",
       "      <th>4585</th>\n",
       "      <td>5938</td>\n",
       "      <td>5.0</td>\n",
       "    </tr>\n",
       "    <tr>\n",
       "      <th>4595</th>\n",
       "      <td>5949</td>\n",
       "      <td>5.0</td>\n",
       "    </tr>\n",
       "  </tbody>\n",
       "</table>\n",
       "</div>"
      ],
      "text/plain": [
       "      movieId  predRating\n",
       "6400   164917         5.0\n",
       "6316   107951         5.0\n",
       "9468    98154         5.0\n",
       "4577    71462         5.0\n",
       "2627     3330         5.0\n",
       "7136   147196         5.0\n",
       "7138   147250         5.0\n",
       "3114     3942         5.0\n",
       "4585     5938         5.0\n",
       "4595     5949         5.0"
      ]
     },
     "execution_count": 21,
     "metadata": {},
     "output_type": "execute_result"
    }
   ],
   "source": [
    "%%time\n",
    "\n",
    "recommend_highest_rating_from_user(user_id, candidate_itemlist, knn, 10)"
   ]
  },
  {
   "cell_type": "code",
   "execution_count": 22,
   "metadata": {},
   "outputs": [],
   "source": [
    "# 실제 서비스에서는 모든 아이템에 대해서 예측 평점을 구해서 정렬하기 어렵기 때문에 아래와 같은 방법을 사용하기도 합니다\n",
    "\n",
    "def recommend_higher_than_threshold_from_user(user_id, item_ids, algorithm, k, threshold):\n",
    "    random.shuffle(item_ids)\n",
    "    _result = []\n",
    "    for item_id in item_ids:\n",
    "        pred_rating = algorithm.predict(user_id, item_id).est\n",
    "        if pred_rating >= threshold:\n",
    "            _result.append([item_id, pred_rating])\n",
    "            \n",
    "        if len(_result) >= k:\n",
    "            break\n",
    "        \n",
    "    ratings = pd.DataFrame(_result, columns=['movieId', 'predRating']).sort_values(by='predRating', ascending=False)\n",
    "    return ratings"
   ]
  },
  {
   "cell_type": "code",
   "execution_count": 23,
   "metadata": {
    "scrolled": false
   },
   "outputs": [
    {
     "name": "stdout",
     "output_type": "stream",
     "text": [
      "CPU times: user 15.2 ms, sys: 544 µs, total: 15.7 ms\n",
      "Wall time: 15.3 ms\n"
     ]
    },
    {
     "data": {
      "text/html": [
       "<div>\n",
       "<style scoped>\n",
       "    .dataframe tbody tr th:only-of-type {\n",
       "        vertical-align: middle;\n",
       "    }\n",
       "\n",
       "    .dataframe tbody tr th {\n",
       "        vertical-align: top;\n",
       "    }\n",
       "\n",
       "    .dataframe thead th {\n",
       "        text-align: right;\n",
       "    }\n",
       "</style>\n",
       "<table border=\"1\" class=\"dataframe\">\n",
       "  <thead>\n",
       "    <tr style=\"text-align: right;\">\n",
       "      <th></th>\n",
       "      <th>movieId</th>\n",
       "      <th>predRating</th>\n",
       "    </tr>\n",
       "  </thead>\n",
       "  <tbody>\n",
       "    <tr>\n",
       "      <th>0</th>\n",
       "      <td>91386</td>\n",
       "      <td>5.000000</td>\n",
       "    </tr>\n",
       "    <tr>\n",
       "      <th>2</th>\n",
       "      <td>3152</td>\n",
       "      <td>5.000000</td>\n",
       "    </tr>\n",
       "    <tr>\n",
       "      <th>3</th>\n",
       "      <td>105746</td>\n",
       "      <td>5.000000</td>\n",
       "    </tr>\n",
       "    <tr>\n",
       "      <th>6</th>\n",
       "      <td>131104</td>\n",
       "      <td>5.000000</td>\n",
       "    </tr>\n",
       "    <tr>\n",
       "      <th>5</th>\n",
       "      <td>110591</td>\n",
       "      <td>4.999819</td>\n",
       "    </tr>\n",
       "    <tr>\n",
       "      <th>8</th>\n",
       "      <td>77455</td>\n",
       "      <td>4.942215</td>\n",
       "    </tr>\n",
       "    <tr>\n",
       "      <th>1</th>\n",
       "      <td>94325</td>\n",
       "      <td>4.887511</td>\n",
       "    </tr>\n",
       "    <tr>\n",
       "      <th>7</th>\n",
       "      <td>493</td>\n",
       "      <td>4.738098</td>\n",
       "    </tr>\n",
       "    <tr>\n",
       "      <th>4</th>\n",
       "      <td>57421</td>\n",
       "      <td>4.724691</td>\n",
       "    </tr>\n",
       "    <tr>\n",
       "      <th>9</th>\n",
       "      <td>34323</td>\n",
       "      <td>4.614559</td>\n",
       "    </tr>\n",
       "  </tbody>\n",
       "</table>\n",
       "</div>"
      ],
      "text/plain": [
       "   movieId  predRating\n",
       "0    91386    5.000000\n",
       "2     3152    5.000000\n",
       "3   105746    5.000000\n",
       "6   131104    5.000000\n",
       "5   110591    4.999819\n",
       "8    77455    4.942215\n",
       "1    94325    4.887511\n",
       "7      493    4.738098\n",
       "4    57421    4.724691\n",
       "9    34323    4.614559"
      ]
     },
     "execution_count": 23,
     "metadata": {},
     "output_type": "execute_result"
    }
   ],
   "source": [
    "%%time\n",
    "\n",
    "recommend_higher_than_threshold_from_user(user_id, candidate_itemlist, knn, 10, 4.5)"
   ]
  }
 ],
 "metadata": {
  "kernelspec": {
   "display_name": "Python 3",
   "language": "python",
   "name": "python3"
  },
  "language_info": {
   "codemirror_mode": {
    "name": "ipython",
    "version": 3
   },
   "file_extension": ".py",
   "mimetype": "text/x-python",
   "name": "python",
   "nbconvert_exporter": "python",
   "pygments_lexer": "ipython3",
   "version": "3.7.6"
  }
 },
 "nbformat": 4,
 "nbformat_minor": 4
}
