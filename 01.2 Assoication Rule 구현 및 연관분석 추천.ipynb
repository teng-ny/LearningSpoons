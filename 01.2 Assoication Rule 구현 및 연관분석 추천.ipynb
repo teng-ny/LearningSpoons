{
 "cells": [
  {
   "cell_type": "markdown",
   "metadata": {
    "id": "jRawtOkkCxla"
   },
   "source": [
    "## 토이 데이터로 Association Rule 구현\n",
    "- 10개의 transaction으로 이루어진 데이터를 활용하여 association rule을 간단하게 구현해보자.\n",
    "- support, confidence, lift 값을 직접 구해보자."
   ]
  },
  {
   "cell_type": "code",
   "execution_count": 1,
   "metadata": {
    "colab": {
     "base_uri": "https://localhost:8080/"
    },
    "executionInfo": {
     "elapsed": 2184,
     "status": "ok",
     "timestamp": 1615967778840,
     "user": {
      "displayName": "Lee Joonwon",
      "photoUrl": "",
      "userId": "17832358910809959284"
     },
     "user_tz": -540
    },
    "id": "BzkkhTCELK2r",
    "outputId": "e16c2c38-66f8-492a-ec74-5156899d823a"
   },
   "outputs": [
    {
     "name": "stdout",
     "output_type": "stream",
     "text": [
      "Requirement already satisfied: mlxtend in /Users/1112922/miniconda3/lib/python3.7/site-packages (0.18.0)\n",
      "Note: you may need to restart the kernel to use updated packages.\n"
     ]
    }
   ],
   "source": [
    "pip install mlxtend --upgrade --no-deps"
   ]
  },
  {
   "cell_type": "code",
   "execution_count": 2,
   "metadata": {
    "executionInfo": {
     "elapsed": 3018,
     "status": "ok",
     "timestamp": 1615967779682,
     "user": {
      "displayName": "Lee Joonwon",
      "photoUrl": "",
      "userId": "17832358910809959284"
     },
     "user_tz": -540
    },
    "id": "V4tkMvblCxlg"
   },
   "outputs": [],
   "source": [
    "import csv\n",
    "import pandas as pd\n",
    "import random\n",
    "from datetime import datetime\n",
    "from collections import defaultdict\n",
    "import seaborn as sns\n",
    "import numpy as np\n",
    "\n",
    "from mlxtend.frequent_patterns import apriori, fpgrowth\n",
    "from mlxtend.frequent_patterns import association_rules\n",
    "from mlxtend.preprocessing import TransactionEncoder\n",
    "\n",
    "from matplotlib import pyplot as plt\n",
    "%matplotlib inline"
   ]
  },
  {
   "cell_type": "code",
   "execution_count": 3,
   "metadata": {
    "colab": {
     "base_uri": "https://localhost:8080/"
    },
    "executionInfo": {
     "elapsed": 3005,
     "status": "ok",
     "timestamp": 1615967779683,
     "user": {
      "displayName": "Lee Joonwon",
      "photoUrl": "",
      "userId": "17832358910809959284"
     },
     "user_tz": -540
    },
    "id": "uMwDgCzxCxlh",
    "outputId": "4cd7ea32-139e-463e-e863-bf11b955142b"
   },
   "outputs": [
    {
     "name": "stdout",
     "output_type": "stream",
     "text": [
      "Bread,Milk\r\n",
      "Bread,Diapers,Beer,Eggs\r\n",
      "Milk,Diapers,Beer,Cola\r\n",
      "Bread,Milk,Diapers,Beer\r\n",
      "Bread,Milk,Diapers,Cola\r\n"
     ]
    }
   ],
   "source": [
    "!head -n 5 './transaction.csv'"
   ]
  },
  {
   "cell_type": "code",
   "execution_count": 4,
   "metadata": {
    "colab": {
     "base_uri": "https://localhost:8080/"
    },
    "executionInfo": {
     "elapsed": 2999,
     "status": "ok",
     "timestamp": 1615967779684,
     "user": {
      "displayName": "Lee Joonwon",
      "photoUrl": "",
      "userId": "17832358910809959284"
     },
     "user_tz": -540
    },
    "id": "_oIFaskeCxli",
    "outputId": "12d1cd7f-c54c-41d1-b2be-8c6d30f52474"
   },
   "outputs": [
    {
     "data": {
      "text/plain": [
       "[{'Bread', 'Milk'},\n",
       " {'Beer', 'Bread', 'Diapers', 'Eggs'},\n",
       " {'Beer', 'Cola', 'Diapers', 'Milk'},\n",
       " {'Beer', 'Bread', 'Diapers', 'Milk'},\n",
       " {'Bread', 'Cola', 'Diapers', 'Milk'},\n",
       " {'Bread', 'Milk'},\n",
       " {'Beer', 'Bread', 'Cola', 'Milk'},\n",
       " {'Beer', 'Bread', 'Cola', 'Milk'},\n",
       " {'Beer', 'Bread', 'Diapers', 'Milk'},\n",
       " {'Beer', 'Bread', 'Diapers'}]"
      ]
     },
     "execution_count": 4,
     "metadata": {},
     "output_type": "execute_result"
    }
   ],
   "source": [
    "# file_path = '/content/drive/MyDrive/data/transaction.csv'\n",
    "file_path = 'transaction.csv'\n",
    "trans_list_set = []\n",
    "with open(file_path, 'r') as file:\n",
    "    reader = csv.reader(file, delimiter=',')\n",
    "    for line in reader:\n",
    "        trans_list_set.append(set(line))        \n",
    "\n",
    "trans_length = len(trans_list_set) # 10\n",
    "trans_list_set"
   ]
  },
  {
   "cell_type": "markdown",
   "metadata": {
    "id": "ADu4BET6Cxli"
   },
   "source": [
    "- frozenset을 사용하는 이유: 우리가 필요한 itemset은 python에서 제공하는 set과 동일하다. 그러나 frozenset은 immuatable한 불변객체이므로 새로운 아이템의 추가나 삭제가 불가능하다. 때문에 이를 사용하고 pandas에도 value값으로 사용할 수 있다."
   ]
  },
  {
   "cell_type": "code",
   "execution_count": 5,
   "metadata": {
    "colab": {
     "base_uri": "https://localhost:8080/"
    },
    "executionInfo": {
     "elapsed": 2990,
     "status": "ok",
     "timestamp": 1615967779684,
     "user": {
      "displayName": "Lee Joonwon",
      "photoUrl": "",
      "userId": "17832358910809959284"
     },
     "user_tz": -540
    },
    "id": "88R9AxKrCxlj",
    "outputId": "7289eacc-4a12-4c64-b2a3-27e74788141a"
   },
   "outputs": [
    {
     "data": {
      "text/plain": [
       "{frozenset({'Diapers'}),\n",
       " frozenset({'Cola'}),\n",
       " frozenset({'Bread'}),\n",
       " frozenset({'Milk'}),\n",
       " frozenset({'Beer'}),\n",
       " frozenset({'Eggs'})}"
      ]
     },
     "execution_count": 5,
     "metadata": {},
     "output_type": "execute_result"
    }
   ],
   "source": [
    "# 1-itemset 생성하기\n",
    "\n",
    "item_set = set()\n",
    "for line in trans_list_set:\n",
    "    for item in line:\n",
    "        item_set.add(frozenset([item]))\n",
    "item_set"
   ]
  },
  {
   "cell_type": "markdown",
   "metadata": {
    "id": "NfGK_QFFCxlj"
   },
   "source": [
    "### support 계산, frequent itemset 구하기"
   ]
  },
  {
   "cell_type": "code",
   "execution_count": 6,
   "metadata": {
    "executionInfo": {
     "elapsed": 2985,
     "status": "ok",
     "timestamp": 1615967779685,
     "user": {
      "displayName": "Lee Joonwon",
      "photoUrl": "",
      "userId": "17832358910809959284"
     },
     "user_tz": -540
    },
    "id": "cXulo2-4Cxlj"
   },
   "outputs": [],
   "source": [
    "# frequent itemset의 support를 저장하는 dictinoary\n",
    "# frequent itemset이란 minimum support 이상의 k-itemset을 의미함.\n",
    "\n",
    "min_support = 0.2\n",
    "support_dict = defaultdict(float)"
   ]
  },
  {
   "cell_type": "code",
   "execution_count": 7,
   "metadata": {
    "colab": {
     "base_uri": "https://localhost:8080/"
    },
    "executionInfo": {
     "elapsed": 2979,
     "status": "ok",
     "timestamp": 1615967779685,
     "user": {
      "displayName": "Lee Joonwon",
      "photoUrl": "",
      "userId": "17832358910809959284"
     },
     "user_tz": -540
    },
    "id": "HXigeKL0Cxlk",
    "outputId": "d730e376-8028-4a95-b0d0-384d3a5114ee"
   },
   "outputs": [
    {
     "data": {
      "text/plain": [
       "defaultdict(float,\n",
       "            {frozenset({'Diapers'}): 0.6,\n",
       "             frozenset({'Cola'}): 0.4,\n",
       "             frozenset({'Bread'}): 0.9,\n",
       "             frozenset({'Milk'}): 0.8,\n",
       "             frozenset({'Beer'}): 0.7})"
      ]
     },
     "execution_count": 7,
     "metadata": {},
     "output_type": "execute_result"
    }
   ],
   "source": [
    "# 1-itemset의 frequent itemset 계산\n",
    "\n",
    "one_freq_set  = set()\n",
    "one_freq_dict = defaultdict(int)\n",
    "\n",
    "# 1-itemset의 support count 계산\n",
    "for item in item_set:\n",
    "    one_freq_dict[item] += sum([1 for trans in trans_list_set if item.issubset(trans)])\n",
    "\n",
    "# min support 이상의 itemset만 보존시킨다.\n",
    "n = len(trans_list_set)\n",
    "for item, cnt in one_freq_dict.items():\n",
    "    support = float(cnt) / n\n",
    "    if support >= min_support:\n",
    "        one_freq_set.add(item)\n",
    "        support_dict[item] = support\n",
    "\n",
    "support_dict"
   ]
  },
  {
   "cell_type": "code",
   "execution_count": 8,
   "metadata": {
    "colab": {
     "base_uri": "https://localhost:8080/"
    },
    "executionInfo": {
     "elapsed": 2973,
     "status": "ok",
     "timestamp": 1615967779686,
     "user": {
      "displayName": "Lee Joonwon",
      "photoUrl": "",
      "userId": "17832358910809959284"
     },
     "user_tz": -540
    },
    "id": "C3yoR1l2Cxlk",
    "outputId": "664daa1e-5817-4692-b8b9-9b9a6138ad21"
   },
   "outputs": [
    {
     "data": {
      "text/plain": [
       "defaultdict(float,\n",
       "            {frozenset({'Diapers'}): 0.6,\n",
       "             frozenset({'Cola'}): 0.4,\n",
       "             frozenset({'Bread'}): 0.9,\n",
       "             frozenset({'Milk'}): 0.8,\n",
       "             frozenset({'Beer'}): 0.7,\n",
       "             frozenset({'Cola', 'Milk'}): 0.4,\n",
       "             frozenset({'Diapers', 'Milk'}): 0.4,\n",
       "             frozenset({'Bread', 'Cola'}): 0.3,\n",
       "             frozenset({'Beer', 'Bread'}): 0.6,\n",
       "             frozenset({'Beer', 'Cola'}): 0.3,\n",
       "             frozenset({'Beer', 'Milk'}): 0.5,\n",
       "             frozenset({'Bread', 'Milk'}): 0.7,\n",
       "             frozenset({'Cola', 'Diapers'}): 0.2,\n",
       "             frozenset({'Beer', 'Diapers'}): 0.5,\n",
       "             frozenset({'Bread', 'Diapers'}): 0.5})"
      ]
     },
     "execution_count": 8,
     "metadata": {},
     "output_type": "execute_result"
    }
   ],
   "source": [
    "# 2-frequency itemset\n",
    "\n",
    "k = 2\n",
    "two_item_set = set([term1.union(term2) for term1 in one_freq_set for term2 in one_freq_set if len(term1.union(term2)) == k])\n",
    "\n",
    "two_freq_set  = set()\n",
    "two_freq_dict = defaultdict(int)\n",
    "\n",
    "# 2-itemset의 support count 계산\n",
    "for item in two_item_set:\n",
    "    two_freq_dict[item] += sum([1 for trans in trans_list_set if item.issubset(trans)])\n",
    "\n",
    "# min support 이상의 itemset만 보존시킨다.\n",
    "n = len(trans_list_set)\n",
    "for item, cnt in two_freq_dict.items():\n",
    "    support = float(cnt) / n\n",
    "    if support >= min_support:\n",
    "        two_freq_set.add(item)\n",
    "        support_dict[item] = support\n",
    "\n",
    "support_dict"
   ]
  },
  {
   "cell_type": "code",
   "execution_count": 9,
   "metadata": {
    "colab": {
     "base_uri": "https://localhost:8080/"
    },
    "id": "augxJifGCFQI",
    "outputId": "49103216-25fa-47fe-c8b8-d25e0c51f64a"
   },
   "outputs": [
    {
     "data": {
      "text/plain": [
       "defaultdict(float,\n",
       "            {frozenset({'Diapers'}): 0.6,\n",
       "             frozenset({'Cola'}): 0.4,\n",
       "             frozenset({'Bread'}): 0.9,\n",
       "             frozenset({'Milk'}): 0.8,\n",
       "             frozenset({'Beer'}): 0.7,\n",
       "             frozenset({'Cola', 'Milk'}): 0.4,\n",
       "             frozenset({'Diapers', 'Milk'}): 0.4,\n",
       "             frozenset({'Bread', 'Cola'}): 0.3,\n",
       "             frozenset({'Beer', 'Bread'}): 0.6,\n",
       "             frozenset({'Beer', 'Cola'}): 0.3,\n",
       "             frozenset({'Beer', 'Milk'}): 0.5,\n",
       "             frozenset({'Bread', 'Milk'}): 0.7,\n",
       "             frozenset({'Cola', 'Diapers'}): 0.2,\n",
       "             frozenset({'Beer', 'Diapers'}): 0.5,\n",
       "             frozenset({'Bread', 'Diapers'}): 0.5,\n",
       "             frozenset({'Beer', 'Bread', 'Milk'}): 0.4,\n",
       "             frozenset({'Bread', 'Cola', 'Milk'}): 0.3,\n",
       "             frozenset({'Beer', 'Cola', 'Milk'}): 0.3,\n",
       "             frozenset({'Beer', 'Bread', 'Diapers'}): 0.4,\n",
       "             frozenset({'Beer', 'Bread', 'Cola'}): 0.2,\n",
       "             frozenset({'Beer', 'Diapers', 'Milk'}): 0.3,\n",
       "             frozenset({'Cola', 'Diapers', 'Milk'}): 0.2,\n",
       "             frozenset({'Bread', 'Diapers', 'Milk'}): 0.3})"
      ]
     },
     "execution_count": 9,
     "metadata": {},
     "output_type": "execute_result"
    }
   ],
   "source": [
    "# 3-frequency itemset을 생성하는 과정\n",
    "\n",
    "k = 3\n",
    "\n",
    "# 2-itemset을 사용해서 후보 3-itemset들을 생성합니다\n",
    "three_item_set = set([term1.union(term2) for term1 in two_freq_set for term2 in two_freq_set if len(term1.union(term2)) == k])\n",
    "\n",
    "three_freq_set  = set()\n",
    "three_freq_dict = defaultdict(int)\n",
    "\n",
    "# 2-itemset의 support count 계산\n",
    "for item in three_item_set:\n",
    "    three_freq_dict[item] += sum([1 for trans in trans_list_set if item.issubset(trans)])\n",
    "\n",
    "# 2-itemset 가운데 min support 이상의 itemset만 보존시킨다.\n",
    "n = len(trans_list_set)\n",
    "for item, cnt in three_freq_dict.items():\n",
    "    support = float(cnt) / n\n",
    "    if support >= min_support:\n",
    "        three_freq_set.add(item)\n",
    "        support_dict[item] = support\n",
    "\n",
    "support_dict"
   ]
  },
  {
   "cell_type": "markdown",
   "metadata": {
    "id": "dZ4NeVu-Cxll"
   },
   "source": [
    "### confidence, lift 구하기"
   ]
  },
  {
   "cell_type": "code",
   "execution_count": 10,
   "metadata": {
    "colab": {
     "base_uri": "https://localhost:8080/"
    },
    "executionInfo": {
     "elapsed": 2958,
     "status": "ok",
     "timestamp": 1615967779687,
     "user": {
      "displayName": "Lee Joonwon",
      "photoUrl": "",
      "userId": "17832358910809959284"
     },
     "user_tz": -540
    },
    "id": "SWOmTxAHCxll",
    "outputId": "c7745f92-9968-4f2a-dfce-64a342cc75eb"
   },
   "outputs": [
    {
     "data": {
      "text/plain": [
       "0.8333333333333334"
      ]
     },
     "execution_count": 10,
     "metadata": {},
     "output_type": "execute_result"
    }
   ],
   "source": [
    "# X => Y, X: antecedent, Y: consequent\n",
    "# get confidence\n",
    "\n",
    "x = 'Diapers'\n",
    "y = 'Beer'\n",
    "\n",
    "x_support = support_dict.get(frozenset([x]), 0.0)\n",
    "\n",
    "both_support = support_dict.get(frozenset([x, y]), 0.0)\n",
    "\n",
    "confidence = both_support / x_support\n",
    "confidence"
   ]
  },
  {
   "cell_type": "code",
   "execution_count": 11,
   "metadata": {
    "colab": {
     "base_uri": "https://localhost:8080/"
    },
    "executionInfo": {
     "elapsed": 2951,
     "status": "ok",
     "timestamp": 1615967779687,
     "user": {
      "displayName": "Lee Joonwon",
      "photoUrl": "",
      "userId": "17832358910809959284"
     },
     "user_tz": -540
    },
    "id": "Rxvx3740Cxlm",
    "outputId": "376d8856-08d1-4c07-dd8e-a32f0abf616d"
   },
   "outputs": [
    {
     "data": {
      "text/plain": [
       "1.1904761904761905"
      ]
     },
     "execution_count": 11,
     "metadata": {},
     "output_type": "execute_result"
    }
   ],
   "source": [
    "# X => Y, X: antecedent, Y: consequent\n",
    "# get lift\n",
    "\n",
    "x = 'Diapers'\n",
    "y = 'Beer'\n",
    "\n",
    "x_support = support_dict.get(frozenset([x]), 0.0)\n",
    "y_support = support_dict.get(frozenset([y]), 0.0)\n",
    "both_support = support_dict.get(frozenset([x, y]), 0.0)\n",
    "\n",
    "lift = both_support / (x_support * y_support)\n",
    "lift"
   ]
  },
  {
   "cell_type": "markdown",
   "metadata": {
    "id": "XYSxv6_oCxlm"
   },
   "source": [
    "### association rule 구하기"
   ]
  },
  {
   "cell_type": "code",
   "execution_count": 12,
   "metadata": {
    "colab": {
     "base_uri": "https://localhost:8080/"
    },
    "executionInfo": {
     "elapsed": 2944,
     "status": "ok",
     "timestamp": 1615967779688,
     "user": {
      "displayName": "Lee Joonwon",
      "photoUrl": "",
      "userId": "17832358910809959284"
     },
     "user_tz": -540
    },
    "id": "aUwUnfMcCxlm",
    "outputId": "b2fba5f6-5ad8-46c0-f9c0-e0a4ad8fb6d8",
    "scrolled": false
   },
   "outputs": [
    {
     "name": "stdout",
     "output_type": "stream",
     "text": [
      "['Diapers'] -> ['Cola'] support: 0.200, confidence: 0.333, lift: 0.833\n",
      "['Diapers'] -> ['Bread'] support: 0.500, confidence: 0.833, lift: 0.926\n",
      "['Diapers'] -> ['Milk'] support: 0.400, confidence: 0.667, lift: 0.833\n",
      "['Diapers'] -> ['Beer'] support: 0.500, confidence: 0.833, lift: 1.190\n",
      "['Diapers'] -> ['Cola', 'Milk'] support: 0.200, confidence: 0.333, lift: 0.833\n",
      "['Diapers'] -> ['Milk', 'Diapers'] support: 0.400, confidence: 0.667, lift: 1.667\n",
      "['Diapers'] -> ['Cola', 'Bread'] support: 0.000, confidence: 0.000, lift: 0.000\n",
      "['Diapers'] -> ['Beer', 'Bread'] support: 0.400, confidence: 0.667, lift: 1.111\n",
      "['Diapers'] -> ['Cola', 'Beer'] support: 0.000, confidence: 0.000, lift: 0.000\n",
      "['Diapers'] -> ['Beer', 'Milk'] support: 0.300, confidence: 0.500, lift: 1.000\n",
      "['Diapers'] -> ['Bread', 'Milk'] support: 0.300, confidence: 0.500, lift: 0.714\n",
      "['Diapers'] -> ['Cola', 'Diapers'] support: 0.200, confidence: 0.333, lift: 1.667\n",
      "['Diapers'] -> ['Beer', 'Diapers'] support: 0.500, confidence: 0.833, lift: 1.667\n",
      "['Diapers'] -> ['Bread', 'Diapers'] support: 0.500, confidence: 0.833, lift: 1.667\n",
      "['Diapers'] -> ['Beer', 'Bread', 'Milk'] support: 0.000, confidence: 0.000, lift: 0.000\n",
      "['Diapers'] -> ['Cola', 'Bread', 'Milk'] support: 0.000, confidence: 0.000, lift: 0.000\n",
      "['Diapers'] -> ['Cola', 'Beer', 'Milk'] support: 0.000, confidence: 0.000, lift: 0.000\n",
      "['Diapers'] -> ['Beer', 'Bread', 'Diapers'] support: 0.400, confidence: 0.667, lift: 1.667\n",
      "['Diapers'] -> ['Beer', 'Cola', 'Bread'] support: 0.000, confidence: 0.000, lift: 0.000\n",
      "['Diapers'] -> ['Milk', 'Beer', 'Diapers'] support: 0.300, confidence: 0.500, lift: 1.667\n",
      "['Diapers'] -> ['Cola', 'Diapers', 'Milk'] support: 0.200, confidence: 0.333, lift: 1.667\n",
      "['Diapers'] -> ['Milk', 'Bread', 'Diapers'] support: 0.300, confidence: 0.500, lift: 1.667\n"
     ]
    }
   ],
   "source": [
    "# X에 대해 가능한 모든 association rule들의 값을 구하자.\n",
    "\n",
    "x = 'Diapers'\n",
    "x = frozenset([x])\n",
    "x_support = support_dict.get(x, 0.0)\n",
    "\n",
    "for y, y_support in support_dict.items():\n",
    "\n",
    "    if y != x:\n",
    "        \n",
    "        y_support = support_dict.get(y, 0.0)\n",
    "        both_support = support_dict.get(x.union(y), 0.0)\n",
    "\n",
    "        confidence = both_support / x_support\n",
    "        lift = both_support / (x_support * y_support)\n",
    "        \n",
    "        print('%s -> %s support: %0.3f, confidence: %0.3f, lift: %0.3f' \\\n",
    "              %(list(x), list(y), both_support, confidence, lift))\n",
    "    "
   ]
  },
  {
   "cell_type": "code",
   "execution_count": 13,
   "metadata": {
    "colab": {
     "base_uri": "https://localhost:8080/",
     "height": 419
    },
    "executionInfo": {
     "elapsed": 3572,
     "status": "ok",
     "timestamp": 1615967780323,
     "user": {
      "displayName": "Lee Joonwon",
      "photoUrl": "",
      "userId": "17832358910809959284"
     },
     "user_tz": -540
    },
    "id": "602dfPs0Cxln",
    "outputId": "0b18f8dc-8017-45e5-9ca9-605471439588",
    "scrolled": true
   },
   "outputs": [
    {
     "data": {
      "text/html": [
       "<div>\n",
       "<style scoped>\n",
       "    .dataframe tbody tr th:only-of-type {\n",
       "        vertical-align: middle;\n",
       "    }\n",
       "\n",
       "    .dataframe tbody tr th {\n",
       "        vertical-align: top;\n",
       "    }\n",
       "\n",
       "    .dataframe thead th {\n",
       "        text-align: right;\n",
       "    }\n",
       "</style>\n",
       "<table border=\"1\" class=\"dataframe\">\n",
       "  <thead>\n",
       "    <tr style=\"text-align: right;\">\n",
       "      <th></th>\n",
       "      <th>antecedent</th>\n",
       "      <th>consequent</th>\n",
       "      <th>support</th>\n",
       "      <th>confidence</th>\n",
       "      <th>lift</th>\n",
       "    </tr>\n",
       "  </thead>\n",
       "  <tbody>\n",
       "    <tr>\n",
       "      <th>0</th>\n",
       "      <td>(Diapers)</td>\n",
       "      <td>(Cola)</td>\n",
       "      <td>0.2</td>\n",
       "      <td>0.333333</td>\n",
       "      <td>0.833333</td>\n",
       "    </tr>\n",
       "    <tr>\n",
       "      <th>1</th>\n",
       "      <td>(Diapers)</td>\n",
       "      <td>(Bread)</td>\n",
       "      <td>0.5</td>\n",
       "      <td>0.833333</td>\n",
       "      <td>0.925926</td>\n",
       "    </tr>\n",
       "    <tr>\n",
       "      <th>2</th>\n",
       "      <td>(Diapers)</td>\n",
       "      <td>(Milk)</td>\n",
       "      <td>0.4</td>\n",
       "      <td>0.666667</td>\n",
       "      <td>0.833333</td>\n",
       "    </tr>\n",
       "    <tr>\n",
       "      <th>3</th>\n",
       "      <td>(Diapers)</td>\n",
       "      <td>(Beer)</td>\n",
       "      <td>0.5</td>\n",
       "      <td>0.833333</td>\n",
       "      <td>1.190476</td>\n",
       "    </tr>\n",
       "    <tr>\n",
       "      <th>4</th>\n",
       "      <td>(Diapers)</td>\n",
       "      <td>(Cola, Milk)</td>\n",
       "      <td>0.2</td>\n",
       "      <td>0.333333</td>\n",
       "      <td>0.833333</td>\n",
       "    </tr>\n",
       "    <tr>\n",
       "      <th>...</th>\n",
       "      <td>...</td>\n",
       "      <td>...</td>\n",
       "      <td>...</td>\n",
       "      <td>...</td>\n",
       "      <td>...</td>\n",
       "    </tr>\n",
       "    <tr>\n",
       "      <th>153</th>\n",
       "      <td>(Cola, Diapers, Milk)</td>\n",
       "      <td>(Beer)</td>\n",
       "      <td>0.0</td>\n",
       "      <td>0.000000</td>\n",
       "      <td>0.000000</td>\n",
       "    </tr>\n",
       "    <tr>\n",
       "      <th>154</th>\n",
       "      <td>(Cola, Diapers, Milk)</td>\n",
       "      <td>(Beer, Bread)</td>\n",
       "      <td>0.0</td>\n",
       "      <td>0.000000</td>\n",
       "      <td>0.000000</td>\n",
       "    </tr>\n",
       "    <tr>\n",
       "      <th>155</th>\n",
       "      <td>(Milk, Bread, Diapers)</td>\n",
       "      <td>(Cola)</td>\n",
       "      <td>0.0</td>\n",
       "      <td>0.000000</td>\n",
       "      <td>0.000000</td>\n",
       "    </tr>\n",
       "    <tr>\n",
       "      <th>156</th>\n",
       "      <td>(Milk, Bread, Diapers)</td>\n",
       "      <td>(Beer)</td>\n",
       "      <td>0.0</td>\n",
       "      <td>0.000000</td>\n",
       "      <td>0.000000</td>\n",
       "    </tr>\n",
       "    <tr>\n",
       "      <th>157</th>\n",
       "      <td>(Milk, Bread, Diapers)</td>\n",
       "      <td>(Cola, Beer)</td>\n",
       "      <td>0.0</td>\n",
       "      <td>0.000000</td>\n",
       "      <td>0.000000</td>\n",
       "    </tr>\n",
       "  </tbody>\n",
       "</table>\n",
       "<p>158 rows × 5 columns</p>\n",
       "</div>"
      ],
      "text/plain": [
       "                 antecedent     consequent  support  confidence      lift\n",
       "0                 (Diapers)         (Cola)      0.2    0.333333  0.833333\n",
       "1                 (Diapers)        (Bread)      0.5    0.833333  0.925926\n",
       "2                 (Diapers)         (Milk)      0.4    0.666667  0.833333\n",
       "3                 (Diapers)         (Beer)      0.5    0.833333  1.190476\n",
       "4                 (Diapers)   (Cola, Milk)      0.2    0.333333  0.833333\n",
       "..                      ...            ...      ...         ...       ...\n",
       "153   (Cola, Diapers, Milk)         (Beer)      0.0    0.000000  0.000000\n",
       "154   (Cola, Diapers, Milk)  (Beer, Bread)      0.0    0.000000  0.000000\n",
       "155  (Milk, Bread, Diapers)         (Cola)      0.0    0.000000  0.000000\n",
       "156  (Milk, Bread, Diapers)         (Beer)      0.0    0.000000  0.000000\n",
       "157  (Milk, Bread, Diapers)   (Cola, Beer)      0.0    0.000000  0.000000\n",
       "\n",
       "[158 rows x 5 columns]"
      ]
     },
     "execution_count": 13,
     "metadata": {},
     "output_type": "execute_result"
    }
   ],
   "source": [
    "# 모든 disjoint(서로소) itemset에 대하여 가능한  association rule을 구하자\n",
    "\n",
    "result_df = pd.DataFrame(columns = ['antecedent', 'consequent', 'support', 'confidence', 'lift'])\n",
    "\n",
    "for x, x_support in support_dict.items():\n",
    "    for y, y_support in support_dict.items():\n",
    "        if x.isdisjoint(y):\n",
    "\n",
    "            both_support = support_dict.get(x.union(y), 0.0)\n",
    "            \n",
    "            confidence = both_support / x_support\n",
    "            lift = both_support / (x_support * y_support)\n",
    "            result_df.loc[len(result_df)] = [x, y, both_support, confidence, lift]\n",
    "\n",
    "result_df"
   ]
  },
  {
   "cell_type": "markdown",
   "metadata": {
    "id": "yQHrYtP7Cxln"
   },
   "source": [
    "### association rule을 사용한 간단한 추천"
   ]
  },
  {
   "cell_type": "code",
   "execution_count": 14,
   "metadata": {
    "colab": {
     "base_uri": "https://localhost:8080/"
    },
    "executionInfo": {
     "elapsed": 3565,
     "status": "ok",
     "timestamp": 1615967780324,
     "user": {
      "displayName": "Lee Joonwon",
      "photoUrl": "",
      "userId": "17832358910809959284"
     },
     "user_tz": -540
    },
    "id": "VPcqaOc3Cxln",
    "outputId": "48f9f368-a936-44bd-e0f0-8f75da241301",
    "scrolled": false
   },
   "outputs": [
    {
     "data": {
      "text/plain": [
       "defaultdict(float,\n",
       "            {frozenset({'Diapers'}): 0.6,\n",
       "             frozenset({'Cola'}): 0.4,\n",
       "             frozenset({'Bread'}): 0.9,\n",
       "             frozenset({'Milk'}): 0.8,\n",
       "             frozenset({'Beer'}): 0.7,\n",
       "             frozenset({'Cola', 'Milk'}): 0.4,\n",
       "             frozenset({'Diapers', 'Milk'}): 0.4,\n",
       "             frozenset({'Bread', 'Cola'}): 0.3,\n",
       "             frozenset({'Beer', 'Bread'}): 0.6,\n",
       "             frozenset({'Beer', 'Cola'}): 0.3,\n",
       "             frozenset({'Beer', 'Milk'}): 0.5,\n",
       "             frozenset({'Bread', 'Milk'}): 0.7,\n",
       "             frozenset({'Cola', 'Diapers'}): 0.2,\n",
       "             frozenset({'Beer', 'Diapers'}): 0.5,\n",
       "             frozenset({'Bread', 'Diapers'}): 0.5,\n",
       "             frozenset({'Beer', 'Bread', 'Milk'}): 0.4,\n",
       "             frozenset({'Bread', 'Cola', 'Milk'}): 0.3,\n",
       "             frozenset({'Beer', 'Cola', 'Milk'}): 0.3,\n",
       "             frozenset({'Beer', 'Bread', 'Diapers'}): 0.4,\n",
       "             frozenset({'Beer', 'Bread', 'Cola'}): 0.2,\n",
       "             frozenset({'Beer', 'Diapers', 'Milk'}): 0.3,\n",
       "             frozenset({'Cola', 'Diapers', 'Milk'}): 0.2,\n",
       "             frozenset({'Bread', 'Diapers', 'Milk'}): 0.3})"
      ]
     },
     "execution_count": 14,
     "metadata": {},
     "output_type": "execute_result"
    }
   ],
   "source": [
    "support_dict"
   ]
  },
  {
   "cell_type": "code",
   "execution_count": 15,
   "metadata": {
    "colab": {
     "base_uri": "https://localhost:8080/",
     "height": 359
    },
    "executionInfo": {
     "elapsed": 3557,
     "status": "ok",
     "timestamp": 1615967780324,
     "user": {
      "displayName": "Lee Joonwon",
      "photoUrl": "",
      "userId": "17832358910809959284"
     },
     "user_tz": -540
    },
    "id": "KWeqCj17Cxlo",
    "outputId": "de85da56-5f0b-40b1-d589-438fb22d19b1",
    "scrolled": false
   },
   "outputs": [
    {
     "data": {
      "text/html": [
       "<div>\n",
       "<style scoped>\n",
       "    .dataframe tbody tr th:only-of-type {\n",
       "        vertical-align: middle;\n",
       "    }\n",
       "\n",
       "    .dataframe tbody tr th {\n",
       "        vertical-align: top;\n",
       "    }\n",
       "\n",
       "    .dataframe thead th {\n",
       "        text-align: right;\n",
       "    }\n",
       "</style>\n",
       "<table border=\"1\" class=\"dataframe\">\n",
       "  <thead>\n",
       "    <tr style=\"text-align: right;\">\n",
       "      <th></th>\n",
       "      <th>antecedent</th>\n",
       "      <th>consequent</th>\n",
       "      <th>support</th>\n",
       "      <th>confidence</th>\n",
       "      <th>lift</th>\n",
       "    </tr>\n",
       "  </thead>\n",
       "  <tbody>\n",
       "    <tr>\n",
       "      <th>3</th>\n",
       "      <td>(Diapers)</td>\n",
       "      <td>(Beer)</td>\n",
       "      <td>0.5</td>\n",
       "      <td>0.833333</td>\n",
       "      <td>1.190476</td>\n",
       "    </tr>\n",
       "    <tr>\n",
       "      <th>6</th>\n",
       "      <td>(Diapers)</td>\n",
       "      <td>(Beer, Bread)</td>\n",
       "      <td>0.4</td>\n",
       "      <td>0.666667</td>\n",
       "      <td>1.111111</td>\n",
       "    </tr>\n",
       "    <tr>\n",
       "      <th>8</th>\n",
       "      <td>(Diapers)</td>\n",
       "      <td>(Beer, Milk)</td>\n",
       "      <td>0.3</td>\n",
       "      <td>0.500000</td>\n",
       "      <td>1.000000</td>\n",
       "    </tr>\n",
       "    <tr>\n",
       "      <th>1</th>\n",
       "      <td>(Diapers)</td>\n",
       "      <td>(Bread)</td>\n",
       "      <td>0.5</td>\n",
       "      <td>0.833333</td>\n",
       "      <td>0.925926</td>\n",
       "    </tr>\n",
       "    <tr>\n",
       "      <th>0</th>\n",
       "      <td>(Diapers)</td>\n",
       "      <td>(Cola)</td>\n",
       "      <td>0.2</td>\n",
       "      <td>0.333333</td>\n",
       "      <td>0.833333</td>\n",
       "    </tr>\n",
       "    <tr>\n",
       "      <th>2</th>\n",
       "      <td>(Diapers)</td>\n",
       "      <td>(Milk)</td>\n",
       "      <td>0.4</td>\n",
       "      <td>0.666667</td>\n",
       "      <td>0.833333</td>\n",
       "    </tr>\n",
       "    <tr>\n",
       "      <th>4</th>\n",
       "      <td>(Diapers)</td>\n",
       "      <td>(Cola, Milk)</td>\n",
       "      <td>0.2</td>\n",
       "      <td>0.333333</td>\n",
       "      <td>0.833333</td>\n",
       "    </tr>\n",
       "    <tr>\n",
       "      <th>9</th>\n",
       "      <td>(Diapers)</td>\n",
       "      <td>(Bread, Milk)</td>\n",
       "      <td>0.3</td>\n",
       "      <td>0.500000</td>\n",
       "      <td>0.714286</td>\n",
       "    </tr>\n",
       "    <tr>\n",
       "      <th>5</th>\n",
       "      <td>(Diapers)</td>\n",
       "      <td>(Cola, Bread)</td>\n",
       "      <td>0.0</td>\n",
       "      <td>0.000000</td>\n",
       "      <td>0.000000</td>\n",
       "    </tr>\n",
       "    <tr>\n",
       "      <th>7</th>\n",
       "      <td>(Diapers)</td>\n",
       "      <td>(Cola, Beer)</td>\n",
       "      <td>0.0</td>\n",
       "      <td>0.000000</td>\n",
       "      <td>0.000000</td>\n",
       "    </tr>\n",
       "    <tr>\n",
       "      <th>10</th>\n",
       "      <td>(Diapers)</td>\n",
       "      <td>(Beer, Bread, Milk)</td>\n",
       "      <td>0.0</td>\n",
       "      <td>0.000000</td>\n",
       "      <td>0.000000</td>\n",
       "    </tr>\n",
       "    <tr>\n",
       "      <th>11</th>\n",
       "      <td>(Diapers)</td>\n",
       "      <td>(Cola, Bread, Milk)</td>\n",
       "      <td>0.0</td>\n",
       "      <td>0.000000</td>\n",
       "      <td>0.000000</td>\n",
       "    </tr>\n",
       "    <tr>\n",
       "      <th>12</th>\n",
       "      <td>(Diapers)</td>\n",
       "      <td>(Cola, Beer, Milk)</td>\n",
       "      <td>0.0</td>\n",
       "      <td>0.000000</td>\n",
       "      <td>0.000000</td>\n",
       "    </tr>\n",
       "    <tr>\n",
       "      <th>13</th>\n",
       "      <td>(Diapers)</td>\n",
       "      <td>(Beer, Cola, Bread)</td>\n",
       "      <td>0.0</td>\n",
       "      <td>0.000000</td>\n",
       "      <td>0.000000</td>\n",
       "    </tr>\n",
       "  </tbody>\n",
       "</table>\n",
       "</div>"
      ],
      "text/plain": [
       "   antecedent           consequent  support  confidence      lift\n",
       "3   (Diapers)               (Beer)      0.5    0.833333  1.190476\n",
       "6   (Diapers)        (Beer, Bread)      0.4    0.666667  1.111111\n",
       "8   (Diapers)         (Beer, Milk)      0.3    0.500000  1.000000\n",
       "1   (Diapers)              (Bread)      0.5    0.833333  0.925926\n",
       "0   (Diapers)               (Cola)      0.2    0.333333  0.833333\n",
       "2   (Diapers)               (Milk)      0.4    0.666667  0.833333\n",
       "4   (Diapers)         (Cola, Milk)      0.2    0.333333  0.833333\n",
       "9   (Diapers)        (Bread, Milk)      0.3    0.500000  0.714286\n",
       "5   (Diapers)        (Cola, Bread)      0.0    0.000000  0.000000\n",
       "7   (Diapers)         (Cola, Beer)      0.0    0.000000  0.000000\n",
       "10  (Diapers)  (Beer, Bread, Milk)      0.0    0.000000  0.000000\n",
       "11  (Diapers)  (Cola, Bread, Milk)      0.0    0.000000  0.000000\n",
       "12  (Diapers)   (Cola, Beer, Milk)      0.0    0.000000  0.000000\n",
       "13  (Diapers)  (Beer, Cola, Bread)      0.0    0.000000  0.000000"
      ]
     },
     "execution_count": 15,
     "metadata": {},
     "output_type": "execute_result"
    }
   ],
   "source": [
    "# Diapers는 frequent itemset에 속하므로 association rule을 활용한 추천이 가능하다.\n",
    "# Diapers를 구매했다고 가정할 때 추천 itemset을 구하자.\n",
    "\n",
    "x = 'Diapers'\n",
    "x_itemset = frozenset([x])\n",
    "result_df[result_df['antecedent'] == x_itemset].sort_values(by='lift', ascending=False)"
   ]
  },
  {
   "cell_type": "code",
   "execution_count": 16,
   "metadata": {
    "colab": {
     "base_uri": "https://localhost:8080/",
     "height": 173
    },
    "executionInfo": {
     "elapsed": 3550,
     "status": "ok",
     "timestamp": 1615967780325,
     "user": {
      "displayName": "Lee Joonwon",
      "photoUrl": "",
      "userId": "17832358910809959284"
     },
     "user_tz": -540
    },
    "id": "bcOQipnGCxlo",
    "outputId": "87b441f2-2dc3-4abe-81e5-d567a8ebbb8a"
   },
   "outputs": [
    {
     "data": {
      "text/html": [
       "<div>\n",
       "<style scoped>\n",
       "    .dataframe tbody tr th:only-of-type {\n",
       "        vertical-align: middle;\n",
       "    }\n",
       "\n",
       "    .dataframe tbody tr th {\n",
       "        vertical-align: top;\n",
       "    }\n",
       "\n",
       "    .dataframe thead th {\n",
       "        text-align: right;\n",
       "    }\n",
       "</style>\n",
       "<table border=\"1\" class=\"dataframe\">\n",
       "  <thead>\n",
       "    <tr style=\"text-align: right;\">\n",
       "      <th></th>\n",
       "      <th>antecedent</th>\n",
       "      <th>consequent</th>\n",
       "      <th>support</th>\n",
       "      <th>confidence</th>\n",
       "      <th>lift</th>\n",
       "    </tr>\n",
       "  </thead>\n",
       "  <tbody>\n",
       "    <tr>\n",
       "      <th>3</th>\n",
       "      <td>(Diapers)</td>\n",
       "      <td>(Beer)</td>\n",
       "      <td>0.5</td>\n",
       "      <td>0.833333</td>\n",
       "      <td>1.190476</td>\n",
       "    </tr>\n",
       "    <tr>\n",
       "      <th>6</th>\n",
       "      <td>(Diapers)</td>\n",
       "      <td>(Beer, Bread)</td>\n",
       "      <td>0.4</td>\n",
       "      <td>0.666667</td>\n",
       "      <td>1.111111</td>\n",
       "    </tr>\n",
       "    <tr>\n",
       "      <th>8</th>\n",
       "      <td>(Diapers)</td>\n",
       "      <td>(Beer, Milk)</td>\n",
       "      <td>0.3</td>\n",
       "      <td>0.500000</td>\n",
       "      <td>1.000000</td>\n",
       "    </tr>\n",
       "    <tr>\n",
       "      <th>1</th>\n",
       "      <td>(Diapers)</td>\n",
       "      <td>(Bread)</td>\n",
       "      <td>0.5</td>\n",
       "      <td>0.833333</td>\n",
       "      <td>0.925926</td>\n",
       "    </tr>\n",
       "    <tr>\n",
       "      <th>0</th>\n",
       "      <td>(Diapers)</td>\n",
       "      <td>(Cola)</td>\n",
       "      <td>0.2</td>\n",
       "      <td>0.333333</td>\n",
       "      <td>0.833333</td>\n",
       "    </tr>\n",
       "    <tr>\n",
       "      <th>2</th>\n",
       "      <td>(Diapers)</td>\n",
       "      <td>(Milk)</td>\n",
       "      <td>0.4</td>\n",
       "      <td>0.666667</td>\n",
       "      <td>0.833333</td>\n",
       "    </tr>\n",
       "    <tr>\n",
       "      <th>4</th>\n",
       "      <td>(Diapers)</td>\n",
       "      <td>(Cola, Milk)</td>\n",
       "      <td>0.2</td>\n",
       "      <td>0.333333</td>\n",
       "      <td>0.833333</td>\n",
       "    </tr>\n",
       "    <tr>\n",
       "      <th>9</th>\n",
       "      <td>(Diapers)</td>\n",
       "      <td>(Bread, Milk)</td>\n",
       "      <td>0.3</td>\n",
       "      <td>0.500000</td>\n",
       "      <td>0.714286</td>\n",
       "    </tr>\n",
       "  </tbody>\n",
       "</table>\n",
       "</div>"
      ],
      "text/plain": [
       "  antecedent     consequent  support  confidence      lift\n",
       "3  (Diapers)         (Beer)      0.5    0.833333  1.190476\n",
       "6  (Diapers)  (Beer, Bread)      0.4    0.666667  1.111111\n",
       "8  (Diapers)   (Beer, Milk)      0.3    0.500000  1.000000\n",
       "1  (Diapers)        (Bread)      0.5    0.833333  0.925926\n",
       "0  (Diapers)         (Cola)      0.2    0.333333  0.833333\n",
       "2  (Diapers)         (Milk)      0.4    0.666667  0.833333\n",
       "4  (Diapers)   (Cola, Milk)      0.2    0.333333  0.833333\n",
       "9  (Diapers)  (Bread, Milk)      0.3    0.500000  0.714286"
      ]
     },
     "execution_count": 16,
     "metadata": {},
     "output_type": "execute_result"
    }
   ],
   "source": [
    "# minimum confidence 조건을 추가하고 싶다면?\n",
    "\n",
    "x = 'Diapers'\n",
    "x_itemset = frozenset([x])\n",
    "min_confidence = 0.3\n",
    "\n",
    "result_df[(result_df['antecedent'] == x_itemset) \\\n",
    "          & (result_df['confidence'] > min_confidence)].sort_values(by='lift', ascending=False)"
   ]
  },
  {
   "cell_type": "markdown",
   "metadata": {
    "id": "3jUW20F3Cxlo"
   },
   "source": [
    "## mlxtend 라이브러리 사용\n",
    "- frequnet itemset을 생성하는 Apriori 알고리즘과 Association Rule을 제공하는 라이브러리\n",
    "- Apriori 알고리즘 외에도 더 빠른 FPGrowth 등의 알고리즘도 사용 가능하다."
   ]
  },
  {
   "cell_type": "code",
   "execution_count": 17,
   "metadata": {
    "executionInfo": {
     "elapsed": 3541,
     "status": "ok",
     "timestamp": 1615967780325,
     "user": {
      "displayName": "Lee Joonwon",
      "photoUrl": "",
      "userId": "17832358910809959284"
     },
     "user_tz": -540
    },
    "id": "Y52pc-LYCxlo"
   },
   "outputs": [],
   "source": [
    "# 이제 라이브러리를 사용해보자"
   ]
  },
  {
   "cell_type": "code",
   "execution_count": 18,
   "metadata": {
    "colab": {
     "base_uri": "https://localhost:8080/",
     "height": 1000
    },
    "executionInfo": {
     "elapsed": 4013,
     "status": "ok",
     "timestamp": 1615967780803,
     "user": {
      "displayName": "Lee Joonwon",
      "photoUrl": "",
      "userId": "17832358910809959284"
     },
     "user_tz": -540
    },
    "id": "12WoNqIHCxlp",
    "outputId": "25bb18e8-daaf-46ea-bc94-ef2a6294c560",
    "scrolled": true
   },
   "outputs": [
    {
     "data": {
      "text/html": [
       "<div>\n",
       "<style scoped>\n",
       "    .dataframe tbody tr th:only-of-type {\n",
       "        vertical-align: middle;\n",
       "    }\n",
       "\n",
       "    .dataframe tbody tr th {\n",
       "        vertical-align: top;\n",
       "    }\n",
       "\n",
       "    .dataframe thead th {\n",
       "        text-align: right;\n",
       "    }\n",
       "</style>\n",
       "<table border=\"1\" class=\"dataframe\">\n",
       "  <thead>\n",
       "    <tr style=\"text-align: right;\">\n",
       "      <th></th>\n",
       "      <th>transaction</th>\n",
       "      <th>item</th>\n",
       "    </tr>\n",
       "  </thead>\n",
       "  <tbody>\n",
       "    <tr>\n",
       "      <th>0</th>\n",
       "      <td>0</td>\n",
       "      <td>Bread</td>\n",
       "    </tr>\n",
       "    <tr>\n",
       "      <th>1</th>\n",
       "      <td>0</td>\n",
       "      <td>Milk</td>\n",
       "    </tr>\n",
       "    <tr>\n",
       "      <th>2</th>\n",
       "      <td>1</td>\n",
       "      <td>Bread</td>\n",
       "    </tr>\n",
       "    <tr>\n",
       "      <th>3</th>\n",
       "      <td>1</td>\n",
       "      <td>Diapers</td>\n",
       "    </tr>\n",
       "    <tr>\n",
       "      <th>4</th>\n",
       "      <td>1</td>\n",
       "      <td>Beer</td>\n",
       "    </tr>\n",
       "    <tr>\n",
       "      <th>5</th>\n",
       "      <td>1</td>\n",
       "      <td>Eggs</td>\n",
       "    </tr>\n",
       "    <tr>\n",
       "      <th>6</th>\n",
       "      <td>2</td>\n",
       "      <td>Milk</td>\n",
       "    </tr>\n",
       "    <tr>\n",
       "      <th>7</th>\n",
       "      <td>2</td>\n",
       "      <td>Diapers</td>\n",
       "    </tr>\n",
       "    <tr>\n",
       "      <th>8</th>\n",
       "      <td>2</td>\n",
       "      <td>Beer</td>\n",
       "    </tr>\n",
       "    <tr>\n",
       "      <th>9</th>\n",
       "      <td>2</td>\n",
       "      <td>Cola</td>\n",
       "    </tr>\n",
       "    <tr>\n",
       "      <th>10</th>\n",
       "      <td>3</td>\n",
       "      <td>Bread</td>\n",
       "    </tr>\n",
       "    <tr>\n",
       "      <th>11</th>\n",
       "      <td>3</td>\n",
       "      <td>Milk</td>\n",
       "    </tr>\n",
       "    <tr>\n",
       "      <th>12</th>\n",
       "      <td>3</td>\n",
       "      <td>Diapers</td>\n",
       "    </tr>\n",
       "    <tr>\n",
       "      <th>13</th>\n",
       "      <td>3</td>\n",
       "      <td>Beer</td>\n",
       "    </tr>\n",
       "    <tr>\n",
       "      <th>14</th>\n",
       "      <td>4</td>\n",
       "      <td>Bread</td>\n",
       "    </tr>\n",
       "    <tr>\n",
       "      <th>15</th>\n",
       "      <td>4</td>\n",
       "      <td>Milk</td>\n",
       "    </tr>\n",
       "    <tr>\n",
       "      <th>16</th>\n",
       "      <td>4</td>\n",
       "      <td>Diapers</td>\n",
       "    </tr>\n",
       "    <tr>\n",
       "      <th>17</th>\n",
       "      <td>4</td>\n",
       "      <td>Cola</td>\n",
       "    </tr>\n",
       "    <tr>\n",
       "      <th>18</th>\n",
       "      <td>5</td>\n",
       "      <td>Bread</td>\n",
       "    </tr>\n",
       "    <tr>\n",
       "      <th>19</th>\n",
       "      <td>5</td>\n",
       "      <td>Milk</td>\n",
       "    </tr>\n",
       "    <tr>\n",
       "      <th>20</th>\n",
       "      <td>6</td>\n",
       "      <td>Bread</td>\n",
       "    </tr>\n",
       "    <tr>\n",
       "      <th>21</th>\n",
       "      <td>6</td>\n",
       "      <td>Cola</td>\n",
       "    </tr>\n",
       "    <tr>\n",
       "      <th>22</th>\n",
       "      <td>6</td>\n",
       "      <td>Beer</td>\n",
       "    </tr>\n",
       "    <tr>\n",
       "      <th>23</th>\n",
       "      <td>6</td>\n",
       "      <td>Milk</td>\n",
       "    </tr>\n",
       "    <tr>\n",
       "      <th>24</th>\n",
       "      <td>7</td>\n",
       "      <td>Milk</td>\n",
       "    </tr>\n",
       "    <tr>\n",
       "      <th>25</th>\n",
       "      <td>7</td>\n",
       "      <td>Bread</td>\n",
       "    </tr>\n",
       "    <tr>\n",
       "      <th>26</th>\n",
       "      <td>7</td>\n",
       "      <td>Beer</td>\n",
       "    </tr>\n",
       "    <tr>\n",
       "      <th>27</th>\n",
       "      <td>7</td>\n",
       "      <td>Cola</td>\n",
       "    </tr>\n",
       "    <tr>\n",
       "      <th>28</th>\n",
       "      <td>8</td>\n",
       "      <td>Bread</td>\n",
       "    </tr>\n",
       "    <tr>\n",
       "      <th>29</th>\n",
       "      <td>8</td>\n",
       "      <td>Milk</td>\n",
       "    </tr>\n",
       "    <tr>\n",
       "      <th>30</th>\n",
       "      <td>8</td>\n",
       "      <td>Diapers</td>\n",
       "    </tr>\n",
       "    <tr>\n",
       "      <th>31</th>\n",
       "      <td>8</td>\n",
       "      <td>Beer</td>\n",
       "    </tr>\n",
       "    <tr>\n",
       "      <th>32</th>\n",
       "      <td>9</td>\n",
       "      <td>Bread</td>\n",
       "    </tr>\n",
       "    <tr>\n",
       "      <th>33</th>\n",
       "      <td>9</td>\n",
       "      <td>Beer</td>\n",
       "    </tr>\n",
       "    <tr>\n",
       "      <th>34</th>\n",
       "      <td>9</td>\n",
       "      <td>Diapers</td>\n",
       "    </tr>\n",
       "    <tr>\n",
       "      <th>35</th>\n",
       "      <td>9</td>\n",
       "      <td>Diapers</td>\n",
       "    </tr>\n",
       "  </tbody>\n",
       "</table>\n",
       "</div>"
      ],
      "text/plain": [
       "   transaction     item\n",
       "0            0    Bread\n",
       "1            0     Milk\n",
       "2            1    Bread\n",
       "3            1  Diapers\n",
       "4            1     Beer\n",
       "5            1     Eggs\n",
       "6            2     Milk\n",
       "7            2  Diapers\n",
       "8            2     Beer\n",
       "9            2     Cola\n",
       "10           3    Bread\n",
       "11           3     Milk\n",
       "12           3  Diapers\n",
       "13           3     Beer\n",
       "14           4    Bread\n",
       "15           4     Milk\n",
       "16           4  Diapers\n",
       "17           4     Cola\n",
       "18           5    Bread\n",
       "19           5     Milk\n",
       "20           6    Bread\n",
       "21           6     Cola\n",
       "22           6     Beer\n",
       "23           6     Milk\n",
       "24           7     Milk\n",
       "25           7    Bread\n",
       "26           7     Beer\n",
       "27           7     Cola\n",
       "28           8    Bread\n",
       "29           8     Milk\n",
       "30           8  Diapers\n",
       "31           8     Beer\n",
       "32           9    Bread\n",
       "33           9     Beer\n",
       "34           9  Diapers\n",
       "35           9  Diapers"
      ]
     },
     "execution_count": 18,
     "metadata": {},
     "output_type": "execute_result"
    }
   ],
   "source": [
    "# file_path = '/content/drive/MyDrive/data/transaction.csv'\n",
    "file_path = 'transaction.csv'\n",
    "transaction_df = pd.DataFrame(columns = ['transaction', 'item'])\n",
    "\n",
    "index = 0\n",
    "with open(file_path, 'r') as file:\n",
    "    reader = csv.reader(file, delimiter=',')\n",
    "    for line in reader:\n",
    "        for item in line:\n",
    "            transaction_df.loc[len(transaction_df)] = [index, item]\n",
    "        index += 1\n",
    "\n",
    "transaction_df"
   ]
  },
  {
   "cell_type": "code",
   "execution_count": 19,
   "metadata": {
    "colab": {
     "base_uri": "https://localhost:8080/",
     "height": 241
    },
    "executionInfo": {
     "elapsed": 4006,
     "status": "ok",
     "timestamp": 1615967780804,
     "user": {
      "displayName": "Lee Joonwon",
      "photoUrl": "",
      "userId": "17832358910809959284"
     },
     "user_tz": -540
    },
    "id": "qxiCUrjiCxlp",
    "outputId": "cf9a4dcb-e0f5-4f2b-afdf-695f288c2020"
   },
   "outputs": [
    {
     "data": {
      "image/png": "[encoded data removed]",
      "text/plain": [
       "<Figure size 360x216 with 1 Axes>"
      ]
     },
     "metadata": {
      "needs_background": "light"
     },
     "output_type": "display_data"
    }
   ],
   "source": [
    "# Top N 아이템\n",
    "\n",
    "plt.figure(figsize=(5,3))\n",
    "order = transaction_df['item'].value_counts()[:3].index\n",
    "sns.countplot(x = 'item', data = transaction_df, order = order)\n",
    "plt.title('Top 3 most selling items')\n",
    "plt.show()"
   ]
  },
  {
   "cell_type": "code",
   "execution_count": 20,
   "metadata": {
    "colab": {
     "base_uri": "https://localhost:8080/"
    },
    "executionInfo": {
     "elapsed": 3999,
     "status": "ok",
     "timestamp": 1615967780805,
     "user": {
      "displayName": "Lee Joonwon",
      "photoUrl": "",
      "userId": "17832358910809959284"
     },
     "user_tz": -540
    },
    "id": "ENJUn7w5Cxlp",
    "outputId": "8daceba2-d238-4641-86fc-719ef96fd01d"
   },
   "outputs": [
    {
     "data": {
      "text/plain": [
       "[['Bread', 'Milk'],\n",
       " ['Bread', 'Diapers', 'Beer', 'Eggs'],\n",
       " ['Milk', 'Diapers', 'Beer', 'Cola'],\n",
       " ['Bread', 'Milk', 'Diapers', 'Beer'],\n",
       " ['Bread', 'Milk', 'Diapers', 'Cola'],\n",
       " ['Bread', 'Milk'],\n",
       " ['Bread', 'Cola', 'Beer', 'Milk'],\n",
       " ['Milk', 'Bread', 'Beer', 'Cola'],\n",
       " ['Bread', 'Milk', 'Diapers', 'Beer'],\n",
       " ['Bread', 'Beer', 'Diapers']]"
      ]
     },
     "execution_count": 20,
     "metadata": {},
     "output_type": "execute_result"
    }
   ],
   "source": [
    "# mlxtend 라이브러리 학습을 위한 데이터 포맷 변경\n",
    "\n",
    "from mlxtend.preprocessing import TransactionEncoder\n",
    "\n",
    "dataset = []\n",
    "\n",
    "# 2개 이상의 item으로 이루어진 itemset만 사용한다.\n",
    "for transaction, df in transaction_df.groupby('transaction'):\n",
    "  item_list = list(df['item'].unique())\n",
    "  if len(item_list) > 1:\n",
    "    dataset.append(item_list)\n",
    "\n",
    "dataset"
   ]
  },
  {
   "cell_type": "code",
   "execution_count": 21,
   "metadata": {
    "colab": {
     "base_uri": "https://localhost:8080/",
     "height": 359
    },
    "executionInfo": {
     "elapsed": 3991,
     "status": "ok",
     "timestamp": 1615967780805,
     "user": {
      "displayName": "Lee Joonwon",
      "photoUrl": "",
      "userId": "17832358910809959284"
     },
     "user_tz": -540
    },
    "id": "VsoNHjLPE2vx",
    "outputId": "1558697e-6468-4468-de76-84771f332654"
   },
   "outputs": [
    {
     "data": {
      "text/html": [
       "<div>\n",
       "<style scoped>\n",
       "    .dataframe tbody tr th:only-of-type {\n",
       "        vertical-align: middle;\n",
       "    }\n",
       "\n",
       "    .dataframe tbody tr th {\n",
       "        vertical-align: top;\n",
       "    }\n",
       "\n",
       "    .dataframe thead th {\n",
       "        text-align: right;\n",
       "    }\n",
       "</style>\n",
       "<table border=\"1\" class=\"dataframe\">\n",
       "  <thead>\n",
       "    <tr style=\"text-align: right;\">\n",
       "      <th></th>\n",
       "      <th>Beer</th>\n",
       "      <th>Bread</th>\n",
       "      <th>Cola</th>\n",
       "      <th>Diapers</th>\n",
       "      <th>Eggs</th>\n",
       "      <th>Milk</th>\n",
       "    </tr>\n",
       "  </thead>\n",
       "  <tbody>\n",
       "    <tr>\n",
       "      <th>0</th>\n",
       "      <td>False</td>\n",
       "      <td>True</td>\n",
       "      <td>False</td>\n",
       "      <td>False</td>\n",
       "      <td>False</td>\n",
       "      <td>True</td>\n",
       "    </tr>\n",
       "    <tr>\n",
       "      <th>1</th>\n",
       "      <td>True</td>\n",
       "      <td>True</td>\n",
       "      <td>False</td>\n",
       "      <td>True</td>\n",
       "      <td>True</td>\n",
       "      <td>False</td>\n",
       "    </tr>\n",
       "    <tr>\n",
       "      <th>2</th>\n",
       "      <td>True</td>\n",
       "      <td>False</td>\n",
       "      <td>True</td>\n",
       "      <td>True</td>\n",
       "      <td>False</td>\n",
       "      <td>True</td>\n",
       "    </tr>\n",
       "    <tr>\n",
       "      <th>3</th>\n",
       "      <td>True</td>\n",
       "      <td>True</td>\n",
       "      <td>False</td>\n",
       "      <td>True</td>\n",
       "      <td>False</td>\n",
       "      <td>True</td>\n",
       "    </tr>\n",
       "    <tr>\n",
       "      <th>4</th>\n",
       "      <td>False</td>\n",
       "      <td>True</td>\n",
       "      <td>True</td>\n",
       "      <td>True</td>\n",
       "      <td>False</td>\n",
       "      <td>True</td>\n",
       "    </tr>\n",
       "    <tr>\n",
       "      <th>5</th>\n",
       "      <td>False</td>\n",
       "      <td>True</td>\n",
       "      <td>False</td>\n",
       "      <td>False</td>\n",
       "      <td>False</td>\n",
       "      <td>True</td>\n",
       "    </tr>\n",
       "    <tr>\n",
       "      <th>6</th>\n",
       "      <td>True</td>\n",
       "      <td>True</td>\n",
       "      <td>True</td>\n",
       "      <td>False</td>\n",
       "      <td>False</td>\n",
       "      <td>True</td>\n",
       "    </tr>\n",
       "    <tr>\n",
       "      <th>7</th>\n",
       "      <td>True</td>\n",
       "      <td>True</td>\n",
       "      <td>True</td>\n",
       "      <td>False</td>\n",
       "      <td>False</td>\n",
       "      <td>True</td>\n",
       "    </tr>\n",
       "    <tr>\n",
       "      <th>8</th>\n",
       "      <td>True</td>\n",
       "      <td>True</td>\n",
       "      <td>False</td>\n",
       "      <td>True</td>\n",
       "      <td>False</td>\n",
       "      <td>True</td>\n",
       "    </tr>\n",
       "    <tr>\n",
       "      <th>9</th>\n",
       "      <td>True</td>\n",
       "      <td>True</td>\n",
       "      <td>False</td>\n",
       "      <td>True</td>\n",
       "      <td>False</td>\n",
       "      <td>False</td>\n",
       "    </tr>\n",
       "  </tbody>\n",
       "</table>\n",
       "</div>"
      ],
      "text/plain": [
       "    Beer  Bread   Cola  Diapers   Eggs   Milk\n",
       "0  False   True  False    False  False   True\n",
       "1   True   True  False     True   True  False\n",
       "2   True  False   True     True  False   True\n",
       "3   True   True  False     True  False   True\n",
       "4  False   True   True     True  False   True\n",
       "5  False   True  False    False  False   True\n",
       "6   True   True   True    False  False   True\n",
       "7   True   True   True    False  False   True\n",
       "8   True   True  False     True  False   True\n",
       "9   True   True  False     True  False  False"
      ]
     },
     "execution_count": 21,
     "metadata": {},
     "output_type": "execute_result"
    }
   ],
   "source": [
    "te = TransactionEncoder()\n",
    "te_ary = te.fit(dataset).transform(dataset)\n",
    "df = pd.DataFrame(te_ary, columns=te.columns_)\n",
    "df"
   ]
  },
  {
   "cell_type": "code",
   "execution_count": 22,
   "metadata": {
    "colab": {
     "base_uri": "https://localhost:8080/",
     "height": 824
    },
    "executionInfo": {
     "elapsed": 3984,
     "status": "ok",
     "timestamp": 1615967780806,
     "user": {
      "displayName": "Lee Joonwon",
      "photoUrl": "",
      "userId": "17832358910809959284"
     },
     "user_tz": -540
    },
    "id": "3kXVZ-3DCxlq",
    "outputId": "96bbe120-360f-47ee-ef5e-cfae6e4a8d8c",
    "scrolled": true
   },
   "outputs": [
    {
     "data": {
      "text/html": [
       "<div>\n",
       "<style scoped>\n",
       "    .dataframe tbody tr th:only-of-type {\n",
       "        vertical-align: middle;\n",
       "    }\n",
       "\n",
       "    .dataframe tbody tr th {\n",
       "        vertical-align: top;\n",
       "    }\n",
       "\n",
       "    .dataframe thead th {\n",
       "        text-align: right;\n",
       "    }\n",
       "</style>\n",
       "<table border=\"1\" class=\"dataframe\">\n",
       "  <thead>\n",
       "    <tr style=\"text-align: right;\">\n",
       "      <th></th>\n",
       "      <th>support</th>\n",
       "      <th>itemsets</th>\n",
       "    </tr>\n",
       "  </thead>\n",
       "  <tbody>\n",
       "    <tr>\n",
       "      <th>0</th>\n",
       "      <td>0.7</td>\n",
       "      <td>(Beer)</td>\n",
       "    </tr>\n",
       "    <tr>\n",
       "      <th>1</th>\n",
       "      <td>0.9</td>\n",
       "      <td>(Bread)</td>\n",
       "    </tr>\n",
       "    <tr>\n",
       "      <th>2</th>\n",
       "      <td>0.4</td>\n",
       "      <td>(Cola)</td>\n",
       "    </tr>\n",
       "    <tr>\n",
       "      <th>3</th>\n",
       "      <td>0.6</td>\n",
       "      <td>(Diapers)</td>\n",
       "    </tr>\n",
       "    <tr>\n",
       "      <th>4</th>\n",
       "      <td>0.8</td>\n",
       "      <td>(Milk)</td>\n",
       "    </tr>\n",
       "    <tr>\n",
       "      <th>5</th>\n",
       "      <td>0.6</td>\n",
       "      <td>(Bread, Beer)</td>\n",
       "    </tr>\n",
       "    <tr>\n",
       "      <th>6</th>\n",
       "      <td>0.3</td>\n",
       "      <td>(Cola, Beer)</td>\n",
       "    </tr>\n",
       "    <tr>\n",
       "      <th>7</th>\n",
       "      <td>0.5</td>\n",
       "      <td>(Beer, Diapers)</td>\n",
       "    </tr>\n",
       "    <tr>\n",
       "      <th>8</th>\n",
       "      <td>0.5</td>\n",
       "      <td>(Beer, Milk)</td>\n",
       "    </tr>\n",
       "    <tr>\n",
       "      <th>9</th>\n",
       "      <td>0.3</td>\n",
       "      <td>(Cola, Bread)</td>\n",
       "    </tr>\n",
       "    <tr>\n",
       "      <th>10</th>\n",
       "      <td>0.5</td>\n",
       "      <td>(Bread, Diapers)</td>\n",
       "    </tr>\n",
       "    <tr>\n",
       "      <th>11</th>\n",
       "      <td>0.7</td>\n",
       "      <td>(Bread, Milk)</td>\n",
       "    </tr>\n",
       "    <tr>\n",
       "      <th>12</th>\n",
       "      <td>0.2</td>\n",
       "      <td>(Cola, Diapers)</td>\n",
       "    </tr>\n",
       "    <tr>\n",
       "      <th>13</th>\n",
       "      <td>0.4</td>\n",
       "      <td>(Cola, Milk)</td>\n",
       "    </tr>\n",
       "    <tr>\n",
       "      <th>14</th>\n",
       "      <td>0.4</td>\n",
       "      <td>(Milk, Diapers)</td>\n",
       "    </tr>\n",
       "    <tr>\n",
       "      <th>15</th>\n",
       "      <td>0.2</td>\n",
       "      <td>(Cola, Bread, Beer)</td>\n",
       "    </tr>\n",
       "    <tr>\n",
       "      <th>16</th>\n",
       "      <td>0.4</td>\n",
       "      <td>(Bread, Beer, Diapers)</td>\n",
       "    </tr>\n",
       "    <tr>\n",
       "      <th>17</th>\n",
       "      <td>0.4</td>\n",
       "      <td>(Bread, Beer, Milk)</td>\n",
       "    </tr>\n",
       "    <tr>\n",
       "      <th>18</th>\n",
       "      <td>0.3</td>\n",
       "      <td>(Cola, Beer, Milk)</td>\n",
       "    </tr>\n",
       "    <tr>\n",
       "      <th>19</th>\n",
       "      <td>0.3</td>\n",
       "      <td>(Milk, Beer, Diapers)</td>\n",
       "    </tr>\n",
       "    <tr>\n",
       "      <th>20</th>\n",
       "      <td>0.3</td>\n",
       "      <td>(Cola, Bread, Milk)</td>\n",
       "    </tr>\n",
       "    <tr>\n",
       "      <th>21</th>\n",
       "      <td>0.3</td>\n",
       "      <td>(Milk, Bread, Diapers)</td>\n",
       "    </tr>\n",
       "    <tr>\n",
       "      <th>22</th>\n",
       "      <td>0.2</td>\n",
       "      <td>(Cola, Milk, Diapers)</td>\n",
       "    </tr>\n",
       "    <tr>\n",
       "      <th>23</th>\n",
       "      <td>0.2</td>\n",
       "      <td>(Cola, Bread, Beer, Milk)</td>\n",
       "    </tr>\n",
       "    <tr>\n",
       "      <th>24</th>\n",
       "      <td>0.2</td>\n",
       "      <td>(Milk, Bread, Beer, Diapers)</td>\n",
       "    </tr>\n",
       "  </tbody>\n",
       "</table>\n",
       "</div>"
      ],
      "text/plain": [
       "    support                      itemsets\n",
       "0       0.7                        (Beer)\n",
       "1       0.9                       (Bread)\n",
       "2       0.4                        (Cola)\n",
       "3       0.6                     (Diapers)\n",
       "4       0.8                        (Milk)\n",
       "5       0.6                 (Bread, Beer)\n",
       "6       0.3                  (Cola, Beer)\n",
       "7       0.5               (Beer, Diapers)\n",
       "8       0.5                  (Beer, Milk)\n",
       "9       0.3                 (Cola, Bread)\n",
       "10      0.5              (Bread, Diapers)\n",
       "11      0.7                 (Bread, Milk)\n",
       "12      0.2               (Cola, Diapers)\n",
       "13      0.4                  (Cola, Milk)\n",
       "14      0.4               (Milk, Diapers)\n",
       "15      0.2           (Cola, Bread, Beer)\n",
       "16      0.4        (Bread, Beer, Diapers)\n",
       "17      0.4           (Bread, Beer, Milk)\n",
       "18      0.3            (Cola, Beer, Milk)\n",
       "19      0.3         (Milk, Beer, Diapers)\n",
       "20      0.3           (Cola, Bread, Milk)\n",
       "21      0.3        (Milk, Bread, Diapers)\n",
       "22      0.2         (Cola, Milk, Diapers)\n",
       "23      0.2     (Cola, Bread, Beer, Milk)\n",
       "24      0.2  (Milk, Bread, Beer, Diapers)"
      ]
     },
     "execution_count": 22,
     "metadata": {},
     "output_type": "execute_result"
    }
   ],
   "source": [
    "# frequent itemset 생성\n",
    "\n",
    "from mlxtend.frequent_patterns import apriori\n",
    "from mlxtend.frequent_patterns import association_rules\n",
    "\n",
    "frequent_itemsets = apriori(df, min_support = 0.2, use_colnames = True)\n",
    "frequent_itemsets"
   ]
  },
  {
   "cell_type": "code",
   "execution_count": 23,
   "metadata": {
    "colab": {
     "base_uri": "https://localhost:8080/",
     "height": 297
    },
    "executionInfo": {
     "elapsed": 3976,
     "status": "ok",
     "timestamp": 1615967780806,
     "user": {
      "displayName": "Lee Joonwon",
      "photoUrl": "",
      "userId": "17832358910809959284"
     },
     "user_tz": -540
    },
    "id": "xCS8LMx2Cxlq",
    "outputId": "74c36655-1518-4cf4-cc81-4b8f7d413d07"
   },
   "outputs": [
    {
     "data": {
      "text/html": [
       "<div>\n",
       "<style scoped>\n",
       "    .dataframe tbody tr th:only-of-type {\n",
       "        vertical-align: middle;\n",
       "    }\n",
       "\n",
       "    .dataframe tbody tr th {\n",
       "        vertical-align: top;\n",
       "    }\n",
       "\n",
       "    .dataframe thead th {\n",
       "        text-align: right;\n",
       "    }\n",
       "</style>\n",
       "<table border=\"1\" class=\"dataframe\">\n",
       "  <thead>\n",
       "    <tr style=\"text-align: right;\">\n",
       "      <th></th>\n",
       "      <th>antecedents</th>\n",
       "      <th>consequents</th>\n",
       "      <th>antecedent support</th>\n",
       "      <th>consequent support</th>\n",
       "      <th>support</th>\n",
       "      <th>confidence</th>\n",
       "      <th>lift</th>\n",
       "      <th>leverage</th>\n",
       "      <th>conviction</th>\n",
       "    </tr>\n",
       "  </thead>\n",
       "  <tbody>\n",
       "    <tr>\n",
       "      <th>4</th>\n",
       "      <td>(Beer)</td>\n",
       "      <td>(Diapers)</td>\n",
       "      <td>0.7</td>\n",
       "      <td>0.6</td>\n",
       "      <td>0.5</td>\n",
       "      <td>0.714286</td>\n",
       "      <td>1.190476</td>\n",
       "      <td>0.08</td>\n",
       "      <td>1.400000</td>\n",
       "    </tr>\n",
       "    <tr>\n",
       "      <th>28</th>\n",
       "      <td>(Beer)</td>\n",
       "      <td>(Bread, Diapers)</td>\n",
       "      <td>0.7</td>\n",
       "      <td>0.5</td>\n",
       "      <td>0.4</td>\n",
       "      <td>0.571429</td>\n",
       "      <td>1.142857</td>\n",
       "      <td>0.05</td>\n",
       "      <td>1.166667</td>\n",
       "    </tr>\n",
       "    <tr>\n",
       "      <th>3</th>\n",
       "      <td>(Beer)</td>\n",
       "      <td>(Cola)</td>\n",
       "      <td>0.7</td>\n",
       "      <td>0.4</td>\n",
       "      <td>0.3</td>\n",
       "      <td>0.428571</td>\n",
       "      <td>1.071429</td>\n",
       "      <td>0.02</td>\n",
       "      <td>1.050000</td>\n",
       "    </tr>\n",
       "    <tr>\n",
       "      <th>40</th>\n",
       "      <td>(Beer)</td>\n",
       "      <td>(Cola, Milk)</td>\n",
       "      <td>0.7</td>\n",
       "      <td>0.4</td>\n",
       "      <td>0.3</td>\n",
       "      <td>0.428571</td>\n",
       "      <td>1.071429</td>\n",
       "      <td>0.02</td>\n",
       "      <td>1.050000</td>\n",
       "    </tr>\n",
       "    <tr>\n",
       "      <th>46</th>\n",
       "      <td>(Beer)</td>\n",
       "      <td>(Diapers, Milk)</td>\n",
       "      <td>0.7</td>\n",
       "      <td>0.4</td>\n",
       "      <td>0.3</td>\n",
       "      <td>0.428571</td>\n",
       "      <td>1.071429</td>\n",
       "      <td>0.02</td>\n",
       "      <td>1.050000</td>\n",
       "    </tr>\n",
       "    <tr>\n",
       "      <th>1</th>\n",
       "      <td>(Beer)</td>\n",
       "      <td>(Bread)</td>\n",
       "      <td>0.7</td>\n",
       "      <td>0.9</td>\n",
       "      <td>0.6</td>\n",
       "      <td>0.857143</td>\n",
       "      <td>0.952381</td>\n",
       "      <td>-0.03</td>\n",
       "      <td>0.700000</td>\n",
       "    </tr>\n",
       "    <tr>\n",
       "      <th>6</th>\n",
       "      <td>(Beer)</td>\n",
       "      <td>(Milk)</td>\n",
       "      <td>0.7</td>\n",
       "      <td>0.8</td>\n",
       "      <td>0.5</td>\n",
       "      <td>0.714286</td>\n",
       "      <td>0.892857</td>\n",
       "      <td>-0.06</td>\n",
       "      <td>0.700000</td>\n",
       "    </tr>\n",
       "    <tr>\n",
       "      <th>34</th>\n",
       "      <td>(Beer)</td>\n",
       "      <td>(Bread, Milk)</td>\n",
       "      <td>0.7</td>\n",
       "      <td>0.7</td>\n",
       "      <td>0.4</td>\n",
       "      <td>0.571429</td>\n",
       "      <td>0.816327</td>\n",
       "      <td>-0.09</td>\n",
       "      <td>0.700000</td>\n",
       "    </tr>\n",
       "  </tbody>\n",
       "</table>\n",
       "</div>"
      ],
      "text/plain": [
       "   antecedents       consequents  antecedent support  consequent support  \\\n",
       "4       (Beer)         (Diapers)                 0.7                 0.6   \n",
       "28      (Beer)  (Bread, Diapers)                 0.7                 0.5   \n",
       "3       (Beer)            (Cola)                 0.7                 0.4   \n",
       "40      (Beer)      (Cola, Milk)                 0.7                 0.4   \n",
       "46      (Beer)   (Diapers, Milk)                 0.7                 0.4   \n",
       "1       (Beer)           (Bread)                 0.7                 0.9   \n",
       "6       (Beer)            (Milk)                 0.7                 0.8   \n",
       "34      (Beer)     (Bread, Milk)                 0.7                 0.7   \n",
       "\n",
       "    support  confidence      lift  leverage  conviction  \n",
       "4       0.5    0.714286  1.190476      0.08    1.400000  \n",
       "28      0.4    0.571429  1.142857      0.05    1.166667  \n",
       "3       0.3    0.428571  1.071429      0.02    1.050000  \n",
       "40      0.3    0.428571  1.071429      0.02    1.050000  \n",
       "46      0.3    0.428571  1.071429      0.02    1.050000  \n",
       "1       0.6    0.857143  0.952381     -0.03    0.700000  \n",
       "6       0.5    0.714286  0.892857     -0.06    0.700000  \n",
       "34      0.4    0.571429  0.816327     -0.09    0.700000  "
      ]
     },
     "execution_count": 23,
     "metadata": {},
     "output_type": "execute_result"
    }
   ],
   "source": [
    "# minimum confidence 이상의 association rule 생성 및 추천\n",
    "\n",
    "result = association_rules(frequent_itemsets, metric = \"confidence\", min_threshold=0.3)\n",
    "result[(result['antecedents'] == frozenset(['Beer']))].sort_values(by='lift', ascending=False)"
   ]
  },
  {
   "cell_type": "code",
   "execution_count": 24,
   "metadata": {
    "colab": {
     "base_uri": "https://localhost:8080/",
     "height": 111
    },
    "executionInfo": {
     "elapsed": 3969,
     "status": "ok",
     "timestamp": 1615967780807,
     "user": {
      "displayName": "Lee Joonwon",
      "photoUrl": "",
      "userId": "17832358910809959284"
     },
     "user_tz": -540
    },
    "id": "xwqBAWtaCxlq",
    "outputId": "27134227-85dd-4e56-fe30-57f9e22d4172"
   },
   "outputs": [
    {
     "data": {
      "text/html": [
       "<div>\n",
       "<style scoped>\n",
       "    .dataframe tbody tr th:only-of-type {\n",
       "        vertical-align: middle;\n",
       "    }\n",
       "\n",
       "    .dataframe tbody tr th {\n",
       "        vertical-align: top;\n",
       "    }\n",
       "\n",
       "    .dataframe thead th {\n",
       "        text-align: right;\n",
       "    }\n",
       "</style>\n",
       "<table border=\"1\" class=\"dataframe\">\n",
       "  <thead>\n",
       "    <tr style=\"text-align: right;\">\n",
       "      <th></th>\n",
       "      <th>antecedents</th>\n",
       "      <th>consequents</th>\n",
       "      <th>antecedent support</th>\n",
       "      <th>consequent support</th>\n",
       "      <th>support</th>\n",
       "      <th>confidence</th>\n",
       "      <th>lift</th>\n",
       "      <th>leverage</th>\n",
       "      <th>conviction</th>\n",
       "    </tr>\n",
       "  </thead>\n",
       "  <tbody>\n",
       "    <tr>\n",
       "      <th>0</th>\n",
       "      <td>(Beer)</td>\n",
       "      <td>(Diapers)</td>\n",
       "      <td>0.7</td>\n",
       "      <td>0.6</td>\n",
       "      <td>0.5</td>\n",
       "      <td>0.714286</td>\n",
       "      <td>1.190476</td>\n",
       "      <td>0.08</td>\n",
       "      <td>1.400000</td>\n",
       "    </tr>\n",
       "    <tr>\n",
       "      <th>6</th>\n",
       "      <td>(Beer)</td>\n",
       "      <td>(Bread, Diapers)</td>\n",
       "      <td>0.7</td>\n",
       "      <td>0.5</td>\n",
       "      <td>0.4</td>\n",
       "      <td>0.571429</td>\n",
       "      <td>1.142857</td>\n",
       "      <td>0.05</td>\n",
       "      <td>1.166667</td>\n",
       "    </tr>\n",
       "  </tbody>\n",
       "</table>\n",
       "</div>"
      ],
      "text/plain": [
       "  antecedents       consequents  antecedent support  consequent support  \\\n",
       "0      (Beer)         (Diapers)                 0.7                 0.6   \n",
       "6      (Beer)  (Bread, Diapers)                 0.7                 0.5   \n",
       "\n",
       "   support  confidence      lift  leverage  conviction  \n",
       "0      0.5    0.714286  1.190476      0.08    1.400000  \n",
       "6      0.4    0.571429  1.142857      0.05    1.166667  "
      ]
     },
     "execution_count": 24,
     "metadata": {},
     "output_type": "execute_result"
    }
   ],
   "source": [
    "# minimum lift 이상의 association rule 생성 및 추천\n",
    "# 보통은 위와 같이 minimum confidence로 rule을 cutoff 하고 lift로 정렬하여 사용함.\n",
    "\n",
    "result = association_rules(frequent_itemsets, metric = \"lift\", min_threshold = 1.1)\n",
    "result[(result['antecedents'] == frozenset(['Beer']))].sort_values(by='lift', ascending=False)"
   ]
  },
  {
   "cell_type": "markdown",
   "metadata": {
    "id": "mkyTe7ahCxlq"
   },
   "source": [
    "## Online Retail 데이터를 활용한 연관규칙 생성\n",
    "- 실제 데이터를 사용해서 간단한 연관 규칙 기반 상품 추천 시스템을 만들어보자."
   ]
  },
  {
   "cell_type": "markdown",
   "metadata": {
    "id": "D7tAgq3DCxlr"
   },
   "source": [
    "### 데이터 Preprocessing"
   ]
  },
  {
   "cell_type": "code",
   "execution_count": 25,
   "metadata": {
    "colab": {
     "base_uri": "https://localhost:8080/"
    },
    "executionInfo": {
     "elapsed": 4630,
     "status": "ok",
     "timestamp": 1615967781476,
     "user": {
      "displayName": "Lee Joonwon",
      "photoUrl": "",
      "userId": "17832358910809959284"
     },
     "user_tz": -540
    },
    "id": "eNO4mikzCxlr",
    "outputId": "27adf3e4-2ee4-454f-8be2-bd5a8c4e07ef"
   },
   "outputs": [
    {
     "name": "stdout",
     "output_type": "stream",
     "text": [
      "  541909 ../data/online_retail.csv\r\n"
     ]
    }
   ],
   "source": [
    "!wc -l ../data/online_retail.csv"
   ]
  },
  {
   "cell_type": "code",
   "execution_count": 26,
   "metadata": {
    "colab": {
     "base_uri": "https://localhost:8080/"
    },
    "executionInfo": {
     "elapsed": 4988,
     "status": "ok",
     "timestamp": 1615967781842,
     "user": {
      "displayName": "Lee Joonwon",
      "photoUrl": "",
      "userId": "17832358910809959284"
     },
     "user_tz": -540
    },
    "id": "cBs9fE1GCxlr",
    "outputId": "a5363b69-a713-45a1-cd75-7e254c94237d"
   },
   "outputs": [
    {
     "name": "stdout",
     "output_type": "stream",
     "text": [
      "﻿InvoiceNo,StockCode,Description,Quantity,InvoiceDate,UnitPrice,CustomerID,Country\r",
      "\r\n",
      "536365,85123A,WHITE HANGING HEART T-LIGHT HOLDER,6,2010-12-01 08:26,2.55,17850,United Kingdom\r",
      "\r\n",
      "536365,71053,WHITE METAL LANTERN,6,2010-12-01 08:26,3.39,17850,United Kingdom\r",
      "\r\n",
      "536365,84406B,CREAM CUPID HEARTS COAT HANGER,8,2010-12-01 08:26,2.75,17850,United Kingdom\r",
      "\r\n",
      "536365,84029G,KNITTED UNION FLAG HOT WATER BOTTLE,6,2010-12-01 08:26,3.39,17850,United Kingdom\r",
      "\r\n",
      "536365,84029E,RED WOOLLY HOTTIE WHITE HEART.,6,2010-12-01 08:26,3.39,17850,United Kingdom\r",
      "\r\n",
      "536365,22752,SET 7 BABUSHKA NESTING BOXES,2,2010-12-01 08:26,7.65,17850,United Kingdom\r",
      "\r\n",
      "536365,21730,GLASS STAR FROSTED T-LIGHT HOLDER,6,2010-12-01 08:26,4.25,17850,United Kingdom\r",
      "\r\n",
      "536366,22633,HAND WARMER UNION JACK,6,2010-12-01 08:28,1.85,17850,United Kingdom\r",
      "\r\n",
      "536366,22632,HAND WARMER RED POLKA DOT,6,2010-12-01 08:28,1.85,17850,United Kingdom\r",
      "\r\n"
     ]
    }
   ],
   "source": [
    "!head ../data/online_retail.csv"
   ]
  },
  {
   "cell_type": "code",
   "execution_count": 27,
   "metadata": {
    "executionInfo": {
     "elapsed": 10665,
     "status": "ok",
     "timestamp": 1615967787526,
     "user": {
      "displayName": "Lee Joonwon",
      "photoUrl": "",
      "userId": "17832358910809959284"
     },
     "user_tz": -540
    },
    "id": "S0-P1fDJCxlr",
    "scrolled": true
   },
   "outputs": [],
   "source": [
    "# file_path = '/content/drive/MyDrive/data/online_retail/online_retail.csv'\n",
    "file_path = '../data/online_retail.csv'\n",
    "parse_date = lambda x : datetime.strptime(x, '%Y-%m-%d %H:%M')\n",
    "retail_df = pd.read_csv(file_path, encoding=\"utf-8\", parse_dates = ['InvoiceDate'], date_parser = parse_date)"
   ]
  },
  {
   "cell_type": "code",
   "execution_count": 28,
   "metadata": {
    "executionInfo": {
     "elapsed": 10662,
     "status": "ok",
     "timestamp": 1615967787528,
     "user": {
      "displayName": "Lee Joonwon",
      "photoUrl": "",
      "userId": "17832358910809959284"
     },
     "user_tz": -540
    },
    "id": "v-CjpJzxCxls"
   },
   "outputs": [],
   "source": [
    "# quantity가 음수인 데이터는 제거\n",
    "retail_df = retail_df[retail_df.Quantity > 0]"
   ]
  },
  {
   "cell_type": "code",
   "execution_count": 29,
   "metadata": {
    "colab": {
     "base_uri": "https://localhost:8080/"
    },
    "executionInfo": {
     "elapsed": 10656,
     "status": "ok",
     "timestamp": 1615967787528,
     "user": {
      "displayName": "Lee Joonwon",
      "photoUrl": "",
      "userId": "17832358910809959284"
     },
     "user_tz": -540
    },
    "id": "ymS2ak8hCxls",
    "outputId": "1d84bb96-a430-4cf1-e5a7-791211163d16",
    "scrolled": true
   },
   "outputs": [
    {
     "name": "stdout",
     "output_type": "stream",
     "text": [
      "<class 'pandas.core.frame.DataFrame'>\n",
      "Int64Index: 531285 entries, 0 to 541908\n",
      "Data columns (total 8 columns):\n",
      " #   Column       Non-Null Count   Dtype         \n",
      "---  ------       --------------   -----         \n",
      " 0   InvoiceNo    531285 non-null  object        \n",
      " 1   StockCode    531285 non-null  object        \n",
      " 2   Description  530693 non-null  object        \n",
      " 3   Quantity     531285 non-null  int64         \n",
      " 4   InvoiceDate  531285 non-null  datetime64[ns]\n",
      " 5   UnitPrice    531285 non-null  float64       \n",
      " 6   CustomerID   397924 non-null  float64       \n",
      " 7   Country      531285 non-null  object        \n",
      "dtypes: datetime64[ns](1), float64(2), int64(1), object(4)\n",
      "memory usage: 36.5+ MB\n"
     ]
    }
   ],
   "source": [
    "retail_df.info()"
   ]
  },
  {
   "cell_type": "code",
   "execution_count": 30,
   "metadata": {
    "colab": {
     "base_uri": "https://localhost:8080/"
    },
    "executionInfo": {
     "elapsed": 10648,
     "status": "ok",
     "timestamp": 1615967787529,
     "user": {
      "displayName": "Lee Joonwon",
      "photoUrl": "",
      "userId": "17832358910809959284"
     },
     "user_tz": -540
    },
    "id": "MMfouri8Cxls",
    "outputId": "f6fc989b-0d9d-416b-a910-fd9caae88fbf"
   },
   "outputs": [
    {
     "name": "stdout",
     "output_type": "stream",
     "text": [
      "3941\n"
     ]
    }
   ],
   "source": [
    "# 아이템 총 개수\n",
    "print(retail_df['StockCode'].nunique())"
   ]
  },
  {
   "cell_type": "code",
   "execution_count": 31,
   "metadata": {
    "colab": {
     "base_uri": "https://localhost:8080/",
     "height": 386
    },
    "executionInfo": {
     "elapsed": 11167,
     "status": "ok",
     "timestamp": 1615967788057,
     "user": {
      "displayName": "Lee Joonwon",
      "photoUrl": "",
      "userId": "17832358910809959284"
     },
     "user_tz": -540
    },
    "id": "ADdM4WgECxlt",
    "outputId": "df5e52db-5137-496f-e31e-d241fd43c115"
   },
   "outputs": [
    {
     "data": {
      "text/plain": [
       "<seaborn.axisgrid.FacetGrid at 0x7fa38cd8df10>"
      ]
     },
     "execution_count": 31,
     "metadata": {},
     "output_type": "execute_result"
    },
    {
     "data": {
      "image/png": "[encoded data removed]",
      "text/plain": [
       "<Figure size 360x360 with 1 Axes>"
      ]
     },
     "metadata": {
      "needs_background": "light"
     },
     "output_type": "display_data"
    }
   ],
   "source": [
    "# 아이템 별 트랜잭션 등장 수 분포\n",
    "sns.displot(retail_df['StockCode'].value_counts())"
   ]
  },
  {
   "cell_type": "code",
   "execution_count": 32,
   "metadata": {
    "colab": {
     "base_uri": "https://localhost:8080/",
     "height": 419
    },
    "executionInfo": {
     "elapsed": 12380,
     "status": "ok",
     "timestamp": 1615967789279,
     "user": {
      "displayName": "Lee Joonwon",
      "photoUrl": "",
      "userId": "17832358910809959284"
     },
     "user_tz": -540
    },
    "id": "_TAaRZljCxlt",
    "outputId": "fdc695dd-f02e-4264-b843-2d41a1478e88"
   },
   "outputs": [
    {
     "data": {
      "text/html": [
       "<div>\n",
       "<style scoped>\n",
       "    .dataframe tbody tr th:only-of-type {\n",
       "        vertical-align: middle;\n",
       "    }\n",
       "\n",
       "    .dataframe tbody tr th {\n",
       "        vertical-align: top;\n",
       "    }\n",
       "\n",
       "    .dataframe thead th {\n",
       "        text-align: right;\n",
       "    }\n",
       "</style>\n",
       "<table border=\"1\" class=\"dataframe\">\n",
       "  <thead>\n",
       "    <tr style=\"text-align: right;\">\n",
       "      <th></th>\n",
       "      <th>InvoiceNo</th>\n",
       "      <th>items</th>\n",
       "      <th>item_length</th>\n",
       "    </tr>\n",
       "  </thead>\n",
       "  <tbody>\n",
       "    <tr>\n",
       "      <th>0</th>\n",
       "      <td>536365</td>\n",
       "      <td>{85123A, 22752, 84029G, 84406B, 84029E, 21730,...</td>\n",
       "      <td>7</td>\n",
       "    </tr>\n",
       "    <tr>\n",
       "      <th>1</th>\n",
       "      <td>536366</td>\n",
       "      <td>{22632, 22633}</td>\n",
       "      <td>2</td>\n",
       "    </tr>\n",
       "    <tr>\n",
       "      <th>2</th>\n",
       "      <td>536367</td>\n",
       "      <td>{22622, 21754, 22623, 84969, 22749, 84879, 217...</td>\n",
       "      <td>12</td>\n",
       "    </tr>\n",
       "    <tr>\n",
       "      <th>3</th>\n",
       "      <td>536368</td>\n",
       "      <td>{22960, 22913, 22914, 22912}</td>\n",
       "      <td>4</td>\n",
       "    </tr>\n",
       "    <tr>\n",
       "      <th>4</th>\n",
       "      <td>536369</td>\n",
       "      <td>{21756}</td>\n",
       "      <td>1</td>\n",
       "    </tr>\n",
       "    <tr>\n",
       "      <th>...</th>\n",
       "      <td>...</td>\n",
       "      <td>...</td>\n",
       "      <td>...</td>\n",
       "    </tr>\n",
       "    <tr>\n",
       "      <th>20723</th>\n",
       "      <td>581586</td>\n",
       "      <td>{20685, 23275, 21217, 22061}</td>\n",
       "      <td>4</td>\n",
       "    </tr>\n",
       "    <tr>\n",
       "      <th>20724</th>\n",
       "      <td>581587</td>\n",
       "      <td>{23256, 23254, 22556, 22730, 22629, 22367, 228...</td>\n",
       "      <td>15</td>\n",
       "    </tr>\n",
       "    <tr>\n",
       "      <th>20725</th>\n",
       "      <td>A563185</td>\n",
       "      <td>{B}</td>\n",
       "      <td>1</td>\n",
       "    </tr>\n",
       "    <tr>\n",
       "      <th>20726</th>\n",
       "      <td>A563186</td>\n",
       "      <td>{B}</td>\n",
       "      <td>1</td>\n",
       "    </tr>\n",
       "    <tr>\n",
       "      <th>20727</th>\n",
       "      <td>A563187</td>\n",
       "      <td>{B}</td>\n",
       "      <td>1</td>\n",
       "    </tr>\n",
       "  </tbody>\n",
       "</table>\n",
       "<p>20728 rows × 3 columns</p>\n",
       "</div>"
      ],
      "text/plain": [
       "      InvoiceNo                                              items  \\\n",
       "0        536365  {85123A, 22752, 84029G, 84406B, 84029E, 21730,...   \n",
       "1        536366                                     {22632, 22633}   \n",
       "2        536367  {22622, 21754, 22623, 84969, 22749, 84879, 217...   \n",
       "3        536368                       {22960, 22913, 22914, 22912}   \n",
       "4        536369                                            {21756}   \n",
       "...         ...                                                ...   \n",
       "20723    581586                       {20685, 23275, 21217, 22061}   \n",
       "20724    581587  {23256, 23254, 22556, 22730, 22629, 22367, 228...   \n",
       "20725   A563185                                                {B}   \n",
       "20726   A563186                                                {B}   \n",
       "20727   A563187                                                {B}   \n",
       "\n",
       "       item_length  \n",
       "0                7  \n",
       "1                2  \n",
       "2               12  \n",
       "3                4  \n",
       "4                1  \n",
       "...            ...  \n",
       "20723            4  \n",
       "20724           15  \n",
       "20725            1  \n",
       "20726            1  \n",
       "20727            1  \n",
       "\n",
       "[20728 rows x 3 columns]"
      ]
     },
     "execution_count": 32,
     "metadata": {},
     "output_type": "execute_result"
    }
   ],
   "source": [
    "# 현재 주어진 로그의 경우, 단일 아이템 하나당 하나의 로그가 남는다. 그래서 트랜잭션 단위로 묶어보자.\n",
    "transaction_df = pd.DataFrame({\n",
    "    \"items\": retail_df.groupby(['InvoiceNo'])['StockCode'].apply(set),\n",
    "    \"item_length\": retail_df.groupby(['InvoiceNo'])['StockCode'].nunique()\n",
    "}).reset_index()\n",
    "transaction_df"
   ]
  },
  {
   "cell_type": "code",
   "execution_count": 33,
   "metadata": {
    "colab": {
     "base_uri": "https://localhost:8080/",
     "height": 419
    },
    "executionInfo": {
     "elapsed": 12373,
     "status": "ok",
     "timestamp": 1615967789280,
     "user": {
      "displayName": "Lee Joonwon",
      "photoUrl": "",
      "userId": "17832358910809959284"
     },
     "user_tz": -540
    },
    "id": "99fZVSs8Cxlt",
    "outputId": "247b5681-a0bf-421e-d82b-2137b520d96e",
    "scrolled": true
   },
   "outputs": [
    {
     "data": {
      "text/html": [
       "<div>\n",
       "<style scoped>\n",
       "    .dataframe tbody tr th:only-of-type {\n",
       "        vertical-align: middle;\n",
       "    }\n",
       "\n",
       "    .dataframe tbody tr th {\n",
       "        vertical-align: top;\n",
       "    }\n",
       "\n",
       "    .dataframe thead th {\n",
       "        text-align: right;\n",
       "    }\n",
       "</style>\n",
       "<table border=\"1\" class=\"dataframe\">\n",
       "  <thead>\n",
       "    <tr style=\"text-align: right;\">\n",
       "      <th></th>\n",
       "      <th>InvoiceNo</th>\n",
       "      <th>items</th>\n",
       "      <th>item_length</th>\n",
       "    </tr>\n",
       "  </thead>\n",
       "  <tbody>\n",
       "    <tr>\n",
       "      <th>0</th>\n",
       "      <td>536365</td>\n",
       "      <td>{85123A, 22752, 84029G, 84406B, 84029E, 21730,...</td>\n",
       "      <td>7</td>\n",
       "    </tr>\n",
       "    <tr>\n",
       "      <th>1</th>\n",
       "      <td>536366</td>\n",
       "      <td>{22632, 22633}</td>\n",
       "      <td>2</td>\n",
       "    </tr>\n",
       "    <tr>\n",
       "      <th>2</th>\n",
       "      <td>536367</td>\n",
       "      <td>{22622, 21754, 22623, 84969, 22749, 84879, 217...</td>\n",
       "      <td>12</td>\n",
       "    </tr>\n",
       "    <tr>\n",
       "      <th>3</th>\n",
       "      <td>536368</td>\n",
       "      <td>{22960, 22913, 22914, 22912}</td>\n",
       "      <td>4</td>\n",
       "    </tr>\n",
       "    <tr>\n",
       "      <th>5</th>\n",
       "      <td>536370</td>\n",
       "      <td>{22661, 21791, 22900, 22726, 22728, 21731, 217...</td>\n",
       "      <td>20</td>\n",
       "    </tr>\n",
       "    <tr>\n",
       "      <th>...</th>\n",
       "      <td>...</td>\n",
       "      <td>...</td>\n",
       "      <td>...</td>\n",
       "    </tr>\n",
       "    <tr>\n",
       "      <th>20720</th>\n",
       "      <td>581583</td>\n",
       "      <td>{85038, 20725}</td>\n",
       "      <td>2</td>\n",
       "    </tr>\n",
       "    <tr>\n",
       "      <th>20721</th>\n",
       "      <td>581584</td>\n",
       "      <td>{85038, 20832}</td>\n",
       "      <td>2</td>\n",
       "    </tr>\n",
       "    <tr>\n",
       "      <th>20722</th>\n",
       "      <td>581585</td>\n",
       "      <td>{22460, 22398, 22178, 84832, 84945, 22726, 231...</td>\n",
       "      <td>21</td>\n",
       "    </tr>\n",
       "    <tr>\n",
       "      <th>20723</th>\n",
       "      <td>581586</td>\n",
       "      <td>{20685, 23275, 21217, 22061}</td>\n",
       "      <td>4</td>\n",
       "    </tr>\n",
       "    <tr>\n",
       "      <th>20724</th>\n",
       "      <td>581587</td>\n",
       "      <td>{23256, 23254, 22556, 22730, 22629, 22367, 228...</td>\n",
       "      <td>15</td>\n",
       "    </tr>\n",
       "  </tbody>\n",
       "</table>\n",
       "<p>18338 rows × 3 columns</p>\n",
       "</div>"
      ],
      "text/plain": [
       "      InvoiceNo                                              items  \\\n",
       "0        536365  {85123A, 22752, 84029G, 84406B, 84029E, 21730,...   \n",
       "1        536366                                     {22632, 22633}   \n",
       "2        536367  {22622, 21754, 22623, 84969, 22749, 84879, 217...   \n",
       "3        536368                       {22960, 22913, 22914, 22912}   \n",
       "5        536370  {22661, 21791, 22900, 22726, 22728, 21731, 217...   \n",
       "...         ...                                                ...   \n",
       "20720    581583                                     {85038, 20725}   \n",
       "20721    581584                                     {85038, 20832}   \n",
       "20722    581585  {22460, 22398, 22178, 84832, 84945, 22726, 231...   \n",
       "20723    581586                       {20685, 23275, 21217, 22061}   \n",
       "20724    581587  {23256, 23254, 22556, 22730, 22629, 22367, 228...   \n",
       "\n",
       "       item_length  \n",
       "0                7  \n",
       "1                2  \n",
       "2               12  \n",
       "3                4  \n",
       "5               20  \n",
       "...            ...  \n",
       "20720            2  \n",
       "20721            2  \n",
       "20722           21  \n",
       "20723            4  \n",
       "20724           15  \n",
       "\n",
       "[18338 rows x 3 columns]"
      ]
     },
     "execution_count": 33,
     "metadata": {},
     "output_type": "execute_result"
    }
   ],
   "source": [
    "transaction_df[transaction_df.item_length > 1]"
   ]
  },
  {
   "cell_type": "markdown",
   "metadata": {
    "id": "Lm8zP3VeCxlu"
   },
   "source": [
    "### frequent itemset 생성"
   ]
  },
  {
   "cell_type": "code",
   "execution_count": 34,
   "metadata": {
    "colab": {
     "base_uri": "https://localhost:8080/",
     "height": 439
    },
    "executionInfo": {
     "elapsed": 2651,
     "status": "ok",
     "timestamp": 1615967820597,
     "user": {
      "displayName": "Lee Joonwon",
      "photoUrl": "",
      "userId": "17832358910809959284"
     },
     "user_tz": -540
    },
    "id": "BL6Q2M1jCxlu",
    "outputId": "264c9235-1e2e-48bc-b7c8-f90db7736ee1",
    "scrolled": true
   },
   "outputs": [
    {
     "data": {
      "text/html": [
       "<div>\n",
       "<style scoped>\n",
       "    .dataframe tbody tr th:only-of-type {\n",
       "        vertical-align: middle;\n",
       "    }\n",
       "\n",
       "    .dataframe tbody tr th {\n",
       "        vertical-align: top;\n",
       "    }\n",
       "\n",
       "    .dataframe thead th {\n",
       "        text-align: right;\n",
       "    }\n",
       "</style>\n",
       "<table border=\"1\" class=\"dataframe\">\n",
       "  <thead>\n",
       "    <tr style=\"text-align: right;\">\n",
       "      <th></th>\n",
       "      <th>10002</th>\n",
       "      <th>10080</th>\n",
       "      <th>10120</th>\n",
       "      <th>10123C</th>\n",
       "      <th>10124A</th>\n",
       "      <th>10124G</th>\n",
       "      <th>10125</th>\n",
       "      <th>10133</th>\n",
       "      <th>10135</th>\n",
       "      <th>11001</th>\n",
       "      <th>...</th>\n",
       "      <th>DOT</th>\n",
       "      <th>M</th>\n",
       "      <th>PADS</th>\n",
       "      <th>POST</th>\n",
       "      <th>gift_0001_10</th>\n",
       "      <th>gift_0001_20</th>\n",
       "      <th>gift_0001_30</th>\n",
       "      <th>gift_0001_40</th>\n",
       "      <th>gift_0001_50</th>\n",
       "      <th>m</th>\n",
       "    </tr>\n",
       "  </thead>\n",
       "  <tbody>\n",
       "    <tr>\n",
       "      <th>0</th>\n",
       "      <td>False</td>\n",
       "      <td>False</td>\n",
       "      <td>False</td>\n",
       "      <td>False</td>\n",
       "      <td>False</td>\n",
       "      <td>False</td>\n",
       "      <td>False</td>\n",
       "      <td>False</td>\n",
       "      <td>False</td>\n",
       "      <td>False</td>\n",
       "      <td>...</td>\n",
       "      <td>False</td>\n",
       "      <td>False</td>\n",
       "      <td>False</td>\n",
       "      <td>False</td>\n",
       "      <td>False</td>\n",
       "      <td>False</td>\n",
       "      <td>False</td>\n",
       "      <td>False</td>\n",
       "      <td>False</td>\n",
       "      <td>False</td>\n",
       "    </tr>\n",
       "    <tr>\n",
       "      <th>1</th>\n",
       "      <td>False</td>\n",
       "      <td>False</td>\n",
       "      <td>False</td>\n",
       "      <td>False</td>\n",
       "      <td>False</td>\n",
       "      <td>False</td>\n",
       "      <td>False</td>\n",
       "      <td>False</td>\n",
       "      <td>False</td>\n",
       "      <td>False</td>\n",
       "      <td>...</td>\n",
       "      <td>False</td>\n",
       "      <td>False</td>\n",
       "      <td>False</td>\n",
       "      <td>False</td>\n",
       "      <td>False</td>\n",
       "      <td>False</td>\n",
       "      <td>False</td>\n",
       "      <td>False</td>\n",
       "      <td>False</td>\n",
       "      <td>False</td>\n",
       "    </tr>\n",
       "    <tr>\n",
       "      <th>2</th>\n",
       "      <td>False</td>\n",
       "      <td>False</td>\n",
       "      <td>False</td>\n",
       "      <td>False</td>\n",
       "      <td>False</td>\n",
       "      <td>False</td>\n",
       "      <td>False</td>\n",
       "      <td>False</td>\n",
       "      <td>False</td>\n",
       "      <td>False</td>\n",
       "      <td>...</td>\n",
       "      <td>False</td>\n",
       "      <td>False</td>\n",
       "      <td>False</td>\n",
       "      <td>False</td>\n",
       "      <td>False</td>\n",
       "      <td>False</td>\n",
       "      <td>False</td>\n",
       "      <td>False</td>\n",
       "      <td>False</td>\n",
       "      <td>False</td>\n",
       "    </tr>\n",
       "    <tr>\n",
       "      <th>3</th>\n",
       "      <td>False</td>\n",
       "      <td>False</td>\n",
       "      <td>False</td>\n",
       "      <td>False</td>\n",
       "      <td>False</td>\n",
       "      <td>False</td>\n",
       "      <td>False</td>\n",
       "      <td>False</td>\n",
       "      <td>False</td>\n",
       "      <td>False</td>\n",
       "      <td>...</td>\n",
       "      <td>False</td>\n",
       "      <td>False</td>\n",
       "      <td>False</td>\n",
       "      <td>False</td>\n",
       "      <td>False</td>\n",
       "      <td>False</td>\n",
       "      <td>False</td>\n",
       "      <td>False</td>\n",
       "      <td>False</td>\n",
       "      <td>False</td>\n",
       "    </tr>\n",
       "    <tr>\n",
       "      <th>4</th>\n",
       "      <td>True</td>\n",
       "      <td>False</td>\n",
       "      <td>False</td>\n",
       "      <td>False</td>\n",
       "      <td>False</td>\n",
       "      <td>False</td>\n",
       "      <td>False</td>\n",
       "      <td>False</td>\n",
       "      <td>False</td>\n",
       "      <td>False</td>\n",
       "      <td>...</td>\n",
       "      <td>False</td>\n",
       "      <td>False</td>\n",
       "      <td>False</td>\n",
       "      <td>True</td>\n",
       "      <td>False</td>\n",
       "      <td>False</td>\n",
       "      <td>False</td>\n",
       "      <td>False</td>\n",
       "      <td>False</td>\n",
       "      <td>False</td>\n",
       "    </tr>\n",
       "    <tr>\n",
       "      <th>...</th>\n",
       "      <td>...</td>\n",
       "      <td>...</td>\n",
       "      <td>...</td>\n",
       "      <td>...</td>\n",
       "      <td>...</td>\n",
       "      <td>...</td>\n",
       "      <td>...</td>\n",
       "      <td>...</td>\n",
       "      <td>...</td>\n",
       "      <td>...</td>\n",
       "      <td>...</td>\n",
       "      <td>...</td>\n",
       "      <td>...</td>\n",
       "      <td>...</td>\n",
       "      <td>...</td>\n",
       "      <td>...</td>\n",
       "      <td>...</td>\n",
       "      <td>...</td>\n",
       "      <td>...</td>\n",
       "      <td>...</td>\n",
       "      <td>...</td>\n",
       "    </tr>\n",
       "    <tr>\n",
       "      <th>18333</th>\n",
       "      <td>False</td>\n",
       "      <td>False</td>\n",
       "      <td>False</td>\n",
       "      <td>False</td>\n",
       "      <td>False</td>\n",
       "      <td>False</td>\n",
       "      <td>False</td>\n",
       "      <td>False</td>\n",
       "      <td>False</td>\n",
       "      <td>False</td>\n",
       "      <td>...</td>\n",
       "      <td>False</td>\n",
       "      <td>False</td>\n",
       "      <td>False</td>\n",
       "      <td>False</td>\n",
       "      <td>False</td>\n",
       "      <td>False</td>\n",
       "      <td>False</td>\n",
       "      <td>False</td>\n",
       "      <td>False</td>\n",
       "      <td>False</td>\n",
       "    </tr>\n",
       "    <tr>\n",
       "      <th>18334</th>\n",
       "      <td>False</td>\n",
       "      <td>False</td>\n",
       "      <td>False</td>\n",
       "      <td>False</td>\n",
       "      <td>False</td>\n",
       "      <td>False</td>\n",
       "      <td>False</td>\n",
       "      <td>False</td>\n",
       "      <td>False</td>\n",
       "      <td>False</td>\n",
       "      <td>...</td>\n",
       "      <td>False</td>\n",
       "      <td>False</td>\n",
       "      <td>False</td>\n",
       "      <td>False</td>\n",
       "      <td>False</td>\n",
       "      <td>False</td>\n",
       "      <td>False</td>\n",
       "      <td>False</td>\n",
       "      <td>False</td>\n",
       "      <td>False</td>\n",
       "    </tr>\n",
       "    <tr>\n",
       "      <th>18335</th>\n",
       "      <td>False</td>\n",
       "      <td>False</td>\n",
       "      <td>False</td>\n",
       "      <td>False</td>\n",
       "      <td>False</td>\n",
       "      <td>False</td>\n",
       "      <td>False</td>\n",
       "      <td>False</td>\n",
       "      <td>False</td>\n",
       "      <td>False</td>\n",
       "      <td>...</td>\n",
       "      <td>False</td>\n",
       "      <td>False</td>\n",
       "      <td>False</td>\n",
       "      <td>False</td>\n",
       "      <td>False</td>\n",
       "      <td>False</td>\n",
       "      <td>False</td>\n",
       "      <td>False</td>\n",
       "      <td>False</td>\n",
       "      <td>False</td>\n",
       "    </tr>\n",
       "    <tr>\n",
       "      <th>18336</th>\n",
       "      <td>False</td>\n",
       "      <td>False</td>\n",
       "      <td>False</td>\n",
       "      <td>False</td>\n",
       "      <td>False</td>\n",
       "      <td>False</td>\n",
       "      <td>False</td>\n",
       "      <td>False</td>\n",
       "      <td>False</td>\n",
       "      <td>False</td>\n",
       "      <td>...</td>\n",
       "      <td>False</td>\n",
       "      <td>False</td>\n",
       "      <td>False</td>\n",
       "      <td>False</td>\n",
       "      <td>False</td>\n",
       "      <td>False</td>\n",
       "      <td>False</td>\n",
       "      <td>False</td>\n",
       "      <td>False</td>\n",
       "      <td>False</td>\n",
       "    </tr>\n",
       "    <tr>\n",
       "      <th>18337</th>\n",
       "      <td>False</td>\n",
       "      <td>False</td>\n",
       "      <td>False</td>\n",
       "      <td>False</td>\n",
       "      <td>False</td>\n",
       "      <td>False</td>\n",
       "      <td>False</td>\n",
       "      <td>False</td>\n",
       "      <td>False</td>\n",
       "      <td>False</td>\n",
       "      <td>...</td>\n",
       "      <td>False</td>\n",
       "      <td>False</td>\n",
       "      <td>False</td>\n",
       "      <td>False</td>\n",
       "      <td>False</td>\n",
       "      <td>False</td>\n",
       "      <td>False</td>\n",
       "      <td>False</td>\n",
       "      <td>False</td>\n",
       "      <td>False</td>\n",
       "    </tr>\n",
       "  </tbody>\n",
       "</table>\n",
       "<p>18338 rows × 3914 columns</p>\n",
       "</div>"
      ],
      "text/plain": [
       "       10002  10080  10120  10123C  10124A  10124G  10125  10133  10135  \\\n",
       "0      False  False  False   False   False   False  False  False  False   \n",
       "1      False  False  False   False   False   False  False  False  False   \n",
       "2      False  False  False   False   False   False  False  False  False   \n",
       "3      False  False  False   False   False   False  False  False  False   \n",
       "4       True  False  False   False   False   False  False  False  False   \n",
       "...      ...    ...    ...     ...     ...     ...    ...    ...    ...   \n",
       "18333  False  False  False   False   False   False  False  False  False   \n",
       "18334  False  False  False   False   False   False  False  False  False   \n",
       "18335  False  False  False   False   False   False  False  False  False   \n",
       "18336  False  False  False   False   False   False  False  False  False   \n",
       "18337  False  False  False   False   False   False  False  False  False   \n",
       "\n",
       "       11001  ...    DOT      M   PADS   POST  gift_0001_10  gift_0001_20  \\\n",
       "0      False  ...  False  False  False  False         False         False   \n",
       "1      False  ...  False  False  False  False         False         False   \n",
       "2      False  ...  False  False  False  False         False         False   \n",
       "3      False  ...  False  False  False  False         False         False   \n",
       "4      False  ...  False  False  False   True         False         False   \n",
       "...      ...  ...    ...    ...    ...    ...           ...           ...   \n",
       "18333  False  ...  False  False  False  False         False         False   \n",
       "18334  False  ...  False  False  False  False         False         False   \n",
       "18335  False  ...  False  False  False  False         False         False   \n",
       "18336  False  ...  False  False  False  False         False         False   \n",
       "18337  False  ...  False  False  False  False         False         False   \n",
       "\n",
       "       gift_0001_30  gift_0001_40  gift_0001_50      m  \n",
       "0             False         False         False  False  \n",
       "1             False         False         False  False  \n",
       "2             False         False         False  False  \n",
       "3             False         False         False  False  \n",
       "4             False         False         False  False  \n",
       "...             ...           ...           ...    ...  \n",
       "18333         False         False         False  False  \n",
       "18334         False         False         False  False  \n",
       "18335         False         False         False  False  \n",
       "18336         False         False         False  False  \n",
       "18337         False         False         False  False  \n",
       "\n",
       "[18338 rows x 3914 columns]"
      ]
     },
     "execution_count": 34,
     "metadata": {},
     "output_type": "execute_result"
    }
   ],
   "source": [
    "# frequent itemset, rule generation을 위한 데이터 변환\n",
    "\n",
    "from mlxtend.preprocessing import TransactionEncoder\n",
    "\n",
    "dataset = []\n",
    "\n",
    "# 2개 이상의 item으로 이루어진 itemset만 사용한다.\n",
    "for index, row in transaction_df[transaction_df.item_length > 1].reset_index().iterrows():\n",
    "    dataset.append(list(row['items']))\n",
    "\n",
    "te = TransactionEncoder()\n",
    "te_ary = te.fit(dataset).transform(dataset)\n",
    "df = pd.DataFrame(te_ary, columns=te.columns_)\n",
    "df"
   ]
  },
  {
   "cell_type": "code",
   "execution_count": 35,
   "metadata": {
    "id": "u1Yqhx3hCxlu"
   },
   "outputs": [
    {
     "name": "stdout",
     "output_type": "stream",
     "text": [
      "CPU times: user 2min 23s, sys: 44 s, total: 3min 7s\n",
      "Wall time: 3min 15s\n"
     ]
    }
   ],
   "source": [
    "%%time\n",
    "\n",
    "min_support = 0.01\n",
    "\n",
    "frequent_itemsets = apriori(df, min_support = min_support, use_colnames = True)\n",
    "# frequent_itemsets = fpgrowth(df, min_support = min_support, use_colnames = True)"
   ]
  },
  {
   "cell_type": "code",
   "execution_count": 36,
   "metadata": {
    "colab": {
     "base_uri": "https://localhost:8080/"
    },
    "executionInfo": {
     "elapsed": 10931,
     "status": "ok",
     "timestamp": 1615967845937,
     "user": {
      "displayName": "Lee Joonwon",
      "photoUrl": "",
      "userId": "17832358910809959284"
     },
     "user_tz": -540
    },
    "id": "bTiFvZYTCxlu",
    "outputId": "84567dbb-c246-4abc-e66e-0f5c936c5e8d"
   },
   "outputs": [
    {
     "name": "stdout",
     "output_type": "stream",
     "text": [
      "CPU times: user 7.52 s, sys: 50.9 ms, total: 7.57 s\n",
      "Wall time: 7.58 s\n"
     ]
    }
   ],
   "source": [
    "%%time\n",
    "\n",
    "min_support = 0.01\n",
    "\n",
    "# frequent_itemsets = apriori(df, min_support = min_support, use_colnames = True)\n",
    "frequent_itemsets = fpgrowth(df, min_support = min_support, use_colnames = True)"
   ]
  },
  {
   "cell_type": "markdown",
   "metadata": {
    "id": "tEWeZJQLCxlv"
   },
   "source": [
    "### association rule 생성 및 상품 추천"
   ]
  },
  {
   "cell_type": "code",
   "execution_count": 37,
   "metadata": {
    "colab": {
     "base_uri": "https://localhost:8080/",
     "height": 419
    },
    "executionInfo": {
     "elapsed": 10925,
     "status": "ok",
     "timestamp": 1615967845938,
     "user": {
      "displayName": "Lee Joonwon",
      "photoUrl": "",
      "userId": "17832358910809959284"
     },
     "user_tz": -540
    },
    "id": "ZskHakDuCxlv",
    "outputId": "28cd754e-b930-41e9-bc5e-32c79a10d25d"
   },
   "outputs": [
    {
     "data": {
      "text/html": [
       "<div>\n",
       "<style scoped>\n",
       "    .dataframe tbody tr th:only-of-type {\n",
       "        vertical-align: middle;\n",
       "    }\n",
       "\n",
       "    .dataframe tbody tr th {\n",
       "        vertical-align: top;\n",
       "    }\n",
       "\n",
       "    .dataframe thead th {\n",
       "        text-align: right;\n",
       "    }\n",
       "</style>\n",
       "<table border=\"1\" class=\"dataframe\">\n",
       "  <thead>\n",
       "    <tr style=\"text-align: right;\">\n",
       "      <th></th>\n",
       "      <th>support</th>\n",
       "      <th>itemsets</th>\n",
       "    </tr>\n",
       "  </thead>\n",
       "  <tbody>\n",
       "    <tr>\n",
       "      <th>0</th>\n",
       "      <td>0.119042</td>\n",
       "      <td>(85123A)</td>\n",
       "    </tr>\n",
       "    <tr>\n",
       "      <th>98</th>\n",
       "      <td>0.113317</td>\n",
       "      <td>(85099B)</td>\n",
       "    </tr>\n",
       "    <tr>\n",
       "      <th>328</th>\n",
       "      <td>0.107264</td>\n",
       "      <td>(22423)</td>\n",
       "    </tr>\n",
       "    <tr>\n",
       "      <th>653</th>\n",
       "      <td>0.091122</td>\n",
       "      <td>(47566)</td>\n",
       "    </tr>\n",
       "    <tr>\n",
       "      <th>42</th>\n",
       "      <td>0.085287</td>\n",
       "      <td>(20725)</td>\n",
       "    </tr>\n",
       "    <tr>\n",
       "      <th>...</th>\n",
       "      <td>...</td>\n",
       "      <td>...</td>\n",
       "    </tr>\n",
       "    <tr>\n",
       "      <th>1215</th>\n",
       "      <td>0.010034</td>\n",
       "      <td>(22379, 22666)</td>\n",
       "    </tr>\n",
       "    <tr>\n",
       "      <th>2259</th>\n",
       "      <td>0.010034</td>\n",
       "      <td>(85099B, 23182)</td>\n",
       "    </tr>\n",
       "    <tr>\n",
       "      <th>2079</th>\n",
       "      <td>0.010034</td>\n",
       "      <td>(22666, 85099B, DOT)</td>\n",
       "    </tr>\n",
       "    <tr>\n",
       "      <th>1153</th>\n",
       "      <td>0.010034</td>\n",
       "      <td>(21559, 85099B)</td>\n",
       "    </tr>\n",
       "    <tr>\n",
       "      <th>1965</th>\n",
       "      <td>0.010034</td>\n",
       "      <td>(20719, 23203)</td>\n",
       "    </tr>\n",
       "  </tbody>\n",
       "</table>\n",
       "<p>2572 rows × 2 columns</p>\n",
       "</div>"
      ],
      "text/plain": [
       "       support              itemsets\n",
       "0     0.119042              (85123A)\n",
       "98    0.113317              (85099B)\n",
       "328   0.107264               (22423)\n",
       "653   0.091122               (47566)\n",
       "42    0.085287               (20725)\n",
       "...        ...                   ...\n",
       "1215  0.010034        (22379, 22666)\n",
       "2259  0.010034       (85099B, 23182)\n",
       "2079  0.010034  (22666, 85099B, DOT)\n",
       "1153  0.010034       (21559, 85099B)\n",
       "1965  0.010034        (20719, 23203)\n",
       "\n",
       "[2572 rows x 2 columns]"
      ]
     },
     "execution_count": 37,
     "metadata": {},
     "output_type": "execute_result"
    }
   ],
   "source": [
    "# 높은 support를 가진 아이템 가운데 하나를 선택해서 추천해보자.\n",
    "frequent_itemsets.sort_values(by='support', ascending=False)"
   ]
  },
  {
   "cell_type": "code",
   "execution_count": 38,
   "metadata": {
    "colab": {
     "base_uri": "https://localhost:8080/",
     "height": 359
    },
    "executionInfo": {
     "elapsed": 10919,
     "status": "ok",
     "timestamp": 1615967845939,
     "user": {
      "displayName": "Lee Joonwon",
      "photoUrl": "",
      "userId": "17832358910809959284"
     },
     "user_tz": -540
    },
    "id": "30zD15lwCxlw",
    "outputId": "10731ae0-436c-425e-cdb4-9a4290bb7412",
    "scrolled": true
   },
   "outputs": [
    {
     "data": {
      "text/html": [
       "<div>\n",
       "<style scoped>\n",
       "    .dataframe tbody tr th:only-of-type {\n",
       "        vertical-align: middle;\n",
       "    }\n",
       "\n",
       "    .dataframe tbody tr th {\n",
       "        vertical-align: top;\n",
       "    }\n",
       "\n",
       "    .dataframe thead th {\n",
       "        text-align: right;\n",
       "    }\n",
       "</style>\n",
       "<table border=\"1\" class=\"dataframe\">\n",
       "  <thead>\n",
       "    <tr style=\"text-align: right;\">\n",
       "      <th></th>\n",
       "      <th>antecedents</th>\n",
       "      <th>consequents</th>\n",
       "      <th>antecedent support</th>\n",
       "      <th>consequent support</th>\n",
       "      <th>support</th>\n",
       "      <th>confidence</th>\n",
       "      <th>lift</th>\n",
       "      <th>leverage</th>\n",
       "      <th>conviction</th>\n",
       "    </tr>\n",
       "  </thead>\n",
       "  <tbody>\n",
       "    <tr>\n",
       "      <th>2870</th>\n",
       "      <td>(85099B)</td>\n",
       "      <td>(DOT)</td>\n",
       "      <td>0.113317</td>\n",
       "      <td>0.038608</td>\n",
       "      <td>0.026448</td>\n",
       "      <td>0.233397</td>\n",
       "      <td>6.045259</td>\n",
       "      <td>0.022073</td>\n",
       "      <td>1.254094</td>\n",
       "    </tr>\n",
       "    <tr>\n",
       "      <th>156</th>\n",
       "      <td>(85099B)</td>\n",
       "      <td>(22386)</td>\n",
       "      <td>0.113317</td>\n",
       "      <td>0.066310</td>\n",
       "      <td>0.044989</td>\n",
       "      <td>0.397016</td>\n",
       "      <td>5.987242</td>\n",
       "      <td>0.037474</td>\n",
       "      <td>1.548449</td>\n",
       "    </tr>\n",
       "    <tr>\n",
       "      <th>2321</th>\n",
       "      <td>(85099B)</td>\n",
       "      <td>(21928)</td>\n",
       "      <td>0.113317</td>\n",
       "      <td>0.043898</td>\n",
       "      <td>0.029502</td>\n",
       "      <td>0.260346</td>\n",
       "      <td>5.930725</td>\n",
       "      <td>0.024527</td>\n",
       "      <td>1.292635</td>\n",
       "    </tr>\n",
       "    <tr>\n",
       "      <th>1610</th>\n",
       "      <td>(85099B)</td>\n",
       "      <td>(85099F)</td>\n",
       "      <td>0.113317</td>\n",
       "      <td>0.044443</td>\n",
       "      <td>0.029283</td>\n",
       "      <td>0.258422</td>\n",
       "      <td>5.814644</td>\n",
       "      <td>0.024247</td>\n",
       "      <td>1.288544</td>\n",
       "    </tr>\n",
       "    <tr>\n",
       "      <th>212</th>\n",
       "      <td>(85099B)</td>\n",
       "      <td>(85099C)</td>\n",
       "      <td>0.113317</td>\n",
       "      <td>0.050551</td>\n",
       "      <td>0.031901</td>\n",
       "      <td>0.281521</td>\n",
       "      <td>5.569068</td>\n",
       "      <td>0.026173</td>\n",
       "      <td>1.321471</td>\n",
       "    </tr>\n",
       "    <tr>\n",
       "      <th>3335</th>\n",
       "      <td>(85099B)</td>\n",
       "      <td>(22385)</td>\n",
       "      <td>0.113317</td>\n",
       "      <td>0.037463</td>\n",
       "      <td>0.023449</td>\n",
       "      <td>0.206930</td>\n",
       "      <td>5.523548</td>\n",
       "      <td>0.019203</td>\n",
       "      <td>1.213684</td>\n",
       "    </tr>\n",
       "    <tr>\n",
       "      <th>2037</th>\n",
       "      <td>(85099B)</td>\n",
       "      <td>(20712)</td>\n",
       "      <td>0.113317</td>\n",
       "      <td>0.047006</td>\n",
       "      <td>0.029174</td>\n",
       "      <td>0.257459</td>\n",
       "      <td>5.477129</td>\n",
       "      <td>0.023848</td>\n",
       "      <td>1.283423</td>\n",
       "    </tr>\n",
       "    <tr>\n",
       "      <th>179</th>\n",
       "      <td>(85099B)</td>\n",
       "      <td>(21931)</td>\n",
       "      <td>0.113317</td>\n",
       "      <td>0.064565</td>\n",
       "      <td>0.039481</td>\n",
       "      <td>0.348412</td>\n",
       "      <td>5.396265</td>\n",
       "      <td>0.032165</td>\n",
       "      <td>1.435623</td>\n",
       "    </tr>\n",
       "    <tr>\n",
       "      <th>305</th>\n",
       "      <td>(85099B)</td>\n",
       "      <td>(21929)</td>\n",
       "      <td>0.113317</td>\n",
       "      <td>0.047170</td>\n",
       "      <td>0.028247</td>\n",
       "      <td>0.249278</td>\n",
       "      <td>5.284697</td>\n",
       "      <td>0.022902</td>\n",
       "      <td>1.269219</td>\n",
       "    </tr>\n",
       "    <tr>\n",
       "      <th>665</th>\n",
       "      <td>(85099B)</td>\n",
       "      <td>(22411)</td>\n",
       "      <td>0.113317</td>\n",
       "      <td>0.064020</td>\n",
       "      <td>0.037081</td>\n",
       "      <td>0.327238</td>\n",
       "      <td>5.111487</td>\n",
       "      <td>0.029827</td>\n",
       "      <td>1.391249</td>\n",
       "    </tr>\n",
       "  </tbody>\n",
       "</table>\n",
       "</div>"
      ],
      "text/plain": [
       "     antecedents consequents  antecedent support  consequent support  \\\n",
       "2870    (85099B)       (DOT)            0.113317            0.038608   \n",
       "156     (85099B)     (22386)            0.113317            0.066310   \n",
       "2321    (85099B)     (21928)            0.113317            0.043898   \n",
       "1610    (85099B)    (85099F)            0.113317            0.044443   \n",
       "212     (85099B)    (85099C)            0.113317            0.050551   \n",
       "3335    (85099B)     (22385)            0.113317            0.037463   \n",
       "2037    (85099B)     (20712)            0.113317            0.047006   \n",
       "179     (85099B)     (21931)            0.113317            0.064565   \n",
       "305     (85099B)     (21929)            0.113317            0.047170   \n",
       "665     (85099B)     (22411)            0.113317            0.064020   \n",
       "\n",
       "       support  confidence      lift  leverage  conviction  \n",
       "2870  0.026448    0.233397  6.045259  0.022073    1.254094  \n",
       "156   0.044989    0.397016  5.987242  0.037474    1.548449  \n",
       "2321  0.029502    0.260346  5.930725  0.024527    1.292635  \n",
       "1610  0.029283    0.258422  5.814644  0.024247    1.288544  \n",
       "212   0.031901    0.281521  5.569068  0.026173    1.321471  \n",
       "3335  0.023449    0.206930  5.523548  0.019203    1.213684  \n",
       "2037  0.029174    0.257459  5.477129  0.023848    1.283423  \n",
       "179   0.039481    0.348412  5.396265  0.032165    1.435623  \n",
       "305   0.028247    0.249278  5.284697  0.022902    1.269219  \n",
       "665   0.037081    0.327238  5.111487  0.029827    1.391249  "
      ]
     },
     "execution_count": 38,
     "metadata": {},
     "output_type": "execute_result"
    }
   ],
   "source": [
    "# itemset [85099B] 이 주어졌을 때 가장 연관도가 높은 아이템 10개를 추천받는다면,\n",
    "min_confidence = 0.2\n",
    "k = 10\n",
    "\n",
    "given_itemset = ['85099B']\n",
    "result = association_rules(frequent_itemsets, metric = \"confidence\", min_threshold = min_confidence)\n",
    "result[(result['antecedents'] == frozenset(given_itemset))].sort_values(by='lift', ascending = False)[:k]"
   ]
  },
  {
   "cell_type": "markdown",
   "metadata": {
    "id": "pX2HLxXJCxlw"
   },
   "source": [
    "## AssociationRuleMining Class"
   ]
  },
  {
   "cell_type": "code",
   "execution_count": 39,
   "metadata": {
    "executionInfo": {
     "elapsed": 10915,
     "status": "ok",
     "timestamp": 1615967845939,
     "user": {
      "displayName": "Lee Joonwon",
      "photoUrl": "",
      "userId": "17832358910809959284"
     },
     "user_tz": -540
    },
    "id": "KgKY4h6sCxlw"
   },
   "outputs": [],
   "source": [
    "# 정리된 class 형태로 만들어보자.\n",
    "\n",
    "from mlxtend.preprocessing import TransactionEncoder\n",
    "from mlxtend.frequent_patterns import apriori, fpgrowth\n",
    "from mlxtend.frequent_patterns import association_rules\n",
    "\n",
    "class AssociationRuleMining(object):\n",
    "    \n",
    "    def __init__(self, min_supp, min_conf):\n",
    "        \"\"\" Parameters setting\n",
    "        \"\"\"\n",
    "        self.min_supp = min_supp  # min support (used for mining frequent itemsets)\n",
    "        self.min_conf = min_conf  # min confidence (used for mining association rules)\n",
    "\n",
    "    def fit(self, dataset, algo):\n",
    "        \"\"\" Run the apriori/fpgrowth algorithm, return the frequent k-term sets and association rules. \n",
    "        \"\"\"\n",
    "        \n",
    "        te = TransactionEncoder()\n",
    "        te_ary = te.fit(dataset).transform(dataset)\n",
    "        df = pd.DataFrame(te_ary, columns=te.columns_)\n",
    "        \n",
    "        if algo == 'apriori':\n",
    "            self.frequent_itemsets = apriori(df, min_support = self.min_supp, use_colnames = True)\n",
    "        elif algo == 'fpgrowth':\n",
    "            self.frequent_itemsets = fpgrowth(df, min_support = self.min_supp, use_colnames = True)\n",
    "        else:\n",
    "            raise Exception('A wrong algorithm name')\n",
    "        \n",
    "        self.result = association_rules(frequent_itemsets, metric = \"confidence\", min_threshold = self.min_conf)\n",
    "    \n",
    "    def get_available_recommend_items(self):\n",
    "        \"\"\" Get 1-freq item lists greater than minimum support \n",
    "        \"\"\"\n",
    "        tmp_df = self.result\n",
    "        return [list(x)[0] for x in tmp_df[tmp_df['antecedents'].str.len() == 1]['antecedents'].unique().tolist()]\n",
    "        \n",
    "    \n",
    "    def recommend_item(self, item_id, min_conf = None):\n",
    "        \"\"\" Get 1-freq recommend item list sorted by lift, greater than minimum confidence \n",
    "        \"\"\"\n",
    "        if min_conf is None:\n",
    "            tmp_df = self.result\n",
    "        else:\n",
    "            tmp_df = association_rules(frequent_itemsets, metric = \"confidence\", min_threshold = min_conf)\n",
    "        \n",
    "        tmp_df = tmp_df[(tmp_df['antecedents'] == frozenset([item_id])) & \\\n",
    "                        (tmp_df['consequents'].str.len() == 1)].sort_values(by='lift', ascending = False)\n",
    "        \n",
    "        return tmp_df[['consequents', 'confidence', 'lift']]\n",
    "    \n",
    "    def get_suppport(self, items):\n",
    "        \"\"\" Get support from item list\n",
    "        \"\"\"\n",
    "        tmp_df = self.frequent_itemsets\n",
    "        return tmp_df[tmp_df['itemsets'] == frozenset(items)]['support'].values[0]\n",
    "        "
   ]
  },
  {
   "cell_type": "code",
   "execution_count": 40,
   "metadata": {
    "executionInfo": {
     "elapsed": 21170,
     "status": "ok",
     "timestamp": 1615967856198,
     "user": {
      "displayName": "Lee Joonwon",
      "photoUrl": "",
      "userId": "17832358910809959284"
     },
     "user_tz": -540
    },
    "id": "zF4EzgHhCxlx"
   },
   "outputs": [],
   "source": [
    "objARM = AssociationRuleMining(min_supp = 0.01, min_conf = 0.01)\n",
    "objARM.fit(dataset, 'fpgrowth')"
   ]
  },
  {
   "cell_type": "code",
   "execution_count": 41,
   "metadata": {
    "colab": {
     "base_uri": "https://localhost:8080/",
     "height": 419
    },
    "executionInfo": {
     "elapsed": 21167,
     "status": "ok",
     "timestamp": 1615967856199,
     "user": {
      "displayName": "Lee Joonwon",
      "photoUrl": "",
      "userId": "17832358910809959284"
     },
     "user_tz": -540
    },
    "id": "va83qRSgCxlx",
    "outputId": "e523293e-99c9-401b-bc8e-05dc40b877d9",
    "scrolled": true
   },
   "outputs": [
    {
     "data": {
      "text/html": [
       "<div>\n",
       "<style scoped>\n",
       "    .dataframe tbody tr th:only-of-type {\n",
       "        vertical-align: middle;\n",
       "    }\n",
       "\n",
       "    .dataframe tbody tr th {\n",
       "        vertical-align: top;\n",
       "    }\n",
       "\n",
       "    .dataframe thead th {\n",
       "        text-align: right;\n",
       "    }\n",
       "</style>\n",
       "<table border=\"1\" class=\"dataframe\">\n",
       "  <thead>\n",
       "    <tr style=\"text-align: right;\">\n",
       "      <th></th>\n",
       "      <th>antecedents</th>\n",
       "      <th>consequents</th>\n",
       "      <th>antecedent support</th>\n",
       "      <th>consequent support</th>\n",
       "      <th>support</th>\n",
       "      <th>confidence</th>\n",
       "      <th>lift</th>\n",
       "      <th>leverage</th>\n",
       "      <th>conviction</th>\n",
       "    </tr>\n",
       "  </thead>\n",
       "  <tbody>\n",
       "    <tr>\n",
       "      <th>0</th>\n",
       "      <td>(22865)</td>\n",
       "      <td>(22633)</td>\n",
       "      <td>0.035609</td>\n",
       "      <td>0.026066</td>\n",
       "      <td>0.012869</td>\n",
       "      <td>0.361409</td>\n",
       "      <td>13.865096</td>\n",
       "      <td>0.011941</td>\n",
       "      <td>1.525129</td>\n",
       "    </tr>\n",
       "    <tr>\n",
       "      <th>1</th>\n",
       "      <td>(22633)</td>\n",
       "      <td>(22865)</td>\n",
       "      <td>0.026066</td>\n",
       "      <td>0.035609</td>\n",
       "      <td>0.012869</td>\n",
       "      <td>0.493724</td>\n",
       "      <td>13.865096</td>\n",
       "      <td>0.011941</td>\n",
       "      <td>1.904871</td>\n",
       "    </tr>\n",
       "    <tr>\n",
       "      <th>2</th>\n",
       "      <td>(22633)</td>\n",
       "      <td>(22866)</td>\n",
       "      <td>0.026066</td>\n",
       "      <td>0.029829</td>\n",
       "      <td>0.011724</td>\n",
       "      <td>0.449791</td>\n",
       "      <td>15.079093</td>\n",
       "      <td>0.010947</td>\n",
       "      <td>1.763277</td>\n",
       "    </tr>\n",
       "    <tr>\n",
       "      <th>3</th>\n",
       "      <td>(22866)</td>\n",
       "      <td>(22633)</td>\n",
       "      <td>0.029829</td>\n",
       "      <td>0.026066</td>\n",
       "      <td>0.011724</td>\n",
       "      <td>0.393053</td>\n",
       "      <td>15.079093</td>\n",
       "      <td>0.010947</td>\n",
       "      <td>1.604644</td>\n",
       "    </tr>\n",
       "    <tr>\n",
       "      <th>4</th>\n",
       "      <td>(22867)</td>\n",
       "      <td>(22633)</td>\n",
       "      <td>0.030210</td>\n",
       "      <td>0.026066</td>\n",
       "      <td>0.010088</td>\n",
       "      <td>0.333935</td>\n",
       "      <td>12.811089</td>\n",
       "      <td>0.009301</td>\n",
       "      <td>1.462221</td>\n",
       "    </tr>\n",
       "    <tr>\n",
       "      <th>...</th>\n",
       "      <td>...</td>\n",
       "      <td>...</td>\n",
       "      <td>...</td>\n",
       "      <td>...</td>\n",
       "      <td>...</td>\n",
       "      <td>...</td>\n",
       "      <td>...</td>\n",
       "      <td>...</td>\n",
       "      <td>...</td>\n",
       "    </tr>\n",
       "    <tr>\n",
       "      <th>5635</th>\n",
       "      <td>(22633)</td>\n",
       "      <td>(23439)</td>\n",
       "      <td>0.026066</td>\n",
       "      <td>0.021649</td>\n",
       "      <td>0.010361</td>\n",
       "      <td>0.397490</td>\n",
       "      <td>18.360613</td>\n",
       "      <td>0.009797</td>\n",
       "      <td>1.623791</td>\n",
       "    </tr>\n",
       "    <tr>\n",
       "      <th>5636</th>\n",
       "      <td>(22865)</td>\n",
       "      <td>(23439)</td>\n",
       "      <td>0.035609</td>\n",
       "      <td>0.021649</td>\n",
       "      <td>0.011888</td>\n",
       "      <td>0.333844</td>\n",
       "      <td>15.420724</td>\n",
       "      <td>0.011117</td>\n",
       "      <td>1.468651</td>\n",
       "    </tr>\n",
       "    <tr>\n",
       "      <th>5637</th>\n",
       "      <td>(23439)</td>\n",
       "      <td>(22865)</td>\n",
       "      <td>0.021649</td>\n",
       "      <td>0.035609</td>\n",
       "      <td>0.011888</td>\n",
       "      <td>0.549118</td>\n",
       "      <td>15.420724</td>\n",
       "      <td>0.011117</td>\n",
       "      <td>2.138900</td>\n",
       "    </tr>\n",
       "    <tr>\n",
       "      <th>5638</th>\n",
       "      <td>(23439)</td>\n",
       "      <td>(22866)</td>\n",
       "      <td>0.021649</td>\n",
       "      <td>0.029829</td>\n",
       "      <td>0.010852</td>\n",
       "      <td>0.501259</td>\n",
       "      <td>16.804563</td>\n",
       "      <td>0.010206</td>\n",
       "      <td>1.945242</td>\n",
       "    </tr>\n",
       "    <tr>\n",
       "      <th>5639</th>\n",
       "      <td>(22866)</td>\n",
       "      <td>(23439)</td>\n",
       "      <td>0.029829</td>\n",
       "      <td>0.021649</td>\n",
       "      <td>0.010852</td>\n",
       "      <td>0.363803</td>\n",
       "      <td>16.804563</td>\n",
       "      <td>0.010206</td>\n",
       "      <td>1.537810</td>\n",
       "    </tr>\n",
       "  </tbody>\n",
       "</table>\n",
       "<p>5640 rows × 9 columns</p>\n",
       "</div>"
      ],
      "text/plain": [
       "     antecedents consequents  antecedent support  consequent support  \\\n",
       "0        (22865)     (22633)            0.035609            0.026066   \n",
       "1        (22633)     (22865)            0.026066            0.035609   \n",
       "2        (22633)     (22866)            0.026066            0.029829   \n",
       "3        (22866)     (22633)            0.029829            0.026066   \n",
       "4        (22867)     (22633)            0.030210            0.026066   \n",
       "...          ...         ...                 ...                 ...   \n",
       "5635     (22633)     (23439)            0.026066            0.021649   \n",
       "5636     (22865)     (23439)            0.035609            0.021649   \n",
       "5637     (23439)     (22865)            0.021649            0.035609   \n",
       "5638     (23439)     (22866)            0.021649            0.029829   \n",
       "5639     (22866)     (23439)            0.029829            0.021649   \n",
       "\n",
       "       support  confidence       lift  leverage  conviction  \n",
       "0     0.012869    0.361409  13.865096  0.011941    1.525129  \n",
       "1     0.012869    0.493724  13.865096  0.011941    1.904871  \n",
       "2     0.011724    0.449791  15.079093  0.010947    1.763277  \n",
       "3     0.011724    0.393053  15.079093  0.010947    1.604644  \n",
       "4     0.010088    0.333935  12.811089  0.009301    1.462221  \n",
       "...        ...         ...        ...       ...         ...  \n",
       "5635  0.010361    0.397490  18.360613  0.009797    1.623791  \n",
       "5636  0.011888    0.333844  15.420724  0.011117    1.468651  \n",
       "5637  0.011888    0.549118  15.420724  0.011117    2.138900  \n",
       "5638  0.010852    0.501259  16.804563  0.010206    1.945242  \n",
       "5639  0.010852    0.363803  16.804563  0.010206    1.537810  \n",
       "\n",
       "[5640 rows x 9 columns]"
      ]
     },
     "execution_count": 41,
     "metadata": {},
     "output_type": "execute_result"
    }
   ],
   "source": [
    "objARM.result"
   ]
  },
  {
   "cell_type": "markdown",
   "metadata": {
    "id": "_1ZRXogzCxlx"
   },
   "source": [
    "### class method를 활용하여 연관분석 추천 제공"
   ]
  },
  {
   "cell_type": "code",
   "execution_count": 42,
   "metadata": {
    "colab": {
     "base_uri": "https://localhost:8080/"
    },
    "executionInfo": {
     "elapsed": 21163,
     "status": "ok",
     "timestamp": 1615967856199,
     "user": {
      "displayName": "Lee Joonwon",
      "photoUrl": "",
      "userId": "17832358910809959284"
     },
     "user_tz": -540
    },
    "id": "t02RXfZhCxlx",
    "outputId": "8148c6e0-6c51-4acb-915a-90ced89ea16f",
    "scrolled": false
   },
   "outputs": [
    {
     "data": {
      "text/plain": [
       "['22865',\n",
       " '22633',\n",
       " '22866',\n",
       " '22867',\n",
       " '22632',\n",
       " '85123A',\n",
       " '84879',\n",
       " '22423',\n",
       " '47566',\n",
       " '21754',\n",
       " '21755',\n",
       " '22748',\n",
       " '22745',\n",
       " '22960',\n",
       " '22961',\n",
       " '85099B',\n",
       " '22197',\n",
       " '21212',\n",
       " '22457',\n",
       " '20725']"
      ]
     },
     "execution_count": 42,
     "metadata": {},
     "output_type": "execute_result"
    }
   ],
   "source": [
    "# minimum support를 만족하는 상품, 즉 frequent itemset에 존재하는 상품이어야 연관분석이 가능하다.\n",
    "\n",
    "recommend_list = objARM.get_available_recommend_items()\n",
    "recommend_list[:20]"
   ]
  },
  {
   "cell_type": "code",
   "execution_count": 43,
   "metadata": {
    "colab": {
     "base_uri": "https://localhost:8080/",
     "height": 436
    },
    "executionInfo": {
     "elapsed": 21160,
     "status": "ok",
     "timestamp": 1615967856200,
     "user": {
      "displayName": "Lee Joonwon",
      "photoUrl": "",
      "userId": "17832358910809959284"
     },
     "user_tz": -540
    },
    "id": "0vX_VrASCxlx",
    "outputId": "abf5b850-60b2-4d7c-b62c-ddf8a03268f7"
   },
   "outputs": [
    {
     "name": "stdout",
     "output_type": "stream",
     "text": [
      "support:  0.11331661031737376\n"
     ]
    },
    {
     "data": {
      "text/html": [
       "<div>\n",
       "<style scoped>\n",
       "    .dataframe tbody tr th:only-of-type {\n",
       "        vertical-align: middle;\n",
       "    }\n",
       "\n",
       "    .dataframe tbody tr th {\n",
       "        vertical-align: top;\n",
       "    }\n",
       "\n",
       "    .dataframe thead th {\n",
       "        text-align: right;\n",
       "    }\n",
       "</style>\n",
       "<table border=\"1\" class=\"dataframe\">\n",
       "  <thead>\n",
       "    <tr style=\"text-align: right;\">\n",
       "      <th></th>\n",
       "      <th>consequents</th>\n",
       "      <th>confidence</th>\n",
       "      <th>lift</th>\n",
       "    </tr>\n",
       "  </thead>\n",
       "  <tbody>\n",
       "    <tr>\n",
       "      <th>3836</th>\n",
       "      <td>(DOT)</td>\n",
       "      <td>0.233397</td>\n",
       "      <td>6.045259</td>\n",
       "    </tr>\n",
       "    <tr>\n",
       "      <th>244</th>\n",
       "      <td>(22386)</td>\n",
       "      <td>0.397016</td>\n",
       "      <td>5.987242</td>\n",
       "    </tr>\n",
       "    <tr>\n",
       "      <th>3137</th>\n",
       "      <td>(21928)</td>\n",
       "      <td>0.260346</td>\n",
       "      <td>5.930725</td>\n",
       "    </tr>\n",
       "    <tr>\n",
       "      <th>2218</th>\n",
       "      <td>(85099F)</td>\n",
       "      <td>0.258422</td>\n",
       "      <td>5.814644</td>\n",
       "    </tr>\n",
       "    <tr>\n",
       "      <th>3332</th>\n",
       "      <td>(20711)</td>\n",
       "      <td>0.165544</td>\n",
       "      <td>5.804478</td>\n",
       "    </tr>\n",
       "    <tr>\n",
       "      <th>...</th>\n",
       "      <td>...</td>\n",
       "      <td>...</td>\n",
       "      <td>...</td>\n",
       "    </tr>\n",
       "    <tr>\n",
       "      <th>5181</th>\n",
       "      <td>(23298)</td>\n",
       "      <td>0.107315</td>\n",
       "      <td>1.721730</td>\n",
       "    </tr>\n",
       "    <tr>\n",
       "      <th>5519</th>\n",
       "      <td>(23084)</td>\n",
       "      <td>0.089509</td>\n",
       "      <td>1.699191</td>\n",
       "    </tr>\n",
       "    <tr>\n",
       "      <th>1225</th>\n",
       "      <td>(85123A)</td>\n",
       "      <td>0.192974</td>\n",
       "      <td>1.621052</td>\n",
       "    </tr>\n",
       "    <tr>\n",
       "      <th>951</th>\n",
       "      <td>(22086)</td>\n",
       "      <td>0.100577</td>\n",
       "      <td>1.599644</td>\n",
       "    </tr>\n",
       "    <tr>\n",
       "      <th>2457</th>\n",
       "      <td>(22423)</td>\n",
       "      <td>0.137632</td>\n",
       "      <td>1.283122</td>\n",
       "    </tr>\n",
       "  </tbody>\n",
       "</table>\n",
       "<p>95 rows × 3 columns</p>\n",
       "</div>"
      ],
      "text/plain": [
       "     consequents  confidence      lift\n",
       "3836       (DOT)    0.233397  6.045259\n",
       "244      (22386)    0.397016  5.987242\n",
       "3137     (21928)    0.260346  5.930725\n",
       "2218    (85099F)    0.258422  5.814644\n",
       "3332     (20711)    0.165544  5.804478\n",
       "...          ...         ...       ...\n",
       "5181     (23298)    0.107315  1.721730\n",
       "5519     (23084)    0.089509  1.699191\n",
       "1225    (85123A)    0.192974  1.621052\n",
       "951      (22086)    0.100577  1.599644\n",
       "2457     (22423)    0.137632  1.283122\n",
       "\n",
       "[95 rows x 3 columns]"
      ]
     },
     "execution_count": 43,
     "metadata": {},
     "output_type": "execute_result"
    }
   ],
   "source": [
    "# support가 상대적으로 높은 item의 경우 association rule이 많다.\n",
    "\n",
    "item_id = '85099B'\n",
    "print('support: ', objARM.get_suppport([item_id]))\n",
    "objARM.recommend_item(item_id)"
   ]
  },
  {
   "cell_type": "code",
   "execution_count": 44,
   "metadata": {
    "colab": {
     "base_uri": "https://localhost:8080/",
     "height": 142
    },
    "executionInfo": {
     "elapsed": 21465,
     "status": "ok",
     "timestamp": 1615967856510,
     "user": {
      "displayName": "Lee Joonwon",
      "photoUrl": "",
      "userId": "17832358910809959284"
     },
     "user_tz": -540
    },
    "id": "lefI_sgyCxly",
    "outputId": "f5dcbf6d-08d6-4277-92af-7b0ff8bdb34e",
    "scrolled": true
   },
   "outputs": [
    {
     "data": {
      "text/html": [
       "<div>\n",
       "<style scoped>\n",
       "    .dataframe tbody tr th:only-of-type {\n",
       "        vertical-align: middle;\n",
       "    }\n",
       "\n",
       "    .dataframe tbody tr th {\n",
       "        vertical-align: top;\n",
       "    }\n",
       "\n",
       "    .dataframe thead th {\n",
       "        text-align: right;\n",
       "    }\n",
       "</style>\n",
       "<table border=\"1\" class=\"dataframe\">\n",
       "  <thead>\n",
       "    <tr style=\"text-align: right;\">\n",
       "      <th></th>\n",
       "      <th>consequents</th>\n",
       "      <th>confidence</th>\n",
       "      <th>lift</th>\n",
       "    </tr>\n",
       "  </thead>\n",
       "  <tbody>\n",
       "    <tr>\n",
       "      <th>74</th>\n",
       "      <td>(22386)</td>\n",
       "      <td>0.397016</td>\n",
       "      <td>5.987242</td>\n",
       "    </tr>\n",
       "    <tr>\n",
       "      <th>86</th>\n",
       "      <td>(21931)</td>\n",
       "      <td>0.348412</td>\n",
       "      <td>5.396265</td>\n",
       "    </tr>\n",
       "    <tr>\n",
       "      <th>429</th>\n",
       "      <td>(22411)</td>\n",
       "      <td>0.327238</td>\n",
       "      <td>5.111487</td>\n",
       "    </tr>\n",
       "  </tbody>\n",
       "</table>\n",
       "</div>"
      ],
      "text/plain": [
       "    consequents  confidence      lift\n",
       "74      (22386)    0.397016  5.987242\n",
       "86      (21931)    0.348412  5.396265\n",
       "429     (22411)    0.327238  5.111487"
      ]
     },
     "execution_count": 44,
     "metadata": {},
     "output_type": "execute_result"
    }
   ],
   "source": [
    "# association rule이 많은 경우에 minimum confidence 값을 높게 잡기도 한다.\n",
    "objARM.recommend_item(item_id, min_conf=0.3)"
   ]
  },
  {
   "cell_type": "code",
   "execution_count": 45,
   "metadata": {
    "colab": {
     "base_uri": "https://localhost:8080/",
     "height": 500
    },
    "executionInfo": {
     "elapsed": 21462,
     "status": "ok",
     "timestamp": 1615967856511,
     "user": {
      "displayName": "Lee Joonwon",
      "photoUrl": "",
      "userId": "17832358910809959284"
     },
     "user_tz": -540
    },
    "id": "KB935UXECxly",
    "outputId": "f3a96f88-04f4-4b69-b00f-5be5ac9ca2ef",
    "scrolled": false
   },
   "outputs": [
    {
     "name": "stdout",
     "output_type": "stream",
     "text": [
      "support:  0.03544552295779256\n"
     ]
    },
    {
     "data": {
      "text/html": [
       "<div>\n",
       "<style scoped>\n",
       "    .dataframe tbody tr th:only-of-type {\n",
       "        vertical-align: middle;\n",
       "    }\n",
       "\n",
       "    .dataframe tbody tr th {\n",
       "        vertical-align: top;\n",
       "    }\n",
       "\n",
       "    .dataframe thead th {\n",
       "        text-align: right;\n",
       "    }\n",
       "</style>\n",
       "<table border=\"1\" class=\"dataframe\">\n",
       "  <thead>\n",
       "    <tr style=\"text-align: right;\">\n",
       "      <th></th>\n",
       "      <th>consequents</th>\n",
       "      <th>confidence</th>\n",
       "      <th>lift</th>\n",
       "    </tr>\n",
       "  </thead>\n",
       "  <tbody>\n",
       "    <tr>\n",
       "      <th>2304</th>\n",
       "      <td>(DOT)</td>\n",
       "      <td>0.383077</td>\n",
       "      <td>9.922125</td>\n",
       "    </tr>\n",
       "    <tr>\n",
       "      <th>2288</th>\n",
       "      <td>(20712)</td>\n",
       "      <td>0.433846</td>\n",
       "      <td>9.229548</td>\n",
       "    </tr>\n",
       "    <tr>\n",
       "      <th>2306</th>\n",
       "      <td>(22385)</td>\n",
       "      <td>0.303077</td>\n",
       "      <td>8.089992</td>\n",
       "    </tr>\n",
       "    <tr>\n",
       "      <th>2296</th>\n",
       "      <td>(21928)</td>\n",
       "      <td>0.350769</td>\n",
       "      <td>7.990567</td>\n",
       "    </tr>\n",
       "    <tr>\n",
       "      <th>2300</th>\n",
       "      <td>(21930)</td>\n",
       "      <td>0.304615</td>\n",
       "      <td>7.957318</td>\n",
       "    </tr>\n",
       "    <tr>\n",
       "      <th>2294</th>\n",
       "      <td>(85099C)</td>\n",
       "      <td>0.395385</td>\n",
       "      <td>7.821535</td>\n",
       "    </tr>\n",
       "    <tr>\n",
       "      <th>2284</th>\n",
       "      <td>(21931)</td>\n",
       "      <td>0.490769</td>\n",
       "      <td>7.601120</td>\n",
       "    </tr>\n",
       "    <tr>\n",
       "      <th>2298</th>\n",
       "      <td>(22379)</td>\n",
       "      <td>0.306154</td>\n",
       "      <td>7.515729</td>\n",
       "    </tr>\n",
       "    <tr>\n",
       "      <th>2286</th>\n",
       "      <td>(85099F)</td>\n",
       "      <td>0.303077</td>\n",
       "      <td>6.819417</td>\n",
       "    </tr>\n",
       "    <tr>\n",
       "      <th>2290</th>\n",
       "      <td>(22386)</td>\n",
       "      <td>0.430769</td>\n",
       "      <td>6.496255</td>\n",
       "    </tr>\n",
       "    <tr>\n",
       "      <th>2292</th>\n",
       "      <td>(22411)</td>\n",
       "      <td>0.401538</td>\n",
       "      <td>6.272072</td>\n",
       "    </tr>\n",
       "    <tr>\n",
       "      <th>2308</th>\n",
       "      <td>(23199)</td>\n",
       "      <td>0.324615</td>\n",
       "      <td>6.092934</td>\n",
       "    </tr>\n",
       "    <tr>\n",
       "      <th>2282</th>\n",
       "      <td>(85099B)</td>\n",
       "      <td>0.601538</td>\n",
       "      <td>5.308476</td>\n",
       "    </tr>\n",
       "    <tr>\n",
       "      <th>2302</th>\n",
       "      <td>(20725)</td>\n",
       "      <td>0.320000</td>\n",
       "      <td>3.752020</td>\n",
       "    </tr>\n",
       "  </tbody>\n",
       "</table>\n",
       "</div>"
      ],
      "text/plain": [
       "     consequents  confidence      lift\n",
       "2304       (DOT)    0.383077  9.922125\n",
       "2288     (20712)    0.433846  9.229548\n",
       "2306     (22385)    0.303077  8.089992\n",
       "2296     (21928)    0.350769  7.990567\n",
       "2300     (21930)    0.304615  7.957318\n",
       "2294    (85099C)    0.395385  7.821535\n",
       "2284     (21931)    0.490769  7.601120\n",
       "2298     (22379)    0.306154  7.515729\n",
       "2286    (85099F)    0.303077  6.819417\n",
       "2290     (22386)    0.430769  6.496255\n",
       "2292     (22411)    0.401538  6.272072\n",
       "2308     (23199)    0.324615  6.092934\n",
       "2282    (85099B)    0.601538  5.308476\n",
       "2302     (20725)    0.320000  3.752020"
      ]
     },
     "execution_count": 45,
     "metadata": {},
     "output_type": "execute_result"
    }
   ],
   "source": [
    "# support가 상대적으로 낮은 item의 경우 association rule이 적다.\n",
    "\n",
    "item_id = '20713'\n",
    "print('support: ', objARM.get_suppport([item_id]))\n",
    "objARM.recommend_item(item_id)"
   ]
  }
 ],
 "metadata": {
  "colab": {
   "collapsed_sections": [],
   "name": "01.2 Assoication Rule 구현 및 연관분석 추천.ipynb",
   "provenance": [],
   "toc_visible": true
  },
  "kernelspec": {
   "display_name": "Python 3",
   "language": "python",
   "name": "python3"
  },
  "language_info": {
   "codemirror_mode": {
    "name": "ipython",
    "version": 3
   },
   "file_extension": ".py",
   "mimetype": "text/x-python",
   "name": "python",
   "nbconvert_exporter": "python",
   "pygments_lexer": "ipython3",
   "version": "3.7.6"
  }
 },
 "nbformat": 4,
 "nbformat_minor": 1
}
